{
 "cells": [
  {
   "cell_type": "markdown",
   "id": "8e07a507",
   "metadata": {
    "slideshow": {
     "slide_type": "slide"
    }
   },
   "source": [
    "<center>\n",
    "<img src=\"jupy.png\" width=\"800px\"/>\n",
    "</center>"
   ]
  },
  {
   "cell_type": "markdown",
   "id": "50cb7b8a",
   "metadata": {
    "slideshow": {
     "slide_type": "slide"
    }
   },
   "source": [
    "<h2 align='center'>Download Data</h2>"
   ]
  },
  {
   "cell_type": "code",
   "execution_count": null,
   "id": "f5f7135e",
   "metadata": {
    "slideshow": {
     "slide_type": "fragment"
    }
   },
   "outputs": [],
   "source": [
    "import sys\n",
    "\n",
    "sys.path.insert(0, \"../../../\")\n",
    "import banking  # noqa: E402\n",
    "\n",
    "_ = banking.BankingData(\"https://tinyurl.com/jb-bank\", \"bank\")\n",
    "_.extract_to_csv()\n",
    "\n",
    "_ = banking.MarketData(\"https://tinyurl.com/jb-bank-m\", \"expanded_data\")\n",
    "_.extract_asc_to_csv()"
   ]
  },
  {
   "cell_type": "markdown",
   "id": "95b296ff",
   "metadata": {
    "slideshow": {
     "slide_type": "slide"
    }
   },
   "source": [
    "<h2 align='center'>Install JupySQL</h2>"
   ]
  },
  {
   "cell_type": "code",
   "execution_count": null,
   "id": "e38a34af",
   "metadata": {
    "slideshow": {
     "slide_type": "fragment"
    }
   },
   "outputs": [],
   "source": [
    "!pip install --upgrade jupysql"
   ]
  },
  {
   "cell_type": "markdown",
   "id": "ab91860e",
   "metadata": {
    "slideshow": {
     "slide_type": "slide"
    }
   },
   "source": [
    "<h2 align='center'>Load Extension</h2>"
   ]
  },
  {
   "cell_type": "code",
   "execution_count": 2,
   "id": "3a9b0ecc",
   "metadata": {
    "slideshow": {
     "slide_type": "fragment"
    }
   },
   "outputs": [
    {
     "data": {
      "text/html": [
       "<span style=\"None\">Found pyproject.toml from &#x27;/Users/macpro/Documents/GitHub/sql/docs/video-material/postgres&#x27;</span>"
      ],
      "text/plain": [
       "Found pyproject.toml from '/Users/macpro/Documents/GitHub/sql/docs/video-material/postgres'"
      ]
     },
     "metadata": {},
     "output_type": "display_data"
    },
    {
     "data": {
      "text/html": [
       "<span style=\"None\">Settings changed:</span>"
      ],
      "text/plain": [
       "Settings changed:"
      ]
     },
     "metadata": {},
     "output_type": "display_data"
    },
    {
     "data": {
      "text/html": [
       "\n",
       "<table>\n",
       "    <thead>\n",
       "        <tr>\n",
       "            <th>Config</th>\n",
       "            <th>value</th>\n",
       "        </tr>\n",
       "    </thead>\n",
       "    <tbody>\n",
       "        <tr>\n",
       "            <td>displaycon</td>\n",
       "            <td>False</td>\n",
       "        </tr>\n",
       "        <tr>\n",
       "            <td>feedback</td>\n",
       "            <td>True</td>\n",
       "        </tr>\n",
       "        <tr>\n",
       "            <td>autopolars</td>\n",
       "            <td>False</td>\n",
       "        </tr>\n",
       "    </tbody>\n",
       "</table>"
      ],
      "text/plain": [
       "\n",
       "+------------+-------+\n",
       "|   Config   | value |\n",
       "+------------+-------+\n",
       "| displaycon | False |\n",
       "|  feedback  |  True |\n",
       "| autopolars | False |\n",
       "+------------+-------+"
      ]
     },
     "metadata": {},
     "output_type": "display_data"
    }
   ],
   "source": [
    "# Loading in SQL extension\n",
    "%reload_ext sql"
   ]
  },
  {
   "cell_type": "markdown",
   "id": "9b2e7385",
   "metadata": {
    "slideshow": {
     "slide_type": "slide"
    }
   },
   "source": [
    "<h2 align='center'>What else can we configure?</h2>"
   ]
  },
  {
   "cell_type": "code",
   "execution_count": 3,
   "id": "c9aeb721",
   "metadata": {
    "slideshow": {
     "slide_type": "fragment"
    }
   },
   "outputs": [
    {
     "name": "stdout",
     "output_type": "stream",
     "text": [
      "SqlMagic(Magics, Configurable) options\n",
      "------------------------------------\n",
      "SqlMagic.autocommit=<Bool>\n",
      "    Set autocommit mode\n",
      "    Current: True\n",
      "SqlMagic.autolimit=<Int>\n",
      "    Automatically limit the size of the returned result sets\n",
      "    Current: 0\n",
      "SqlMagic.autopandas=<Bool>\n",
      "    Return Pandas DataFrames instead of regular result sets\n",
      "    Current: False\n",
      "SqlMagic.autopolars=<Bool>\n",
      "    Return Polars DataFrames instead of regular result sets\n",
      "    Current: False\n",
      "SqlMagic.column_local_vars=<Bool>\n",
      "    Return data into local variables from column names\n",
      "    Current: False\n",
      "SqlMagic.displaycon=<Bool>\n",
      "    Show connection string after execution\n",
      "    Current: False\n",
      "SqlMagic.displaylimit=<Int>\n",
      "    Automatically limit the number of rows displayed (full result set is still\n",
      "    stored)\n",
      "    Current: 10\n",
      "SqlMagic.dsn_filename=<Unicode>\n",
      "    Path to DSN file. When the first argument is of the form [section], a\n",
      "    sqlalchemy connection string is formed from the matching section in the DSN\n",
      "    file.\n",
      "    Current: 'odbc.ini'\n",
      "SqlMagic.feedback=<Bool>\n",
      "    Print number of rows affected by DML\n",
      "    Current: True\n",
      "SqlMagic.named_parameters=<Bool>\n",
      "    Allow named parameters in queries (i.e., 'SELECT * FROM foo WHERE bar =\n",
      "    :bar')\n",
      "    Current: False\n",
      "SqlMagic.polars_dataframe_kwargs=<key-1>=<value-1>...\n",
      "    Polars DataFrame constructor keyword arguments(e.g. infer_schema_length,\n",
      "    nan_to_null, schema_overrides, etc)\n",
      "    Current: {}\n",
      "SqlMagic.short_errors=<Bool>\n",
      "    Don't display the full traceback on SQL Programming Error\n",
      "    Current: True\n",
      "SqlMagic.style=<Unicode>\n",
      "    Set the table printing style to any of prettytable's defined styles\n",
      "    (currently DEFAULT, MSWORD_FRIENDLY, PLAIN_COLUMNS, RANDOM, SINGLE_BORDER,\n",
      "    DOUBLE_BORDER, MARKDOWN )\n",
      "    Current: 'DEFAULT'\n"
     ]
    }
   ],
   "source": [
    "%config SqlMagic"
   ]
  },
  {
   "cell_type": "markdown",
   "id": "d39d8eaa",
   "metadata": {
    "slideshow": {
     "slide_type": "slide"
    }
   },
   "source": [
    "<h2 align='center'>Initialize DuckDB instance</h2>"
   ]
  },
  {
   "cell_type": "code",
   "execution_count": 4,
   "id": "4e392efd",
   "metadata": {
    "slideshow": {
     "slide_type": "fragment"
    }
   },
   "outputs": [],
   "source": [
    "# Initiating a DuckDB database named 'bank.duck.db' to run our SQL queries on\n",
    "%sql duckdb:///bank.duck.db"
   ]
  },
  {
   "cell_type": "markdown",
   "id": "19e1d915",
   "metadata": {
    "slideshow": {
     "slide_type": "slide"
    }
   },
   "source": [
    "<h2 align='center'>Create tables</h2>\n",
    "\n",
    "<center>\n",
    "<img src=\"combining-data-ERD.png\" width=\"500px\"/>\n",
    "</center>"
   ]
  },
  {
   "cell_type": "code",
   "execution_count": null,
   "id": "57423ce2",
   "metadata": {
    "slideshow": {
     "slide_type": "skip"
    }
   },
   "outputs": [],
   "source": [
    "%%sql\n",
    "DROP TABLE IF EXISTS s1.district;\n",
    "DROP TABLE IF EXISTS bank;\n",
    "DROP SCHEMA IF EXISTS s1;"
   ]
  },
  {
   "cell_type": "code",
   "execution_count": null,
   "id": "4fe11ce8",
   "metadata": {
    "slideshow": {
     "slide_type": "skip"
    }
   },
   "outputs": [],
   "source": [
    "%%sql\n",
    "CREATE OR REPLACE TABLE bank AS\n",
    "FROM read_csv_auto('bank_cleaned.csv', header=True, sep=',')"
   ]
  },
  {
   "cell_type": "code",
   "execution_count": null,
   "id": "bbd12d47",
   "metadata": {
    "slideshow": {
     "slide_type": "subslide"
    }
   },
   "outputs": [],
   "source": [
    "%%sql\n",
    "CREATE SCHEMA s1;\n",
    "CREATE TABLE s1.account AS\n",
    "FROM read_csv_auto('expanded_data/account.csv', header=True, sep=',');\n",
    "CREATE TABLE s1.district AS\n",
    "FROM read_csv_auto('expanded_data/district.csv', header=True, sep=',');\n",
    "CREATE TABLE s1.loan AS\n",
    "FROM read_csv_auto('expanded_data/loan.csv', header=True, sep=',');"
   ]
  },
  {
   "cell_type": "code",
   "execution_count": null,
   "id": "603ba76a",
   "metadata": {
    "slideshow": {
     "slide_type": "skip"
    }
   },
   "outputs": [],
   "source": [
    "# Loading in SQL extension\n",
    "%reload_ext sql\n",
    "%sql duckdb:///bank.duck.db"
   ]
  },
  {
   "cell_type": "markdown",
   "id": "5a8bdb9d",
   "metadata": {
    "slideshow": {
     "slide_type": "slide"
    }
   },
   "source": [
    "<h2 align='center'>Perform queries (SQL format by default)</h2>"
   ]
  },
  {
   "cell_type": "code",
   "execution_count": 5,
   "id": "2ecbc0ca",
   "metadata": {
    "slideshow": {
     "slide_type": "fragment"
    }
   },
   "outputs": [
    {
     "data": {
      "text/html": [
       "<span style=\"None\">Skipping execution...</span>"
      ],
      "text/plain": [
       "Skipping execution..."
      ]
     },
     "metadata": {},
     "output_type": "display_data"
    }
   ],
   "source": [
    "%%sql --save loan_amount_district_id --no-execute\n",
    "SELECT l.loan_id, \n",
    "        l.amount, \n",
    "        a.district_id \n",
    "FROM s1.loan AS l \n",
    "INNER JOIN s1.account AS a \n",
    "    ON l.account_id = a.account_id"
   ]
  },
  {
   "cell_type": "code",
   "execution_count": 6,
   "id": "7921bf0f",
   "metadata": {
    "slideshow": {
     "slide_type": "fragment"
    }
   },
   "outputs": [
    {
     "data": {
      "text/html": [
       "<span style=\"None\">Generating CTE with stored snippets: &#x27;loan_amount_district_id&#x27;</span>"
      ],
      "text/plain": [
       "Generating CTE with stored snippets: 'loan_amount_district_id'"
      ]
     },
     "metadata": {},
     "output_type": "display_data"
    }
   ],
   "source": [
    "result = %sql SELECT * FROM loan_amount_district_id"
   ]
  },
  {
   "cell_type": "code",
   "execution_count": 7,
   "id": "ad638b8c",
   "metadata": {
    "slideshow": {
     "slide_type": "fragment"
    }
   },
   "outputs": [
    {
     "data": {
      "text/plain": [
       "sql.run.resultset.ResultSet"
      ]
     },
     "execution_count": 7,
     "metadata": {},
     "output_type": "execute_result"
    }
   ],
   "source": [
    "type(result)"
   ]
  },
  {
   "cell_type": "markdown",
   "id": "0c94a134",
   "metadata": {
    "slideshow": {
     "slide_type": "slide"
    }
   },
   "source": [
    "<h2 align='center'>Reload extension</h2>"
   ]
  },
  {
   "cell_type": "code",
   "execution_count": 8,
   "id": "62799b54",
   "metadata": {
    "slideshow": {
     "slide_type": "fragment"
    }
   },
   "outputs": [
    {
     "data": {
      "text/html": [
       "<span style=\"None\">Found pyproject.toml from &#x27;/Users/macpro/Documents/GitHub/sql/docs/video-material/postgres&#x27;</span>"
      ],
      "text/plain": [
       "Found pyproject.toml from '/Users/macpro/Documents/GitHub/sql/docs/video-material/postgres'"
      ]
     },
     "metadata": {},
     "output_type": "display_data"
    },
    {
     "data": {
      "text/html": [
       "<span style=\"None\">Settings changed:</span>"
      ],
      "text/plain": [
       "Settings changed:"
      ]
     },
     "metadata": {},
     "output_type": "display_data"
    },
    {
     "data": {
      "text/html": [
       "\n",
       "<table>\n",
       "    <thead>\n",
       "        <tr>\n",
       "            <th>Config</th>\n",
       "            <th>value</th>\n",
       "        </tr>\n",
       "    </thead>\n",
       "    <tbody>\n",
       "        <tr>\n",
       "            <td>displaycon</td>\n",
       "            <td>False</td>\n",
       "        </tr>\n",
       "        <tr>\n",
       "            <td>feedback</td>\n",
       "            <td>True</td>\n",
       "        </tr>\n",
       "        <tr>\n",
       "            <td>autopolars</td>\n",
       "            <td>True</td>\n",
       "        </tr>\n",
       "    </tbody>\n",
       "</table>"
      ],
      "text/plain": [
       "\n",
       "+------------+-------+\n",
       "|   Config   | value |\n",
       "+------------+-------+\n",
       "| displaycon | False |\n",
       "|  feedback  |  True |\n",
       "| autopolars |  True |\n",
       "+------------+-------+"
      ]
     },
     "metadata": {},
     "output_type": "display_data"
    },
    {
     "data": {
      "text/html": [
       "<span style=\"None\">Switching to connection duckdb:///bank.duck.db</span>"
      ],
      "text/plain": [
       "Switching to connection duckdb:///bank.duck.db"
      ]
     },
     "metadata": {},
     "output_type": "display_data"
    }
   ],
   "source": [
    "# Loading in SQL extension\n",
    "%reload_ext sql\n",
    "%sql duckdb:///bank.duck.db"
   ]
  },
  {
   "cell_type": "markdown",
   "id": "cbe40efb",
   "metadata": {
    "slideshow": {
     "slide_type": "slide"
    }
   },
   "source": [
    "<h2 align='center'>Perform queries and transform them to polars</h2>"
   ]
  },
  {
   "cell_type": "code",
   "execution_count": 9,
   "id": "e49476ea",
   "metadata": {
    "slideshow": {
     "slide_type": "fragment"
    }
   },
   "outputs": [
    {
     "data": {
      "text/html": [
       "<span style=\"None\">Skipping execution...</span>"
      ],
      "text/plain": [
       "Skipping execution..."
      ]
     },
     "metadata": {},
     "output_type": "display_data"
    }
   ],
   "source": [
    "%%sql --save loan_amount_district_id --no-execute\n",
    "SELECT l.loan_id, \n",
    "        l.amount, \n",
    "        a.district_id \n",
    "FROM s1.loan AS l \n",
    "INNER JOIN s1.account AS a \n",
    "    ON l.account_id = a.account_id"
   ]
  },
  {
   "cell_type": "code",
   "execution_count": 10,
   "id": "50dfec03",
   "metadata": {
    "slideshow": {
     "slide_type": "fragment"
    }
   },
   "outputs": [
    {
     "data": {
      "text/html": [
       "<span style=\"None\">Generating CTE with stored snippets: &#x27;loan_amount_district_id&#x27;</span>"
      ],
      "text/plain": [
       "Generating CTE with stored snippets: 'loan_amount_district_id'"
      ]
     },
     "metadata": {},
     "output_type": "display_data"
    },
    {
     "data": {
      "text/plain": [
       "polars.dataframe.frame.DataFrame"
      ]
     },
     "execution_count": 10,
     "metadata": {},
     "output_type": "execute_result"
    }
   ],
   "source": [
    "result = %sql SELECT * FROM loan_amount_district_id\n",
    "type(result)"
   ]
  },
  {
   "cell_type": "markdown",
   "id": "45fe0135",
   "metadata": {
    "slideshow": {
     "slide_type": "slide"
    }
   },
   "source": [
    "<h1 align=center>Summary</h1>\n",
    "\n",
    "* JupySQL is an open source project forked from ipython-sql, that can easily be installed and loaded as a Jupyter extension. \n",
    "\n",
    "* JupySQL allows you to easily connect to SQL databases (such as PostgreSQL) and perform exploratory data analysis in Jupyter via the use of magics `%sql` `%sqlcmd` `%sqlplot`\n",
    "\n",
    "* This enables you to combine querying in SQL with other Python libraries and frameworks (such as `pandas` or `seaborn` for visualization)\n",
    "\n",
    "<h3 align=center>🐙🐙</h3>\n",
    "<h3 align=center>Give JupySQL a ⭐  </h3>\n",
    "<h3 align=center>https://github.com/ploomber/jupysql</h3>"
   ]
  }
 ],
 "metadata": {
  "celltoolbar": "Slideshow",
  "kernelspec": {
   "display_name": "Python 3 (ipykernel)",
   "language": "python",
   "name": "python3"
  },
  "language_info": {
   "codemirror_mode": {
    "name": "ipython",
    "version": 3
   },
   "file_extension": ".py",
   "mimetype": "text/x-python",
   "name": "python",
   "nbconvert_exporter": "python",
   "pygments_lexer": "ipython3",
   "version": "3.10.0"
  }
 },
 "nbformat": 4,
 "nbformat_minor": 5
}
