{
 "cells": [
  {
   "cell_type": "markdown",
   "id": "606a08b5",
   "metadata": {
    "slideshow": {
     "slide_type": "slide"
    }
   },
   "source": [
    "## Notebook summary\n",
    "\n",
    "In this notebook we will:\n",
    "\n",
    "⚡ Establish access to a hosted Redshift database instance\n",
    "\n",
    "⚡ Create tables fed from data in S3 buckets\n",
    "\n",
    "⚡ Use SQL within Jupyter notebooks through `JupySQL` to create tables, clean the data, and merge the tables. \n",
    "\n",
    "⚡ Visualize the resulting merged table with `seaborn`\n",
    "\n",
    "⚡ Set up a classification model for the data with `sklearn` (`sklearn.ensemble.RandomForestClassifier`) \n",
    "\n",
    "⚡ Evaluate the model's results using `sklearn.metrics `"
   ]
  },
  {
   "cell_type": "markdown",
   "id": "06bd43f6",
   "metadata": {
    "slideshow": {
     "slide_type": "slide"
    }
   },
   "source": [
    "## What is JupySQL\n",
    "\n",
    "JupySQL is an open source project whose goal is to enable you to run SQL and plot large datasets in Jupyter via a `%sql`, `%%sql`, and `%sqlplot` magics. \n",
    "\n",
    "JupySQL is compatible with all major databases (e.g., PostgreSQL, MySQL, SQL Server), data warehouses (e.g., Snowflake, BigQuery, Redshift), and embedded engines (SQLite, and DuckDB)."
   ]
  },
  {
   "cell_type": "markdown",
   "id": "e396aebc",
   "metadata": {
    "slideshow": {
     "slide_type": "slide"
    }
   },
   "source": [
    "## What is Amazon Redshift? \n",
    "\n",
    "Amazon Redshift uses SQL to analyze structured and semi-structured data across data warehouses, operational databases, and data lakes, using AWS-designed hardware and machine learning to deliver the best price performance at any scale.\n",
    "![](redshift.png)"
   ]
  },
  {
   "cell_type": "markdown",
   "id": "50b67346",
   "metadata": {
    "slideshow": {
     "slide_type": "slide"
    }
   },
   "source": [
    "## Goal\n",
    "\n",
    "Example: https://github.com/aws-samples/getting-started-with-amazon-redshift-data-api/blob/main/use-cases/sagemaker-notebook-redshift-ml/redshift_ml_with_data_api.ipynb\n",
    "\n",
    "⚡ Enable seamless integration to perform EDA within local Jupyter notebooks\n",
    "\n",
    "⚡ Remove the need to execute outside scripts within Jupyter notebooks when setting up the tables\n",
    "\n",
    "⚡ Automatically convert SQL query results to `pandas` or `polars` dataframes for further data analysis\n",
    "\n",
    "Further documentation: https://aws.amazon.com/blogs/machine-learning/build-regression-models-with-amazon-redshift-ml/"
   ]
  },
  {
   "cell_type": "markdown",
   "id": "77714621",
   "metadata": {
    "slideshow": {
     "slide_type": "slide"
    }
   },
   "source": [
    "## Pre-requisites"
   ]
  },
  {
   "cell_type": "markdown",
   "id": "82079d88",
   "metadata": {
    "slideshow": {
     "slide_type": "fragment"
    }
   },
   "source": [
    "1️⃣ AWS Redshift username and password\n",
    "\n",
    "2️⃣ AWS Redshift host\n",
    "\n",
    "3️⃣ S3 bucket(s) with data\n",
    "\n",
    "4️⃣Jupyter notebooks + the JupySQL extension"
   ]
  },
  {
   "cell_type": "markdown",
   "id": "eb625232",
   "metadata": {
    "slideshow": {
     "slide_type": "slide"
    }
   },
   "source": [
    "## Part I: Setting up access to the data, and setting up a database and tables."
   ]
  },
  {
   "cell_type": "markdown",
   "id": "0c60f501",
   "metadata": {
    "slideshow": {
     "slide_type": "slide"
    }
   },
   "source": [
    "## Dependencies"
   ]
  },
  {
   "cell_type": "code",
   "execution_count": null,
   "id": "9bfa2e1d",
   "metadata": {
    "slideshow": {
     "slide_type": "fragment"
    }
   },
   "outputs": [],
   "source": [
    "%pip install jupysql --upgrade sqlalchemy-redshift redshift-connector \"sqlalchemy<2\" --quiet"
   ]
  },
  {
   "cell_type": "markdown",
   "id": "90d91ae0",
   "metadata": {
    "slideshow": {
     "slide_type": "slide"
    }
   },
   "source": [
    "## Modules"
   ]
  },
  {
   "cell_type": "code",
   "execution_count": 1,
   "id": "afb5bab2",
   "metadata": {
    "slideshow": {
     "slide_type": "fragment"
    }
   },
   "outputs": [],
   "source": [
    "from dotenv import load_dotenv\n",
    "from os import environ\n",
    "from sqlalchemy import create_engine\n",
    "from sqlalchemy.engine import URL\n",
    "import os"
   ]
  },
  {
   "cell_type": "markdown",
   "id": "763017e1",
   "metadata": {
    "slideshow": {
     "slide_type": "slide"
    }
   },
   "source": [
    "## Access your credentials securely\n",
    "\n",
    "You can create a `.env` file that looks as follows\n",
    "\n",
    "```bash\n",
    "REDSHIFT_USERNAME = \"my-username\"\n",
    "REDSHIFT_PASSWORD = \"my-password\"\n",
    "REDSHIFT_HOST = \"my-workgroup.my-account-id.us-east-1.redshift-serverless.amazonaws.com\"\n",
    "IAM_role = 'arn:aws:iam::my-account-id:role/my-redshift-s3-space'\n",
    "```"
   ]
  },
  {
   "cell_type": "code",
   "execution_count": 2,
   "id": "8bfd3f01",
   "metadata": {
    "slideshow": {
     "slide_type": "fragment"
    }
   },
   "outputs": [],
   "source": [
    "# Load environment variables\n",
    "load_dotenv(\".env\")\n",
    "\n",
    "user = os.environ.get(\"REDSHIFT_USERNAME\")\n",
    "password = os.environ.get(\"REDSHIFT_PASSWORD\")\n",
    "host = os.environ.get(\"REDSHIFT_HOST\")\n",
    "iamrole = os.environ.get(\"IAM_role\")"
   ]
  },
  {
   "cell_type": "markdown",
   "id": "e67b6aa1",
   "metadata": {
    "slideshow": {
     "slide_type": "slide"
    }
   },
   "source": [
    "## Form the connection string"
   ]
  },
  {
   "cell_type": "code",
   "execution_count": 3,
   "id": "b7353137",
   "metadata": {
    "slideshow": {
     "slide_type": "fragment"
    }
   },
   "outputs": [],
   "source": [
    "url = URL.create(\n",
    "    drivername=\"redshift+redshift_connector\",\n",
    "    username=user,\n",
    "    password=password,\n",
    "    host=host,\n",
    "    port=5439,\n",
    "    database=\"dev\",\n",
    ")\n",
    "\n",
    "engine = create_engine(url)"
   ]
  },
  {
   "cell_type": "markdown",
   "id": "8f2c5a7e",
   "metadata": {
    "slideshow": {
     "slide_type": "slide"
    }
   },
   "source": [
    "## Load the JupySQL extension"
   ]
  },
  {
   "cell_type": "code",
   "execution_count": 47,
   "id": "49de8e93",
   "metadata": {
    "slideshow": {
     "slide_type": "fragment"
    }
   },
   "outputs": [
    {
     "data": {
      "text/html": [
       "<span style=\"None\">Found pyproject.toml from &#x27;/Users/macpro/Documents/GitHub/sql/docs/video-material/redshift&#x27;</span>"
      ],
      "text/plain": [
       "Found pyproject.toml from '/Users/macpro/Documents/GitHub/sql/docs/video-material/redshift'"
      ]
     },
     "metadata": {},
     "output_type": "display_data"
    },
    {
     "data": {
      "text/html": [
       "<span style=\"None\">Settings changed:</span>"
      ],
      "text/plain": [
       "Settings changed:"
      ]
     },
     "metadata": {},
     "output_type": "display_data"
    },
    {
     "data": {
      "text/html": [
       "\n",
       "<table>\n",
       "    <thead>\n",
       "        <tr>\n",
       "            <th>Config</th>\n",
       "            <th>value</th>\n",
       "        </tr>\n",
       "    </thead>\n",
       "    <tbody>\n",
       "        <tr>\n",
       "            <td>displaycon</td>\n",
       "            <td>False</td>\n",
       "        </tr>\n",
       "        <tr>\n",
       "            <td>feedback</td>\n",
       "            <td>True</td>\n",
       "        </tr>\n",
       "        <tr>\n",
       "            <td>autopandas</td>\n",
       "            <td>True</td>\n",
       "        </tr>\n",
       "        <tr>\n",
       "            <td>named_parameters</td>\n",
       "            <td>True</td>\n",
       "        </tr>\n",
       "    </tbody>\n",
       "</table>"
      ],
      "text/plain": [
       "\n",
       "+------------------+-------+\n",
       "|      Config      | value |\n",
       "+------------------+-------+\n",
       "|    displaycon    | False |\n",
       "|     feedback     |  True |\n",
       "|    autopandas    |  True |\n",
       "| named_parameters |  True |\n",
       "+------------------+-------+"
      ]
     },
     "metadata": {},
     "output_type": "display_data"
    }
   ],
   "source": [
    "%reload_ext sql"
   ]
  },
  {
   "cell_type": "markdown",
   "id": "960bab47",
   "metadata": {
    "slideshow": {
     "slide_type": "slide"
    }
   },
   "source": [
    "## Use the engine to initialize access to our Redshift via the alias `redshift`"
   ]
  },
  {
   "cell_type": "code",
   "execution_count": 5,
   "id": "0f6d0d83",
   "metadata": {
    "slideshow": {
     "slide_type": "fragment"
    }
   },
   "outputs": [],
   "source": [
    "%sql engine --alias redshift"
   ]
  },
  {
   "cell_type": "markdown",
   "id": "9c250f52",
   "metadata": {
    "slideshow": {
     "slide_type": "slide"
    }
   },
   "source": [
    "## Create table `ridership` from data in S3 bucket"
   ]
  },
  {
   "cell_type": "code",
   "execution_count": 6,
   "id": "d33e65fc",
   "metadata": {
    "slideshow": {
     "slide_type": "fragment"
    }
   },
   "outputs": [
    {
     "data": {
      "text/html": [
       "<div>\n",
       "<style scoped>\n",
       "    .dataframe tbody tr th:only-of-type {\n",
       "        vertical-align: middle;\n",
       "    }\n",
       "\n",
       "    .dataframe tbody tr th {\n",
       "        vertical-align: top;\n",
       "    }\n",
       "\n",
       "    .dataframe thead th {\n",
       "        text-align: right;\n",
       "    }\n",
       "</style>\n",
       "<table border=\"1\" class=\"dataframe\">\n",
       "  <thead>\n",
       "    <tr style=\"text-align: right;\">\n",
       "      <th></th>\n",
       "    </tr>\n",
       "  </thead>\n",
       "  <tbody>\n",
       "  </tbody>\n",
       "</table>\n",
       "</div>"
      ],
      "text/plain": [
       "Empty DataFrame\n",
       "Columns: []\n",
       "Index: []"
      ]
     },
     "execution_count": 6,
     "metadata": {},
     "output_type": "execute_result"
    }
   ],
   "source": [
    "%%sql\n",
    "DROP TABLE IF EXISTS ridership CASCADE;\n",
    "\n",
    "CREATE TABLE IF NOT EXISTS ridership\n",
    "( trip_id               INT, \n",
    " trip_duration_seconds INT, \n",
    " trip_start_time       timestamp,\n",
    " trip_stop_time        timestamp,\n",
    " from_station_name     VARCHAR(50),\n",
    " to_station_name       VARCHAR(50),\n",
    " from_station_id       SMALLINT,\n",
    " to_station_id         SMALLINT,\n",
    " user_type             VARCHAR(20));\n",
    "\n",
    "\n",
    "\n",
    "COPY ridership FROM \n",
    "'s3://redshift-ml-bikesharing-data/bike-sharing-data/ridership/'\n",
    "IAM_ROLE '{{iamrole}}'\n",
    "FORMAT csv IGNOREHEADER 1 DATEFORMAT 'auto' TIMEFORMAT 'auto' REGION 'us-west-2' gzip;\n",
    "\n"
   ]
  },
  {
   "cell_type": "markdown",
   "id": "d3e4efae",
   "metadata": {
    "slideshow": {
     "slide_type": "slide"
    }
   },
   "source": [
    "## Verifying `ridership` table"
   ]
  },
  {
   "cell_type": "code",
   "execution_count": 7,
   "id": "172c5a9d",
   "metadata": {
    "slideshow": {
     "slide_type": "fragment"
    }
   },
   "outputs": [
    {
     "data": {
      "text/html": [
       "<table>\n",
       "    <thead>\n",
       "        <tr>\n",
       "            <th>name</th>\n",
       "            <th>type</th>\n",
       "            <th>nullable</th>\n",
       "            <th>default</th>\n",
       "            <th>autoincrement</th>\n",
       "            <th>comment</th>\n",
       "            <th>info</th>\n",
       "        </tr>\n",
       "    </thead>\n",
       "    <tbody>\n",
       "        <tr>\n",
       "            <td>trip_id</td>\n",
       "            <td>INTEGER</td>\n",
       "            <td>True</td>\n",
       "            <td>None</td>\n",
       "            <td>False</td>\n",
       "            <td>None</td>\n",
       "            <td>{&#x27;encode&#x27;: &#x27;az64&#x27;}</td>\n",
       "        </tr>\n",
       "        <tr>\n",
       "            <td>trip_duration_seconds</td>\n",
       "            <td>INTEGER</td>\n",
       "            <td>True</td>\n",
       "            <td>None</td>\n",
       "            <td>False</td>\n",
       "            <td>None</td>\n",
       "            <td>{&#x27;encode&#x27;: &#x27;az64&#x27;}</td>\n",
       "        </tr>\n",
       "        <tr>\n",
       "            <td>trip_start_time</td>\n",
       "            <td>TIMESTAMP</td>\n",
       "            <td>True</td>\n",
       "            <td>None</td>\n",
       "            <td>False</td>\n",
       "            <td>None</td>\n",
       "            <td>{&#x27;encode&#x27;: &#x27;az64&#x27;}</td>\n",
       "        </tr>\n",
       "        <tr>\n",
       "            <td>trip_stop_time</td>\n",
       "            <td>TIMESTAMP</td>\n",
       "            <td>True</td>\n",
       "            <td>None</td>\n",
       "            <td>False</td>\n",
       "            <td>None</td>\n",
       "            <td>{&#x27;encode&#x27;: &#x27;az64&#x27;}</td>\n",
       "        </tr>\n",
       "        <tr>\n",
       "            <td>from_station_name</td>\n",
       "            <td>VARCHAR(50)</td>\n",
       "            <td>True</td>\n",
       "            <td>None</td>\n",
       "            <td>False</td>\n",
       "            <td>None</td>\n",
       "            <td>{&#x27;encode&#x27;: &#x27;lzo&#x27;}</td>\n",
       "        </tr>\n",
       "        <tr>\n",
       "            <td>to_station_name</td>\n",
       "            <td>VARCHAR(50)</td>\n",
       "            <td>True</td>\n",
       "            <td>None</td>\n",
       "            <td>False</td>\n",
       "            <td>None</td>\n",
       "            <td>{&#x27;encode&#x27;: &#x27;lzo&#x27;}</td>\n",
       "        </tr>\n",
       "        <tr>\n",
       "            <td>from_station_id</td>\n",
       "            <td>SMALLINT</td>\n",
       "            <td>True</td>\n",
       "            <td>None</td>\n",
       "            <td>False</td>\n",
       "            <td>None</td>\n",
       "            <td>{&#x27;encode&#x27;: &#x27;az64&#x27;}</td>\n",
       "        </tr>\n",
       "        <tr>\n",
       "            <td>to_station_id</td>\n",
       "            <td>SMALLINT</td>\n",
       "            <td>True</td>\n",
       "            <td>None</td>\n",
       "            <td>False</td>\n",
       "            <td>None</td>\n",
       "            <td>{&#x27;encode&#x27;: &#x27;az64&#x27;}</td>\n",
       "        </tr>\n",
       "        <tr>\n",
       "            <td>user_type</td>\n",
       "            <td>VARCHAR(20)</td>\n",
       "            <td>True</td>\n",
       "            <td>None</td>\n",
       "            <td>False</td>\n",
       "            <td>None</td>\n",
       "            <td>{&#x27;encode&#x27;: &#x27;lzo&#x27;}</td>\n",
       "        </tr>\n",
       "    </tbody>\n",
       "</table>"
      ],
      "text/plain": [
       "+-----------------------+-------------+----------+---------+---------------+---------+--------------------+\n",
       "|          name         |     type    | nullable | default | autoincrement | comment |        info        |\n",
       "+-----------------------+-------------+----------+---------+---------------+---------+--------------------+\n",
       "|        trip_id        |   INTEGER   |   True   |   None  |     False     |   None  | {'encode': 'az64'} |\n",
       "| trip_duration_seconds |   INTEGER   |   True   |   None  |     False     |   None  | {'encode': 'az64'} |\n",
       "|    trip_start_time    |  TIMESTAMP  |   True   |   None  |     False     |   None  | {'encode': 'az64'} |\n",
       "|     trip_stop_time    |  TIMESTAMP  |   True   |   None  |     False     |   None  | {'encode': 'az64'} |\n",
       "|   from_station_name   | VARCHAR(50) |   True   |   None  |     False     |   None  | {'encode': 'lzo'}  |\n",
       "|    to_station_name    | VARCHAR(50) |   True   |   None  |     False     |   None  | {'encode': 'lzo'}  |\n",
       "|    from_station_id    |   SMALLINT  |   True   |   None  |     False     |   None  | {'encode': 'az64'} |\n",
       "|     to_station_id     |   SMALLINT  |   True   |   None  |     False     |   None  | {'encode': 'az64'} |\n",
       "|       user_type       | VARCHAR(20) |   True   |   None  |     False     |   None  | {'encode': 'lzo'}  |\n",
       "+-----------------------+-------------+----------+---------+---------------+---------+--------------------+"
      ]
     },
     "execution_count": 7,
     "metadata": {},
     "output_type": "execute_result"
    }
   ],
   "source": [
    "%sqlcmd columns -t ridership \n"
   ]
  },
  {
   "cell_type": "code",
   "execution_count": 8,
   "id": "0b6ad7ca",
   "metadata": {
    "slideshow": {
     "slide_type": "fragment"
    }
   },
   "outputs": [
    {
     "data": {
      "text/html": [
       "<div style='position: sticky; left: 0; padding: 10px; font-size: 12px; color: #FFA500'><strong></strong> Following statistics are not available in\n",
       "            redshift_connector: STD, 25%, 50%, 75%</div><style>\n",
       " #profile-table td:first-child {\n",
       "  position: sticky;\n",
       "  left: 0;\n",
       "  background-color: var(--jp-cell-editor-background);\n",
       "  font-weight: bold;\n",
       "}\n",
       " #profile-table thead tr th:first-child {\n",
       "  position: sticky;\n",
       "  left: 0;\n",
       "  background-color: var(--jp-cell-editor-background);\n",
       "  font-weight: bold; /* Adding bold text */\n",
       "}\n",
       "            </style><style></style><table id=\"profile-table-825d41a111194fa9b913c2137cff308e\">\n",
       "    <thead>\n",
       "        <tr>\n",
       "            <th> </th>\n",
       "            <th>trip_id</th>\n",
       "            <th>trip_duration_seconds</th>\n",
       "            <th>trip_start_time</th>\n",
       "            <th>trip_stop_time</th>\n",
       "            <th>from_station_name</th>\n",
       "            <th>to_station_name</th>\n",
       "            <th>from_station_id</th>\n",
       "            <th>to_station_id</th>\n",
       "            <th>user_type</th>\n",
       "        </tr>\n",
       "    </thead>\n",
       "    <tbody>\n",
       "        <tr>\n",
       "            <td>count</td>\n",
       "            <td>3415315</td>\n",
       "            <td>3415315</td>\n",
       "            <td>3415315</td>\n",
       "            <td>3415315</td>\n",
       "            <td>3415315</td>\n",
       "            <td>3415315</td>\n",
       "            <td>2388423</td>\n",
       "            <td>2388423</td>\n",
       "            <td>3415315</td>\n",
       "        </tr>\n",
       "        <tr>\n",
       "            <td>unique</td>\n",
       "            <td>3415315</td>\n",
       "            <td>21278</td>\n",
       "            <td>965559</td>\n",
       "            <td>959085</td>\n",
       "            <td>411</td>\n",
       "            <td>411</td>\n",
       "            <td>359</td>\n",
       "            <td>359</td>\n",
       "            <td>4</td>\n",
       "        </tr>\n",
       "        <tr>\n",
       "            <td>mean</td>\n",
       "            <td>2644335.0000</td>\n",
       "            <td>986.0000</td>\n",
       "            <td>nan</td>\n",
       "            <td>nan</td>\n",
       "            <td>nan</td>\n",
       "            <td>nan</td>\n",
       "            <td>7123.0000</td>\n",
       "            <td>7122.0000</td>\n",
       "            <td>nan</td>\n",
       "        </tr>\n",
       "        <tr>\n",
       "            <td>min</td>\n",
       "            <td>712382</td>\n",
       "            <td>1</td>\n",
       "            <td>nan</td>\n",
       "            <td>nan</td>\n",
       "            <td>nan</td>\n",
       "            <td>nan</td>\n",
       "            <td>7000</td>\n",
       "            <td>7000</td>\n",
       "            <td>nan</td>\n",
       "        </tr>\n",
       "        <tr>\n",
       "            <td>max</td>\n",
       "            <td>4581277</td>\n",
       "            <td>6382030</td>\n",
       "            <td>nan</td>\n",
       "            <td>nan</td>\n",
       "            <td>nan</td>\n",
       "            <td>nan</td>\n",
       "            <td>7391</td>\n",
       "            <td>7391</td>\n",
       "            <td>nan</td>\n",
       "        </tr>\n",
       "    </tbody>\n",
       "</table><div style='position: sticky; left: 0; padding: 10px; font-size: 12px; color: black; background-color: white;'><strong></strong> </div>"
      ],
      "text/plain": [
       "+--------+--------------+-----------------------+-----------------+----------------+-------------------+-----------------+-----------------+---------------+-----------+\n",
       "|        |   trip_id    | trip_duration_seconds | trip_start_time | trip_stop_time | from_station_name | to_station_name | from_station_id | to_station_id | user_type |\n",
       "+--------+--------------+-----------------------+-----------------+----------------+-------------------+-----------------+-----------------+---------------+-----------+\n",
       "| count  |   3415315    |        3415315        |     3415315     |    3415315     |      3415315      |     3415315     |     2388423     |    2388423    |  3415315  |\n",
       "| unique |   3415315    |         21278         |      965559     |     959085     |        411        |       411       |       359       |      359      |     4     |\n",
       "|  mean  | 2644335.0000 |        986.0000       |       nan       |      nan       |        nan        |       nan       |    7123.0000    |   7122.0000   |    nan    |\n",
       "|  min   |    712382    |           1           |       nan       |      nan       |        nan        |       nan       |       7000      |      7000     |    nan    |\n",
       "|  max   |   4581277    |        6382030        |       nan       |      nan       |        nan        |       nan       |       7391      |      7391     |    nan    |\n",
       "+--------+--------------+-----------------------+-----------------+----------------+-------------------+-----------------+-----------------+---------------+-----------+"
      ]
     },
     "execution_count": 8,
     "metadata": {},
     "output_type": "execute_result"
    }
   ],
   "source": [
    "%sqlcmd profile --table ridership "
   ]
  },
  {
   "cell_type": "markdown",
   "id": "51e347a9",
   "metadata": {
    "slideshow": {
     "slide_type": "slide"
    }
   },
   "source": [
    "## Create table `weather` from data in S3 bucket"
   ]
  },
  {
   "cell_type": "code",
   "execution_count": 9,
   "id": "9f2701db",
   "metadata": {
    "slideshow": {
     "slide_type": "subslide"
    }
   },
   "outputs": [
    {
     "data": {
      "text/html": [
       "<div>\n",
       "<style scoped>\n",
       "    .dataframe tbody tr th:only-of-type {\n",
       "        vertical-align: middle;\n",
       "    }\n",
       "\n",
       "    .dataframe tbody tr th {\n",
       "        vertical-align: top;\n",
       "    }\n",
       "\n",
       "    .dataframe thead th {\n",
       "        text-align: right;\n",
       "    }\n",
       "</style>\n",
       "<table border=\"1\" class=\"dataframe\">\n",
       "  <thead>\n",
       "    <tr style=\"text-align: right;\">\n",
       "      <th></th>\n",
       "    </tr>\n",
       "  </thead>\n",
       "  <tbody>\n",
       "  </tbody>\n",
       "</table>\n",
       "</div>"
      ],
      "text/plain": [
       "Empty DataFrame\n",
       "Columns: []\n",
       "Index: []"
      ]
     },
     "execution_count": 9,
     "metadata": {},
     "output_type": "execute_result"
    }
   ],
   "source": [
    "%%sql\n",
    "DROP TABLE IF EXISTS weather CASCADE;\n",
    "\n",
    "CREATE TABLE IF NOT EXISTS weather\n",
    "( longitude_x         DECIMAL(5,2),\n",
    " latitude_y          DECIMAL(5,2), \n",
    " station_name        VARCHAR(20),\n",
    " climate_id          BIGINT,\n",
    " datetime_utc        TIMESTAMP,\n",
    " weather_year        SMALLINT,\n",
    " weather_month       SMALLINT,\n",
    " weather_day         SMALLINT,\n",
    " time_utc            VARCHAR(5),\n",
    " temp_c              DECIMAL(5,2),\n",
    " temp_flag           VARCHAR(1),\n",
    " dew_point_temp_c    DECIMAL(5,2),\n",
    " dew_point_temp_flag VARCHAR(1),\n",
    " rel_hum             SMALLINT,\n",
    " rel_hum_flag        VARCHAR(1),\n",
    " precip_amount_mm    DECIMAL(5,2),\n",
    " precip_amount_flag  VARCHAR(1),\n",
    " wind_dir_10s_deg    VARCHAR(10),\n",
    " wind_dir_flag       VARCHAR(1),\n",
    " wind_spd_kmh        VARCHAR(10),\n",
    " wind_spd_flag       VARCHAR(1),\n",
    " visibility_km       VARCHAR(10),\n",
    " visibility_flag     VARCHAR(1),\n",
    " stn_press_kpa       DECIMAL(5,2),\n",
    " stn_press_flag      VARCHAR(1),\n",
    " hmdx                SMALLINT,\n",
    " hmdx_flag           VARCHAR(1),\n",
    " wind_chill          VARCHAR(10),\n",
    " wind_chill_flag     VARCHAR(1),\n",
    " weather             VARCHAR(10));\n",
    "\n",
    "\n",
    "COPY weather FROM\n",
    "'s3://redshift-ml-bikesharing-data/bike-sharing-data/weather/'\n",
    "IAM_ROLE '{{iamrole}}'\n",
    "FORMAT csv IGNOREHEADER 1 DATEFORMAT 'auto' TIMEFORMAT 'auto' REGION 'us-west-2' gzip;\n"
   ]
  },
  {
   "cell_type": "markdown",
   "id": "8ccf2523",
   "metadata": {
    "slideshow": {
     "slide_type": "slide"
    }
   },
   "source": [
    "## Verifying `weather` table"
   ]
  },
  {
   "cell_type": "code",
   "execution_count": 10,
   "id": "a5f3c80b",
   "metadata": {
    "slideshow": {
     "slide_type": "subslide"
    }
   },
   "outputs": [
    {
     "data": {
      "text/html": [
       "<table>\n",
       "    <thead>\n",
       "        <tr>\n",
       "            <th>name</th>\n",
       "            <th>type</th>\n",
       "            <th>nullable</th>\n",
       "            <th>default</th>\n",
       "            <th>autoincrement</th>\n",
       "            <th>comment</th>\n",
       "            <th>info</th>\n",
       "        </tr>\n",
       "    </thead>\n",
       "    <tbody>\n",
       "        <tr>\n",
       "            <td>longitude_x</td>\n",
       "            <td>NUMERIC(5, 2)</td>\n",
       "            <td>True</td>\n",
       "            <td>None</td>\n",
       "            <td>False</td>\n",
       "            <td>None</td>\n",
       "            <td>{&#x27;encode&#x27;: &#x27;az64&#x27;}</td>\n",
       "        </tr>\n",
       "        <tr>\n",
       "            <td>latitude_y</td>\n",
       "            <td>NUMERIC(5, 2)</td>\n",
       "            <td>True</td>\n",
       "            <td>None</td>\n",
       "            <td>False</td>\n",
       "            <td>None</td>\n",
       "            <td>{&#x27;encode&#x27;: &#x27;az64&#x27;}</td>\n",
       "        </tr>\n",
       "        <tr>\n",
       "            <td>station_name</td>\n",
       "            <td>VARCHAR(20)</td>\n",
       "            <td>True</td>\n",
       "            <td>None</td>\n",
       "            <td>False</td>\n",
       "            <td>None</td>\n",
       "            <td>{&#x27;encode&#x27;: &#x27;lzo&#x27;}</td>\n",
       "        </tr>\n",
       "        <tr>\n",
       "            <td>climate_id</td>\n",
       "            <td>BIGINT</td>\n",
       "            <td>True</td>\n",
       "            <td>None</td>\n",
       "            <td>False</td>\n",
       "            <td>None</td>\n",
       "            <td>{&#x27;encode&#x27;: &#x27;az64&#x27;}</td>\n",
       "        </tr>\n",
       "        <tr>\n",
       "            <td>datetime_utc</td>\n",
       "            <td>TIMESTAMP</td>\n",
       "            <td>True</td>\n",
       "            <td>None</td>\n",
       "            <td>False</td>\n",
       "            <td>None</td>\n",
       "            <td>{&#x27;encode&#x27;: &#x27;az64&#x27;}</td>\n",
       "        </tr>\n",
       "        <tr>\n",
       "            <td>weather_year</td>\n",
       "            <td>SMALLINT</td>\n",
       "            <td>True</td>\n",
       "            <td>None</td>\n",
       "            <td>False</td>\n",
       "            <td>None</td>\n",
       "            <td>{&#x27;encode&#x27;: &#x27;az64&#x27;}</td>\n",
       "        </tr>\n",
       "        <tr>\n",
       "            <td>weather_month</td>\n",
       "            <td>SMALLINT</td>\n",
       "            <td>True</td>\n",
       "            <td>None</td>\n",
       "            <td>False</td>\n",
       "            <td>None</td>\n",
       "            <td>{&#x27;encode&#x27;: &#x27;az64&#x27;}</td>\n",
       "        </tr>\n",
       "        <tr>\n",
       "            <td>weather_day</td>\n",
       "            <td>SMALLINT</td>\n",
       "            <td>True</td>\n",
       "            <td>None</td>\n",
       "            <td>False</td>\n",
       "            <td>None</td>\n",
       "            <td>{&#x27;encode&#x27;: &#x27;az64&#x27;}</td>\n",
       "        </tr>\n",
       "        <tr>\n",
       "            <td>time_utc</td>\n",
       "            <td>VARCHAR(5)</td>\n",
       "            <td>True</td>\n",
       "            <td>None</td>\n",
       "            <td>False</td>\n",
       "            <td>None</td>\n",
       "            <td>{&#x27;encode&#x27;: &#x27;lzo&#x27;}</td>\n",
       "        </tr>\n",
       "        <tr>\n",
       "            <td>temp_c</td>\n",
       "            <td>NUMERIC(5, 2)</td>\n",
       "            <td>True</td>\n",
       "            <td>None</td>\n",
       "            <td>False</td>\n",
       "            <td>None</td>\n",
       "            <td>{&#x27;encode&#x27;: &#x27;az64&#x27;}</td>\n",
       "        </tr>\n",
       "        <tr>\n",
       "            <td>temp_flag</td>\n",
       "            <td>VARCHAR(1)</td>\n",
       "            <td>True</td>\n",
       "            <td>None</td>\n",
       "            <td>False</td>\n",
       "            <td>None</td>\n",
       "            <td>{&#x27;encode&#x27;: &#x27;lzo&#x27;}</td>\n",
       "        </tr>\n",
       "        <tr>\n",
       "            <td>dew_point_temp_c</td>\n",
       "            <td>NUMERIC(5, 2)</td>\n",
       "            <td>True</td>\n",
       "            <td>None</td>\n",
       "            <td>False</td>\n",
       "            <td>None</td>\n",
       "            <td>{&#x27;encode&#x27;: &#x27;az64&#x27;}</td>\n",
       "        </tr>\n",
       "        <tr>\n",
       "            <td>dew_point_temp_flag</td>\n",
       "            <td>VARCHAR(1)</td>\n",
       "            <td>True</td>\n",
       "            <td>None</td>\n",
       "            <td>False</td>\n",
       "            <td>None</td>\n",
       "            <td>{&#x27;encode&#x27;: &#x27;lzo&#x27;}</td>\n",
       "        </tr>\n",
       "        <tr>\n",
       "            <td>rel_hum</td>\n",
       "            <td>SMALLINT</td>\n",
       "            <td>True</td>\n",
       "            <td>None</td>\n",
       "            <td>False</td>\n",
       "            <td>None</td>\n",
       "            <td>{&#x27;encode&#x27;: &#x27;az64&#x27;}</td>\n",
       "        </tr>\n",
       "        <tr>\n",
       "            <td>rel_hum_flag</td>\n",
       "            <td>VARCHAR(1)</td>\n",
       "            <td>True</td>\n",
       "            <td>None</td>\n",
       "            <td>False</td>\n",
       "            <td>None</td>\n",
       "            <td>{&#x27;encode&#x27;: &#x27;lzo&#x27;}</td>\n",
       "        </tr>\n",
       "        <tr>\n",
       "            <td>precip_amount_mm</td>\n",
       "            <td>NUMERIC(5, 2)</td>\n",
       "            <td>True</td>\n",
       "            <td>None</td>\n",
       "            <td>False</td>\n",
       "            <td>None</td>\n",
       "            <td>{&#x27;encode&#x27;: &#x27;az64&#x27;}</td>\n",
       "        </tr>\n",
       "        <tr>\n",
       "            <td>precip_amount_flag</td>\n",
       "            <td>VARCHAR(1)</td>\n",
       "            <td>True</td>\n",
       "            <td>None</td>\n",
       "            <td>False</td>\n",
       "            <td>None</td>\n",
       "            <td>{&#x27;encode&#x27;: &#x27;lzo&#x27;}</td>\n",
       "        </tr>\n",
       "        <tr>\n",
       "            <td>wind_dir_10s_deg</td>\n",
       "            <td>VARCHAR(10)</td>\n",
       "            <td>True</td>\n",
       "            <td>None</td>\n",
       "            <td>False</td>\n",
       "            <td>None</td>\n",
       "            <td>{&#x27;encode&#x27;: &#x27;lzo&#x27;}</td>\n",
       "        </tr>\n",
       "        <tr>\n",
       "            <td>wind_dir_flag</td>\n",
       "            <td>VARCHAR(1)</td>\n",
       "            <td>True</td>\n",
       "            <td>None</td>\n",
       "            <td>False</td>\n",
       "            <td>None</td>\n",
       "            <td>{&#x27;encode&#x27;: &#x27;lzo&#x27;}</td>\n",
       "        </tr>\n",
       "        <tr>\n",
       "            <td>wind_spd_kmh</td>\n",
       "            <td>VARCHAR(10)</td>\n",
       "            <td>True</td>\n",
       "            <td>None</td>\n",
       "            <td>False</td>\n",
       "            <td>None</td>\n",
       "            <td>{&#x27;encode&#x27;: &#x27;lzo&#x27;}</td>\n",
       "        </tr>\n",
       "        <tr>\n",
       "            <td>wind_spd_flag</td>\n",
       "            <td>VARCHAR(1)</td>\n",
       "            <td>True</td>\n",
       "            <td>None</td>\n",
       "            <td>False</td>\n",
       "            <td>None</td>\n",
       "            <td>{&#x27;encode&#x27;: &#x27;lzo&#x27;}</td>\n",
       "        </tr>\n",
       "        <tr>\n",
       "            <td>visibility_km</td>\n",
       "            <td>VARCHAR(10)</td>\n",
       "            <td>True</td>\n",
       "            <td>None</td>\n",
       "            <td>False</td>\n",
       "            <td>None</td>\n",
       "            <td>{&#x27;encode&#x27;: &#x27;lzo&#x27;}</td>\n",
       "        </tr>\n",
       "        <tr>\n",
       "            <td>visibility_flag</td>\n",
       "            <td>VARCHAR(1)</td>\n",
       "            <td>True</td>\n",
       "            <td>None</td>\n",
       "            <td>False</td>\n",
       "            <td>None</td>\n",
       "            <td>{&#x27;encode&#x27;: &#x27;lzo&#x27;}</td>\n",
       "        </tr>\n",
       "        <tr>\n",
       "            <td>stn_press_kpa</td>\n",
       "            <td>NUMERIC(5, 2)</td>\n",
       "            <td>True</td>\n",
       "            <td>None</td>\n",
       "            <td>False</td>\n",
       "            <td>None</td>\n",
       "            <td>{&#x27;encode&#x27;: &#x27;az64&#x27;}</td>\n",
       "        </tr>\n",
       "        <tr>\n",
       "            <td>stn_press_flag</td>\n",
       "            <td>VARCHAR(1)</td>\n",
       "            <td>True</td>\n",
       "            <td>None</td>\n",
       "            <td>False</td>\n",
       "            <td>None</td>\n",
       "            <td>{&#x27;encode&#x27;: &#x27;lzo&#x27;}</td>\n",
       "        </tr>\n",
       "        <tr>\n",
       "            <td>hmdx</td>\n",
       "            <td>SMALLINT</td>\n",
       "            <td>True</td>\n",
       "            <td>None</td>\n",
       "            <td>False</td>\n",
       "            <td>None</td>\n",
       "            <td>{&#x27;encode&#x27;: &#x27;az64&#x27;}</td>\n",
       "        </tr>\n",
       "        <tr>\n",
       "            <td>hmdx_flag</td>\n",
       "            <td>VARCHAR(1)</td>\n",
       "            <td>True</td>\n",
       "            <td>None</td>\n",
       "            <td>False</td>\n",
       "            <td>None</td>\n",
       "            <td>{&#x27;encode&#x27;: &#x27;lzo&#x27;}</td>\n",
       "        </tr>\n",
       "        <tr>\n",
       "            <td>wind_chill</td>\n",
       "            <td>VARCHAR(10)</td>\n",
       "            <td>True</td>\n",
       "            <td>None</td>\n",
       "            <td>False</td>\n",
       "            <td>None</td>\n",
       "            <td>{&#x27;encode&#x27;: &#x27;lzo&#x27;}</td>\n",
       "        </tr>\n",
       "        <tr>\n",
       "            <td>wind_chill_flag</td>\n",
       "            <td>VARCHAR(1)</td>\n",
       "            <td>True</td>\n",
       "            <td>None</td>\n",
       "            <td>False</td>\n",
       "            <td>None</td>\n",
       "            <td>{&#x27;encode&#x27;: &#x27;lzo&#x27;}</td>\n",
       "        </tr>\n",
       "        <tr>\n",
       "            <td>weather</td>\n",
       "            <td>VARCHAR(10)</td>\n",
       "            <td>True</td>\n",
       "            <td>None</td>\n",
       "            <td>False</td>\n",
       "            <td>None</td>\n",
       "            <td>{&#x27;encode&#x27;: &#x27;lzo&#x27;}</td>\n",
       "        </tr>\n",
       "    </tbody>\n",
       "</table>"
      ],
      "text/plain": [
       "+---------------------+---------------+----------+---------+---------------+---------+--------------------+\n",
       "|         name        |      type     | nullable | default | autoincrement | comment |        info        |\n",
       "+---------------------+---------------+----------+---------+---------------+---------+--------------------+\n",
       "|     longitude_x     | NUMERIC(5, 2) |   True   |   None  |     False     |   None  | {'encode': 'az64'} |\n",
       "|      latitude_y     | NUMERIC(5, 2) |   True   |   None  |     False     |   None  | {'encode': 'az64'} |\n",
       "|     station_name    |  VARCHAR(20)  |   True   |   None  |     False     |   None  | {'encode': 'lzo'}  |\n",
       "|      climate_id     |     BIGINT    |   True   |   None  |     False     |   None  | {'encode': 'az64'} |\n",
       "|     datetime_utc    |   TIMESTAMP   |   True   |   None  |     False     |   None  | {'encode': 'az64'} |\n",
       "|     weather_year    |    SMALLINT   |   True   |   None  |     False     |   None  | {'encode': 'az64'} |\n",
       "|    weather_month    |    SMALLINT   |   True   |   None  |     False     |   None  | {'encode': 'az64'} |\n",
       "|     weather_day     |    SMALLINT   |   True   |   None  |     False     |   None  | {'encode': 'az64'} |\n",
       "|       time_utc      |   VARCHAR(5)  |   True   |   None  |     False     |   None  | {'encode': 'lzo'}  |\n",
       "|        temp_c       | NUMERIC(5, 2) |   True   |   None  |     False     |   None  | {'encode': 'az64'} |\n",
       "|      temp_flag      |   VARCHAR(1)  |   True   |   None  |     False     |   None  | {'encode': 'lzo'}  |\n",
       "|   dew_point_temp_c  | NUMERIC(5, 2) |   True   |   None  |     False     |   None  | {'encode': 'az64'} |\n",
       "| dew_point_temp_flag |   VARCHAR(1)  |   True   |   None  |     False     |   None  | {'encode': 'lzo'}  |\n",
       "|       rel_hum       |    SMALLINT   |   True   |   None  |     False     |   None  | {'encode': 'az64'} |\n",
       "|     rel_hum_flag    |   VARCHAR(1)  |   True   |   None  |     False     |   None  | {'encode': 'lzo'}  |\n",
       "|   precip_amount_mm  | NUMERIC(5, 2) |   True   |   None  |     False     |   None  | {'encode': 'az64'} |\n",
       "|  precip_amount_flag |   VARCHAR(1)  |   True   |   None  |     False     |   None  | {'encode': 'lzo'}  |\n",
       "|   wind_dir_10s_deg  |  VARCHAR(10)  |   True   |   None  |     False     |   None  | {'encode': 'lzo'}  |\n",
       "|    wind_dir_flag    |   VARCHAR(1)  |   True   |   None  |     False     |   None  | {'encode': 'lzo'}  |\n",
       "|     wind_spd_kmh    |  VARCHAR(10)  |   True   |   None  |     False     |   None  | {'encode': 'lzo'}  |\n",
       "|    wind_spd_flag    |   VARCHAR(1)  |   True   |   None  |     False     |   None  | {'encode': 'lzo'}  |\n",
       "|    visibility_km    |  VARCHAR(10)  |   True   |   None  |     False     |   None  | {'encode': 'lzo'}  |\n",
       "|   visibility_flag   |   VARCHAR(1)  |   True   |   None  |     False     |   None  | {'encode': 'lzo'}  |\n",
       "|    stn_press_kpa    | NUMERIC(5, 2) |   True   |   None  |     False     |   None  | {'encode': 'az64'} |\n",
       "|    stn_press_flag   |   VARCHAR(1)  |   True   |   None  |     False     |   None  | {'encode': 'lzo'}  |\n",
       "|         hmdx        |    SMALLINT   |   True   |   None  |     False     |   None  | {'encode': 'az64'} |\n",
       "|      hmdx_flag      |   VARCHAR(1)  |   True   |   None  |     False     |   None  | {'encode': 'lzo'}  |\n",
       "|      wind_chill     |  VARCHAR(10)  |   True   |   None  |     False     |   None  | {'encode': 'lzo'}  |\n",
       "|   wind_chill_flag   |   VARCHAR(1)  |   True   |   None  |     False     |   None  | {'encode': 'lzo'}  |\n",
       "|       weather       |  VARCHAR(10)  |   True   |   None  |     False     |   None  | {'encode': 'lzo'}  |\n",
       "+---------------------+---------------+----------+---------+---------------+---------+--------------------+"
      ]
     },
     "execution_count": 10,
     "metadata": {},
     "output_type": "execute_result"
    }
   ],
   "source": [
    "%sqlcmd columns -t weather \n"
   ]
  },
  {
   "cell_type": "code",
   "execution_count": 11,
   "id": "1e4f5777",
   "metadata": {
    "slideshow": {
     "slide_type": "subslide"
    }
   },
   "outputs": [
    {
     "data": {
      "text/html": [
       "<div style='position: sticky; left: 0; padding: 10px; font-size: 12px; color: #FFA500'><strong></strong> Following statistics are not available in\n",
       "            redshift_connector: STD, 25%, 50%, 75%</div><style>\n",
       " #profile-table td:first-child {\n",
       "  position: sticky;\n",
       "  left: 0;\n",
       "  background-color: var(--jp-cell-editor-background);\n",
       "  font-weight: bold;\n",
       "}\n",
       " #profile-table thead tr th:first-child {\n",
       "  position: sticky;\n",
       "  left: 0;\n",
       "  background-color: var(--jp-cell-editor-background);\n",
       "  font-weight: bold; /* Adding bold text */\n",
       "}\n",
       "            </style><style></style><table id=\"profile-table-943c2d63e7a0404e91509ca27aff2216\">\n",
       "    <thead>\n",
       "        <tr>\n",
       "            <th> </th>\n",
       "            <th>longitude_x</th>\n",
       "            <th>latitude_y</th>\n",
       "            <th>station_name</th>\n",
       "            <th>climate_id</th>\n",
       "            <th>datetime_utc</th>\n",
       "            <th>weather_year</th>\n",
       "            <th>weather_month</th>\n",
       "            <th>weather_day</th>\n",
       "            <th>time_utc</th>\n",
       "            <th>temp_c</th>\n",
       "            <th>temp_flag</th>\n",
       "            <th>dew_point_temp_c</th>\n",
       "            <th>dew_point_temp_flag</th>\n",
       "            <th>rel_hum</th>\n",
       "            <th>rel_hum_flag</th>\n",
       "            <th>precip_amount_mm</th>\n",
       "            <th>precip_amount_flag</th>\n",
       "            <th>wind_dir_10s_deg</th>\n",
       "            <th>wind_dir_flag</th>\n",
       "            <th>wind_spd_kmh</th>\n",
       "            <th>wind_spd_flag</th>\n",
       "            <th>visibility_km</th>\n",
       "            <th>visibility_flag</th>\n",
       "            <th>stn_press_kpa</th>\n",
       "            <th>stn_press_flag</th>\n",
       "            <th>hmdx</th>\n",
       "            <th>hmdx_flag</th>\n",
       "            <th>wind_chill</th>\n",
       "            <th>wind_chill_flag</th>\n",
       "            <th>weather</th>\n",
       "        </tr>\n",
       "    </thead>\n",
       "    <tbody>\n",
       "        <tr>\n",
       "            <td>count</td>\n",
       "            <td>17408</td>\n",
       "            <td>17408</td>\n",
       "            <td>17408</td>\n",
       "            <td>17408</td>\n",
       "            <td>17408</td>\n",
       "            <td>17408</td>\n",
       "            <td>17408</td>\n",
       "            <td>17408</td>\n",
       "            <td>17408</td>\n",
       "            <td>17408</td>\n",
       "            <td>17408</td>\n",
       "            <td>17408</td>\n",
       "            <td>17408</td>\n",
       "            <td>17408</td>\n",
       "            <td>17408</td>\n",
       "            <td>17311</td>\n",
       "            <td>17408</td>\n",
       "            <td>17408</td>\n",
       "            <td>17408</td>\n",
       "            <td>17408</td>\n",
       "            <td>17408</td>\n",
       "            <td>17408</td>\n",
       "            <td>17408</td>\n",
       "            <td>17408</td>\n",
       "            <td>17408</td>\n",
       "            <td>3080</td>\n",
       "            <td>17408</td>\n",
       "            <td>17408</td>\n",
       "            <td>17408</td>\n",
       "            <td>17408</td>\n",
       "        </tr>\n",
       "        <tr>\n",
       "            <td>unique</td>\n",
       "            <td>1</td>\n",
       "            <td>1</td>\n",
       "            <td>1</td>\n",
       "            <td>1</td>\n",
       "            <td>17408</td>\n",
       "            <td>2</td>\n",
       "            <td>12</td>\n",
       "            <td>31</td>\n",
       "            <td>24</td>\n",
       "            <td>520</td>\n",
       "            <td>1</td>\n",
       "            <td>487</td>\n",
       "            <td>1</td>\n",
       "            <td>86</td>\n",
       "            <td>1</td>\n",
       "            <td>79</td>\n",
       "            <td>2</td>\n",
       "            <td>1</td>\n",
       "            <td>1</td>\n",
       "            <td>1</td>\n",
       "            <td>1</td>\n",
       "            <td>1</td>\n",
       "            <td>1</td>\n",
       "            <td>523</td>\n",
       "            <td>1</td>\n",
       "            <td>17</td>\n",
       "            <td>1</td>\n",
       "            <td>1</td>\n",
       "            <td>1</td>\n",
       "            <td>1</td>\n",
       "        </tr>\n",
       "        <tr>\n",
       "            <td>mean</td>\n",
       "            <td>nan</td>\n",
       "            <td>nan</td>\n",
       "            <td>nan</td>\n",
       "            <td>6158355.0000</td>\n",
       "            <td>nan</td>\n",
       "            <td>2017.0000</td>\n",
       "            <td>6.0000</td>\n",
       "            <td>15.0000</td>\n",
       "            <td>nan</td>\n",
       "            <td>nan</td>\n",
       "            <td>nan</td>\n",
       "            <td>nan</td>\n",
       "            <td>nan</td>\n",
       "            <td>65.0000</td>\n",
       "            <td>nan</td>\n",
       "            <td>nan</td>\n",
       "            <td>nan</td>\n",
       "            <td>nan</td>\n",
       "            <td>nan</td>\n",
       "            <td>nan</td>\n",
       "            <td>nan</td>\n",
       "            <td>nan</td>\n",
       "            <td>nan</td>\n",
       "            <td>nan</td>\n",
       "            <td>nan</td>\n",
       "            <td>nan</td>\n",
       "            <td>nan</td>\n",
       "            <td>nan</td>\n",
       "            <td>nan</td>\n",
       "            <td>nan</td>\n",
       "        </tr>\n",
       "        <tr>\n",
       "            <td>min</td>\n",
       "            <td>nan</td>\n",
       "            <td>nan</td>\n",
       "            <td>nan</td>\n",
       "            <td>6158355</td>\n",
       "            <td>nan</td>\n",
       "            <td>2017</td>\n",
       "            <td>1</td>\n",
       "            <td>1</td>\n",
       "            <td>nan</td>\n",
       "            <td>nan</td>\n",
       "            <td>nan</td>\n",
       "            <td>nan</td>\n",
       "            <td>nan</td>\n",
       "            <td>13</td>\n",
       "            <td>nan</td>\n",
       "            <td>nan</td>\n",
       "            <td>nan</td>\n",
       "            <td>nan</td>\n",
       "            <td>nan</td>\n",
       "            <td>nan</td>\n",
       "            <td>nan</td>\n",
       "            <td>nan</td>\n",
       "            <td>nan</td>\n",
       "            <td>nan</td>\n",
       "            <td>nan</td>\n",
       "            <td>nan</td>\n",
       "            <td>nan</td>\n",
       "            <td>nan</td>\n",
       "            <td>nan</td>\n",
       "            <td>nan</td>\n",
       "        </tr>\n",
       "        <tr>\n",
       "            <td>max</td>\n",
       "            <td>nan</td>\n",
       "            <td>nan</td>\n",
       "            <td>nan</td>\n",
       "            <td>6158355</td>\n",
       "            <td>nan</td>\n",
       "            <td>2018</td>\n",
       "            <td>12</td>\n",
       "            <td>31</td>\n",
       "            <td>nan</td>\n",
       "            <td>nan</td>\n",
       "            <td>nan</td>\n",
       "            <td>nan</td>\n",
       "            <td>nan</td>\n",
       "            <td>98</td>\n",
       "            <td>nan</td>\n",
       "            <td>nan</td>\n",
       "            <td>nan</td>\n",
       "            <td>nan</td>\n",
       "            <td>nan</td>\n",
       "            <td>nan</td>\n",
       "            <td>nan</td>\n",
       "            <td>nan</td>\n",
       "            <td>nan</td>\n",
       "            <td>nan</td>\n",
       "            <td>nan</td>\n",
       "            <td>nan</td>\n",
       "            <td>nan</td>\n",
       "            <td>nan</td>\n",
       "            <td>nan</td>\n",
       "            <td>nan</td>\n",
       "        </tr>\n",
       "    </tbody>\n",
       "</table><div style='position: sticky; left: 0; padding: 10px; font-size: 12px; color: black; background-color: white;'><strong></strong> </div>"
      ],
      "text/plain": [
       "+--------+-------------+------------+--------------+--------------+--------------+--------------+---------------+-------------+----------+--------+-----------+------------------+---------------------+---------+--------------+------------------+--------------------+------------------+---------------+--------------+---------------+---------------+-----------------+---------------+----------------+------+-----------+------------+-----------------+---------+\n",
       "|        | longitude_x | latitude_y | station_name |  climate_id  | datetime_utc | weather_year | weather_month | weather_day | time_utc | temp_c | temp_flag | dew_point_temp_c | dew_point_temp_flag | rel_hum | rel_hum_flag | precip_amount_mm | precip_amount_flag | wind_dir_10s_deg | wind_dir_flag | wind_spd_kmh | wind_spd_flag | visibility_km | visibility_flag | stn_press_kpa | stn_press_flag | hmdx | hmdx_flag | wind_chill | wind_chill_flag | weather |\n",
       "+--------+-------------+------------+--------------+--------------+--------------+--------------+---------------+-------------+----------+--------+-----------+------------------+---------------------+---------+--------------+------------------+--------------------+------------------+---------------+--------------+---------------+---------------+-----------------+---------------+----------------+------+-----------+------------+-----------------+---------+\n",
       "| count  |    17408    |   17408    |    17408     |    17408     |    17408     |    17408     |     17408     |    17408    |  17408   | 17408  |   17408   |      17408       |        17408        |  17408  |    17408     |      17311       |       17408        |      17408       |     17408     |    17408     |     17408     |     17408     |      17408      |     17408     |     17408      | 3080 |   17408   |   17408    |      17408      |  17408  |\n",
       "| unique |      1      |     1      |      1       |      1       |    17408     |      2       |       12      |      31     |    24    |  520   |     1     |       487        |          1          |    86   |      1       |        79        |         2          |        1         |       1       |      1       |       1       |       1       |        1        |      523      |       1        |  17  |     1     |     1      |        1        |    1    |\n",
       "|  mean  |     nan     |    nan     |     nan      | 6158355.0000 |     nan      |  2017.0000   |     6.0000    |   15.0000   |   nan    |  nan   |    nan    |       nan        |         nan         | 65.0000 |     nan      |       nan        |        nan         |       nan        |      nan      |     nan      |      nan      |      nan      |       nan       |      nan      |      nan       | nan  |    nan    |    nan     |       nan       |   nan   |\n",
       "|  min   |     nan     |    nan     |     nan      |   6158355    |     nan      |     2017     |       1       |      1      |   nan    |  nan   |    nan    |       nan        |         nan         |    13   |     nan      |       nan        |        nan         |       nan        |      nan      |     nan      |      nan      |      nan      |       nan       |      nan      |      nan       | nan  |    nan    |    nan     |       nan       |   nan   |\n",
       "|  max   |     nan     |    nan     |     nan      |   6158355    |     nan      |     2018     |       12      |      31     |   nan    |  nan   |    nan    |       nan        |         nan         |    98   |     nan      |       nan        |        nan         |       nan        |      nan      |     nan      |      nan      |      nan      |       nan       |      nan      |      nan       | nan  |    nan    |    nan     |       nan       |   nan   |\n",
       "+--------+-------------+------------+--------------+--------------+--------------+--------------+---------------+-------------+----------+--------+-----------+------------------+---------------------+---------+--------------+------------------+--------------------+------------------+---------------+--------------+---------------+---------------+-----------------+---------------+----------------+------+-----------+------------+-----------------+---------+"
      ]
     },
     "execution_count": 11,
     "metadata": {},
     "output_type": "execute_result"
    }
   ],
   "source": [
    "%sqlcmd profile --table weather \n"
   ]
  },
  {
   "cell_type": "markdown",
   "id": "abd2ec3c",
   "metadata": {
    "slideshow": {
     "slide_type": "slide"
    }
   },
   "source": [
    "## Create table `holiday` from data in S3 bucket"
   ]
  },
  {
   "cell_type": "code",
   "execution_count": 12,
   "id": "40f4b113",
   "metadata": {
    "slideshow": {
     "slide_type": "fragment"
    }
   },
   "outputs": [
    {
     "data": {
      "text/html": [
       "<div>\n",
       "<style scoped>\n",
       "    .dataframe tbody tr th:only-of-type {\n",
       "        vertical-align: middle;\n",
       "    }\n",
       "\n",
       "    .dataframe tbody tr th {\n",
       "        vertical-align: top;\n",
       "    }\n",
       "\n",
       "    .dataframe thead th {\n",
       "        text-align: right;\n",
       "    }\n",
       "</style>\n",
       "<table border=\"1\" class=\"dataframe\">\n",
       "  <thead>\n",
       "    <tr style=\"text-align: right;\">\n",
       "      <th></th>\n",
       "    </tr>\n",
       "  </thead>\n",
       "  <tbody>\n",
       "  </tbody>\n",
       "</table>\n",
       "</div>"
      ],
      "text/plain": [
       "Empty DataFrame\n",
       "Columns: []\n",
       "Index: []"
      ]
     },
     "execution_count": 12,
     "metadata": {},
     "output_type": "execute_result"
    }
   ],
   "source": [
    "%%sql\n",
    "DROP TABLE IF EXISTS holiday CASCADE;\n",
    "\n",
    "CREATE TABLE IF NOT EXISTS holiday\n",
    "( holiday_date  DATE,\n",
    " description VARCHAR(100));\n",
    "\n",
    "\n",
    "COPY holiday FROM\n",
    "'s3://redshift-ml-bikesharing-data/bike-sharing-data/holiday/'\n",
    "IAM_ROLE '{{iamrole}}'\n",
    "FORMAT csv IGNOREHEADER 1 DATEFORMAT 'auto' TIMEFORMAT 'auto' REGION 'us-west-2' gzip;\n"
   ]
  },
  {
   "cell_type": "markdown",
   "id": "1593eeb5",
   "metadata": {
    "slideshow": {
     "slide_type": "slide"
    }
   },
   "source": [
    "## Verifying `holiday` table\n"
   ]
  },
  {
   "cell_type": "code",
   "execution_count": 13,
   "id": "3924c573",
   "metadata": {
    "slideshow": {
     "slide_type": "fragment"
    }
   },
   "outputs": [
    {
     "data": {
      "text/html": [
       "<table>\n",
       "    <thead>\n",
       "        <tr>\n",
       "            <th>name</th>\n",
       "            <th>type</th>\n",
       "            <th>nullable</th>\n",
       "            <th>default</th>\n",
       "            <th>autoincrement</th>\n",
       "            <th>comment</th>\n",
       "            <th>info</th>\n",
       "        </tr>\n",
       "    </thead>\n",
       "    <tbody>\n",
       "        <tr>\n",
       "            <td>holiday_date</td>\n",
       "            <td>DATE</td>\n",
       "            <td>True</td>\n",
       "            <td>None</td>\n",
       "            <td>False</td>\n",
       "            <td>None</td>\n",
       "            <td>{&#x27;encode&#x27;: &#x27;az64&#x27;}</td>\n",
       "        </tr>\n",
       "        <tr>\n",
       "            <td>description</td>\n",
       "            <td>VARCHAR(100)</td>\n",
       "            <td>True</td>\n",
       "            <td>None</td>\n",
       "            <td>False</td>\n",
       "            <td>None</td>\n",
       "            <td>{&#x27;encode&#x27;: &#x27;lzo&#x27;}</td>\n",
       "        </tr>\n",
       "    </tbody>\n",
       "</table>"
      ],
      "text/plain": [
       "+--------------+--------------+----------+---------+---------------+---------+--------------------+\n",
       "|     name     |     type     | nullable | default | autoincrement | comment |        info        |\n",
       "+--------------+--------------+----------+---------+---------------+---------+--------------------+\n",
       "| holiday_date |     DATE     |   True   |   None  |     False     |   None  | {'encode': 'az64'} |\n",
       "| description  | VARCHAR(100) |   True   |   None  |     False     |   None  | {'encode': 'lzo'}  |\n",
       "+--------------+--------------+----------+---------+---------------+---------+--------------------+"
      ]
     },
     "execution_count": 13,
     "metadata": {},
     "output_type": "execute_result"
    }
   ],
   "source": [
    "%sqlcmd columns -t holiday "
   ]
  },
  {
   "cell_type": "code",
   "execution_count": 14,
   "id": "3ccc1387",
   "metadata": {
    "slideshow": {
     "slide_type": "fragment"
    }
   },
   "outputs": [
    {
     "data": {
      "text/html": [
       "<div style='position: sticky; left: 0; padding: 10px; font-size: 12px; color: #FFA500'><strong></strong> Following statistics are not available in\n",
       "            redshift_connector: STD, 25%, 50%, 75%</div><style>\n",
       " #profile-table td:first-child {\n",
       "  position: sticky;\n",
       "  left: 0;\n",
       "  background-color: var(--jp-cell-editor-background);\n",
       "  font-weight: bold;\n",
       "}\n",
       " #profile-table thead tr th:first-child {\n",
       "  position: sticky;\n",
       "  left: 0;\n",
       "  background-color: var(--jp-cell-editor-background);\n",
       "  font-weight: bold; /* Adding bold text */\n",
       "}\n",
       "            </style><style></style><table id=\"profile-table-39b9238f0cc34d83b17d55ae92d7c1d2\">\n",
       "    <thead>\n",
       "        <tr>\n",
       "            <th> </th>\n",
       "            <th>holiday_date</th>\n",
       "            <th>description</th>\n",
       "        </tr>\n",
       "    </thead>\n",
       "    <tbody>\n",
       "        <tr>\n",
       "            <td>count</td>\n",
       "            <td>195</td>\n",
       "            <td>195</td>\n",
       "        </tr>\n",
       "        <tr>\n",
       "            <td>unique</td>\n",
       "            <td>195</td>\n",
       "            <td>12</td>\n",
       "        </tr>\n",
       "        <tr>\n",
       "            <td>min</td>\n",
       "            <td>nan</td>\n",
       "            <td>nan</td>\n",
       "        </tr>\n",
       "        <tr>\n",
       "            <td>max</td>\n",
       "            <td>nan</td>\n",
       "            <td>nan</td>\n",
       "        </tr>\n",
       "    </tbody>\n",
       "</table><div style='position: sticky; left: 0; padding: 10px; font-size: 12px; color: black; background-color: white;'><strong></strong> </div>"
      ],
      "text/plain": [
       "+--------+--------------+-------------+\n",
       "|        | holiday_date | description |\n",
       "+--------+--------------+-------------+\n",
       "| count  |     195      |     195     |\n",
       "| unique |     195      |      12     |\n",
       "|  min   |     nan      |     nan     |\n",
       "|  max   |     nan      |     nan     |\n",
       "+--------+--------------+-------------+"
      ]
     },
     "execution_count": 14,
     "metadata": {},
     "output_type": "execute_result"
    }
   ],
   "source": [
    "%sqlcmd profile --table holiday "
   ]
  },
  {
   "cell_type": "markdown",
   "id": "3f43016a",
   "metadata": {
    "slideshow": {
     "slide_type": "slide"
    }
   },
   "source": [
    "## Create table `ridership_view` - data clean up\n",
    "\n",
    "* Transform the records to all be in the local time zone. The data before July 2017 was provided in UTC, whereas all data after that was in Toronto’s local time zone, EST.\n",
    "\n",
    "* Discard trips with a duration under 60 seconds.\n",
    "\n",
    "* Discard trips with a duration longer than a day.\n",
    "\n",
    "* Aggregate data to an hourly basis (rather than minute-level granularity) for better generalization.\n",
    "\n",
    "*\n",
    "Break down the trip date column into day, month, year, quarter, month_week, and week_day for better correlation with the number of rides."
   ]
  },
  {
   "cell_type": "code",
   "execution_count": 39,
   "id": "7a1fd56b",
   "metadata": {
    "slideshow": {
     "slide_type": "subslide"
    }
   },
   "outputs": [
    {
     "data": {
      "text/html": [
       "<div>\n",
       "<style scoped>\n",
       "    .dataframe tbody tr th:only-of-type {\n",
       "        vertical-align: middle;\n",
       "    }\n",
       "\n",
       "    .dataframe tbody tr th {\n",
       "        vertical-align: top;\n",
       "    }\n",
       "\n",
       "    .dataframe thead th {\n",
       "        text-align: right;\n",
       "    }\n",
       "</style>\n",
       "<table border=\"1\" class=\"dataframe\">\n",
       "  <thead>\n",
       "    <tr style=\"text-align: right;\">\n",
       "      <th></th>\n",
       "    </tr>\n",
       "  </thead>\n",
       "  <tbody>\n",
       "  </tbody>\n",
       "</table>\n",
       "</div>"
      ],
      "text/plain": [
       "Empty DataFrame\n",
       "Columns: []\n",
       "Index: []"
      ]
     },
     "execution_count": 39,
     "metadata": {},
     "output_type": "execute_result"
    }
   ],
   "source": [
    "%%sql\n",
    "CREATE OR REPLACE VIEW ridership_view AS\n",
    "SELECT\n",
    "    trip_time, \n",
    "    trip_count,\n",
    "    TO_CHAR(trip_time,'hh24') ::INT trip_hour,\n",
    "    TO_CHAR(trip_time, 'dd') :: INT trip_day,\n",
    "    TO_CHAR(trip_time, 'mm') :: INT trip_month,\n",
    "    TO_CHAR(trip_time, 'yy') :: INT trip_year,\n",
    "    TO_CHAR(trip_time, 'q') :: INT trip_quarter,\n",
    "    TO_CHAR(trip_time, 'w') :: INT trip_month_week,\n",
    "    TO_CHAR(trip_time, 'd') :: INT trip_week_day\n",
    "FROM  \n",
    "    (SELECT  \n",
    "         CASE\n",
    "           WHEN TRUNC(r.trip_start_time) < '2017-07-01'::DATE\n",
    "           THEN CONVERT_TIMEZONE('US/Eastern', DATE_TRUNC('hour',r.trip_start_time))\n",
    "           ELSE DATE_TRUNC('hour',r.trip_start_time)\n",
    "         END trip_time, COUNT(1) trip_count\n",
    "     FROM    \n",
    "         ridership r\n",
    "     WHERE    r.trip_duration_seconds BETWEEN 60 AND 60 * 60 * 24\n",
    "     GROUP BY\n",
    "         1);"
   ]
  },
  {
   "cell_type": "markdown",
   "id": "648c94f8",
   "metadata": {
    "slideshow": {
     "slide_type": "slide"
    }
   },
   "source": [
    "## Create table `weather_view` - data clean up\n",
    "\n",
    "* Transform the records from UTC to US/Eastern time zone.\n",
    "* Aggregate the data to an hourly basis for better generalization.\n",
    "* Because the majority of the attributes like visibility_km and wind_chill are empty in this dataset, we only use temp_c and precip_amount_mm columns for our model."
   ]
  },
  {
   "cell_type": "code",
   "execution_count": 44,
   "id": "f4c19806",
   "metadata": {
    "slideshow": {
     "slide_type": "subslide"
    }
   },
   "outputs": [
    {
     "data": {
      "text/html": [
       "<div>\n",
       "<style scoped>\n",
       "    .dataframe tbody tr th:only-of-type {\n",
       "        vertical-align: middle;\n",
       "    }\n",
       "\n",
       "    .dataframe tbody tr th {\n",
       "        vertical-align: top;\n",
       "    }\n",
       "\n",
       "    .dataframe thead th {\n",
       "        text-align: right;\n",
       "    }\n",
       "</style>\n",
       "<table border=\"1\" class=\"dataframe\">\n",
       "  <thead>\n",
       "    <tr style=\"text-align: right;\">\n",
       "      <th></th>\n",
       "    </tr>\n",
       "  </thead>\n",
       "  <tbody>\n",
       "  </tbody>\n",
       "</table>\n",
       "</div>"
      ],
      "text/plain": [
       "Empty DataFrame\n",
       "Columns: []\n",
       "Index: []"
      ]
     },
     "execution_count": 44,
     "metadata": {},
     "output_type": "execute_result"
    }
   ],
   "source": [
    "%%sql\n",
    "CREATE OR REPLACE VIEW weather_view AS\n",
    "SELECT  \n",
    "    CONVERT_TIMEZONE('US/Eastern', \n",
    "      DATE_TRUNC('hour',datetime_utc)) daytime, \n",
    "        ROUND(AVG(temp_c)) temp_c, \n",
    "        ROUND(AVG(precip_amount_mm)) precip_amount_mm\n",
    "FROM weather\n",
    "GROUP BY 1;"
   ]
  },
  {
   "cell_type": "markdown",
   "id": "842eca69",
   "metadata": {
    "slideshow": {
     "slide_type": "slide"
    }
   },
   "source": [
    "## Verifying ridership_view table\n"
   ]
  },
  {
   "cell_type": "code",
   "execution_count": 48,
   "id": "ae2c83ae",
   "metadata": {
    "slideshow": {
     "slide_type": "fragment"
    }
   },
   "outputs": [
    {
     "data": {
      "text/html": [
       "<table>\n",
       "    <thead>\n",
       "        <tr>\n",
       "            <th>name</th>\n",
       "            <th>type</th>\n",
       "            <th>nullable</th>\n",
       "            <th>default</th>\n",
       "            <th>autoincrement</th>\n",
       "            <th>comment</th>\n",
       "            <th>info</th>\n",
       "        </tr>\n",
       "    </thead>\n",
       "    <tbody>\n",
       "        <tr>\n",
       "            <td>daytime</td>\n",
       "            <td>TIMESTAMP</td>\n",
       "            <td>True</td>\n",
       "            <td>None</td>\n",
       "            <td>False</td>\n",
       "            <td>None</td>\n",
       "            <td>{}</td>\n",
       "        </tr>\n",
       "        <tr>\n",
       "            <td>temp_c</td>\n",
       "            <td>NUMERIC(37, 0)</td>\n",
       "            <td>True</td>\n",
       "            <td>None</td>\n",
       "            <td>False</td>\n",
       "            <td>None</td>\n",
       "            <td>{}</td>\n",
       "        </tr>\n",
       "        <tr>\n",
       "            <td>precip_amount_mm</td>\n",
       "            <td>NUMERIC(37, 0)</td>\n",
       "            <td>True</td>\n",
       "            <td>None</td>\n",
       "            <td>False</td>\n",
       "            <td>None</td>\n",
       "            <td>{}</td>\n",
       "        </tr>\n",
       "    </tbody>\n",
       "</table>"
      ],
      "text/plain": [
       "+------------------+----------------+----------+---------+---------------+---------+------+\n",
       "|       name       |      type      | nullable | default | autoincrement | comment | info |\n",
       "+------------------+----------------+----------+---------+---------------+---------+------+\n",
       "|     daytime      |   TIMESTAMP    |   True   |   None  |     False     |   None  |  {}  |\n",
       "|      temp_c      | NUMERIC(37, 0) |   True   |   None  |     False     |   None  |  {}  |\n",
       "| precip_amount_mm | NUMERIC(37, 0) |   True   |   None  |     False     |   None  |  {}  |\n",
       "+------------------+----------------+----------+---------+---------------+---------+------+"
      ]
     },
     "execution_count": 48,
     "metadata": {},
     "output_type": "execute_result"
    }
   ],
   "source": [
    "%sqlcmd columns -t weather_view\n"
   ]
  },
  {
   "cell_type": "code",
   "execution_count": 46,
   "id": "fec8eb47",
   "metadata": {
    "slideshow": {
     "slide_type": "fragment"
    }
   },
   "outputs": [
    {
     "data": {
      "text/html": [
       "<div style='position: sticky; left: 0; padding: 10px; font-size: 12px; color: #FFA500'><strong></strong> Following statistics are not available in\n",
       "            redshift_connector: STD, 25%, 50%, 75%</div><style>\n",
       " #profile-table td:first-child {\n",
       "  position: sticky;\n",
       "  left: 0;\n",
       "  background-color: var(--jp-cell-editor-background);\n",
       "  font-weight: bold;\n",
       "}\n",
       " #profile-table thead tr th:first-child {\n",
       "  position: sticky;\n",
       "  left: 0;\n",
       "  background-color: var(--jp-cell-editor-background);\n",
       "  font-weight: bold; /* Adding bold text */\n",
       "}\n",
       "            </style><style></style><table id=\"profile-table-2e8a2288204b4a6b8060ca6546a015fb\">\n",
       "    <thead>\n",
       "        <tr>\n",
       "            <th> </th>\n",
       "            <th>trip_time</th>\n",
       "            <th>trip_count</th>\n",
       "            <th>trip_hour</th>\n",
       "            <th>trip_day</th>\n",
       "            <th>trip_month</th>\n",
       "            <th>trip_year</th>\n",
       "            <th>trip_quarter</th>\n",
       "            <th>trip_month_week</th>\n",
       "            <th>trip_week_day</th>\n",
       "        </tr>\n",
       "    </thead>\n",
       "    <tbody>\n",
       "        <tr>\n",
       "            <td>count</td>\n",
       "            <td>17420</td>\n",
       "            <td>17420</td>\n",
       "            <td>17420</td>\n",
       "            <td>17420</td>\n",
       "            <td>17420</td>\n",
       "            <td>17420</td>\n",
       "            <td>17420</td>\n",
       "            <td>17420</td>\n",
       "            <td>17420</td>\n",
       "        </tr>\n",
       "        <tr>\n",
       "            <td>unique</td>\n",
       "            <td>17420</td>\n",
       "            <td>1066</td>\n",
       "            <td>24</td>\n",
       "            <td>31</td>\n",
       "            <td>12</td>\n",
       "            <td>3</td>\n",
       "            <td>4</td>\n",
       "            <td>5</td>\n",
       "            <td>7</td>\n",
       "        </tr>\n",
       "        <tr>\n",
       "            <td>mean</td>\n",
       "            <td>nan</td>\n",
       "            <td>194.0000</td>\n",
       "            <td>11.0000</td>\n",
       "            <td>15.0000</td>\n",
       "            <td>6.0000</td>\n",
       "            <td>17.0000</td>\n",
       "            <td>2.0000</td>\n",
       "            <td>2.0000</td>\n",
       "            <td>3.0000</td>\n",
       "        </tr>\n",
       "        <tr>\n",
       "            <td>min</td>\n",
       "            <td>nan</td>\n",
       "            <td>1</td>\n",
       "            <td>0</td>\n",
       "            <td>1</td>\n",
       "            <td>1</td>\n",
       "            <td>16</td>\n",
       "            <td>1</td>\n",
       "            <td>1</td>\n",
       "            <td>1</td>\n",
       "        </tr>\n",
       "        <tr>\n",
       "            <td>max</td>\n",
       "            <td>nan</td>\n",
       "            <td>1602</td>\n",
       "            <td>23</td>\n",
       "            <td>31</td>\n",
       "            <td>12</td>\n",
       "            <td>18</td>\n",
       "            <td>4</td>\n",
       "            <td>5</td>\n",
       "            <td>7</td>\n",
       "        </tr>\n",
       "    </tbody>\n",
       "</table><div style='position: sticky; left: 0; padding: 10px; font-size: 12px; color: black; background-color: white;'><strong></strong> </div>"
      ],
      "text/plain": [
       "+--------+-----------+------------+-----------+----------+------------+-----------+--------------+-----------------+---------------+\n",
       "|        | trip_time | trip_count | trip_hour | trip_day | trip_month | trip_year | trip_quarter | trip_month_week | trip_week_day |\n",
       "+--------+-----------+------------+-----------+----------+------------+-----------+--------------+-----------------+---------------+\n",
       "| count  |   17420   |   17420    |   17420   |  17420   |   17420    |   17420   |    17420     |      17420      |     17420     |\n",
       "| unique |   17420   |    1066    |     24    |    31    |     12     |     3     |      4       |        5        |       7       |\n",
       "|  mean  |    nan    |  194.0000  |  11.0000  | 15.0000  |   6.0000   |  17.0000  |    2.0000    |      2.0000     |     3.0000    |\n",
       "|  min   |    nan    |     1      |     0     |    1     |     1      |     16    |      1       |        1        |       1       |\n",
       "|  max   |    nan    |    1602    |     23    |    31    |     12     |     18    |      4       |        5        |       7       |\n",
       "+--------+-----------+------------+-----------+----------+------------+-----------+--------------+-----------------+---------------+"
      ]
     },
     "execution_count": 46,
     "metadata": {},
     "output_type": "execute_result"
    }
   ],
   "source": [
    "%sqlcmd profile --table ridership_view "
   ]
  },
  {
   "cell_type": "markdown",
   "id": "b9cc19ba",
   "metadata": {
    "slideshow": {
     "slide_type": "slide"
    }
   },
   "source": [
    "## Merging tables as `trip_data`"
   ]
  },
  {
   "cell_type": "code",
   "execution_count": 18,
   "id": "54a5b555",
   "metadata": {
    "slideshow": {
     "slide_type": "fragment"
    }
   },
   "outputs": [
    {
     "data": {
      "text/html": [
       "<div>\n",
       "<style scoped>\n",
       "    .dataframe tbody tr th:only-of-type {\n",
       "        vertical-align: middle;\n",
       "    }\n",
       "\n",
       "    .dataframe tbody tr th {\n",
       "        vertical-align: top;\n",
       "    }\n",
       "\n",
       "    .dataframe thead th {\n",
       "        text-align: right;\n",
       "    }\n",
       "</style>\n",
       "<table border=\"1\" class=\"dataframe\">\n",
       "  <thead>\n",
       "    <tr style=\"text-align: right;\">\n",
       "      <th></th>\n",
       "    </tr>\n",
       "  </thead>\n",
       "  <tbody>\n",
       "  </tbody>\n",
       "</table>\n",
       "</div>"
      ],
      "text/plain": [
       "Empty DataFrame\n",
       "Columns: []\n",
       "Index: []"
      ]
     },
     "execution_count": 18,
     "metadata": {},
     "output_type": "execute_result"
    }
   ],
   "source": [
    "%%sql\n",
    "DROP TABLE IF EXISTS trip_data CASCADE;\n",
    "DROP TABLE IF EXISTS trip_data;\n",
    "CREATE TABLE trip_data AS \n",
    "SELECT         \n",
    "    r.trip_time,\n",
    "    r.trip_count,\n",
    "    r.trip_hour,\n",
    "    r.trip_day,\n",
    "    r.trip_month,\n",
    "    r.trip_year,\n",
    "    r.trip_quarter,\n",
    "    r.trip_month_week,\n",
    "    r.trip_week_day,\n",
    "    w.temp_c,\n",
    "    w.precip_amount_mm,\n",
    "    CASE\n",
    "        WHEN h.holiday_date IS NOT NULL THEN 1\n",
    "        WHEN TO_CHAR(r.trip_time,'D')::INT IN (1,7) THEN 1\n",
    "        ELSE 0\n",
    "    END AS is_holiday,\n",
    "    ROW_NUMBER() OVER (ORDER BY RANDOM()) AS serial_number \n",
    "FROM           \n",
    "  ridership_view r\n",
    "JOIN weather_view w\n",
    "  ON ( r.trip_time = w.daytime )\n",
    "LEFT OUTER JOIN holiday h\n",
    "  ON ( TRUNC(r.trip_time) = h.holiday_date );\n"
   ]
  },
  {
   "cell_type": "markdown",
   "id": "d1d475b5",
   "metadata": {
    "slideshow": {
     "slide_type": "slide"
    }
   },
   "source": [
    "## Verifying table `trip_data`"
   ]
  },
  {
   "cell_type": "code",
   "execution_count": 19,
   "id": "ba764fb7",
   "metadata": {
    "slideshow": {
     "slide_type": "fragment"
    }
   },
   "outputs": [
    {
     "data": {
      "text/html": [
       "<table>\n",
       "    <thead>\n",
       "        <tr>\n",
       "            <th>name</th>\n",
       "            <th>type</th>\n",
       "            <th>nullable</th>\n",
       "            <th>default</th>\n",
       "            <th>autoincrement</th>\n",
       "            <th>comment</th>\n",
       "            <th>info</th>\n",
       "        </tr>\n",
       "    </thead>\n",
       "    <tbody>\n",
       "        <tr>\n",
       "            <td>trip_time</td>\n",
       "            <td>TIMESTAMP</td>\n",
       "            <td>True</td>\n",
       "            <td>None</td>\n",
       "            <td>False</td>\n",
       "            <td>None</td>\n",
       "            <td>{&#x27;encode&#x27;: &#x27;az64&#x27;}</td>\n",
       "        </tr>\n",
       "        <tr>\n",
       "            <td>trip_count</td>\n",
       "            <td>BIGINT</td>\n",
       "            <td>True</td>\n",
       "            <td>None</td>\n",
       "            <td>False</td>\n",
       "            <td>None</td>\n",
       "            <td>{&#x27;encode&#x27;: &#x27;az64&#x27;}</td>\n",
       "        </tr>\n",
       "        <tr>\n",
       "            <td>trip_hour</td>\n",
       "            <td>INTEGER</td>\n",
       "            <td>True</td>\n",
       "            <td>None</td>\n",
       "            <td>False</td>\n",
       "            <td>None</td>\n",
       "            <td>{&#x27;encode&#x27;: &#x27;az64&#x27;}</td>\n",
       "        </tr>\n",
       "        <tr>\n",
       "            <td>trip_day</td>\n",
       "            <td>INTEGER</td>\n",
       "            <td>True</td>\n",
       "            <td>None</td>\n",
       "            <td>False</td>\n",
       "            <td>None</td>\n",
       "            <td>{&#x27;encode&#x27;: &#x27;az64&#x27;}</td>\n",
       "        </tr>\n",
       "        <tr>\n",
       "            <td>trip_month</td>\n",
       "            <td>INTEGER</td>\n",
       "            <td>True</td>\n",
       "            <td>None</td>\n",
       "            <td>False</td>\n",
       "            <td>None</td>\n",
       "            <td>{&#x27;encode&#x27;: &#x27;az64&#x27;}</td>\n",
       "        </tr>\n",
       "        <tr>\n",
       "            <td>trip_year</td>\n",
       "            <td>INTEGER</td>\n",
       "            <td>True</td>\n",
       "            <td>None</td>\n",
       "            <td>False</td>\n",
       "            <td>None</td>\n",
       "            <td>{&#x27;encode&#x27;: &#x27;az64&#x27;}</td>\n",
       "        </tr>\n",
       "        <tr>\n",
       "            <td>trip_quarter</td>\n",
       "            <td>INTEGER</td>\n",
       "            <td>True</td>\n",
       "            <td>None</td>\n",
       "            <td>False</td>\n",
       "            <td>None</td>\n",
       "            <td>{&#x27;encode&#x27;: &#x27;az64&#x27;}</td>\n",
       "        </tr>\n",
       "        <tr>\n",
       "            <td>trip_month_week</td>\n",
       "            <td>INTEGER</td>\n",
       "            <td>True</td>\n",
       "            <td>None</td>\n",
       "            <td>False</td>\n",
       "            <td>None</td>\n",
       "            <td>{&#x27;encode&#x27;: &#x27;az64&#x27;}</td>\n",
       "        </tr>\n",
       "        <tr>\n",
       "            <td>trip_week_day</td>\n",
       "            <td>INTEGER</td>\n",
       "            <td>True</td>\n",
       "            <td>None</td>\n",
       "            <td>False</td>\n",
       "            <td>None</td>\n",
       "            <td>{&#x27;encode&#x27;: &#x27;az64&#x27;}</td>\n",
       "        </tr>\n",
       "        <tr>\n",
       "            <td>temp_c</td>\n",
       "            <td>NUMERIC(37, 0)</td>\n",
       "            <td>True</td>\n",
       "            <td>None</td>\n",
       "            <td>False</td>\n",
       "            <td>None</td>\n",
       "            <td>{&#x27;encode&#x27;: &#x27;az64&#x27;}</td>\n",
       "        </tr>\n",
       "        <tr>\n",
       "            <td>precip_amount_mm</td>\n",
       "            <td>NUMERIC(37, 0)</td>\n",
       "            <td>True</td>\n",
       "            <td>None</td>\n",
       "            <td>False</td>\n",
       "            <td>None</td>\n",
       "            <td>{&#x27;encode&#x27;: &#x27;az64&#x27;}</td>\n",
       "        </tr>\n",
       "        <tr>\n",
       "            <td>is_holiday</td>\n",
       "            <td>INTEGER</td>\n",
       "            <td>True</td>\n",
       "            <td>None</td>\n",
       "            <td>False</td>\n",
       "            <td>None</td>\n",
       "            <td>{&#x27;encode&#x27;: &#x27;az64&#x27;}</td>\n",
       "        </tr>\n",
       "        <tr>\n",
       "            <td>serial_number</td>\n",
       "            <td>BIGINT</td>\n",
       "            <td>True</td>\n",
       "            <td>None</td>\n",
       "            <td>False</td>\n",
       "            <td>None</td>\n",
       "            <td>{&#x27;encode&#x27;: &#x27;az64&#x27;}</td>\n",
       "        </tr>\n",
       "    </tbody>\n",
       "</table>"
      ],
      "text/plain": [
       "+------------------+----------------+----------+---------+---------------+---------+--------------------+\n",
       "|       name       |      type      | nullable | default | autoincrement | comment |        info        |\n",
       "+------------------+----------------+----------+---------+---------------+---------+--------------------+\n",
       "|    trip_time     |   TIMESTAMP    |   True   |   None  |     False     |   None  | {'encode': 'az64'} |\n",
       "|    trip_count    |     BIGINT     |   True   |   None  |     False     |   None  | {'encode': 'az64'} |\n",
       "|    trip_hour     |    INTEGER     |   True   |   None  |     False     |   None  | {'encode': 'az64'} |\n",
       "|     trip_day     |    INTEGER     |   True   |   None  |     False     |   None  | {'encode': 'az64'} |\n",
       "|    trip_month    |    INTEGER     |   True   |   None  |     False     |   None  | {'encode': 'az64'} |\n",
       "|    trip_year     |    INTEGER     |   True   |   None  |     False     |   None  | {'encode': 'az64'} |\n",
       "|   trip_quarter   |    INTEGER     |   True   |   None  |     False     |   None  | {'encode': 'az64'} |\n",
       "| trip_month_week  |    INTEGER     |   True   |   None  |     False     |   None  | {'encode': 'az64'} |\n",
       "|  trip_week_day   |    INTEGER     |   True   |   None  |     False     |   None  | {'encode': 'az64'} |\n",
       "|      temp_c      | NUMERIC(37, 0) |   True   |   None  |     False     |   None  | {'encode': 'az64'} |\n",
       "| precip_amount_mm | NUMERIC(37, 0) |   True   |   None  |     False     |   None  | {'encode': 'az64'} |\n",
       "|    is_holiday    |    INTEGER     |   True   |   None  |     False     |   None  | {'encode': 'az64'} |\n",
       "|  serial_number   |     BIGINT     |   True   |   None  |     False     |   None  | {'encode': 'az64'} |\n",
       "+------------------+----------------+----------+---------+---------------+---------+--------------------+"
      ]
     },
     "execution_count": 19,
     "metadata": {},
     "output_type": "execute_result"
    }
   ],
   "source": [
    "%sqlcmd columns -t trip_data \n"
   ]
  },
  {
   "cell_type": "code",
   "execution_count": 20,
   "id": "f20100a4",
   "metadata": {
    "slideshow": {
     "slide_type": "fragment"
    }
   },
   "outputs": [
    {
     "data": {
      "text/html": [
       "<div style='position: sticky; left: 0; padding: 10px; font-size: 12px; color: #FFA500'><strong></strong> Following statistics are not available in\n",
       "            redshift_connector: STD, 25%, 50%, 75%</div><style>\n",
       " #profile-table td:first-child {\n",
       "  position: sticky;\n",
       "  left: 0;\n",
       "  background-color: var(--jp-cell-editor-background);\n",
       "  font-weight: bold;\n",
       "}\n",
       " #profile-table thead tr th:first-child {\n",
       "  position: sticky;\n",
       "  left: 0;\n",
       "  background-color: var(--jp-cell-editor-background);\n",
       "  font-weight: bold; /* Adding bold text */\n",
       "}\n",
       "            </style><style></style><table id=\"profile-table-a33987ef23cb446cab6846c1c045e641\">\n",
       "    <thead>\n",
       "        <tr>\n",
       "            <th> </th>\n",
       "            <th>trip_time</th>\n",
       "            <th>trip_count</th>\n",
       "            <th>trip_hour</th>\n",
       "            <th>trip_day</th>\n",
       "            <th>trip_month</th>\n",
       "            <th>trip_year</th>\n",
       "            <th>trip_quarter</th>\n",
       "            <th>trip_month_week</th>\n",
       "            <th>trip_week_day</th>\n",
       "            <th>temp_c</th>\n",
       "            <th>precip_amount_mm</th>\n",
       "            <th>is_holiday</th>\n",
       "            <th>serial_number</th>\n",
       "        </tr>\n",
       "    </thead>\n",
       "    <tbody>\n",
       "        <tr>\n",
       "            <td>count</td>\n",
       "            <td>17306</td>\n",
       "            <td>17306</td>\n",
       "            <td>17306</td>\n",
       "            <td>17306</td>\n",
       "            <td>17306</td>\n",
       "            <td>17306</td>\n",
       "            <td>17306</td>\n",
       "            <td>17306</td>\n",
       "            <td>17306</td>\n",
       "            <td>17306</td>\n",
       "            <td>17209</td>\n",
       "            <td>17306</td>\n",
       "            <td>17306</td>\n",
       "        </tr>\n",
       "        <tr>\n",
       "            <td>unique</td>\n",
       "            <td>17306</td>\n",
       "            <td>1066</td>\n",
       "            <td>24</td>\n",
       "            <td>31</td>\n",
       "            <td>12</td>\n",
       "            <td>3</td>\n",
       "            <td>4</td>\n",
       "            <td>5</td>\n",
       "            <td>7</td>\n",
       "            <td>56</td>\n",
       "            <td>19</td>\n",
       "            <td>2</td>\n",
       "            <td>17306</td>\n",
       "        </tr>\n",
       "        <tr>\n",
       "            <td>mean</td>\n",
       "            <td>nan</td>\n",
       "            <td>194.0000</td>\n",
       "            <td>11.0000</td>\n",
       "            <td>15.0000</td>\n",
       "            <td>6.0000</td>\n",
       "            <td>17.0000</td>\n",
       "            <td>2.0000</td>\n",
       "            <td>2.0000</td>\n",
       "            <td>3.0000</td>\n",
       "            <td>nan</td>\n",
       "            <td>nan</td>\n",
       "            <td>0.0000</td>\n",
       "            <td>8653.0000</td>\n",
       "        </tr>\n",
       "        <tr>\n",
       "            <td>min</td>\n",
       "            <td>nan</td>\n",
       "            <td>1</td>\n",
       "            <td>0</td>\n",
       "            <td>1</td>\n",
       "            <td>1</td>\n",
       "            <td>16</td>\n",
       "            <td>1</td>\n",
       "            <td>1</td>\n",
       "            <td>1</td>\n",
       "            <td>nan</td>\n",
       "            <td>nan</td>\n",
       "            <td>0</td>\n",
       "            <td>1</td>\n",
       "        </tr>\n",
       "        <tr>\n",
       "            <td>max</td>\n",
       "            <td>nan</td>\n",
       "            <td>1602</td>\n",
       "            <td>23</td>\n",
       "            <td>31</td>\n",
       "            <td>12</td>\n",
       "            <td>18</td>\n",
       "            <td>4</td>\n",
       "            <td>5</td>\n",
       "            <td>7</td>\n",
       "            <td>nan</td>\n",
       "            <td>nan</td>\n",
       "            <td>1</td>\n",
       "            <td>17306</td>\n",
       "        </tr>\n",
       "    </tbody>\n",
       "</table><div style='position: sticky; left: 0; padding: 10px; font-size: 12px; color: black; background-color: white;'><strong></strong> </div>"
      ],
      "text/plain": [
       "+--------+-----------+------------+-----------+----------+------------+-----------+--------------+-----------------+---------------+--------+------------------+------------+---------------+\n",
       "|        | trip_time | trip_count | trip_hour | trip_day | trip_month | trip_year | trip_quarter | trip_month_week | trip_week_day | temp_c | precip_amount_mm | is_holiday | serial_number |\n",
       "+--------+-----------+------------+-----------+----------+------------+-----------+--------------+-----------------+---------------+--------+------------------+------------+---------------+\n",
       "| count  |   17306   |   17306    |   17306   |  17306   |   17306    |   17306   |    17306     |      17306      |     17306     | 17306  |      17209       |   17306    |     17306     |\n",
       "| unique |   17306   |    1066    |     24    |    31    |     12     |     3     |      4       |        5        |       7       |   56   |        19        |     2      |     17306     |\n",
       "|  mean  |    nan    |  194.0000  |  11.0000  | 15.0000  |   6.0000   |  17.0000  |    2.0000    |      2.0000     |     3.0000    |  nan   |       nan        |   0.0000   |   8653.0000   |\n",
       "|  min   |    nan    |     1      |     0     |    1     |     1      |     16    |      1       |        1        |       1       |  nan   |       nan        |     0      |       1       |\n",
       "|  max   |    nan    |    1602    |     23    |    31    |     12     |     18    |      4       |        5        |       7       |  nan   |       nan        |     1      |     17306     |\n",
       "+--------+-----------+------------+-----------+----------+------------+-----------+--------------+-----------------+---------------+--------+------------------+------------+---------------+"
      ]
     },
     "execution_count": 20,
     "metadata": {},
     "output_type": "execute_result"
    }
   ],
   "source": [
    "%sqlcmd profile --table trip_data "
   ]
  },
  {
   "cell_type": "markdown",
   "id": "78d979dc",
   "metadata": {
    "slideshow": {
     "slide_type": "slide"
    }
   },
   "source": [
    "## Part II: Exploratory data analysis and initial model"
   ]
  },
  {
   "cell_type": "markdown",
   "id": "c821a4e9",
   "metadata": {
    "slideshow": {
     "slide_type": "slide"
    }
   },
   "source": [
    "## Wrangle and Visualize data"
   ]
  },
  {
   "cell_type": "code",
   "execution_count": 23,
   "id": "fd744ce2",
   "metadata": {
    "slideshow": {
     "slide_type": "fragment"
    }
   },
   "outputs": [],
   "source": [
    "import seaborn as sns\n",
    "import matplotlib.pyplot as plt"
   ]
  },
  {
   "cell_type": "markdown",
   "id": "0f2c3843",
   "metadata": {
    "slideshow": {
     "slide_type": "slide"
    }
   },
   "source": [
    "## Remember our configuration"
   ]
  },
  {
   "cell_type": "code",
   "execution_count": 24,
   "id": "2dbd5f7b",
   "metadata": {
    "slideshow": {
     "slide_type": "fragment"
    }
   },
   "outputs": [
    {
     "data": {
      "text/html": [
       "<span style=\"None\">Found pyproject.toml from &#x27;/Users/macpro/Documents/GitHub/sql/docs/video-material/redshift&#x27;</span>"
      ],
      "text/plain": [
       "Found pyproject.toml from '/Users/macpro/Documents/GitHub/sql/docs/video-material/redshift'"
      ]
     },
     "metadata": {},
     "output_type": "display_data"
    },
    {
     "data": {
      "text/html": [
       "<span style=\"None\">Settings changed:</span>"
      ],
      "text/plain": [
       "Settings changed:"
      ]
     },
     "metadata": {},
     "output_type": "display_data"
    },
    {
     "data": {
      "text/html": [
       "\n",
       "<table>\n",
       "    <thead>\n",
       "        <tr>\n",
       "            <th>Config</th>\n",
       "            <th>value</th>\n",
       "        </tr>\n",
       "    </thead>\n",
       "    <tbody>\n",
       "        <tr>\n",
       "            <td>displaycon</td>\n",
       "            <td>False</td>\n",
       "        </tr>\n",
       "        <tr>\n",
       "            <td>feedback</td>\n",
       "            <td>True</td>\n",
       "        </tr>\n",
       "        <tr>\n",
       "            <td>autopandas</td>\n",
       "            <td>True</td>\n",
       "        </tr>\n",
       "        <tr>\n",
       "            <td>named_parameters</td>\n",
       "            <td>True</td>\n",
       "        </tr>\n",
       "    </tbody>\n",
       "</table>"
      ],
      "text/plain": [
       "\n",
       "+------------------+-------+\n",
       "|      Config      | value |\n",
       "+------------------+-------+\n",
       "|    displaycon    | False |\n",
       "|     feedback     |  True |\n",
       "|    autopandas    |  True |\n",
       "| named_parameters |  True |\n",
       "+------------------+-------+"
      ]
     },
     "metadata": {},
     "output_type": "display_data"
    }
   ],
   "source": [
    "%reload_ext sql"
   ]
  },
  {
   "cell_type": "code",
   "execution_count": 49,
   "id": "55a36618",
   "metadata": {
    "slideshow": {
     "slide_type": "fragment"
    }
   },
   "outputs": [
    {
     "name": "stdout",
     "output_type": "stream",
     "text": [
      "<class 'pandas.core.frame.DataFrame'>\n",
      "RangeIndex: 17306 entries, 0 to 17305\n",
      "Data columns (total 14 columns):\n",
      " #   Column            Non-Null Count  Dtype         \n",
      "---  ------            --------------  -----         \n",
      " 0   rounded_trips     17306 non-null  float64       \n",
      " 1   trip_time         17306 non-null  datetime64[ns]\n",
      " 2   trip_count        17306 non-null  int64         \n",
      " 3   trip_hour         17306 non-null  int64         \n",
      " 4   trip_day          17306 non-null  int64         \n",
      " 5   trip_month        17306 non-null  int64         \n",
      " 6   trip_year         17306 non-null  int64         \n",
      " 7   trip_quarter      17306 non-null  int64         \n",
      " 8   trip_month_week   17306 non-null  int64         \n",
      " 9   trip_week_day     17306 non-null  int64         \n",
      " 10  temp_c            17306 non-null  object        \n",
      " 11  precip_amount_mm  17209 non-null  object        \n",
      " 12  is_holiday        17306 non-null  int64         \n",
      " 13  serial_number     17306 non-null  int64         \n",
      "dtypes: datetime64[ns](1), float64(1), int64(10), object(2)\n",
      "memory usage: 1.8+ MB\n"
     ]
    }
   ],
   "source": [
    "result = %sql select round(trip_count/100) AS rounded_trips, * from trip_data\n",
    "result.info()"
   ]
  },
  {
   "cell_type": "code",
   "execution_count": 26,
   "id": "337accd5",
   "metadata": {
    "slideshow": {
     "slide_type": "skip"
    }
   },
   "outputs": [
    {
     "name": "stdout",
     "output_type": "stream",
     "text": [
      "rounded_trips        0\n",
      "trip_time            0\n",
      "trip_count           0\n",
      "trip_hour            0\n",
      "trip_day             0\n",
      "trip_month           0\n",
      "trip_year            0\n",
      "trip_quarter         0\n",
      "trip_month_week      0\n",
      "trip_week_day        0\n",
      "temp_c               0\n",
      "precip_amount_mm    97\n",
      "is_holiday           0\n",
      "serial_number        0\n",
      "dtype: int64\n"
     ]
    }
   ],
   "source": [
    "print(result.isna().sum())\n",
    "result.dropna(subset=['precip_amount_mm'], inplace=True)"
   ]
  },
  {
   "cell_type": "markdown",
   "id": "fa453e1f",
   "metadata": {
    "slideshow": {
     "slide_type": "slide"
    }
   },
   "source": [
    "## Visualizing data "
   ]
  },
  {
   "cell_type": "code",
   "execution_count": 27,
   "id": "c7c31092",
   "metadata": {
    "slideshow": {
     "slide_type": "subslide"
    }
   },
   "outputs": [
    {
     "data": {
      "image/png": "[encoded data removed]",
      "text/plain": [
       "<Figure size 1600x700 with 1 Axes>"
      ]
     },
     "metadata": {},
     "output_type": "display_data"
    }
   ],
   "source": [
    "plt.figure(figsize=(16,7))\n",
    "sns.set(font_scale=1.4)\n",
    "sns.histplot(data=result, x='trip_count')\n",
    "plt.title(\"Distribution of number of trips\")\n",
    "plt.show()"
   ]
  },
  {
   "cell_type": "code",
   "execution_count": 28,
   "id": "7488c2f8",
   "metadata": {
    "slideshow": {
     "slide_type": "subslide"
    }
   },
   "outputs": [
    {
     "data": {
      "image/png": "[encoded data removed]",
      "text/plain": [
       "<Figure size 1600x700 with 1 Axes>"
      ]
     },
     "metadata": {},
     "output_type": "display_data"
    }
   ],
   "source": [
    "plt.figure(figsize=(16,7))\n",
    "sns.set(font_scale=1.4)\n",
    "sns.histplot(data=result, x='rounded_trips')\n",
    "plt.title(\"Distribution of rounded number of trips\")\n",
    "plt.show()"
   ]
  },
  {
   "cell_type": "code",
   "execution_count": 29,
   "id": "391c7475",
   "metadata": {
    "slideshow": {
     "slide_type": "subslide"
    }
   },
   "outputs": [
    {
     "data": {
      "image/png": "[encoded data removed]",
      "text/plain": [
       "<Figure size 1600x700 with 1 Axes>"
      ]
     },
     "metadata": {},
     "output_type": "display_data"
    }
   ],
   "source": [
    "plt.figure(figsize=(16,7))\n",
    "sns.set(font_scale=1.4)\n",
    "sns.histplot(data=result, x='is_holiday', kde=False)\n",
    "plt.title(\"Distribution of trips (based on whether it was a holiday or not)\")\n",
    "plt.xlabel(\"Is holiday (0=No, 1=Yes)\")\n",
    "plt.show()"
   ]
  },
  {
   "cell_type": "code",
   "execution_count": 30,
   "id": "f6a0b014",
   "metadata": {
    "slideshow": {
     "slide_type": "subslide"
    }
   },
   "outputs": [
    {
     "data": {
      "image/png": "[encoded data removed]",
      "text/plain": [
       "<Figure size 1600x700 with 1 Axes>"
      ]
     },
     "metadata": {},
     "output_type": "display_data"
    }
   ],
   "source": [
    "plt.figure(figsize=(16,7))\n",
    "sns.set(font_scale=1.4)\n",
    "sns.scatterplot(data=result, \n",
    "                x= 'temp_c', \n",
    "                y='rounded_trips', \n",
    "                hue='is_holiday')\n",
    "plt.xlabel(\"Temperature (C)\")\n",
    "plt.ylabel(\"Rounded number of trips\")\n",
    "plt.title(\"Temperature vs rounded number of trips\")\n",
    "plt.show()"
   ]
  },
  {
   "cell_type": "code",
   "execution_count": 31,
   "id": "7d764d9d",
   "metadata": {
    "slideshow": {
     "slide_type": "subslide"
    }
   },
   "outputs": [
    {
     "data": {
      "image/png": "[encoded data removed]",
      "text/plain": [
       "<Figure size 1600x700 with 1 Axes>"
      ]
     },
     "metadata": {},
     "output_type": "display_data"
    }
   ],
   "source": [
    "plt.figure(figsize=(16,7))\n",
    "sns.set(font_scale=1.4)\n",
    "sns.scatterplot(data=result, \n",
    "                x= 'precip_amount_mm', \n",
    "                y='rounded_trips', \n",
    "                hue='is_holiday')\n",
    "plt.xlabel(\"Precipitation amount (mm)\")\n",
    "plt.ylabel(\"Rounded number of trips\")\n",
    "\n",
    "plt.title(\"Precipitation amount vs rounded number of trips\")\n",
    "plt.show()"
   ]
  },
  {
   "cell_type": "markdown",
   "id": "6460ea01",
   "metadata": {
    "slideshow": {
     "slide_type": "slide"
    }
   },
   "source": [
    "## Set up classification model\n",
    "\n",
    "We're going to create a binary column `low_trip_count` to account for days in which there were less than 200 trips, or more than 200 trips.\n",
    "\n",
    "Our goal will be to classify whether certain days will have less than 200 trips (`low_trip_count==True`) or if they have 200 trips or more (`low_trip_count==False`)."
   ]
  },
  {
   "cell_type": "markdown",
   "id": "045fdb41",
   "metadata": {
    "slideshow": {
     "slide_type": "slide"
    }
   },
   "source": [
    "## Pre-requisites"
   ]
  },
  {
   "cell_type": "code",
   "execution_count": 32,
   "id": "6ad02137",
   "metadata": {
    "slideshow": {
     "slide_type": "fragment"
    }
   },
   "outputs": [
    {
     "name": "stdout",
     "output_type": "stream",
     "text": [
      "\r\n",
      "\u001b[1m[\u001b[0m\u001b[34;49mnotice\u001b[0m\u001b[1;39;49m]\u001b[0m\u001b[39;49m A new release of pip is available: \u001b[0m\u001b[31;49m23.1.2\u001b[0m\u001b[39;49m -> \u001b[0m\u001b[32;49m23.2.1\u001b[0m\r\n",
      "\u001b[1m[\u001b[0m\u001b[34;49mnotice\u001b[0m\u001b[1;39;49m]\u001b[0m\u001b[39;49m To update, run: \u001b[0m\u001b[32;49mpip install --upgrade pip\u001b[0m\r\n"
     ]
    }
   ],
   "source": [
    "!pip install sklearn-evaluation scikit-learn --quiet"
   ]
  },
  {
   "cell_type": "code",
   "execution_count": 33,
   "id": "84e8e58a",
   "metadata": {
    "slideshow": {
     "slide_type": "fragment"
    }
   },
   "outputs": [],
   "source": [
    "from sklearn.ensemble import RandomForestClassifier\n",
    "from sklearn.model_selection import train_test_split\n",
    "from sklearn import metrics\n",
    "import numpy as np\n",
    "from sklearn.metrics import accuracy_score, confusion_matrix, classification_report\n",
    "from sklearn_evaluation import plot, table"
   ]
  },
  {
   "cell_type": "markdown",
   "id": "d80eab87",
   "metadata": {
    "slideshow": {
     "slide_type": "slide"
    }
   },
   "source": [
    "## Set up variables, split data"
   ]
  },
  {
   "cell_type": "code",
   "execution_count": 34,
   "id": "77454610",
   "metadata": {
    "slideshow": {
     "slide_type": "fragment"
    }
   },
   "outputs": [],
   "source": [
    "# Create column\n",
    "result['low_trip_count'] = np.where(result['trip_count']<200, True, False)\n",
    "\n",
    "# Set up X and y variables\n",
    "X = result[['trip_hour', 'trip_day',\n",
    "               'trip_month', 'trip_year', 'trip_month_week',\n",
    "               'trip_week_day', 'temp_c', 'precip_amount_mm', 'is_holiday']]\n",
    "y = result['low_trip_count']\n",
    "\n",
    "# Split data - notice class imbalance\n",
    "X_train, X_test, y_train, y_test = train_test_split(X, y, \n",
    "                                                    test_size=0.2, \n",
    "                                                    stratify=y,\n",
    "                                                    random_state=42)"
   ]
  },
  {
   "cell_type": "markdown",
   "id": "7f61816a",
   "metadata": {
    "slideshow": {
     "slide_type": "slide"
    }
   },
   "source": [
    "## Initialize model"
   ]
  },
  {
   "cell_type": "code",
   "execution_count": 35,
   "id": "8dbca267",
   "metadata": {
    "slideshow": {
     "slide_type": "fragment"
    }
   },
   "outputs": [],
   "source": [
    "ln = RandomForestClassifier()\n",
    "\n",
    "ln.fit(X_train, y_train)\n",
    "y_pred = ln.predict(X_test)"
   ]
  },
  {
   "cell_type": "markdown",
   "id": "d22a744e",
   "metadata": {
    "slideshow": {
     "slide_type": "slide"
    }
   },
   "source": [
    "## Evaluate model"
   ]
  },
  {
   "cell_type": "code",
   "execution_count": 36,
   "id": "9bb26cd2",
   "metadata": {
    "slideshow": {
     "slide_type": "fragment"
    }
   },
   "outputs": [
    {
     "name": "stdout",
     "output_type": "stream",
     "text": [
      "Acc on test data: 0.947\n",
      "              precision    recall  f1-score   support\n",
      "\n",
      "       False       0.92      0.93      0.92      1175\n",
      "        True       0.96      0.96      0.96      2267\n",
      "\n",
      "    accuracy                           0.95      3442\n",
      "   macro avg       0.94      0.94      0.94      3442\n",
      "weighted avg       0.95      0.95      0.95      3442\n",
      "\n"
     ]
    }
   ],
   "source": [
    "print(\"Acc on test data: {:,.3f}\".format(ln.score(X_test, y_test)))\n",
    "print(classification_report(y_pred=y_pred, y_true=y_test))"
   ]
  },
  {
   "cell_type": "markdown",
   "id": "81239652",
   "metadata": {
    "slideshow": {
     "slide_type": "slide"
    }
   },
   "source": [
    "## Evaluate model"
   ]
  },
  {
   "cell_type": "code",
   "execution_count": 37,
   "id": "e29aedad",
   "metadata": {
    "slideshow": {
     "slide_type": "subslide"
    }
   },
   "outputs": [
    {
     "data": {
      "text/plain": [
       "<Figure size 2000x700 with 0 Axes>"
      ]
     },
     "metadata": {},
     "output_type": "display_data"
    },
    {
     "data": {
      "image/png": "[encoded data removed]",
      "text/plain": [
       "<Figure size 640x480 with 2 Axes>"
      ]
     },
     "metadata": {},
     "output_type": "display_data"
    }
   ],
   "source": [
    "plt.figure(figsize=(20,7))\n",
    "sns.set(font_scale=1)\n",
    "plot.confusion_matrix(y_test, y_pred);\n",
    "plt.show()"
   ]
  },
  {
   "cell_type": "code",
   "execution_count": 38,
   "id": "a2f8fe60",
   "metadata": {
    "slideshow": {
     "slide_type": "subslide"
    }
   },
   "outputs": [
    {
     "data": {
      "text/plain": [
       "<Axes: title={'center': 'Feature importances'}>"
      ]
     },
     "execution_count": 38,
     "metadata": {},
     "output_type": "execute_result"
    },
    {
     "data": {
      "image/png": "[encoded data removed]",
      "text/plain": [
       "<Figure size 640x480 with 1 Axes>"
      ]
     },
     "metadata": {},
     "output_type": "display_data"
    }
   ],
   "source": [
    "plot.feature_importances(ln, top_n=5, feature_names=list(ln.feature_names_in_))\n"
   ]
  },
  {
   "cell_type": "markdown",
   "id": "b312acbe",
   "metadata": {
    "slideshow": {
     "slide_type": "slide"
    }
   },
   "source": [
    "## Key takeaways\n",
    "\n",
    "⚡ We used the Jupyter notebook extension `JupySQL` to enable access to a Redshift instance through credentials and a host URL\n",
    "\n",
    "⚡ With `JupySQL`, we were able to customize the default behaviour of the query results to be of format `pandas` (or `polars`)\n",
    "\n",
    "⚡ Furthermore, with `JupySQL` we were able to create each of the tables from an S3 bucket, verify that the tables were loaded and get summary stats\n",
    "\n",
    "⚡ We were then able to use our query results in `pandas` format, and leverage techniques in classic supervised learning to classify whether a given day will have low number of trips (less than 200) or higher. \n",
    "\n"
   ]
  },
  {
   "cell_type": "markdown",
   "id": "5fa5b609",
   "metadata": {
    "slideshow": {
     "slide_type": "slide"
    }
   },
   "source": [
    "## Find us on GitHub\n",
    "\n",
    "\n",
    "\n",
    "<center>\n",
    "    <h1>\n",
    "Learn more about JupySQL \n",
    "    </h1>\n",
    "    <h2>\n",
    " 🐙 https://github.com/ploomber/jupysql 🐙\n",
    "    </h2>\n",
    "    <h3 font-family=\"courier\">\n",
    "    pip install jupysql\n",
    "        <h3>\n",
    "</center>"
   ]
  }
 ],
 "metadata": {
  "celltoolbar": "Slideshow",
  "kernelspec": {
   "display_name": "Python 3 (ipykernel)",
   "language": "python",
   "name": "python3"
  },
  "language_info": {
   "codemirror_mode": {
    "name": "ipython",
    "version": 3
   },
   "file_extension": ".py",
   "mimetype": "text/x-python",
   "name": "python",
   "nbconvert_exporter": "python",
   "pygments_lexer": "ipython3",
   "version": "3.10.0"
  }
 },
 "nbformat": 4,
 "nbformat_minor": 5
}
