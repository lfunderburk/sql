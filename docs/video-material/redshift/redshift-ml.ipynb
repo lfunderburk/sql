{
 "cells": [
  {
   "cell_type": "markdown",
   "id": "606a08b5",
   "metadata": {
    "slideshow": {
     "slide_type": "slide"
    }
   },
   "source": [
    "## Notebook summary\n",
    "\n",
    "In this notebook we will:\n",
    "\n",
    "⚡ Establish access to a hosted Redshift database instance\n",
    "\n",
    "⚡ Create tables fed from data in S3 buckets\n",
    "\n",
    "⚡ Use SQL within Jupyter notebooks through `JupySQL` to create tables, clean the data, and merge the tables. \n",
    "\n",
    "⚡ Visualize the resulting merged table with `seaborn`\n",
    "\n",
    "⚡ Set up a classification model for the data with `sklearn` (`sklearn.ensemble.RandomForestClassifier`) \n",
    "\n",
    "⚡ Evaluate the model's results using `sklearn.metrics `"
   ]
  },
  {
   "cell_type": "markdown",
   "id": "06bd43f6",
   "metadata": {
    "slideshow": {
     "slide_type": "slide"
    }
   },
   "source": [
    "## What is JupySQL\n",
    "\n",
    "JupySQL is an open source project whose goal is to enable you to run SQL and plot large datasets in Jupyter via a `%sql`, `%%sql`, and `%sqlplot` magics. \n",
    "\n",
    "JupySQL is compatible with all major databases (e.g., PostgreSQL, MySQL, SQL Server), data warehouses (e.g., Snowflake, BigQuery, Redshift), and embedded engines (SQLite, and DuckDB)."
   ]
  },
  {
   "cell_type": "markdown",
   "id": "e396aebc",
   "metadata": {
    "slideshow": {
     "slide_type": "slide"
    }
   },
   "source": [
    "## What is Amazon Redshift? \n",
    "\n",
    "Amazon Redshift uses SQL to analyze structured and semi-structured data across data warehouses, operational databases, and data lakes, using AWS-designed hardware and machine learning to deliver the best price performance at any scale.\n",
    "![](redshift.png)"
   ]
  },
  {
   "cell_type": "markdown",
   "id": "50b67346",
   "metadata": {
    "slideshow": {
     "slide_type": "slide"
    }
   },
   "source": [
    "## Goal\n",
    "\n",
    "Example: https://github.com/aws-samples/getting-started-with-amazon-redshift-data-api/blob/main/use-cases/sagemaker-notebook-redshift-ml/redshift_ml_with_data_api.ipynb\n",
    "\n",
    "⚡ Enable seamless integration to perform EDA within local Jupyter notebooks\n",
    "\n",
    "⚡ Remove the need to execute outside scripts within Jupyter notebooks when setting up the tables\n",
    "\n",
    "⚡ Automatically convert SQL query results to `pandas` or `polars` dataframes for further data analysis"
   ]
  },
  {
   "cell_type": "markdown",
   "id": "77714621",
   "metadata": {
    "slideshow": {
     "slide_type": "slide"
    }
   },
   "source": [
    "## Pre-requisites"
   ]
  },
  {
   "cell_type": "markdown",
   "id": "82079d88",
   "metadata": {
    "slideshow": {
     "slide_type": "fragment"
    }
   },
   "source": [
    "1️⃣ AWS Redshift username and password\n",
    "\n",
    "2️⃣ AWS Redshift host\n",
    "\n",
    "3️⃣ S3 bucket(s) with data\n",
    "\n",
    "4️⃣Jupyter notebooks + the JupySQL extension"
   ]
  },
  {
   "cell_type": "markdown",
   "id": "eb625232",
   "metadata": {
    "slideshow": {
     "slide_type": "slide"
    }
   },
   "source": [
    "## Part I: Setting up access to the data, and setting up a database and tables."
   ]
  },
  {
   "cell_type": "markdown",
   "id": "0c60f501",
   "metadata": {
    "slideshow": {
     "slide_type": "slide"
    }
   },
   "source": [
    "## Dependencies"
   ]
  },
  {
   "cell_type": "code",
   "execution_count": null,
   "id": "9bfa2e1d",
   "metadata": {
    "slideshow": {
     "slide_type": "fragment"
    }
   },
   "outputs": [],
   "source": [
    "%pip install jupysql --upgrade sqlalchemy-redshift redshift-connector \"sqlalchemy<2\" --quiet"
   ]
  },
  {
   "cell_type": "markdown",
   "id": "90d91ae0",
   "metadata": {
    "slideshow": {
     "slide_type": "slide"
    }
   },
   "source": [
    "## Modules"
   ]
  },
  {
   "cell_type": "code",
   "execution_count": 1,
   "id": "afb5bab2",
   "metadata": {
    "slideshow": {
     "slide_type": "fragment"
    }
   },
   "outputs": [],
   "source": [
    "from dotenv import load_dotenv\n",
    "from os import environ\n",
    "from sqlalchemy import create_engine\n",
    "from sqlalchemy.engine import URL\n",
    "import os"
   ]
  },
  {
   "cell_type": "markdown",
   "id": "763017e1",
   "metadata": {
    "slideshow": {
     "slide_type": "slide"
    }
   },
   "source": [
    "## Access your credentials securely"
   ]
  },
  {
   "cell_type": "code",
   "execution_count": 2,
   "id": "8bfd3f01",
   "metadata": {
    "slideshow": {
     "slide_type": "fragment"
    }
   },
   "outputs": [],
   "source": [
    "# Load environment variables\n",
    "load_dotenv(\".env\")\n",
    "\n",
    "user = os.environ.get(\"REDSHIFT_USERNAME\")\n",
    "password = os.environ.get(\"REDSHIFT_PASSWORD\")\n",
    "host = os.environ.get(\"REDSHIFT_HOST\")\n",
    "iamrole = os.environ.get(\"IAM_role\")"
   ]
  },
  {
   "cell_type": "markdown",
   "id": "e67b6aa1",
   "metadata": {
    "slideshow": {
     "slide_type": "slide"
    }
   },
   "source": [
    "## Form the connection string"
   ]
  },
  {
   "cell_type": "code",
   "execution_count": 3,
   "id": "b7353137",
   "metadata": {
    "slideshow": {
     "slide_type": "fragment"
    }
   },
   "outputs": [],
   "source": [
    "url = URL.create(\n",
    "    drivername=\"redshift+redshift_connector\",\n",
    "    username=user,\n",
    "    password=password,\n",
    "    host=host,\n",
    "    port=5439,\n",
    "    database=\"dev\",\n",
    ")\n",
    "\n",
    "engine = create_engine(url)"
   ]
  },
  {
   "cell_type": "markdown",
   "id": "8f2c5a7e",
   "metadata": {
    "slideshow": {
     "slide_type": "slide"
    }
   },
   "source": [
    "## Load the JupySQL extension"
   ]
  },
  {
   "cell_type": "code",
   "execution_count": 4,
   "id": "49de8e93",
   "metadata": {
    "slideshow": {
     "slide_type": "fragment"
    }
   },
   "outputs": [
    {
     "data": {
      "text/html": [
       "<span style=\"None\">Found pyproject.toml from &#x27;/Users/macpro/Documents/GitHub/sql/docs/video-material/redshift&#x27;</span>"
      ],
      "text/plain": [
       "Found pyproject.toml from '/Users/macpro/Documents/GitHub/sql/docs/video-material/redshift'"
      ]
     },
     "metadata": {},
     "output_type": "display_data"
    },
    {
     "data": {
      "text/html": [
       "<span style=\"None\">Settings changed:</span>"
      ],
      "text/plain": [
       "Settings changed:"
      ]
     },
     "metadata": {},
     "output_type": "display_data"
    },
    {
     "data": {
      "text/html": [
       "\n",
       "<table>\n",
       "    <thead>\n",
       "        <tr>\n",
       "            <th>Config</th>\n",
       "            <th>value</th>\n",
       "        </tr>\n",
       "    </thead>\n",
       "    <tbody>\n",
       "        <tr>\n",
       "            <td>displaycon</td>\n",
       "            <td>False</td>\n",
       "        </tr>\n",
       "        <tr>\n",
       "            <td>feedback</td>\n",
       "            <td>True</td>\n",
       "        </tr>\n",
       "        <tr>\n",
       "            <td>autopandas</td>\n",
       "            <td>True</td>\n",
       "        </tr>\n",
       "        <tr>\n",
       "            <td>named_parameters</td>\n",
       "            <td>True</td>\n",
       "        </tr>\n",
       "    </tbody>\n",
       "</table>"
      ],
      "text/plain": [
       "\n",
       "+------------------+-------+\n",
       "|      Config      | value |\n",
       "+------------------+-------+\n",
       "|    displaycon    | False |\n",
       "|     feedback     |  True |\n",
       "|    autopandas    |  True |\n",
       "| named_parameters |  True |\n",
       "+------------------+-------+"
      ]
     },
     "metadata": {},
     "output_type": "display_data"
    }
   ],
   "source": [
    "%reload_ext sql"
   ]
  },
  {
   "cell_type": "markdown",
   "id": "960bab47",
   "metadata": {
    "slideshow": {
     "slide_type": "slide"
    }
   },
   "source": [
    "## Use the engine to initialize access to our Redshift via the alias `redshift`"
   ]
  },
  {
   "cell_type": "code",
   "execution_count": 5,
   "id": "0f6d0d83",
   "metadata": {
    "slideshow": {
     "slide_type": "fragment"
    }
   },
   "outputs": [],
   "source": [
    "%sql engine --alias redshift"
   ]
  },
  {
   "cell_type": "markdown",
   "id": "9c250f52",
   "metadata": {
    "slideshow": {
     "slide_type": "slide"
    }
   },
   "source": [
    "## Create table `ridership` from data in S3 bucket"
   ]
  },
  {
   "cell_type": "code",
   "execution_count": 6,
   "id": "d33e65fc",
   "metadata": {
    "slideshow": {
     "slide_type": "fragment"
    }
   },
   "outputs": [
    {
     "data": {
      "text/html": [
       "<div>\n",
       "<style scoped>\n",
       "    .dataframe tbody tr th:only-of-type {\n",
       "        vertical-align: middle;\n",
       "    }\n",
       "\n",
       "    .dataframe tbody tr th {\n",
       "        vertical-align: top;\n",
       "    }\n",
       "\n",
       "    .dataframe thead th {\n",
       "        text-align: right;\n",
       "    }\n",
       "</style>\n",
       "<table border=\"1\" class=\"dataframe\">\n",
       "  <thead>\n",
       "    <tr style=\"text-align: right;\">\n",
       "      <th></th>\n",
       "    </tr>\n",
       "  </thead>\n",
       "  <tbody>\n",
       "  </tbody>\n",
       "</table>\n",
       "</div>"
      ],
      "text/plain": [
       "Empty DataFrame\n",
       "Columns: []\n",
       "Index: []"
      ]
     },
     "execution_count": 6,
     "metadata": {},
     "output_type": "execute_result"
    }
   ],
   "source": [
    "%%sql\n",
    "DROP TABLE IF EXISTS ridership CASCADE;\n",
    "\n",
    "CREATE TABLE IF NOT EXISTS ridership\n",
    "( trip_id               INT, \n",
    " trip_duration_seconds INT, \n",
    " trip_start_time       timestamp,\n",
    " trip_stop_time        timestamp,\n",
    " from_station_name     VARCHAR(50),\n",
    " to_station_name       VARCHAR(50),\n",
    " from_station_id       SMALLINT,\n",
    " to_station_id         SMALLINT,\n",
    " user_type             VARCHAR(20));\n",
    "\n",
    "\n",
    "\n",
    "COPY ridership FROM \n",
    "'s3://redshift-ml-bikesharing-data/bike-sharing-data/ridership/'\n",
    "IAM_ROLE 'arn:aws:iam::<accountid>:role/redshift-jupysql-test-read-s3-role'\n",
    "FORMAT csv IGNOREHEADER 1 DATEFORMAT 'auto' TIMEFORMAT 'auto' REGION 'us-west-2' gzip;\n",
    "\n"
   ]
  },
  {
   "cell_type": "markdown",
   "id": "d3e4efae",
   "metadata": {
    "slideshow": {
     "slide_type": "slide"
    }
   },
   "source": [
    "## Verifying `ridership` table"
   ]
  },
  {
   "cell_type": "code",
   "execution_count": 7,
   "id": "172c5a9d",
   "metadata": {
    "slideshow": {
     "slide_type": "fragment"
    }
   },
   "outputs": [
    {
     "data": {
      "text/html": [
       "<table>\n",
       "    <thead>\n",
       "        <tr>\n",
       "            <th>name</th>\n",
       "            <th>type</th>\n",
       "            <th>nullable</th>\n",
       "            <th>default</th>\n",
       "            <th>autoincrement</th>\n",
       "            <th>comment</th>\n",
       "            <th>info</th>\n",
       "        </tr>\n",
       "    </thead>\n",
       "    <tbody>\n",
       "        <tr>\n",
       "            <td>trip_id</td>\n",
       "            <td>INTEGER</td>\n",
       "            <td>True</td>\n",
       "            <td>None</td>\n",
       "            <td>False</td>\n",
       "            <td>None</td>\n",
       "            <td>{&#x27;encode&#x27;: &#x27;az64&#x27;}</td>\n",
       "        </tr>\n",
       "        <tr>\n",
       "            <td>trip_duration_seconds</td>\n",
       "            <td>INTEGER</td>\n",
       "            <td>True</td>\n",
       "            <td>None</td>\n",
       "            <td>False</td>\n",
       "            <td>None</td>\n",
       "            <td>{&#x27;encode&#x27;: &#x27;az64&#x27;}</td>\n",
       "        </tr>\n",
       "        <tr>\n",
       "            <td>trip_start_time</td>\n",
       "            <td>TIMESTAMP</td>\n",
       "            <td>True</td>\n",
       "            <td>None</td>\n",
       "            <td>False</td>\n",
       "            <td>None</td>\n",
       "            <td>{&#x27;encode&#x27;: &#x27;az64&#x27;}</td>\n",
       "        </tr>\n",
       "        <tr>\n",
       "            <td>trip_stop_time</td>\n",
       "            <td>TIMESTAMP</td>\n",
       "            <td>True</td>\n",
       "            <td>None</td>\n",
       "            <td>False</td>\n",
       "            <td>None</td>\n",
       "            <td>{&#x27;encode&#x27;: &#x27;az64&#x27;}</td>\n",
       "        </tr>\n",
       "        <tr>\n",
       "            <td>from_station_name</td>\n",
       "            <td>VARCHAR(50)</td>\n",
       "            <td>True</td>\n",
       "            <td>None</td>\n",
       "            <td>False</td>\n",
       "            <td>None</td>\n",
       "            <td>{&#x27;encode&#x27;: &#x27;lzo&#x27;}</td>\n",
       "        </tr>\n",
       "        <tr>\n",
       "            <td>to_station_name</td>\n",
       "            <td>VARCHAR(50)</td>\n",
       "            <td>True</td>\n",
       "            <td>None</td>\n",
       "            <td>False</td>\n",
       "            <td>None</td>\n",
       "            <td>{&#x27;encode&#x27;: &#x27;lzo&#x27;}</td>\n",
       "        </tr>\n",
       "        <tr>\n",
       "            <td>from_station_id</td>\n",
       "            <td>SMALLINT</td>\n",
       "            <td>True</td>\n",
       "            <td>None</td>\n",
       "            <td>False</td>\n",
       "            <td>None</td>\n",
       "            <td>{&#x27;encode&#x27;: &#x27;az64&#x27;}</td>\n",
       "        </tr>\n",
       "        <tr>\n",
       "            <td>to_station_id</td>\n",
       "            <td>SMALLINT</td>\n",
       "            <td>True</td>\n",
       "            <td>None</td>\n",
       "            <td>False</td>\n",
       "            <td>None</td>\n",
       "            <td>{&#x27;encode&#x27;: &#x27;az64&#x27;}</td>\n",
       "        </tr>\n",
       "        <tr>\n",
       "            <td>user_type</td>\n",
       "            <td>VARCHAR(20)</td>\n",
       "            <td>True</td>\n",
       "            <td>None</td>\n",
       "            <td>False</td>\n",
       "            <td>None</td>\n",
       "            <td>{&#x27;encode&#x27;: &#x27;lzo&#x27;}</td>\n",
       "        </tr>\n",
       "    </tbody>\n",
       "</table>"
      ],
      "text/plain": [
       "+-----------------------+-------------+----------+---------+---------------+---------+--------------------+\n",
       "|          name         |     type    | nullable | default | autoincrement | comment |        info        |\n",
       "+-----------------------+-------------+----------+---------+---------------+---------+--------------------+\n",
       "|        trip_id        |   INTEGER   |   True   |   None  |     False     |   None  | {'encode': 'az64'} |\n",
       "| trip_duration_seconds |   INTEGER   |   True   |   None  |     False     |   None  | {'encode': 'az64'} |\n",
       "|    trip_start_time    |  TIMESTAMP  |   True   |   None  |     False     |   None  | {'encode': 'az64'} |\n",
       "|     trip_stop_time    |  TIMESTAMP  |   True   |   None  |     False     |   None  | {'encode': 'az64'} |\n",
       "|   from_station_name   | VARCHAR(50) |   True   |   None  |     False     |   None  | {'encode': 'lzo'}  |\n",
       "|    to_station_name    | VARCHAR(50) |   True   |   None  |     False     |   None  | {'encode': 'lzo'}  |\n",
       "|    from_station_id    |   SMALLINT  |   True   |   None  |     False     |   None  | {'encode': 'az64'} |\n",
       "|     to_station_id     |   SMALLINT  |   True   |   None  |     False     |   None  | {'encode': 'az64'} |\n",
       "|       user_type       | VARCHAR(20) |   True   |   None  |     False     |   None  | {'encode': 'lzo'}  |\n",
       "+-----------------------+-------------+----------+---------+---------------+---------+--------------------+"
      ]
     },
     "execution_count": 7,
     "metadata": {},
     "output_type": "execute_result"
    }
   ],
   "source": [
    "%sqlcmd columns -t ridership \n"
   ]
  },
  {
   "cell_type": "code",
   "execution_count": 8,
   "id": "0b6ad7ca",
   "metadata": {
    "slideshow": {
     "slide_type": "fragment"
    }
   },
   "outputs": [
    {
     "data": {
      "text/html": [
       "<div style='position: sticky; left: 0; padding: 10px; font-size: 12px; color: #FFA500'><strong></strong> Following statistics are not available in\n",
       "            redshift_connector: STD, 25%, 50%, 75%</div><style>\n",
       " #profile-table td:first-child {\n",
       "  position: sticky;\n",
       "  left: 0;\n",
       "  background-color: var(--jp-cell-editor-background);\n",
       "  font-weight: bold;\n",
       "}\n",
       " #profile-table thead tr th:first-child {\n",
       "  position: sticky;\n",
       "  left: 0;\n",
       "  background-color: var(--jp-cell-editor-background);\n",
       "  font-weight: bold; /* Adding bold text */\n",
       "}\n",
       "            </style><style></style><table id=\"profile-table-09b098b874204086a9265aa7f20554b2\">\n",
       "    <thead>\n",
       "        <tr>\n",
       "            <th> </th>\n",
       "            <th>trip_id</th>\n",
       "            <th>trip_duration_seconds</th>\n",
       "            <th>trip_start_time</th>\n",
       "            <th>trip_stop_time</th>\n",
       "            <th>from_station_name</th>\n",
       "            <th>to_station_name</th>\n",
       "            <th>from_station_id</th>\n",
       "            <th>to_station_id</th>\n",
       "            <th>user_type</th>\n",
       "        </tr>\n",
       "    </thead>\n",
       "    <tbody>\n",
       "        <tr>\n",
       "            <td>count</td>\n",
       "            <td>3415315</td>\n",
       "            <td>3415315</td>\n",
       "            <td>3415315</td>\n",
       "            <td>3415315</td>\n",
       "            <td>3415315</td>\n",
       "            <td>3415315</td>\n",
       "            <td>2388423</td>\n",
       "            <td>2388423</td>\n",
       "            <td>3415315</td>\n",
       "        </tr>\n",
       "        <tr>\n",
       "            <td>unique</td>\n",
       "            <td>3415315</td>\n",
       "            <td>21278</td>\n",
       "            <td>965559</td>\n",
       "            <td>959085</td>\n",
       "            <td>411</td>\n",
       "            <td>411</td>\n",
       "            <td>359</td>\n",
       "            <td>359</td>\n",
       "            <td>4</td>\n",
       "        </tr>\n",
       "        <tr>\n",
       "            <td>mean</td>\n",
       "            <td>2644335.0000</td>\n",
       "            <td>986.0000</td>\n",
       "            <td>nan</td>\n",
       "            <td>nan</td>\n",
       "            <td>nan</td>\n",
       "            <td>nan</td>\n",
       "            <td>7123.0000</td>\n",
       "            <td>7122.0000</td>\n",
       "            <td>nan</td>\n",
       "        </tr>\n",
       "        <tr>\n",
       "            <td>min</td>\n",
       "            <td>712382</td>\n",
       "            <td>1</td>\n",
       "            <td>nan</td>\n",
       "            <td>nan</td>\n",
       "            <td>nan</td>\n",
       "            <td>nan</td>\n",
       "            <td>7000</td>\n",
       "            <td>7000</td>\n",
       "            <td>nan</td>\n",
       "        </tr>\n",
       "        <tr>\n",
       "            <td>max</td>\n",
       "            <td>4581277</td>\n",
       "            <td>6382030</td>\n",
       "            <td>nan</td>\n",
       "            <td>nan</td>\n",
       "            <td>nan</td>\n",
       "            <td>nan</td>\n",
       "            <td>7391</td>\n",
       "            <td>7391</td>\n",
       "            <td>nan</td>\n",
       "        </tr>\n",
       "    </tbody>\n",
       "</table><div style='position: sticky; left: 0; padding: 10px; font-size: 12px; color: black; background-color: white;'><strong></strong> </div>"
      ],
      "text/plain": [
       "+--------+--------------+-----------------------+-----------------+----------------+-------------------+-----------------+-----------------+---------------+-----------+\n",
       "|        |   trip_id    | trip_duration_seconds | trip_start_time | trip_stop_time | from_station_name | to_station_name | from_station_id | to_station_id | user_type |\n",
       "+--------+--------------+-----------------------+-----------------+----------------+-------------------+-----------------+-----------------+---------------+-----------+\n",
       "| count  |   3415315    |        3415315        |     3415315     |    3415315     |      3415315      |     3415315     |     2388423     |    2388423    |  3415315  |\n",
       "| unique |   3415315    |         21278         |      965559     |     959085     |        411        |       411       |       359       |      359      |     4     |\n",
       "|  mean  | 2644335.0000 |        986.0000       |       nan       |      nan       |        nan        |       nan       |    7123.0000    |   7122.0000   |    nan    |\n",
       "|  min   |    712382    |           1           |       nan       |      nan       |        nan        |       nan       |       7000      |      7000     |    nan    |\n",
       "|  max   |   4581277    |        6382030        |       nan       |      nan       |        nan        |       nan       |       7391      |      7391     |    nan    |\n",
       "+--------+--------------+-----------------------+-----------------+----------------+-------------------+-----------------+-----------------+---------------+-----------+"
      ]
     },
     "execution_count": 8,
     "metadata": {},
     "output_type": "execute_result"
    }
   ],
   "source": [
    "%sqlcmd profile --table ridership "
   ]
  },
  {
   "cell_type": "markdown",
   "id": "51e347a9",
   "metadata": {
    "slideshow": {
     "slide_type": "slide"
    }
   },
   "source": [
    "## Create table `weather` from data in S3 bucket"
   ]
  },
  {
   "cell_type": "code",
   "execution_count": 9,
   "id": "9f2701db",
   "metadata": {
    "slideshow": {
     "slide_type": "subslide"
    }
   },
   "outputs": [
    {
     "data": {
      "text/html": [
       "<div>\n",
       "<style scoped>\n",
       "    .dataframe tbody tr th:only-of-type {\n",
       "        vertical-align: middle;\n",
       "    }\n",
       "\n",
       "    .dataframe tbody tr th {\n",
       "        vertical-align: top;\n",
       "    }\n",
       "\n",
       "    .dataframe thead th {\n",
       "        text-align: right;\n",
       "    }\n",
       "</style>\n",
       "<table border=\"1\" class=\"dataframe\">\n",
       "  <thead>\n",
       "    <tr style=\"text-align: right;\">\n",
       "      <th></th>\n",
       "    </tr>\n",
       "  </thead>\n",
       "  <tbody>\n",
       "  </tbody>\n",
       "</table>\n",
       "</div>"
      ],
      "text/plain": [
       "Empty DataFrame\n",
       "Columns: []\n",
       "Index: []"
      ]
     },
     "execution_count": 9,
     "metadata": {},
     "output_type": "execute_result"
    }
   ],
   "source": [
    "%%sql\n",
    "DROP TABLE IF EXISTS weather CASCADE;\n",
    "\n",
    "CREATE TABLE IF NOT EXISTS weather\n",
    "( longitude_x         DECIMAL(5,2),\n",
    " latitude_y          DECIMAL(5,2), \n",
    " station_name        VARCHAR(20),\n",
    " climate_id          BIGINT,\n",
    " datetime_utc        TIMESTAMP,\n",
    " weather_year        SMALLINT,\n",
    " weather_month       SMALLINT,\n",
    " weather_day         SMALLINT,\n",
    " time_utc            VARCHAR(5),\n",
    " temp_c              DECIMAL(5,2),\n",
    " temp_flag           VARCHAR(1),\n",
    " dew_point_temp_c    DECIMAL(5,2),\n",
    " dew_point_temp_flag VARCHAR(1),\n",
    " rel_hum             SMALLINT,\n",
    " rel_hum_flag        VARCHAR(1),\n",
    " precip_amount_mm    DECIMAL(5,2),\n",
    " precip_amount_flag  VARCHAR(1),\n",
    " wind_dir_10s_deg    VARCHAR(10),\n",
    " wind_dir_flag       VARCHAR(1),\n",
    " wind_spd_kmh        VARCHAR(10),\n",
    " wind_spd_flag       VARCHAR(1),\n",
    " visibility_km       VARCHAR(10),\n",
    " visibility_flag     VARCHAR(1),\n",
    " stn_press_kpa       DECIMAL(5,2),\n",
    " stn_press_flag      VARCHAR(1),\n",
    " hmdx                SMALLINT,\n",
    " hmdx_flag           VARCHAR(1),\n",
    " wind_chill          VARCHAR(10),\n",
    " wind_chill_flag     VARCHAR(1),\n",
    " weather             VARCHAR(10));\n",
    "\n",
    "\n",
    "COPY weather FROM\n",
    "'s3://redshift-ml-bikesharing-data/bike-sharing-data/weather/'\n",
    "IAM_ROLE 'arn:aws:iam::<accountid>:role/redshift-jupysql-test-read-s3-role'\n",
    "FORMAT csv IGNOREHEADER 1 DATEFORMAT 'auto' TIMEFORMAT 'auto' REGION 'us-west-2' gzip;\n"
   ]
  },
  {
   "cell_type": "markdown",
   "id": "8ccf2523",
   "metadata": {
    "slideshow": {
     "slide_type": "slide"
    }
   },
   "source": [
    "## Verifying `weather` table"
   ]
  },
  {
   "cell_type": "code",
   "execution_count": 10,
   "id": "a5f3c80b",
   "metadata": {
    "slideshow": {
     "slide_type": "subslide"
    }
   },
   "outputs": [
    {
     "data": {
      "text/html": [
       "<table>\n",
       "    <thead>\n",
       "        <tr>\n",
       "            <th>name</th>\n",
       "            <th>type</th>\n",
       "            <th>nullable</th>\n",
       "            <th>default</th>\n",
       "            <th>autoincrement</th>\n",
       "            <th>comment</th>\n",
       "            <th>info</th>\n",
       "        </tr>\n",
       "    </thead>\n",
       "    <tbody>\n",
       "        <tr>\n",
       "            <td>longitude_x</td>\n",
       "            <td>NUMERIC(5, 2)</td>\n",
       "            <td>True</td>\n",
       "            <td>None</td>\n",
       "            <td>False</td>\n",
       "            <td>None</td>\n",
       "            <td>{&#x27;encode&#x27;: &#x27;az64&#x27;}</td>\n",
       "        </tr>\n",
       "        <tr>\n",
       "            <td>latitude_y</td>\n",
       "            <td>NUMERIC(5, 2)</td>\n",
       "            <td>True</td>\n",
       "            <td>None</td>\n",
       "            <td>False</td>\n",
       "            <td>None</td>\n",
       "            <td>{&#x27;encode&#x27;: &#x27;az64&#x27;}</td>\n",
       "        </tr>\n",
       "        <tr>\n",
       "            <td>station_name</td>\n",
       "            <td>VARCHAR(20)</td>\n",
       "            <td>True</td>\n",
       "            <td>None</td>\n",
       "            <td>False</td>\n",
       "            <td>None</td>\n",
       "            <td>{&#x27;encode&#x27;: &#x27;lzo&#x27;}</td>\n",
       "        </tr>\n",
       "        <tr>\n",
       "            <td>climate_id</td>\n",
       "            <td>BIGINT</td>\n",
       "            <td>True</td>\n",
       "            <td>None</td>\n",
       "            <td>False</td>\n",
       "            <td>None</td>\n",
       "            <td>{&#x27;encode&#x27;: &#x27;az64&#x27;}</td>\n",
       "        </tr>\n",
       "        <tr>\n",
       "            <td>datetime_utc</td>\n",
       "            <td>TIMESTAMP</td>\n",
       "            <td>True</td>\n",
       "            <td>None</td>\n",
       "            <td>False</td>\n",
       "            <td>None</td>\n",
       "            <td>{&#x27;encode&#x27;: &#x27;az64&#x27;}</td>\n",
       "        </tr>\n",
       "        <tr>\n",
       "            <td>weather_year</td>\n",
       "            <td>SMALLINT</td>\n",
       "            <td>True</td>\n",
       "            <td>None</td>\n",
       "            <td>False</td>\n",
       "            <td>None</td>\n",
       "            <td>{&#x27;encode&#x27;: &#x27;az64&#x27;}</td>\n",
       "        </tr>\n",
       "        <tr>\n",
       "            <td>weather_month</td>\n",
       "            <td>SMALLINT</td>\n",
       "            <td>True</td>\n",
       "            <td>None</td>\n",
       "            <td>False</td>\n",
       "            <td>None</td>\n",
       "            <td>{&#x27;encode&#x27;: &#x27;az64&#x27;}</td>\n",
       "        </tr>\n",
       "        <tr>\n",
       "            <td>weather_day</td>\n",
       "            <td>SMALLINT</td>\n",
       "            <td>True</td>\n",
       "            <td>None</td>\n",
       "            <td>False</td>\n",
       "            <td>None</td>\n",
       "            <td>{&#x27;encode&#x27;: &#x27;az64&#x27;}</td>\n",
       "        </tr>\n",
       "        <tr>\n",
       "            <td>time_utc</td>\n",
       "            <td>VARCHAR(5)</td>\n",
       "            <td>True</td>\n",
       "            <td>None</td>\n",
       "            <td>False</td>\n",
       "            <td>None</td>\n",
       "            <td>{&#x27;encode&#x27;: &#x27;lzo&#x27;}</td>\n",
       "        </tr>\n",
       "        <tr>\n",
       "            <td>temp_c</td>\n",
       "            <td>NUMERIC(5, 2)</td>\n",
       "            <td>True</td>\n",
       "            <td>None</td>\n",
       "            <td>False</td>\n",
       "            <td>None</td>\n",
       "            <td>{&#x27;encode&#x27;: &#x27;az64&#x27;}</td>\n",
       "        </tr>\n",
       "        <tr>\n",
       "            <td>temp_flag</td>\n",
       "            <td>VARCHAR(1)</td>\n",
       "            <td>True</td>\n",
       "            <td>None</td>\n",
       "            <td>False</td>\n",
       "            <td>None</td>\n",
       "            <td>{&#x27;encode&#x27;: &#x27;lzo&#x27;}</td>\n",
       "        </tr>\n",
       "        <tr>\n",
       "            <td>dew_point_temp_c</td>\n",
       "            <td>NUMERIC(5, 2)</td>\n",
       "            <td>True</td>\n",
       "            <td>None</td>\n",
       "            <td>False</td>\n",
       "            <td>None</td>\n",
       "            <td>{&#x27;encode&#x27;: &#x27;az64&#x27;}</td>\n",
       "        </tr>\n",
       "        <tr>\n",
       "            <td>dew_point_temp_flag</td>\n",
       "            <td>VARCHAR(1)</td>\n",
       "            <td>True</td>\n",
       "            <td>None</td>\n",
       "            <td>False</td>\n",
       "            <td>None</td>\n",
       "            <td>{&#x27;encode&#x27;: &#x27;lzo&#x27;}</td>\n",
       "        </tr>\n",
       "        <tr>\n",
       "            <td>rel_hum</td>\n",
       "            <td>SMALLINT</td>\n",
       "            <td>True</td>\n",
       "            <td>None</td>\n",
       "            <td>False</td>\n",
       "            <td>None</td>\n",
       "            <td>{&#x27;encode&#x27;: &#x27;az64&#x27;}</td>\n",
       "        </tr>\n",
       "        <tr>\n",
       "            <td>rel_hum_flag</td>\n",
       "            <td>VARCHAR(1)</td>\n",
       "            <td>True</td>\n",
       "            <td>None</td>\n",
       "            <td>False</td>\n",
       "            <td>None</td>\n",
       "            <td>{&#x27;encode&#x27;: &#x27;lzo&#x27;}</td>\n",
       "        </tr>\n",
       "        <tr>\n",
       "            <td>precip_amount_mm</td>\n",
       "            <td>NUMERIC(5, 2)</td>\n",
       "            <td>True</td>\n",
       "            <td>None</td>\n",
       "            <td>False</td>\n",
       "            <td>None</td>\n",
       "            <td>{&#x27;encode&#x27;: &#x27;az64&#x27;}</td>\n",
       "        </tr>\n",
       "        <tr>\n",
       "            <td>precip_amount_flag</td>\n",
       "            <td>VARCHAR(1)</td>\n",
       "            <td>True</td>\n",
       "            <td>None</td>\n",
       "            <td>False</td>\n",
       "            <td>None</td>\n",
       "            <td>{&#x27;encode&#x27;: &#x27;lzo&#x27;}</td>\n",
       "        </tr>\n",
       "        <tr>\n",
       "            <td>wind_dir_10s_deg</td>\n",
       "            <td>VARCHAR(10)</td>\n",
       "            <td>True</td>\n",
       "            <td>None</td>\n",
       "            <td>False</td>\n",
       "            <td>None</td>\n",
       "            <td>{&#x27;encode&#x27;: &#x27;lzo&#x27;}</td>\n",
       "        </tr>\n",
       "        <tr>\n",
       "            <td>wind_dir_flag</td>\n",
       "            <td>VARCHAR(1)</td>\n",
       "            <td>True</td>\n",
       "            <td>None</td>\n",
       "            <td>False</td>\n",
       "            <td>None</td>\n",
       "            <td>{&#x27;encode&#x27;: &#x27;lzo&#x27;}</td>\n",
       "        </tr>\n",
       "        <tr>\n",
       "            <td>wind_spd_kmh</td>\n",
       "            <td>VARCHAR(10)</td>\n",
       "            <td>True</td>\n",
       "            <td>None</td>\n",
       "            <td>False</td>\n",
       "            <td>None</td>\n",
       "            <td>{&#x27;encode&#x27;: &#x27;lzo&#x27;}</td>\n",
       "        </tr>\n",
       "        <tr>\n",
       "            <td>wind_spd_flag</td>\n",
       "            <td>VARCHAR(1)</td>\n",
       "            <td>True</td>\n",
       "            <td>None</td>\n",
       "            <td>False</td>\n",
       "            <td>None</td>\n",
       "            <td>{&#x27;encode&#x27;: &#x27;lzo&#x27;}</td>\n",
       "        </tr>\n",
       "        <tr>\n",
       "            <td>visibility_km</td>\n",
       "            <td>VARCHAR(10)</td>\n",
       "            <td>True</td>\n",
       "            <td>None</td>\n",
       "            <td>False</td>\n",
       "            <td>None</td>\n",
       "            <td>{&#x27;encode&#x27;: &#x27;lzo&#x27;}</td>\n",
       "        </tr>\n",
       "        <tr>\n",
       "            <td>visibility_flag</td>\n",
       "            <td>VARCHAR(1)</td>\n",
       "            <td>True</td>\n",
       "            <td>None</td>\n",
       "            <td>False</td>\n",
       "            <td>None</td>\n",
       "            <td>{&#x27;encode&#x27;: &#x27;lzo&#x27;}</td>\n",
       "        </tr>\n",
       "        <tr>\n",
       "            <td>stn_press_kpa</td>\n",
       "            <td>NUMERIC(5, 2)</td>\n",
       "            <td>True</td>\n",
       "            <td>None</td>\n",
       "            <td>False</td>\n",
       "            <td>None</td>\n",
       "            <td>{&#x27;encode&#x27;: &#x27;az64&#x27;}</td>\n",
       "        </tr>\n",
       "        <tr>\n",
       "            <td>stn_press_flag</td>\n",
       "            <td>VARCHAR(1)</td>\n",
       "            <td>True</td>\n",
       "            <td>None</td>\n",
       "            <td>False</td>\n",
       "            <td>None</td>\n",
       "            <td>{&#x27;encode&#x27;: &#x27;lzo&#x27;}</td>\n",
       "        </tr>\n",
       "        <tr>\n",
       "            <td>hmdx</td>\n",
       "            <td>SMALLINT</td>\n",
       "            <td>True</td>\n",
       "            <td>None</td>\n",
       "            <td>False</td>\n",
       "            <td>None</td>\n",
       "            <td>{&#x27;encode&#x27;: &#x27;az64&#x27;}</td>\n",
       "        </tr>\n",
       "        <tr>\n",
       "            <td>hmdx_flag</td>\n",
       "            <td>VARCHAR(1)</td>\n",
       "            <td>True</td>\n",
       "            <td>None</td>\n",
       "            <td>False</td>\n",
       "            <td>None</td>\n",
       "            <td>{&#x27;encode&#x27;: &#x27;lzo&#x27;}</td>\n",
       "        </tr>\n",
       "        <tr>\n",
       "            <td>wind_chill</td>\n",
       "            <td>VARCHAR(10)</td>\n",
       "            <td>True</td>\n",
       "            <td>None</td>\n",
       "            <td>False</td>\n",
       "            <td>None</td>\n",
       "            <td>{&#x27;encode&#x27;: &#x27;lzo&#x27;}</td>\n",
       "        </tr>\n",
       "        <tr>\n",
       "            <td>wind_chill_flag</td>\n",
       "            <td>VARCHAR(1)</td>\n",
       "            <td>True</td>\n",
       "            <td>None</td>\n",
       "            <td>False</td>\n",
       "            <td>None</td>\n",
       "            <td>{&#x27;encode&#x27;: &#x27;lzo&#x27;}</td>\n",
       "        </tr>\n",
       "        <tr>\n",
       "            <td>weather</td>\n",
       "            <td>VARCHAR(10)</td>\n",
       "            <td>True</td>\n",
       "            <td>None</td>\n",
       "            <td>False</td>\n",
       "            <td>None</td>\n",
       "            <td>{&#x27;encode&#x27;: &#x27;lzo&#x27;}</td>\n",
       "        </tr>\n",
       "    </tbody>\n",
       "</table>"
      ],
      "text/plain": [
       "+---------------------+---------------+----------+---------+---------------+---------+--------------------+\n",
       "|         name        |      type     | nullable | default | autoincrement | comment |        info        |\n",
       "+---------------------+---------------+----------+---------+---------------+---------+--------------------+\n",
       "|     longitude_x     | NUMERIC(5, 2) |   True   |   None  |     False     |   None  | {'encode': 'az64'} |\n",
       "|      latitude_y     | NUMERIC(5, 2) |   True   |   None  |     False     |   None  | {'encode': 'az64'} |\n",
       "|     station_name    |  VARCHAR(20)  |   True   |   None  |     False     |   None  | {'encode': 'lzo'}  |\n",
       "|      climate_id     |     BIGINT    |   True   |   None  |     False     |   None  | {'encode': 'az64'} |\n",
       "|     datetime_utc    |   TIMESTAMP   |   True   |   None  |     False     |   None  | {'encode': 'az64'} |\n",
       "|     weather_year    |    SMALLINT   |   True   |   None  |     False     |   None  | {'encode': 'az64'} |\n",
       "|    weather_month    |    SMALLINT   |   True   |   None  |     False     |   None  | {'encode': 'az64'} |\n",
       "|     weather_day     |    SMALLINT   |   True   |   None  |     False     |   None  | {'encode': 'az64'} |\n",
       "|       time_utc      |   VARCHAR(5)  |   True   |   None  |     False     |   None  | {'encode': 'lzo'}  |\n",
       "|        temp_c       | NUMERIC(5, 2) |   True   |   None  |     False     |   None  | {'encode': 'az64'} |\n",
       "|      temp_flag      |   VARCHAR(1)  |   True   |   None  |     False     |   None  | {'encode': 'lzo'}  |\n",
       "|   dew_point_temp_c  | NUMERIC(5, 2) |   True   |   None  |     False     |   None  | {'encode': 'az64'} |\n",
       "| dew_point_temp_flag |   VARCHAR(1)  |   True   |   None  |     False     |   None  | {'encode': 'lzo'}  |\n",
       "|       rel_hum       |    SMALLINT   |   True   |   None  |     False     |   None  | {'encode': 'az64'} |\n",
       "|     rel_hum_flag    |   VARCHAR(1)  |   True   |   None  |     False     |   None  | {'encode': 'lzo'}  |\n",
       "|   precip_amount_mm  | NUMERIC(5, 2) |   True   |   None  |     False     |   None  | {'encode': 'az64'} |\n",
       "|  precip_amount_flag |   VARCHAR(1)  |   True   |   None  |     False     |   None  | {'encode': 'lzo'}  |\n",
       "|   wind_dir_10s_deg  |  VARCHAR(10)  |   True   |   None  |     False     |   None  | {'encode': 'lzo'}  |\n",
       "|    wind_dir_flag    |   VARCHAR(1)  |   True   |   None  |     False     |   None  | {'encode': 'lzo'}  |\n",
       "|     wind_spd_kmh    |  VARCHAR(10)  |   True   |   None  |     False     |   None  | {'encode': 'lzo'}  |\n",
       "|    wind_spd_flag    |   VARCHAR(1)  |   True   |   None  |     False     |   None  | {'encode': 'lzo'}  |\n",
       "|    visibility_km    |  VARCHAR(10)  |   True   |   None  |     False     |   None  | {'encode': 'lzo'}  |\n",
       "|   visibility_flag   |   VARCHAR(1)  |   True   |   None  |     False     |   None  | {'encode': 'lzo'}  |\n",
       "|    stn_press_kpa    | NUMERIC(5, 2) |   True   |   None  |     False     |   None  | {'encode': 'az64'} |\n",
       "|    stn_press_flag   |   VARCHAR(1)  |   True   |   None  |     False     |   None  | {'encode': 'lzo'}  |\n",
       "|         hmdx        |    SMALLINT   |   True   |   None  |     False     |   None  | {'encode': 'az64'} |\n",
       "|      hmdx_flag      |   VARCHAR(1)  |   True   |   None  |     False     |   None  | {'encode': 'lzo'}  |\n",
       "|      wind_chill     |  VARCHAR(10)  |   True   |   None  |     False     |   None  | {'encode': 'lzo'}  |\n",
       "|   wind_chill_flag   |   VARCHAR(1)  |   True   |   None  |     False     |   None  | {'encode': 'lzo'}  |\n",
       "|       weather       |  VARCHAR(10)  |   True   |   None  |     False     |   None  | {'encode': 'lzo'}  |\n",
       "+---------------------+---------------+----------+---------+---------------+---------+--------------------+"
      ]
     },
     "execution_count": 10,
     "metadata": {},
     "output_type": "execute_result"
    }
   ],
   "source": [
    "%sqlcmd columns -t weather \n"
   ]
  },
  {
   "cell_type": "code",
   "execution_count": null,
   "id": "1e4f5777",
   "metadata": {
    "slideshow": {
     "slide_type": "subslide"
    }
   },
   "outputs": [],
   "source": [
    "%sqlcmd profile --table weather \n"
   ]
  },
  {
   "cell_type": "markdown",
   "id": "abd2ec3c",
   "metadata": {
    "slideshow": {
     "slide_type": "slide"
    }
   },
   "source": [
    "## Create table `holiday` from data in S3 bucket"
   ]
  },
  {
   "cell_type": "code",
   "execution_count": null,
   "id": "40f4b113",
   "metadata": {
    "slideshow": {
     "slide_type": "fragment"
    }
   },
   "outputs": [],
   "source": [
    "%%sql\n",
    "DROP TABLE IF EXISTS holiday CASCADE;\n",
    "\n",
    "CREATE TABLE IF NOT EXISTS holiday\n",
    "( holiday_date  DATE,\n",
    " description VARCHAR(100));\n",
    "\n",
    "\n",
    "COPY holiday FROM\n",
    "'s3://redshift-ml-bikesharing-data/bike-sharing-data/holiday/'\n",
    "IAM_ROLE 'arn:aws:iam::<accountid>:role/redshift-jupysql-test-read-s3-role'\n",
    "FORMAT csv IGNOREHEADER 1 DATEFORMAT 'auto' TIMEFORMAT 'auto' REGION 'us-west-2' gzip;\n"
   ]
  },
  {
   "cell_type": "markdown",
   "id": "1593eeb5",
   "metadata": {
    "slideshow": {
     "slide_type": "slide"
    }
   },
   "source": [
    "## Verifying `holiday` table\n"
   ]
  },
  {
   "cell_type": "code",
   "execution_count": null,
   "id": "3924c573",
   "metadata": {
    "slideshow": {
     "slide_type": "fragment"
    }
   },
   "outputs": [],
   "source": [
    "%sqlcmd columns -t holiday "
   ]
  },
  {
   "cell_type": "code",
   "execution_count": null,
   "id": "3ccc1387",
   "metadata": {
    "slideshow": {
     "slide_type": "fragment"
    }
   },
   "outputs": [],
   "source": [
    "%sqlcmd profile --table holiday "
   ]
  },
  {
   "cell_type": "markdown",
   "id": "3f43016a",
   "metadata": {
    "slideshow": {
     "slide_type": "slide"
    }
   },
   "source": [
    "## Create table `ridership_view` - data clean up"
   ]
  },
  {
   "cell_type": "code",
   "execution_count": null,
   "id": "7a1fd56b",
   "metadata": {
    "slideshow": {
     "slide_type": "subslide"
    }
   },
   "outputs": [],
   "source": [
    "%%sql\n",
    "CREATE OR REPLACE VIEW ridership_view AS\n",
    "SELECT\n",
    "    trip_time, \n",
    "    trip_count,\n",
    "    TO_CHAR(trip_time,'hh24') ::INT trip_hour,\n",
    "    TO_CHAR(trip_time, 'dd') :: INT trip_day,\n",
    "    TO_CHAR(trip_time, 'mm') :: INT trip_month,\n",
    "    TO_CHAR(trip_time, 'yy') :: INT trip_year,\n",
    "    TO_CHAR(trip_time, 'q') :: INT trip_quarter,\n",
    "    TO_CHAR(trip_time, 'w') :: INT trip_month_week,\n",
    "    TO_CHAR(trip_time, 'd') :: INT trip_week_day\n",
    "FROM  \n",
    "    (SELECT  \n",
    "         CASE\n",
    "           WHEN TRUNC(r.trip_start_time) < '2017-07-01'::DATE\n",
    "           THEN CONVERT_TIMEZONE('US/Eastern', DATE_TRUNC('hour',r.trip_start_time))\n",
    "           ELSE DATE_TRUNC('hour',r.trip_start_time)\n",
    "         END trip_time, COUNT(1) trip_count\n",
    "     FROM    \n",
    "         ridership r\n",
    "     WHERE    r.trip_duration_seconds BETWEEN 60 AND 60 * 60 * 24\n",
    "     GROUP BY\n",
    "         1);\n",
    "\n",
    "CREATE OR REPLACE VIEW weather_view AS\n",
    "SELECT  \n",
    "    CONVERT_TIMEZONE('US/Eastern', \n",
    "      DATE_TRUNC('hour',datetime_utc)) daytime, \n",
    "        ROUND(AVG(temp_c)) temp_c, \n",
    "        ROUND(AVG(precip_amount_mm)) precip_amount_mm\n",
    "FROM weather\n",
    "GROUP BY 1;\n",
    "\n"
   ]
  },
  {
   "cell_type": "markdown",
   "id": "842eca69",
   "metadata": {
    "slideshow": {
     "slide_type": "slide"
    }
   },
   "source": [
    "## Verifying ridership_view table\n"
   ]
  },
  {
   "cell_type": "code",
   "execution_count": null,
   "id": "ae2c83ae",
   "metadata": {
    "slideshow": {
     "slide_type": "fragment"
    }
   },
   "outputs": [],
   "source": [
    "%sqlcmd columns -t ridership_view \n"
   ]
  },
  {
   "cell_type": "code",
   "execution_count": null,
   "id": "fec8eb47",
   "metadata": {
    "slideshow": {
     "slide_type": "fragment"
    }
   },
   "outputs": [],
   "source": [
    "%sqlcmd profile --table ridership_view "
   ]
  },
  {
   "cell_type": "markdown",
   "id": "b9cc19ba",
   "metadata": {
    "slideshow": {
     "slide_type": "slide"
    }
   },
   "source": [
    "## Merging tables as `trip_data`"
   ]
  },
  {
   "cell_type": "code",
   "execution_count": null,
   "id": "54a5b555",
   "metadata": {
    "slideshow": {
     "slide_type": "fragment"
    }
   },
   "outputs": [],
   "source": [
    "%%sql\n",
    "DROP TABLE IF EXISTS trip_data CASCADE;\n",
    "DROP TABLE IF EXISTS trip_data;\n",
    "CREATE TABLE trip_data AS \n",
    "SELECT         \n",
    "    r.trip_time,\n",
    "    r.trip_count,\n",
    "    r.trip_hour,\n",
    "    r.trip_day,\n",
    "    r.trip_month,\n",
    "    r.trip_year,\n",
    "    r.trip_quarter,\n",
    "    r.trip_month_week,\n",
    "    r.trip_week_day,\n",
    "    w.temp_c,\n",
    "    w.precip_amount_mm,\n",
    "    CASE\n",
    "        WHEN h.holiday_date IS NOT NULL THEN 1\n",
    "        WHEN TO_CHAR(r.trip_time,'D')::INT IN (1,7) THEN 1\n",
    "        ELSE 0\n",
    "    END AS is_holiday,\n",
    "    ROW_NUMBER() OVER (ORDER BY RANDOM()) AS serial_number \n",
    "FROM           \n",
    "  ridership_view r\n",
    "JOIN weather_view w\n",
    "  ON ( r.trip_time = w.daytime )\n",
    "LEFT OUTER JOIN holiday h\n",
    "  ON ( TRUNC(r.trip_time) = h.holiday_date );\n"
   ]
  },
  {
   "cell_type": "markdown",
   "id": "d1d475b5",
   "metadata": {
    "slideshow": {
     "slide_type": "slide"
    }
   },
   "source": [
    "## Verifying table `trip_data`"
   ]
  },
  {
   "cell_type": "code",
   "execution_count": null,
   "id": "ba764fb7",
   "metadata": {
    "slideshow": {
     "slide_type": "fragment"
    }
   },
   "outputs": [],
   "source": [
    "%sqlcmd columns -t trip_data \n"
   ]
  },
  {
   "cell_type": "code",
   "execution_count": null,
   "id": "f20100a4",
   "metadata": {
    "slideshow": {
     "slide_type": "fragment"
    }
   },
   "outputs": [],
   "source": [
    "%sqlcmd profile --table trip_data "
   ]
  },
  {
   "cell_type": "markdown",
   "id": "78d979dc",
   "metadata": {
    "slideshow": {
     "slide_type": "slide"
    }
   },
   "source": [
    "## Part II: Exploratory data analysis and initial model"
   ]
  },
  {
   "cell_type": "markdown",
   "id": "c821a4e9",
   "metadata": {
    "slideshow": {
     "slide_type": "slide"
    }
   },
   "source": [
    "## Wrangle and Visualize data"
   ]
  },
  {
   "cell_type": "code",
   "execution_count": null,
   "id": "fd744ce2",
   "metadata": {
    "slideshow": {
     "slide_type": "fragment"
    }
   },
   "outputs": [],
   "source": [
    "import seaborn as sns\n",
    "import matplotlib.pyplot as plt"
   ]
  },
  {
   "cell_type": "markdown",
   "id": "0f2c3843",
   "metadata": {
    "slideshow": {
     "slide_type": "slide"
    }
   },
   "source": [
    "## Remember our configuration"
   ]
  },
  {
   "cell_type": "code",
   "execution_count": null,
   "id": "2dbd5f7b",
   "metadata": {
    "slideshow": {
     "slide_type": "fragment"
    }
   },
   "outputs": [],
   "source": [
    "%reload_ext sql"
   ]
  },
  {
   "cell_type": "code",
   "execution_count": null,
   "id": "55a36618",
   "metadata": {
    "slideshow": {
     "slide_type": "fragment"
    }
   },
   "outputs": [],
   "source": [
    "result = %sql select round(trip_count/100) AS rounded_trips, * from trip_data\n",
    "result.head()"
   ]
  },
  {
   "cell_type": "code",
   "execution_count": null,
   "id": "337accd5",
   "metadata": {
    "slideshow": {
     "slide_type": "skip"
    }
   },
   "outputs": [],
   "source": [
    "print(result.isna().sum())\n",
    "result.dropna(subset=['precip_amount_mm'], inplace=True)"
   ]
  },
  {
   "cell_type": "markdown",
   "id": "fa453e1f",
   "metadata": {
    "slideshow": {
     "slide_type": "slide"
    }
   },
   "source": [
    "## Visualizing data "
   ]
  },
  {
   "cell_type": "code",
   "execution_count": null,
   "id": "c7c31092",
   "metadata": {
    "slideshow": {
     "slide_type": "subslide"
    }
   },
   "outputs": [],
   "source": [
    "plt.figure(figsize=(16,7))\n",
    "sns.set(font_scale=1.4)\n",
    "sns.histplot(data=result, x='trip_count')\n",
    "plt.title(\"Distribution of number of trips\")\n",
    "plt.show()"
   ]
  },
  {
   "cell_type": "code",
   "execution_count": null,
   "id": "7488c2f8",
   "metadata": {
    "slideshow": {
     "slide_type": "subslide"
    }
   },
   "outputs": [],
   "source": [
    "plt.figure(figsize=(16,7))\n",
    "sns.set(font_scale=1.4)\n",
    "sns.histplot(data=result, x='rounded_trips')\n",
    "plt.title(\"Distribution of rounded number of trips\")\n",
    "plt.show()"
   ]
  },
  {
   "cell_type": "code",
   "execution_count": null,
   "id": "391c7475",
   "metadata": {
    "slideshow": {
     "slide_type": "subslide"
    }
   },
   "outputs": [],
   "source": [
    "plt.figure(figsize=(16,7))\n",
    "sns.set(font_scale=1.4)\n",
    "sns.histplot(data=result, x='is_holiday', kde=False)\n",
    "plt.title(\"Distribution of trips (based on whether it was a holiday or not)\")\n",
    "plt.xlabel(\"Is holiday (0=No, 1=Yes)\")\n",
    "plt.show()"
   ]
  },
  {
   "cell_type": "code",
   "execution_count": null,
   "id": "f6a0b014",
   "metadata": {
    "slideshow": {
     "slide_type": "subslide"
    }
   },
   "outputs": [],
   "source": [
    "plt.figure(figsize=(16,7))\n",
    "sns.set(font_scale=1.4)\n",
    "sns.scatterplot(data=result, \n",
    "                x= 'temp_c', \n",
    "                y='rounded_trips', \n",
    "                hue='is_holiday')\n",
    "plt.xlabel(\"Temperature (C)\")\n",
    "plt.ylabel(\"Rounded number of trips\")\n",
    "plt.title(\"Temperature vs rounded number of trips\")\n",
    "plt.show()"
   ]
  },
  {
   "cell_type": "code",
   "execution_count": null,
   "id": "7d764d9d",
   "metadata": {
    "slideshow": {
     "slide_type": "subslide"
    }
   },
   "outputs": [],
   "source": [
    "plt.figure(figsize=(16,7))\n",
    "sns.set(font_scale=1.4)\n",
    "sns.scatterplot(data=result, \n",
    "                x= 'precip_amount_mm', \n",
    "                y='rounded_trips', \n",
    "                hue='is_holiday')\n",
    "plt.xlabel(\"Precipitation amount (mm)\")\n",
    "plt.ylabel(\"Rounded number of trips\")\n",
    "\n",
    "plt.title(\"Precipitation amount vs rounded number of trips\")\n",
    "plt.show()"
   ]
  },
  {
   "cell_type": "markdown",
   "id": "6460ea01",
   "metadata": {
    "slideshow": {
     "slide_type": "slide"
    }
   },
   "source": [
    "## Set up classification model\n",
    "\n",
    "We're going to create a binary column `low_trip_count` to account for days in which there were less than 200 trips, or more than 200 trips.\n",
    "\n",
    "Our goal will be to classify whether certain days will have less than 200 trips (`low_trip_count==True`) or if they have 200 trips or more (`low_trip_count==False`)."
   ]
  },
  {
   "cell_type": "markdown",
   "id": "045fdb41",
   "metadata": {
    "slideshow": {
     "slide_type": "slide"
    }
   },
   "source": [
    "## Pre-requisites"
   ]
  },
  {
   "cell_type": "code",
   "execution_count": null,
   "id": "6ad02137",
   "metadata": {
    "slideshow": {
     "slide_type": "fragment"
    }
   },
   "outputs": [],
   "source": [
    "!pip install sklearn-evaluation scikit-learn --quiet"
   ]
  },
  {
   "cell_type": "code",
   "execution_count": null,
   "id": "84e8e58a",
   "metadata": {
    "slideshow": {
     "slide_type": "fragment"
    }
   },
   "outputs": [],
   "source": [
    "from sklearn.ensemble import RandomForestClassifier\n",
    "from sklearn.model_selection import train_test_split\n",
    "from sklearn import metrics\n",
    "import numpy as np\n",
    "from sklearn.metrics import accuracy_score, confusion_matrix, classification_report\n",
    "from sklearn_evaluation import plot, table"
   ]
  },
  {
   "cell_type": "markdown",
   "id": "d80eab87",
   "metadata": {
    "slideshow": {
     "slide_type": "slide"
    }
   },
   "source": [
    "## Set up variables, split data"
   ]
  },
  {
   "cell_type": "code",
   "execution_count": null,
   "id": "77454610",
   "metadata": {
    "slideshow": {
     "slide_type": "fragment"
    }
   },
   "outputs": [],
   "source": [
    "# Create column\n",
    "result['low_trip_count'] = np.where(result['trip_count']<200, True, False)\n",
    "\n",
    "# Set up X and y variables\n",
    "X = result[['trip_hour', 'trip_day',\n",
    "               'trip_month', 'trip_year', 'trip_month_week',\n",
    "               'trip_week_day', 'temp_c', 'precip_amount_mm', 'is_holiday']]\n",
    "y = result['low_trip_count']\n",
    "\n",
    "# Split data - notice class imbalance\n",
    "X_train, X_test, y_train, y_test = train_test_split(X, y, \n",
    "                                                    test_size=0.2, \n",
    "                                                    stratify=y,\n",
    "                                                    random_state=42)"
   ]
  },
  {
   "cell_type": "markdown",
   "id": "7f61816a",
   "metadata": {
    "slideshow": {
     "slide_type": "slide"
    }
   },
   "source": [
    "## Initialize model"
   ]
  },
  {
   "cell_type": "code",
   "execution_count": null,
   "id": "8dbca267",
   "metadata": {
    "slideshow": {
     "slide_type": "fragment"
    }
   },
   "outputs": [],
   "source": [
    "ln = RandomForestClassifier()\n",
    "\n",
    "ln.fit(X_train, y_train)\n",
    "y_pred = ln.predict(X_test)"
   ]
  },
  {
   "cell_type": "markdown",
   "id": "d22a744e",
   "metadata": {
    "slideshow": {
     "slide_type": "slide"
    }
   },
   "source": [
    "## Evaluate model"
   ]
  },
  {
   "cell_type": "code",
   "execution_count": null,
   "id": "9bb26cd2",
   "metadata": {
    "slideshow": {
     "slide_type": "fragment"
    }
   },
   "outputs": [],
   "source": [
    "print(\"Acc on test data: {:,.3f}\".format(ln.score(X_test, y_test)))\n",
    "print(classification_report(y_pred=y_pred, y_true=y_test))"
   ]
  },
  {
   "cell_type": "markdown",
   "id": "81239652",
   "metadata": {
    "slideshow": {
     "slide_type": "slide"
    }
   },
   "source": [
    "## Evaluate model"
   ]
  },
  {
   "cell_type": "code",
   "execution_count": null,
   "id": "e29aedad",
   "metadata": {
    "slideshow": {
     "slide_type": "subslide"
    }
   },
   "outputs": [],
   "source": [
    "plt.figure(figsize=(20,7))\n",
    "sns.set(font_scale=1)\n",
    "plot.confusion_matrix(y_test, y_pred);\n",
    "plt.show()"
   ]
  },
  {
   "cell_type": "code",
   "execution_count": null,
   "id": "a2f8fe60",
   "metadata": {
    "slideshow": {
     "slide_type": "subslide"
    }
   },
   "outputs": [],
   "source": [
    "plot.feature_importances(ln, top_n=5, feature_names=list(ln.feature_names_in_))\n"
   ]
  },
  {
   "cell_type": "markdown",
   "id": "b312acbe",
   "metadata": {
    "slideshow": {
     "slide_type": "slide"
    }
   },
   "source": [
    "## Key takeaways\n",
    "\n",
    "⚡ We used the Jupyter notebook extension `JupySQL` to enable access to a Redshift instance through credentials and a host URL\n",
    "\n",
    "⚡ With `JupySQL`, we were able to customize the default behaviour of the query results to be of format `pandas` (or `polars`)\n",
    "\n",
    "⚡ Furthermore, with `JupySQL` we were able to create each of the tables from an S3 bucket, verify that the tables were loaded and get summary stats\n",
    "\n",
    "⚡ We were then able to use our query results in `pandas` format, and leverage techniques in classic supervised learning to classify whether a given day will have low number of trips (less than 200) or higher. \n",
    "\n"
   ]
  },
  {
   "cell_type": "markdown",
   "id": "5fa5b609",
   "metadata": {
    "slideshow": {
     "slide_type": "slide"
    }
   },
   "source": [
    "## Find us on GitHub\n",
    "\n",
    "\n",
    "\n",
    "<center>\n",
    "    <h1>\n",
    "Learn more about JupySQL \n",
    "    </h1>\n",
    "    <h2>\n",
    " 🐙 https://github.com/ploomber/jupysql 🐙\n",
    "    </h2>\n",
    "    <h3 font-family=\"courier\">\n",
    "    pip install jupysql\n",
    "        <h3>\n",
    "</center>"
   ]
  }
 ],
 "metadata": {
  "celltoolbar": "Slideshow",
  "kernelspec": {
   "display_name": "Python 3 (ipykernel)",
   "language": "python",
   "name": "python3"
  },
  "language_info": {
   "codemirror_mode": {
    "name": "ipython",
    "version": 3
   },
   "file_extension": ".py",
   "mimetype": "text/x-python",
   "name": "python",
   "nbconvert_exporter": "python",
   "pygments_lexer": "ipython3",
   "version": "3.10.0"
  }
 },
 "nbformat": 4,
 "nbformat_minor": 5
}
