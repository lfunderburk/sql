{
 "cells": [
  {
   "cell_type": "markdown",
   "id": "b2802c6a",
   "metadata": {},
   "source": [
    "# Plotting with `seaborn`\n",
    "\n",
    "Seaborn is a library for making statistical graphics in Python. It builds on top of matplotlib and integrates closely with `pandas` data structures. It provides a high-level interface for drawing attractive and informative statistical graphics.\n",
    "\n",
    "The plotting functions operate on dataframes and arrays containing whole datasets. Internally, they perform the necessary semantic mapping and statistical aggregation to produce informative plots.\n",
    "\n",
    "Its dataset-oriented, declarative API lets you focus on what the different elements of your plots mean, rather than on the details of how to draw them.\n",
    "\n",
    "For more see: https://seaborn.pydata.org/\n",
    "\n",
    "## Install and Load Libraries\n",
    "\n",
    "```{important}\n",
    "<b>Note:</b> The `--save` and `%sqlcmd` features used require the latest JupySQL version. Ensure you run the code below to update JupySQL.\n",
    "```\n",
    "\n",
    "This code installs JupySQL, DuckDB, and Pandas in your environment. We will be using these moving forward."
   ]
  },
  {
   "cell_type": "code",
   "execution_count": null,
   "id": "947ac122",
   "metadata": {},
   "outputs": [],
   "source": [
    "%pip install jupysql pandas seaborn --quiet"
   ]
  },
  {
   "cell_type": "markdown",
   "id": "c1740c6d",
   "metadata": {},
   "source": [
    "Finally, we load in the libraries we will be using in this tutorial."
   ]
  },
  {
   "cell_type": "code",
   "execution_count": null,
   "id": "c0e520f4",
   "metadata": {},
   "outputs": [],
   "source": [
    "import sys\n",
    "import seaborn as sns\n",
    "import matplotlib.pyplot as plt\n",
    "import pandas as pd"
   ]
  },
  {
   "cell_type": "markdown",
   "id": "30b28e98",
   "metadata": {},
   "source": [
    "## Load the data\n",
    "\n",
    "```{important}\n",
    "<b>Note:</b> If you are following these lessons locally and <b>not</b> on Google Colab, then there is no need to load the data again.\n",
    "```\n",
    "\n",
    "This section was covered in detail in the previous tutorial: [Joining Data in SQL](https://ploomber-sql.readthedocs.io/en/latest/intro-to-sql/joining-data-in-sql.html#load-the-data). We will be using the same data in this tutorial as well."
   ]
  },
  {
   "cell_type": "code",
   "execution_count": null,
   "id": "41b45984",
   "metadata": {},
   "outputs": [],
   "source": [
    "sys.path.insert(0, \"../../\")\n",
    "import banking  # noqa: E402\n",
    "\n",
    "_ = banking.MarketData(\"https://tinyurl.com/jb-bank-m\", \"expanded_data\")\n",
    "_.extract_asc_to_csv()"
   ]
  },
  {
   "cell_type": "markdown",
   "id": "37cb5194",
   "metadata": {},
   "source": [
    "If you run the above cell, you should have a folder `expanded_data` in your current directory that contains the `.csv` files we will be using. In this tutorial, we will be focusing on three of these files: `loan.csv`, `account.csv`, `district.csv`.\n",
    "\n",
    "## Load Engine\n",
    "\n",
    "We now load in our SQL extension that allows us to execute SQL queries in Jupyter Notebooks.\n",
    "\n",
    "```{important}\n",
    "<b>Note</b> Ensure you restart any previous notebook that has the same database name as the one initialized below.\n",
    "```"
   ]
  },
  {
   "cell_type": "code",
   "execution_count": 1,
   "id": "2e1a96b7",
   "metadata": {},
   "outputs": [
    {
     "data": {
      "text/html": [
       "<span style=\"None\">Found pyproject.toml from &#x27;/Users/macpro/Documents/GitHub/sql&#x27;</span>"
      ],
      "text/plain": [
       "Found pyproject.toml from '/Users/macpro/Documents/GitHub/sql'"
      ]
     },
     "metadata": {},
     "output_type": "display_data"
    }
   ],
   "source": [
    "# Loading in SQL extension\n",
    "%reload_ext sql\n",
    "# Initiating a DuckDB database named 'bank_data.duck.db' to run SQL queries\n",
    "%sql duckdb:///bank_data.duck.db"
   ]
  },
  {
   "cell_type": "markdown",
   "id": "53d02c78",
   "metadata": {},
   "source": [
    "<!-- endregion -->\n",
    "\n",
    "Delete tables and schema if they already exist.\n",
    "\n",
    "## Creating Tables\n",
    "\n",
    "Let's start off with loading three of the eight `.csv` files from the `expanded_data` folder in the current directory to our newly created DuckDB database. Like in the previous tutorial, we will [create a schema](https://ploomber-sql.readthedocs.io/en/latest/intro-to-sql/joining-data-in-sql.html#creating-a-schema) `b1` in which we will store the tables. Here we use the `CREATE TABLE` syntax in DuckDB to ingest four of the eight `.csv` files. The `read_csv_auto` is a function that helps SQL understand our local `.csv` file for creation into our database.\n",
    "\n",
    "Delete tables"
   ]
  },
  {
   "cell_type": "code",
   "execution_count": 2,
   "id": "94cebbeb",
   "metadata": {},
   "outputs": [
    {
     "data": {
      "text/html": [
       "<span style=\"None\">Running query in &#x27;duckdb:///bank_data.duck.db&#x27;</span>"
      ],
      "text/plain": [
       "Running query in 'duckdb:///bank_data.duck.db'"
      ]
     },
     "metadata": {},
     "output_type": "display_data"
    },
    {
     "data": {
      "text/html": [
       "<table>\n",
       "    <thead>\n",
       "        <tr>\n",
       "            <th>Success</th>\n",
       "        </tr>\n",
       "    </thead>\n",
       "    <tbody>\n",
       "    </tbody>\n",
       "</table>\n",
       "<span style='font-style:italic;font-size:11px'><code>ResultSet</code> : to convert to pandas, call <a href='https://jupysql.ploomber.io/en/latest/integrations/pandas.html'><code>.DataFrame()</code></a> or to polars, call <a href='https://jupysql.ploomber.io/en/latest/integrations/polars.html'><code>.PolarsDataFrame()</code></a></span><br>"
      ],
      "text/plain": [
       "+---------+\n",
       "| Success |\n",
       "+---------+\n",
       "+---------+"
      ]
     },
     "execution_count": 2,
     "metadata": {},
     "output_type": "execute_result"
    }
   ],
   "source": [
    "%%sql\n",
    "DROP TABLE IF EXISTS b1.loan;\n",
    "DROP TABLE IF EXISTS b1.account;\n",
    "DROP TABLE IF EXISTS b1.district;\n",
    "DROP SCHEMA IF EXISTS b1;"
   ]
  },
  {
   "cell_type": "code",
   "execution_count": 3,
   "id": "c187e221",
   "metadata": {},
   "outputs": [
    {
     "data": {
      "text/html": [
       "<span style=\"None\">Running query in &#x27;duckdb:///bank_data.duck.db&#x27;</span>"
      ],
      "text/plain": [
       "Running query in 'duckdb:///bank_data.duck.db'"
      ]
     },
     "metadata": {},
     "output_type": "display_data"
    },
    {
     "data": {
      "text/html": [
       "<table>\n",
       "    <thead>\n",
       "        <tr>\n",
       "            <th>Count</th>\n",
       "        </tr>\n",
       "    </thead>\n",
       "    <tbody>\n",
       "    </tbody>\n",
       "</table>\n",
       "<span style='font-style:italic;font-size:11px'><code>ResultSet</code> : to convert to pandas, call <a href='https://jupysql.ploomber.io/en/latest/integrations/pandas.html'><code>.DataFrame()</code></a> or to polars, call <a href='https://jupysql.ploomber.io/en/latest/integrations/polars.html'><code>.PolarsDataFrame()</code></a></span><br>"
      ],
      "text/plain": [
       "+-------+\n",
       "| Count |\n",
       "+-------+\n",
       "+-------+"
      ]
     },
     "execution_count": 3,
     "metadata": {},
     "output_type": "execute_result"
    }
   ],
   "source": [
    "%%sql\n",
    "CREATE SCHEMA b1;\n",
    "CREATE TABLE b1.account AS\n",
    "FROM read_csv_auto('expanded_data/account.csv', header=True, sep=',');\n",
    "CREATE TABLE b1.district AS\n",
    "FROM read_csv_auto('expanded_data/district.csv', header=True, sep=',');\n",
    "CREATE TABLE b1.loan AS\n",
    "FROM read_csv_auto('expanded_data/loan.csv', header=True, sep=',');"
   ]
  },
  {
   "cell_type": "markdown",
   "id": "6796d594",
   "metadata": {},
   "source": [
    "The code above will create three tables in the database schema: `b1.account`, `b1.district`, `b1.loan`.\n",
    "\n",
    "## Exploring the data\n",
    "\n",
    "Let's take a look at its entries."
   ]
  },
  {
   "cell_type": "code",
   "execution_count": null,
   "id": "4c1b8b91",
   "metadata": {},
   "outputs": [],
   "source": [
    "%sqlcmd explore --table b1.account"
   ]
  },
  {
   "cell_type": "code",
   "execution_count": null,
   "id": "945d7338",
   "metadata": {},
   "outputs": [],
   "source": [
    "%sqlcmd explore --table b1.district"
   ]
  },
  {
   "cell_type": "code",
   "execution_count": null,
   "id": "a5bedbcb",
   "metadata": {},
   "outputs": [],
   "source": [
    "%sqlcmd explore --table b1.loan"
   ]
  },
  {
   "cell_type": "markdown",
   "id": "7c29910e",
   "metadata": {},
   "source": [
    "## Matplotlib inheritance\n",
    "\n",
    "Seaborn is built on top of Matplotlib. Therefore, depending on the seaborn plotting command, it will return either a Matplotlib axes or figure object. If the plotting function is axes-level, a single `matplotlib.pyplot.Axes` object is returned. This object accepts an `ax=` argument, which integrates with Matplotlib's <b>object-oriented interface</b> and allows composing plots with other plots. On the other hand, if the plotting function is figure-level, a `FacetGrid` object is returned. This object, unlike the axes-level object, is more standalone, but \"smart\" about subplot organization. To learn about these objects in greater detail, visit seaborn's website [here](https://seaborn.pydata.org/tutorial/function_overview.html#figure-level-vs-axes-level-functions).\n",
    "\n",
    "A few examples denoting this distinction are shown below.\n",
    "\n",
    "### Axes-level\n",
    "\n",
    "Suppose we want to identify whether gentrification increases the average salary of two regions, using the data we downloaded above. We first save our [CTE (Common Table Expression)](https://ploomber-sql.readthedocs.io/en/latest/advanced-querying-techniques/ctes) named `levels_example` that takes in the columns, `average_salary`, `ratio_of_urban_inhabitants`, and `region`, and filters for two regions, 'central Bohemia' and 'east Bohemia', from the `b1.district` table."
   ]
  },
  {
   "cell_type": "code",
   "execution_count": 4,
   "id": "20c19c31",
   "metadata": {},
   "outputs": [
    {
     "data": {
      "text/html": [
       "<span style=\"None\">Running query in &#x27;duckdb:///bank_data.duck.db&#x27;</span>"
      ],
      "text/plain": [
       "Running query in 'duckdb:///bank_data.duck.db'"
      ]
     },
     "metadata": {},
     "output_type": "display_data"
    },
    {
     "data": {
      "text/html": [
       "<table>\n",
       "    <thead>\n",
       "        <tr>\n",
       "            <th>average_salary</th>\n",
       "            <th>ratio_of_urban_inhabitants</th>\n",
       "            <th>region</th>\n",
       "        </tr>\n",
       "    </thead>\n",
       "    <tbody>\n",
       "        <tr>\n",
       "            <td>8507</td>\n",
       "            <td>46.7</td>\n",
       "            <td>central Bohemia</td>\n",
       "        </tr>\n",
       "        <tr>\n",
       "            <td>8980</td>\n",
       "            <td>41.7</td>\n",
       "            <td>central Bohemia</td>\n",
       "        </tr>\n",
       "        <tr>\n",
       "            <td>9753</td>\n",
       "            <td>67.4</td>\n",
       "            <td>central Bohemia</td>\n",
       "        </tr>\n",
       "        <tr>\n",
       "            <td>9307</td>\n",
       "            <td>51.4</td>\n",
       "            <td>central Bohemia</td>\n",
       "        </tr>\n",
       "        <tr>\n",
       "            <td>8546</td>\n",
       "            <td>51.5</td>\n",
       "            <td>central Bohemia</td>\n",
       "        </tr>\n",
       "        <tr>\n",
       "            <td>9920</td>\n",
       "            <td>63.4</td>\n",
       "            <td>central Bohemia</td>\n",
       "        </tr>\n",
       "        <tr>\n",
       "            <td>11277</td>\n",
       "            <td>69.4</td>\n",
       "            <td>central Bohemia</td>\n",
       "        </tr>\n",
       "        <tr>\n",
       "            <td>8899</td>\n",
       "            <td>55.3</td>\n",
       "            <td>central Bohemia</td>\n",
       "        </tr>\n",
       "        <tr>\n",
       "            <td>10124</td>\n",
       "            <td>46.7</td>\n",
       "            <td>central Bohemia</td>\n",
       "        </tr>\n",
       "        <tr>\n",
       "            <td>9622</td>\n",
       "            <td>36.5</td>\n",
       "            <td>central Bohemia</td>\n",
       "        </tr>\n",
       "    </tbody>\n",
       "</table>\n",
       "<span style='font-style:italic;font-size:11px'><code>ResultSet</code> : to convert to pandas, call <a href='https://jupysql.ploomber.io/en/latest/integrations/pandas.html'><code>.DataFrame()</code></a> or to polars, call <a href='https://jupysql.ploomber.io/en/latest/integrations/polars.html'><code>.PolarsDataFrame()</code></a></span><br>\n",
       "<span style=\"font-style:italic;text-align:center;\">Truncated to displaylimit of 10</span><br><span style=\"font-style:italic;text-align:center;\">If you want to see more, please visit <a href=\"https://jupysql.ploomber.io/en/latest/api/configuration.html#displaylimit\">displaylimit</a> configuration</span>"
      ],
      "text/plain": [
       "+----------------+----------------------------+-----------------+\n",
       "| average_salary | ratio_of_urban_inhabitants |      region     |\n",
       "+----------------+----------------------------+-----------------+\n",
       "|      8507      |            46.7            | central Bohemia |\n",
       "|      8980      |            41.7            | central Bohemia |\n",
       "|      9753      |            67.4            | central Bohemia |\n",
       "|      9307      |            51.4            | central Bohemia |\n",
       "|      8546      |            51.5            | central Bohemia |\n",
       "|      9920      |            63.4            | central Bohemia |\n",
       "|     11277      |            69.4            | central Bohemia |\n",
       "|      8899      |            55.3            | central Bohemia |\n",
       "|     10124      |            46.7            | central Bohemia |\n",
       "|      9622      |            36.5            | central Bohemia |\n",
       "+----------------+----------------------------+-----------------+"
      ]
     },
     "execution_count": 4,
     "metadata": {},
     "output_type": "execute_result"
    }
   ],
   "source": [
    "%%sql --save levels_example\n",
    "SELECT average_salary, ratio_of_urban_inhabitants, region\n",
    "FROM b1.district\n",
    "WHERE region IN ('central Bohemia', 'east Bohemia');"
   ]
  },
  {
   "cell_type": "markdown",
   "id": "7d5614f9",
   "metadata": {},
   "source": [
    "The result of the CTE is saved as a pandas `DataFrame()`:"
   ]
  },
  {
   "cell_type": "code",
   "execution_count": null,
   "id": "6d96efe9",
   "metadata": {},
   "outputs": [],
   "source": [
    "result = %sql SELECT * FROM levels_example\n",
    "df = pd.DataFrame(result)"
   ]
  },
  {
   "cell_type": "markdown",
   "id": "b98f8ef6",
   "metadata": {},
   "source": [
    "You can determine what is returned using Python's `type()` function:"
   ]
  },
  {
   "cell_type": "code",
   "execution_count": null,
   "id": "d54de361",
   "metadata": {},
   "outputs": [],
   "source": [
    "plt.rcParams[\"figure.dpi\"] = 300  # high resolution\n",
    "\n",
    "scatter_plt = sns.scatterplot(\n",
    "    data=df, x=\"ratio_of_urban_inhabitants\", y=\"average_salary\", hue=\"region\"\n",
    ")\n",
    "print(type(scatter_plt))\n",
    "plt.show()"
   ]
  },
  {
   "cell_type": "markdown",
   "id": "33b9898a",
   "metadata": {},
   "source": [
    "Notice that the `sns.scatterplot()` function returns a Matplotlib `Axes` object, a single plot that is inclusive of the data from both regions. Other seaborn functions, including `regplot`, `boxplot`, `kdeplot`, and many others, also return Matplotlib `Axes` objects. Therefore, we can use various Matplotlib axes [commands](https://seaborn.pydata.org/generated/seaborn.axes_style.html) to modify the Seaborn figure.\n",
    "\n",
    "### Figure-level\n",
    "\n",
    "On the other hand, we can show that `sns.relplot()` returns a `FacetGrid` object, creating separate plots for the regions:"
   ]
  },
  {
   "cell_type": "code",
   "execution_count": null,
   "id": "46865b05",
   "metadata": {},
   "outputs": [],
   "source": [
    "facet_plt = sns.relplot(\n",
    "    data=df, x=\"ratio_of_urban_inhabitants\", y=\"average_salary\", col=\"region\"\n",
    ")\n",
    "print(type(facet_plt))\n",
    "plt.show()"
   ]
  },
  {
   "cell_type": "markdown",
   "id": "9eb61e74",
   "metadata": {},
   "source": [
    "Other figure-level seaborn functions include `catplot`, `displot`, `pairplot`, and `jointplot`.\n",
    "\n",
    "```{important}\n",
    "The legends are placed outside the plot if a Figure-level plotting function is used. See scatterplot section below.\n",
    "```\n",
    "\n",
    "Let's now jump into one of the most simple, yet essential, data visualizations: the bar plot.\n",
    "\n",
    "## Barplots\n",
    "\n",
    "The most basic [`seaborn.barplot()`](https://seaborn.pydata.org/generated/seaborn.barplot.html) function takes a categorical and a numeric variable as <b>encodings</b>. A second layer of grouping, preferably with another categorical variable, can be added to the `hue` argument.\n",
    "\n",
    "### Example\n",
    "\n",
    "Suppose the marketing manager wants to see a visualization for the number of <b>unique</b> loan ID's associated with each status of paying off the loan. To tackle this question, we will, first, create a CTE from the `b1.loan` table and obtain the counts for each status in different columns:"
   ]
  },
  {
   "cell_type": "code",
   "execution_count": null,
   "id": "afe29b1d",
   "metadata": {},
   "outputs": [],
   "source": [
    "%%sql --save bar_plot_example\n",
    "SELECT DISTINCT status, COUNT(loan_id) AS count_loan_id\n",
    "FROM b1.loan\n",
    "GROUP BY status\n",
    "ORDER BY status;"
   ]
  },
  {
   "cell_type": "markdown",
   "id": "89a9f709",
   "metadata": {},
   "source": [
    "Save the CTE as a pandas `DataFrame()`:"
   ]
  },
  {
   "cell_type": "code",
   "execution_count": null,
   "id": "1d283f88",
   "metadata": {},
   "outputs": [],
   "source": [
    "result = %sql SELECT * FROM bar_plot_example\n",
    "df = pd.DataFrame(result)"
   ]
  },
  {
   "cell_type": "markdown",
   "id": "df6d3221",
   "metadata": {},
   "source": [
    "Finally, use `seaborn.barplot()` to produce a bar plot:"
   ]
  },
  {
   "cell_type": "code",
   "execution_count": null,
   "id": "d51e3bec",
   "metadata": {},
   "outputs": [],
   "source": [
    "plt.figure(figsize=(15, 5), dpi=300)  # Initialize blank canvas\n",
    "sns.barplot(data=df, x=\"status\", y=\"count_loan_id\")\n",
    "plt.xlabel(\"Status of Paying off Loan\")\n",
    "plt.ylabel(\"Count\")\n",
    "plt.title(\"Count of Loan ID's by Loan Status\")\n",
    "plt.show()"
   ]
  },
  {
   "cell_type": "markdown",
   "id": "8e79b381",
   "metadata": {},
   "source": [
    "### Question 1 (Medium)\n",
    "\n",
    "The marketing manager now wants you to provide the same information as the example above, but with an added grouping of the frequency of issuance of statements, which corresponds to the `frequency` variable in the `b1.account` table. Create a grouped bar plot with  clear axes labels, axes tick marks, title, and legend.\n",
    "\n",
    "<b>Hint</b> Since the `frequency` variable is not in b1.loan`, think of which SQL operation you can employ to combine both tables. Moreover, the b1.loan` is a subset of the `b1.account` so use the appropriate technique that provides all rows from `b1.account`.\n",
    "\n",
    "<!-- #region -->\n",
    "<details>\n",
    "<summary>Answers</summary>\n",
    "\n",
    "We start off by creating a CTE from both the `b1.loan` and `b1.account` table with the help of a `LEFT JOIN` on `account_id`. The reason for choosing this join is because all `account_id`'s in `b1.loan` are present in `b1.account`, so we obtain all accounts in the database. Next, because we also want counts by `frequency`, we add it to the `GROUP BY` clause and ensure we pass `DISTINCT` in the `SELECT` clause:"
   ]
  },
  {
   "cell_type": "code",
   "execution_count": null,
   "id": "4ed5180a",
   "metadata": {},
   "outputs": [],
   "source": [
    "%%sql --save bar_plot_question\n",
    "SELECT DISTINCT status, frequency, COUNT(loan_id) AS count_loan_id\n",
    "FROM b1.account\n",
    "LEFT JOIN b1.loan\n",
    "    ON b1.account.account_id = b1.loan.account_id\n",
    "GROUP BY status, frequency\n",
    "ORDER BY status;"
   ]
  },
  {
   "cell_type": "markdown",
   "id": "952d57eb",
   "metadata": {},
   "source": [
    "Save the CTE as a pandas `DataFrame()`:"
   ]
  },
  {
   "cell_type": "code",
   "execution_count": null,
   "id": "88e76d7f",
   "metadata": {},
   "outputs": [],
   "source": [
    "result = %sql SELECT * FROM bar_plot_question\n",
    "df = pd.DataFrame(result)"
   ]
  },
  {
   "cell_type": "markdown",
   "id": "a145fe5d",
   "metadata": {},
   "source": [
    "Finally, use `seaborn.barplot()`, this time with the `hue` argument, to produce a <b>grouped bar plot</b>:"
   ]
  },
  {
   "cell_type": "code",
   "execution_count": null,
   "id": "d7a42472",
   "metadata": {},
   "outputs": [],
   "source": [
    "plt.figure(figsize=(15, 5), dpi=300)  # Initialize blank canvas\n",
    "sns.barplot(data=df, x=\"status\", y=\"count_loan_id\", hue=\"frequency\")\n",
    "plt.xlabel(\"Status of Paying off Loan\")\n",
    "plt.ylabel(\"Count\")\n",
    "plt.title(\"Count of Loan ID's by Loan Status and Freq. of Statement Issuance\")\n",
    "plt.show()"
   ]
  },
  {
   "cell_type": "markdown",
   "id": "63407f28",
   "metadata": {},
   "source": [
    "</details>\n",
    "<!-- #endregion -->\n",
    "\n",
    "<!-- #region -->\n",
    "\n",
    "## Scatter plots\n",
    "\n",
    "Scatter plots help us analyze relationships between two numeric variables. In the [Matplotlib inheritance](https://ploomber-sql.readthedocs.io/en/latest/visualizing-your-sql-queries/plotting-with-seaborn.html#matplotlib-inheritance) section above, we saw examples of the `scatterplot` function, which create axes-level objects, to analyze the effect of `ratio_of_urban_inhabitants` on `average_salary` by `region`. Below, we will introduce a figure-level function `relplot`, along with some customizations, to create faceted scatter plots that help us easily visualize data from multiple tables and columns.\n",
    "\n",
    "### Example\n",
    "\n",
    "Let us travel back some decades for the purpose of this example! Suppose the local municipality wants to visually assess, using the bank data, their hypothesis that an increasing unemployment rate leads to clients opting for good-standing (status either \"A\" or \"C\"), short-term (<= 1 year) loans of lower amounts in the districts of south Moravia and north Moravia in the year 1996 by duration and status.\n",
    "\n",
    "Instead of not only creating multiple sub-scatterplots manually but also filtering the joined dataset multiple times, we can do this in one line using `relplot`! The encodings (`x` and `y`), semantics (`hue`, etc.), and facet positions (`row` and `col`) are the only arguments we have to worry about when creating the faceted figure. However, before doing so, we need to get the data in order by performing `LEFT JOIN` on all the three tables and filtering by `region`, `duration`, and `status`. We shall save this table in a CTE named"
   ]
  },
  {
   "cell_type": "code",
   "execution_count": null,
   "id": "e50df262",
   "metadata": {},
   "outputs": [],
   "source": [
    "%%sql --save relplot_example\n",
    "SELECT status, duration, amount, region, unemployment_rate_96\n",
    "FROM b1.account AS a\n",
    "LEFT JOIN b1.loan AS l\n",
    "ON a.account_id = l.account_id\n",
    "LEFT JOIN b1.district AS d\n",
    "ON d.district_id = a.district_id\n",
    "WHERE region IN ('north Moravia', 'south Moravia') AND\n",
    "duration <= 24 AND status IN ('A', 'C');"
   ]
  },
  {
   "cell_type": "markdown",
   "id": "e534941c",
   "metadata": {},
   "source": [
    "Like before, save the CTE as a pandas `DataFrame()`:"
   ]
  },
  {
   "cell_type": "code",
   "execution_count": null,
   "id": "1dc8430b",
   "metadata": {},
   "outputs": [],
   "source": [
    "result = %sql SELECT * FROM relplot_example\n",
    "df = pd.DataFrame(result)"
   ]
  },
  {
   "cell_type": "markdown",
   "id": "eb04298e",
   "metadata": {},
   "source": [
    "In this `sns.relplot`, we we assign the `col` argument to the variable `region` and the `row` argument to the variable `status` that creates a faceted figure with multiple subplots arranged across both rows and columns of the grid:"
   ]
  },
  {
   "cell_type": "code",
   "execution_count": null,
   "id": "324d6e9e",
   "metadata": {},
   "outputs": [],
   "source": [
    "sns.relplot(\n",
    "    data=df,\n",
    "    x=\"unemployment_rate_96\",\n",
    "    y=\"amount\",\n",
    "    hue=\"duration\",\n",
    "    col=\"region\",\n",
    "    row=\"status\",\n",
    "    height=3,\n",
    "    aspect=1.5,\n",
    ")\n",
    "plt.show()"
   ]
  },
  {
   "cell_type": "markdown",
   "id": "e26b14a0",
   "metadata": {},
   "source": [
    "This visualization should definitely help the local municipality obtain a first glance of their hypothesis! Upon eyeballing it, we do not see any apparent correlation of unemployment rate with the loan amount, but we can see that higher duration loans lead to higher amounts. Therefore, using faceted plots, we can accelerate our EDA process and focus on important relationships in the data.\n",
    "\n",
    "However, there are still some problems with this plot. The axes labels and legend title are not descriptive enough and the plot lacks a title. We can customize `FacetGrid` figures by using Matplotlib figure-level functions that affect all facets to reduce duplication of labels. See the functions below and consult the [`FacetGrid` documentation](https://seaborn.pydata.org/generated/seaborn.FacetGrid.html) and [Matplotlib documentation](https://matplotlib.org/stable/gallery/subplots_axes_and_figures/) to know more:"
   ]
  },
  {
   "cell_type": "code",
   "execution_count": null,
   "id": "965a2bfb",
   "metadata": {},
   "outputs": [],
   "source": [
    "g = sns.relplot(\n",
    "    data=df,\n",
    "    x=\"unemployment_rate_96\",\n",
    "    y=\"amount\",\n",
    "    hue=\"duration\",\n",
    "    col=\"region\",\n",
    "    row=\"status\",\n",
    "    facet_kws={\"margin_titles\": True},\n",
    "    height=4,\n",
    "    aspect=1,\n",
    ")\n",
    "\n",
    "g.set(xlabel=None, ylabel=None)  # remove duplicate x and y axis labels\n",
    "g.set_titles(  # facet titles\n",
    "    row_template=\"Status: {row_name}\", col_template=\"{col_name}\"\n",
    ")\n",
    "\n",
    "g._legend.set_title(\"Duration (months)\")\n",
    "g.legend.set_bbox_to_anchor((1.25, 0.5))  # Shift legend to the right\n",
    "\n",
    "g.fig.suptitle(  # main title of the figure\n",
    "    \"Unemployment Rate vs Loan Amount by Loan\", x=0.235, fontsize=12\n",
    ")\n",
    "g.fig.text(  # subtitle of the figure\n",
    "    0.235,\n",
    "    0.95,\n",
    "    \"Data subsetted on Region and Status\",\n",
    "    ha=\"right\",\n",
    "    va=\"top\",\n",
    "    fontsize=10,\n",
    ")\n",
    "\n",
    "g.fig.supylabel(\"Loan Amount ($)\")  # y-axis label for all facets\n",
    "g.fig.supxlabel(\"Unemployment Rate (%)\")  # x-axis label for all facets\n",
    "g.fig.subplots_adjust(top=0.9)  # adjust the Figure position\n",
    "\n",
    "plt.show(g)"
   ]
  },
  {
   "cell_type": "markdown",
   "id": "ff9c548f",
   "metadata": {},
   "source": [
    "If we wanted to access individual facets of the plot, we could use axes-level methods. For example, `g.axes[0,0].set_xlabel('axes label 1')` will set the x-axis label of the first quadrant facet and `g.axes[0,1].set_xlabel('axes label 2')` will set the x-axis label of the facet row-adjacent to the first quadrant facet and so on.\n",
    "\n",
    "Consult the previously linked docs and the [documentation](https://seaborn.pydata.org/generated/seaborn.relplot.html) of `relplot` to answer the question below!\n",
    "\n",
    "### Question 2 (Hard)\n",
    "\n",
    "Suppose that the local municipality now comes back to ask for a similar plot, but with all loan durations included. Their feedback on the previous graph was that they would only like to see two facets or subplots at max for readability. Your job is to modify the CTE from the above example to produce a `relplot` figure that incorporates the <b>same encodings</b> but <b>additional visual semantics</b>, including `style` for `region`, `size` for `duration`, and subplots by `status`. Make sure to use a blue-red color palette for the subplots and customize axes labels for clarity.\n",
    "\n",
    "<b>Hint</b> Try to find an example that does exactly what the question asks in the [documentation](https://seaborn.pydata.org/generated/seaborn.relplot.html)\n",
    "\n",
    "<!-- #region -->\n",
    "<details>\n",
    "\n",
    "<summary>Answers</summary>\n",
    "\n",
    "We first modify the `relplot_example` CTE by removing the filter for `duration`:"
   ]
  },
  {
   "cell_type": "code",
   "execution_count": null,
   "id": "08947c88",
   "metadata": {},
   "outputs": [],
   "source": [
    "%%sql --save relplot_question\n",
    "SELECT status, duration, amount, region, unemployment_rate_96\n",
    "FROM b1.account AS a\n",
    "LEFT JOIN b1.loan AS l\n",
    "ON a.account_id = l.account_id\n",
    "LEFT JOIN b1.district AS d\n",
    "ON d.district_id = a.district_id\n",
    "WHERE region IN ('north Moravia', 'south Moravia') AND\n",
    "status IN ('A', 'C');"
   ]
  },
  {
   "cell_type": "markdown",
   "id": "df9d8fdb",
   "metadata": {},
   "source": [
    "Save the CTE as a pandas `DataFrame()`:"
   ]
  },
  {
   "cell_type": "code",
   "execution_count": null,
   "id": "5f616883",
   "metadata": {},
   "outputs": [],
   "source": [
    "result = %sql SELECT * FROM relplot_question\n",
    "df = pd.DataFrame(result)"
   ]
  },
  {
   "cell_type": "markdown",
   "id": "549c612e",
   "metadata": {},
   "source": [
    "Finally, `sns.relplot` is called and stored in a variable for customizing the x-axis label. Note that the `sizes` argument specifies magnitude of the point `size`, which is used to control the visibility of the points:"
   ]
  },
  {
   "cell_type": "code",
   "execution_count": null,
   "id": "cc83c609",
   "metadata": {},
   "outputs": [],
   "source": [
    "g = sns.relplot(\n",
    "    data=df,\n",
    "    x=\"unemployment_rate_96\",\n",
    "    y=\"amount\",\n",
    "    size=\"duration\",\n",
    "    style=\"region\",\n",
    "    hue=\"status\",\n",
    "    col=\"status\",\n",
    "    palette=[\"b\", \"r\"],\n",
    "    sizes=(10, 100),\n",
    ")\n",
    "g.set(xlabel=None, ylabel=\"Loan Amount ($)\")  # remove duplicate x axis label\n",
    "g.fig.supxlabel(\"Unemployment Rate (%)\")  # x-axis label for whole figure\n",
    "plt.show(g)"
   ]
  },
  {
   "cell_type": "markdown",
   "id": "8d44f1ee",
   "metadata": {},
   "source": [
    "</details>\n",
    "<!-- #endregion -->\n",
    "\n",
    "## Density plots\n",
    "\n",
    "A kernel density estimate (KDE) plot is a method for visualizing the distribution of observations in a dataset, analogous to a histogram. KDE represents the data using a continuous probability density curve in one or more dimensions. Relative to a histogram, KDE can produce a plot that is less cluttered and more interpretable, especially when drawing multiple distributions.\n",
    "\n",
    "```{important}\n",
    "The bandwidth, or standard deviation of the smoothing kernel, is an important parameter. Misspecification of the bandwidth can produce a distorted representation of the data.\n",
    "```\n",
    "\n",
    "### Example\n",
    "\n",
    "Seaborn's [`kdeplot` <b>axes-level function</b>](https://seaborn.pydata.org/generated/seaborn.kdeplot.html) can help us easily visualize KDE's of multiple numeric variables. Its figure-level equivalent is the [`displot` function](https://seaborn.pydata.org/generated/seaborn.displot.html#seaborn.displot) with which we can produce KDE plots by specifying `kind=\"kde\"`.\n",
    "\n",
    "Suppose the finance manager wants a visual representation of two distributions, the loan `amount` by loan `status` and loan `amount` by loan `duration`. We can easily produce a `kdeplot` to not only draw multiple distributions in a single plot but also create axes subplots. Before this, we first produce a CTE with the two variables and save it as a pandas `DataFrame()`:"
   ]
  },
  {
   "cell_type": "code",
   "execution_count": null,
   "id": "ff7672e0",
   "metadata": {},
   "outputs": [],
   "source": [
    "%%sql --save kde_example\n",
    "SELECT amount, status, payments, duration\n",
    "FROM b1.loan\n",
    "ORDER BY status;"
   ]
  },
  {
   "cell_type": "code",
   "execution_count": null,
   "id": "07345830",
   "metadata": {},
   "outputs": [],
   "source": [
    "result = %sql SELECT * FROM kde_example\n",
    "df = pd.DataFrame(result)"
   ]
  },
  {
   "cell_type": "code",
   "execution_count": null,
   "id": "465b55c1",
   "metadata": {},
   "outputs": [],
   "source": [
    "plt.figure(figsize=(10, 3), dpi=300)  # Initialize blank canvas\n",
    "\n",
    "plt.subplot(1, 2, 1)  # first quadrant\n",
    "sns.kdeplot(data=df, x=\"amount\", hue=\"status\")\n",
    "plt.title(\"KDE of Loan Amount ($) by Loan Status\")  # Set title\n",
    "plt.xlabel(\"Loan Amount ($)\")  # Set x-axis label\n",
    "\n",
    "plt.subplot(1, 2, 2)  # second quadrant\n",
    "sns.kdeplot(data=df, x=\"amount\", hue=\"duration\")\n",
    "plt.title(\"KDE of Loan Amount ($) by Loan Duration (months)\")  # Set title\n",
    "plt.xlabel(\"Loan Amount ($)\")  # Set x-axis label\n",
    "plt.show()"
   ]
  },
  {
   "cell_type": "markdown",
   "id": "66fbe8c3",
   "metadata": {},
   "source": [
    "### Question 3 (Easy)\n",
    "\n",
    "Similar to the way we customized our figure-level plots for the previous section, we can do the same for axes-level plots too! Your task is to remove the duplicate axes labels and rename the legend titles to provide a cleaner, publication-level visualization. For loan `duration`, provide the units in years rather than months.\n",
    "\n",
    "<b>Hint</b> Consult Matplotlib's axes class [documentation](https://matplotlib.org/stable/api/axes_api.html) to find the right functions!\n",
    "\n",
    "<!-- #region -->\n",
    "<details>\n",
    "\n",
    "<summary>Answers</summary>\n",
    "\n",
    "We do not need to make a new CTE and can jump straight into programming with seaborn. Since we are using the same plot as the example, copy pasting the code and building on top of it is a nice idea. Instead of using multiple `plt.subplot()` functions, we initialize the whole figure with `fig` and the individual axes, in this case only two (`ax1` and `ax2`), with `plt.subplots(1, 2, ...)`. The first and second plots are customized with their respective axes objects and the functions from `matplotlib.axes` class:"
   ]
  },
  {
   "cell_type": "code",
   "execution_count": null,
   "id": "466052d0",
   "metadata": {},
   "outputs": [],
   "source": [
    "fig, (ax1, ax2) = plt.subplots(1, 2, figsize=(12, 4), sharex=True, sharey=True)\n",
    "\n",
    "sns.kdeplot(data=df, x=\"amount\", hue=\"status\", ax=ax1)\n",
    "ax1.set_title(\"KDE of Loan Amount ($) by Loan Status\")\n",
    "ax1.set_xlabel(\"\")  # Remove x-axis label\n",
    "ax1.legend([\"A\", \"B\", \"C\", \"D\"], title=\"Loan Status\")\n",
    "\n",
    "sns.kdeplot(data=df, x=\"amount\", hue=\"duration\", ax=ax2)\n",
    "ax2.set_title(\"KDE of Loan Amount ($) by Loan Duration (years)\")\n",
    "ax2.set_xlabel(\"\")  # Remove x-axis label\n",
    "ax2.legend([\"1\", \"2\", \"3\", \"4\", \"5\"], title=\"Loan Duration (years)\")\n",
    "\n",
    "fig.supxlabel(\"Loan Amount ($)\")  # x-axis label for whole figure\n",
    "\n",
    "plt.show()"
   ]
  },
  {
   "cell_type": "markdown",
   "id": "ed0bac0c",
   "metadata": {},
   "source": [
    "</details>\n",
    "<!-- #endregion -->\n",
    "\n",
    "The plot above is cleaner, with less overplotting, and has the correct units across all labels. It is worth taking the extra time to produce good quality visualizations, especially for assignment or paper/conference submissions.\n",
    "\n",
    "## Box and whisker plot\n",
    "\n",
    "A box and whisker plot (box plot for short) displays the five-number summary of a set of data. The five-number summary is the minimum, first quartile, median, third quartile, and maximum. In a box plot, we draw a box from the first quartile (25th percentile) to the third quartile (75th percentile). A vertical line goes through the box at the median, which is also the 50th percentile.\n",
    "\n",
    "In seaborn, `boxplot` is an Axes-level function and has the same object-oriented functionality as the `kdeplot`. There are several visual variations of boxplots in seaborn, such as the `violinplot`, `swarmplot` or `stripplot`, and `boxenplot`. All of these functions are also at the axes-level.\n",
    "\n",
    "### Example\n",
    "\n",
    "Suppose the finance manager wants boxplots of the moving-average of loan `amount`, rounded to 0 decimals, for every three dates preceding and every two dates following the current date of a record. These amounts should be displayed with the the loan's `duration`. If we recall, we saw this example in the Advanced Aggregations [section](https://ploomber-sql.readthedocs.io/en/latest/advanced-querying-techniques/advanced-aggregations.html#question-2-hard).\n",
    "\n",
    "Let us create the CTE and turn it into a pandas `Dataframe()` first:"
   ]
  },
  {
   "cell_type": "code",
   "execution_count": null,
   "id": "3cd8c344",
   "metadata": {},
   "outputs": [],
   "source": [
    "%%sql --save boxplot_example\n",
    "SELECT date, duration, ROUND(avg_amount, 0) AS avg_amount\n",
    "FROM (SELECT date, duration, AVG(amount) OVER (ORDER BY date ROWS BETWEEN 3 PRECEDING AND 2 FOLLOWING) AS avg_amount FROM b1.loan)\n",
    "ORDER BY date;"
   ]
  },
  {
   "cell_type": "code",
   "execution_count": null,
   "id": "985e21ea",
   "metadata": {},
   "outputs": [],
   "source": [
    "result = %sql SELECT * FROM boxplot_example\n",
    "df = pd.DataFrame(result)"
   ]
  },
  {
   "cell_type": "code",
   "execution_count": null,
   "id": "9921d517",
   "metadata": {},
   "outputs": [],
   "source": [
    "plt.figure(figsize=(15, 5), dpi=300)  # Initialize blank canvas\n",
    "sns.boxplot(data=df, x=\"duration\", y=\"avg_amount\")\n",
    "plt.ylabel(\"Moving-Average Loan Amount ($)\")\n",
    "plt.xlabel(\"Loan Duration (months)\")\n",
    "plt.show()"
   ]
  },
  {
   "cell_type": "markdown",
   "id": "637bd802",
   "metadata": {},
   "source": [
    "### Question 4 (Medium)\n",
    "\n",
    "The manager comes back and asks for another grouping layer, loan `status`, on top of the boxplot in the example. The idea should remain the same, but this time calculate the moving-average of loan `amount` for every five dates following the current date of a record. Also, output the loan `duration` in years rather than months and rename the legend title to \"Loan Status\".\n",
    "\n",
    "<b>Hint</b> Recall the clause used to group the data when using windowing queries. Also, use [`matplotlib.pyplot`](https://matplotlib.org/stable/api/pyplot_summary.html) functions to quickly and easily customize the plot.\n",
    "\n",
    "<!-- #region -->\n",
    "<details>\n",
    "\n",
    "<summary>Answers</summary>\n",
    "\n",
    "The additional clause in the CTE is `PARTITION BY`, which adds the additional grouping by `status`. The windowing frame is also changed to incorporate five rows ahead of the current row:"
   ]
  },
  {
   "cell_type": "code",
   "execution_count": null,
   "id": "da644c3d",
   "metadata": {},
   "outputs": [],
   "source": [
    "%%sql --save boxplot_question\n",
    "SELECT date, duration, status, ROUND(avg_amount, 0) AS avg_amount\n",
    "FROM (SELECT date, duration, status, AVG(amount) OVER (PARTITION BY status ORDER BY date ROWS BETWEEN CURRENT ROW AND 5 FOLLOWING) AS avg_amount FROM b1.loan)\n",
    "ORDER BY date;"
   ]
  },
  {
   "cell_type": "code",
   "execution_count": null,
   "id": "1c85e6ba",
   "metadata": {},
   "outputs": [],
   "source": [
    "result = %sql SELECT * FROM boxplot_question\n",
    "df = pd.DataFrame(result)"
   ]
  },
  {
   "cell_type": "markdown",
   "id": "69e4ee93",
   "metadata": {},
   "source": [
    "Unlike the previous section in which we employed the `matplotlib.axes` functions to customize the plot, we use the simpler `matplotlib.pyplot` functions because we have not faceted the boxplot:"
   ]
  },
  {
   "cell_type": "code",
   "execution_count": null,
   "id": "4dc97e39",
   "metadata": {},
   "outputs": [],
   "source": [
    "plt.figure(figsize=(15, 5), dpi=300)  # Initialize blank canvas\n",
    "sns.boxplot(data=df, x=\"duration\", y=\"avg_amount\", hue=\"status\")\n",
    "plt.ylabel(\"Moving-Average Loan Amount ($)\")\n",
    "plt.xlabel(\"Loan Duration (years)\")\n",
    "plt.xticks([0, 1, 2, 3, 4], [\"1\", \"2\", \"3\", \"4\", \"5\"])\n",
    "plt.legend(title=\"Loan Status\")\n",
    "plt.show()"
   ]
  },
  {
   "cell_type": "markdown",
   "id": "1936ec2f",
   "metadata": {},
   "source": [
    "</details>\n",
    "<!-- #endregion -->"
   ]
  },
  {
   "cell_type": "markdown",
   "id": "dbe8e8cf",
   "metadata": {},
   "source": [
    "## Wrapping Up\n",
    "\n",
    "In this section, we learned about plotting four types of visualizations with seaborn. To summarize:\n",
    "\n",
    "- Axes-level functions plot onto a single subplot that may or may not exist at the time the function is called\n",
    "\n",
    "- Figure-level functions internally create a matplotlib figure, potentially including multiple subplots\n",
    "\n",
    "- `seaborn.barplot`, an axes-level function, should be used for visualizing count data\n",
    "\n",
    "- `seaborn.scatterplot`, an axes-level function, helps visualize correlations between two numeric variables, subsetted on categorical variables if needed. `seaborn.relplot` is a figure-level function that that combines `scatterplot`with a FacetGrid and can expedite the EDA process when combining multiple types of columns into a single visualization\n",
    "\n",
    "- `seaborn.kdeplot`, an axes-level function, creates a Kernel Density Estimate plot, analogous to a histogram. KDE represents the data using a continuous probability density curve in one or more dimensions. The function can also account for categorical levels. Its figure-level alternative is `seaborn.distplot`\n",
    "\n",
    "- `seaborn.boxplot` is useful for visualizing the summary distribution of numeric variables, grouped by none, one, or multiple catgeorical variables. Several variations of the boxplot are provided by seaborn\n",
    "\n",
    "In the next section, you will learn how to plot similar visualizations using the `plotly` python library.\n",
    "\n",
    "## References\n",
    "\n",
    "API reference - seaborn 0.12.2 documentation. (n.d.). https://seaborn.pydata.org/api.html\n",
    "\n",
    "API Reference - Matplotlib 3.7.1 documentation. (n.d.). https://matplotlib.org/stable/api/index"
   ]
  }
 ],
 "metadata": {
  "kernelspec": {
   "display_name": "Python 3 (ipykernel)",
   "language": "python",
   "name": "python3"
  },
  "language_info": {
   "codemirror_mode": {
    "name": "ipython",
    "version": 3
   },
   "file_extension": ".py",
   "mimetype": "text/x-python",
   "name": "python",
   "nbconvert_exporter": "python",
   "pygments_lexer": "ipython3",
   "version": "3.10.0"
  }
 },
 "nbformat": 4,
 "nbformat_minor": 5
}
