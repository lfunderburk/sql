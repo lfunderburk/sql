{
 "cells": [
  {
   "cell_type": "code",
   "execution_count": 1,
   "metadata": {},
   "outputs": [],
   "source": [
    "import duckdb\n",
    "import requests"
   ]
  },
  {
   "cell_type": "code",
   "execution_count": 2,
   "metadata": {},
   "outputs": [],
   "source": [
    "def init_duck_db(duckdb_file_path, res):\n",
    "    \"\"\"\n",
    "    Initialize DuckDB database and create tables for each dataframe\n",
    "\n",
    "    Parameters\n",
    "    ----------\n",
    "    duckdb_file_path : str\n",
    "        Path to the DuckDB database file\n",
    "\n",
    "    \"\"\"\n",
    "    conn = duckdb.connect(duckdb_file_path, read_only=False)\n",
    "\n",
    "    tables = conn.execute(\"SHOW TABLES;\").fetchall()\n",
    "    if ('movies',) not in tables:\n",
    "        conn.execute(\"\"\"\n",
    "            CREATE TABLE movies (\n",
    "                genre_ids INTEGER[],\n",
    "                id INTEGER,\n",
    "                original_language VARCHAR,\n",
    "                overview VARCHAR,\n",
    "                popularity FLOAT,\n",
    "                release_date VARCHAR,\n",
    "                title VARCHAR,\n",
    "                vote_average FLOAT,\n",
    "                vote_count INTEGER\n",
    "            );\n",
    "        \"\"\")\n",
    "\n",
    "    # Step 4: Insert the results from the API into the movies table\n",
    "    for movie in res['results']:\n",
    "        genre_ids_str = \",\".join(map(str, movie['genre_ids'])) \n",
    "        conn.execute(f\"\"\"\n",
    "            INSERT INTO movies VALUES (ARRAY[{genre_ids_str}], {movie['id']}, '{movie['original_language']}', '{movie['overview'].replace(\"'\", \"''\")}', {movie['popularity']}, '{movie['release_date']}', '{movie['title'].replace(\"'\", \"''\")}', {movie['vote_average']}, {movie['vote_count']});\n",
    "        \"\"\")\n",
    "\n",
    "\n",
    "    conn.close()"
   ]
  },
  {
   "cell_type": "code",
   "execution_count": 3,
   "metadata": {},
   "outputs": [],
   "source": [
    "# Parameter to get 7000 English movies\n",
    "language_count = {\n",
    "    'en':500,\n",
    "}\n",
    "api_key = ''"
   ]
  },
  {
   "cell_type": "code",
   "execution_count": 4,
   "metadata": {},
   "outputs": [],
   "source": [
    "def drop_existing_table(duckdb_file_path):\n",
    "    conn = duckdb.connect(duckdb_file_path, read_only=False)\n",
    "    conn.execute(\"DROP TABLE movies;\")\n",
    "    conn.close()"
   ]
  },
  {
   "cell_type": "code",
   "execution_count": 5,
   "metadata": {},
   "outputs": [],
   "source": [
    "def get_movies(lang, freq, duckdb_file_path):\n",
    "  url = 'https://api.themoviedb.org/3/movie/popular?api_key={api_key}&with_original_language={lang}'.format(api_key=api_key,lang=lang)\n",
    "  movies = 0\n",
    "  page = 1\n",
    "  progress = 0\n",
    "  \n",
    "  drop_existing_table(duckdb_file_path)\n",
    "  \n",
    "  while movies<freq:\n",
    "    try:\n",
    "        res = requests.get(url+\"&page=\"+str(page))\n",
    "    except:\n",
    "        raise ('not connected to internet or movidb issue')\n",
    "\n",
    "    if res.status_code != 200:\n",
    "        print ('error')\n",
    "        return []\n",
    "\n",
    "    res = res.json()\n",
    "    \n",
    "    if 'errors' in res.keys():\n",
    "      print('api error !!!')\n",
    "      return movies\n",
    "\n",
    "    movies +=  len(res['results'])\n",
    "\n",
    "    init_duck_db(duckdb_file_path, res)\n",
    "    \n",
    "    if progress != round(movies/freq*100):\n",
    "      progress = round(movies/freq*100)\n",
    "      if progress%5==0:\n",
    "        print( progress, end=\"%, \")\n",
    "      \n",
    "    \n",
    "    \n",
    "    page = page + 1\n",
    "  return movies"
   ]
  },
  {
   "cell_type": "code",
   "execution_count": 6,
   "metadata": {},
   "outputs": [
    {
     "name": "stdout",
     "output_type": "stream",
     "text": [
      "Downloading en: 20%, 40%, 60%, 80%, 100%, Total movies found: 500\n"
     ]
    }
   ],
   "source": [
    "for key in language_count:\n",
    "  # print(key,language_count[key])\n",
    "  print(\"Downloading\", key, end=\": \")\n",
    "  movies = get_movies(key,language_count[key], \"movies.duckdb\")\n",
    "  print('Total movies found:', movies)"
   ]
  },
  {
   "cell_type": "code",
   "execution_count": 12,
   "metadata": {},
   "outputs": [],
   "source": [
    "# Loading in SQL extension\n",
    "%reload_ext sql\n",
    "# Initiating a DuckDB database named 'bank_data.duck.db'\n",
    "# %sql duckdb:///movies.duckdb"
   ]
  },
  {
   "cell_type": "code",
   "execution_count": 8,
   "metadata": {},
   "outputs": [],
   "source": [
    "%config SqlMagic.displaylimit = 20\n"
   ]
  },
  {
   "cell_type": "code",
   "execution_count": 13,
   "metadata": {},
   "outputs": [
    {
     "data": {
      "text/html": [
       "<span style=\"None\">Running query in &#x27;duckdb:///movies.duckdb&#x27;</span>"
      ],
      "text/plain": [
       "Running query in 'duckdb:///movies.duckdb'"
      ]
     },
     "metadata": {},
     "output_type": "display_data"
    },
    {
     "data": {
      "text/html": [
       "<table>\n",
       "    <thead>\n",
       "        <tr>\n",
       "            <th>count_star()</th>\n",
       "        </tr>\n",
       "    </thead>\n",
       "    <tbody>\n",
       "        <tr>\n",
       "            <td>500</td>\n",
       "        </tr>\n",
       "    </tbody>\n",
       "</table>\n",
       "<span style='font-style:italic;font-size:11px'><code>ResultSet</code> : to convert to pandas, call <a href='https://jupysql.ploomber.io/en/latest/integrations/pandas.html'><code>.DataFrame()</code></a> or to polars, call <a href='https://jupysql.ploomber.io/en/latest/integrations/polars.html'><code>.PolarsDataFrame()</code></a></span><br>"
      ],
      "text/plain": [
       "+--------------+\n",
       "| count_star() |\n",
       "+--------------+\n",
       "|     500      |\n",
       "+--------------+"
      ]
     },
     "execution_count": 13,
     "metadata": {},
     "output_type": "execute_result"
    }
   ],
   "source": [
    "%%sql \n",
    "SELECT COUNT(*)\n",
    "FROM movies\n",
    "LIMIT 10"
   ]
  },
  {
   "cell_type": "code",
   "execution_count": 10,
   "metadata": {},
   "outputs": [],
   "source": [
    "# conn = duckdb.connect('movies.duckdb')\n",
    "# result = conn.execute('SELECT count(*) FROM movies').fetchall()\n",
    "# print(result)\n",
    "# conn.close()"
   ]
  },
  {
   "cell_type": "code",
   "execution_count": null,
   "metadata": {},
   "outputs": [],
   "source": []
  }
 ],
 "metadata": {
  "kernelspec": {
   "display_name": "imbd",
   "language": "python",
   "name": "python3"
  },
  "language_info": {
   "codemirror_mode": {
    "name": "ipython",
    "version": 3
   },
   "file_extension": ".py",
   "mimetype": "text/x-python",
   "name": "python",
   "nbconvert_exporter": "python",
   "pygments_lexer": "ipython3",
   "version": "3.11.4"
  },
  "orig_nbformat": 4
 },
 "nbformat": 4,
 "nbformat_minor": 2
}
