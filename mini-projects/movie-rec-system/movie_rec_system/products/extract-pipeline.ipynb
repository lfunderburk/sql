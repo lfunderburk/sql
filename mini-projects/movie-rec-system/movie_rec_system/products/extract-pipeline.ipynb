{
 "cells": [
  {
   "cell_type": "code",
   "execution_count": 1,
   "id": "a3dc9be7",
   "metadata": {
    "execution": {
     "iopub.execute_input": "2023-08-24T22:49:36.684713Z",
     "iopub.status.busy": "2023-08-24T22:49:36.684369Z",
     "iopub.status.idle": "2023-08-24T22:49:36.693977Z",
     "shell.execute_reply": "2023-08-24T22:49:36.693265Z"
    },
    "papermill": {
     "duration": 0.020036,
     "end_time": "2023-08-24T22:49:36.695952",
     "exception": false,
     "start_time": "2023-08-24T22:49:36.675916",
     "status": "completed"
    },
    "tags": [
     "parameters"
    ]
   },
   "outputs": [],
   "source": [
    "# declare a list tasks whose products you want to use as inputs\n",
    "upstream = None\n"
   ]
  },
  {
   "cell_type": "code",
   "execution_count": 2,
   "id": "db5ade00",
   "metadata": {
    "execution": {
     "iopub.execute_input": "2023-08-24T22:49:36.707921Z",
     "iopub.status.busy": "2023-08-24T22:49:36.707594Z",
     "iopub.status.idle": "2023-08-24T22:49:36.714187Z",
     "shell.execute_reply": "2023-08-24T22:49:36.713032Z"
    },
    "papermill": {
     "duration": 0.016392,
     "end_time": "2023-08-24T22:49:36.715864",
     "exception": false,
     "start_time": "2023-08-24T22:49:36.699472",
     "status": "completed"
    },
    "tags": [
     "injected-parameters"
    ]
   },
   "outputs": [],
   "source": [
    "# Parameters\n",
    "product = {\"nb\": \"/Users/macpro/Documents/GitHub/sql/mini-projects/movie-rec-system/movie_rec_system/products/extract-pipeline.ipynb\", \"data\": \"/Users/macpro/Documents/GitHub/sql/mini-projects/movie-rec-system/movies_data.duckdb\"}\n"
   ]
  },
  {
   "cell_type": "code",
   "execution_count": 3,
   "id": "76740f15",
   "metadata": {
    "execution": {
     "iopub.execute_input": "2023-08-24T22:49:36.721323Z",
     "iopub.status.busy": "2023-08-24T22:49:36.721098Z",
     "iopub.status.idle": "2023-08-24T22:49:36.868432Z",
     "shell.execute_reply": "2023-08-24T22:49:36.868044Z"
    },
    "papermill": {
     "duration": 0.151943,
     "end_time": "2023-08-24T22:49:36.869934",
     "exception": false,
     "start_time": "2023-08-24T22:49:36.717991",
     "status": "completed"
    },
    "tags": []
   },
   "outputs": [],
   "source": [
    "import duckdb\n",
    "import requests\n",
    "from dotenv import load_dotenv\n",
    "import os"
   ]
  },
  {
   "cell_type": "code",
   "execution_count": 4,
   "id": "b59ab133",
   "metadata": {
    "execution": {
     "iopub.execute_input": "2023-08-24T22:49:36.874155Z",
     "iopub.status.busy": "2023-08-24T22:49:36.873980Z",
     "iopub.status.idle": "2023-08-24T22:49:36.876232Z",
     "shell.execute_reply": "2023-08-24T22:49:36.875812Z"
    },
    "papermill": {
     "duration": 0.00562,
     "end_time": "2023-08-24T22:49:36.877460",
     "exception": false,
     "start_time": "2023-08-24T22:49:36.871840",
     "status": "completed"
    },
    "tags": []
   },
   "outputs": [],
   "source": [
    "# Parameter to get 500 English movies\n",
    "language_count = {\n",
    "    \"en\": 500,\n",
    "}"
   ]
  },
  {
   "cell_type": "code",
   "execution_count": 5,
   "id": "b4378f8a",
   "metadata": {
    "execution": {
     "iopub.execute_input": "2023-08-24T22:49:36.881642Z",
     "iopub.status.busy": "2023-08-24T22:49:36.881425Z",
     "iopub.status.idle": "2023-08-24T22:49:36.885707Z",
     "shell.execute_reply": "2023-08-24T22:49:36.884873Z"
    },
    "papermill": {
     "duration": 0.008586,
     "end_time": "2023-08-24T22:49:36.887797",
     "exception": false,
     "start_time": "2023-08-24T22:49:36.879211",
     "status": "completed"
    },
    "tags": []
   },
   "outputs": [],
   "source": [
    "# Load API key from .env file\n",
    "load_dotenv(\".env\")\n",
    "api_key = os.getenv(\"API_KEY\")"
   ]
  },
  {
   "cell_type": "code",
   "execution_count": 6,
   "id": "35740b58",
   "metadata": {
    "execution": {
     "iopub.execute_input": "2023-08-24T22:49:36.893697Z",
     "iopub.status.busy": "2023-08-24T22:49:36.893482Z",
     "iopub.status.idle": "2023-08-24T22:49:36.899249Z",
     "shell.execute_reply": "2023-08-24T22:49:36.898761Z"
    },
    "papermill": {
     "duration": 0.010311,
     "end_time": "2023-08-24T22:49:36.900623",
     "exception": false,
     "start_time": "2023-08-24T22:49:36.890312",
     "status": "completed"
    },
    "tags": []
   },
   "outputs": [],
   "source": [
    "def init_duck_db_movies(duckdb_file_path, res):\n",
    "    \"\"\"\n",
    "    Create table for movies API call in DuckDB\n",
    "    If the table exists, new data is inserted\n",
    "\n",
    "    Parameters\n",
    "    ----------\n",
    "    duckdb_file_path : str\n",
    "        Path to the DuckDB database file\n",
    "    res : requests object\n",
    "        API call results\n",
    "    \"\"\"\n",
    "    conn = duckdb.connect(duckdb_file_path, read_only=False)\n",
    "\n",
    "    tables = conn.execute(\"SHOW TABLES;\").fetchall()\n",
    "    if (\"movies\",) not in tables:\n",
    "        conn.execute(\n",
    "            \"\"\"\n",
    "            CREATE TABLE movies (\n",
    "                genre_ids INT[],\n",
    "                id INTEGER,\n",
    "                original_language VARCHAR,\n",
    "                overview VARCHAR,\n",
    "                popularity DOUBLE,\n",
    "                release_date TIMESTAMP,\n",
    "                title VARCHAR,\n",
    "                vote_average DOUBLE,\n",
    "                vote_count INTEGER\n",
    "            );\n",
    "        \"\"\"\n",
    "        )\n",
    "\n",
    "    for movie in res[\"results\"]:\n",
    "        genre_ids_str = \",\".join(map(str, movie[\"genre_ids\"]))\n",
    "        conn.execute(\n",
    "            f\"\"\"\n",
    "            INSERT INTO movies VALUES (ARRAY[{genre_ids_str}], {movie['id']},\n",
    "            '{movie['original_language']}',\n",
    "            '{movie['overview'].replace(\"'\", \"''\")}',\n",
    "            {movie['popularity']},\n",
    "            '{movie['release_date']}',\n",
    "            '{movie['title'].replace(\"'\", \"''\")}',\n",
    "            {movie['vote_average']},\n",
    "            {movie['vote_count']});\n",
    "        \"\"\"\n",
    "        )\n",
    "\n",
    "    conn.close()"
   ]
  },
  {
   "cell_type": "code",
   "execution_count": 7,
   "id": "88c81f57",
   "metadata": {
    "execution": {
     "iopub.execute_input": "2023-08-24T22:49:36.905678Z",
     "iopub.status.busy": "2023-08-24T22:49:36.905459Z",
     "iopub.status.idle": "2023-08-24T22:49:36.908799Z",
     "shell.execute_reply": "2023-08-24T22:49:36.908380Z"
    },
    "papermill": {
     "duration": 0.00734,
     "end_time": "2023-08-24T22:49:36.910059",
     "exception": false,
     "start_time": "2023-08-24T22:49:36.902719",
     "status": "completed"
    },
    "tags": []
   },
   "outputs": [],
   "source": [
    "def init_duck_db_genres(duckdb_file_path, genres_data):\n",
    "    conn = duckdb.connect(duckdb_file_path, read_only=False)\n",
    "\n",
    "    tables = conn.execute(\"SHOW TABLES;\").fetchall()\n",
    "    if (\"genres\",) not in tables:\n",
    "        conn.execute(\n",
    "            \"\"\"\n",
    "            CREATE TABLE genres (\n",
    "                id INTEGER,\n",
    "                name VARCHAR\n",
    "            );\n",
    "        \"\"\"\n",
    "        )\n",
    "\n",
    "    for genre in genres_data:\n",
    "        conn.execute(\n",
    "            f\"\"\"\n",
    "            INSERT INTO genres VALUES ({genre['id']},\n",
    "            '{genre['name']}');\n",
    "        \"\"\"\n",
    "        )\n",
    "\n",
    "    conn.close()"
   ]
  },
  {
   "cell_type": "code",
   "execution_count": 8,
   "id": "46b1869b",
   "metadata": {
    "execution": {
     "iopub.execute_input": "2023-08-24T22:49:36.914656Z",
     "iopub.status.busy": "2023-08-24T22:49:36.914456Z",
     "iopub.status.idle": "2023-08-24T22:49:36.917703Z",
     "shell.execute_reply": "2023-08-24T22:49:36.917287Z"
    },
    "papermill": {
     "duration": 0.006902,
     "end_time": "2023-08-24T22:49:36.918887",
     "exception": false,
     "start_time": "2023-08-24T22:49:36.911985",
     "status": "completed"
    },
    "tags": []
   },
   "outputs": [],
   "source": [
    "def drop_existing_movies_table(duckdb_file_path):\n",
    "    \"\"\"\n",
    "    Drops existing movies tables\n",
    "\n",
    "    Parameters\n",
    "    ----------\n",
    "    duckdb_file_path : str\n",
    "        Path to the DuckDB database file\n",
    "    \"\"\"\n",
    "    conn = duckdb.connect(duckdb_file_path, read_only=False)\n",
    "\n",
    "    movies_table_exists = conn.execute(\n",
    "        \"SELECT 1 FROM information_schema.tables WHERE table_name = 'movies'\"\n",
    "    ).fetchone()\n",
    "\n",
    "    if movies_table_exists:\n",
    "        conn.execute(\"DROP TABLE movies;\")\n",
    "        print(\"Table 'movies' dropped.\")\n",
    "    else:\n",
    "        print(\"Table 'movies' does not yet exist. Creating 'movies' now.\")\n",
    "\n",
    "    conn.close()"
   ]
  },
  {
   "cell_type": "code",
   "execution_count": 9,
   "id": "8f1e893d",
   "metadata": {
    "execution": {
     "iopub.execute_input": "2023-08-24T22:49:36.922982Z",
     "iopub.status.busy": "2023-08-24T22:49:36.922817Z",
     "iopub.status.idle": "2023-08-24T22:49:36.925706Z",
     "shell.execute_reply": "2023-08-24T22:49:36.925306Z"
    },
    "papermill": {
     "duration": 0.006192,
     "end_time": "2023-08-24T22:49:36.926883",
     "exception": false,
     "start_time": "2023-08-24T22:49:36.920691",
     "status": "completed"
    },
    "tags": []
   },
   "outputs": [],
   "source": [
    "def drop_existing_genres_table(duckdb_file_path):\n",
    "    \"\"\"\n",
    "    Drops existing genres table\n",
    "\n",
    "    Parameters\n",
    "    ----------\n",
    "    duckdb_file_path : str\n",
    "        Path to the DuckDB database file\n",
    "    \"\"\"\n",
    "    conn = duckdb.connect(duckdb_file_path, read_only=False)\n",
    "\n",
    "    genres_table_exists = conn.execute(\n",
    "        \"SELECT 1 FROM information_schema.tables WHERE table_name = 'genres'\"\n",
    "    ).fetchone()\n",
    "\n",
    "    if genres_table_exists:\n",
    "        conn.execute(\"DROP TABLE genres;\")\n",
    "        print(\"Table 'genres' dropped.\")\n",
    "    else:\n",
    "        print(\"Table 'genres' does not yet exist. Creating 'genres' now.\")\n",
    "\n",
    "    conn.close()"
   ]
  },
  {
   "cell_type": "code",
   "execution_count": 10,
   "id": "fcd07a01",
   "metadata": {
    "execution": {
     "iopub.execute_input": "2023-08-24T22:49:36.930805Z",
     "iopub.status.busy": "2023-08-24T22:49:36.930641Z",
     "iopub.status.idle": "2023-08-24T22:49:36.935143Z",
     "shell.execute_reply": "2023-08-24T22:49:36.934765Z"
    },
    "papermill": {
     "duration": 0.007768,
     "end_time": "2023-08-24T22:49:36.936306",
     "exception": false,
     "start_time": "2023-08-24T22:49:36.928538",
     "status": "completed"
    },
    "tags": []
   },
   "outputs": [],
   "source": [
    "def get_movies(lang, freq, duckdb_file_path):\n",
    "    \"\"\"\n",
    "    Inserts API call results into DuckDB\n",
    "\n",
    "    Parameters\n",
    "    ----------\n",
    "    lang : str\n",
    "        Language of movies\n",
    "    freq : int\n",
    "        Amount of movies to extract\n",
    "    duckdb_file_path : str\n",
    "        Path to the DuckDB database file\n",
    "    \"\"\"\n",
    "    url = \"https://api.themoviedb.org/3/movie/popular?api_key={api_key}&with_original_language={lang}\".format(  # noqa E501\n",
    "        api_key=api_key, lang=lang\n",
    "    )\n",
    "    movies = 0\n",
    "    page = 1\n",
    "    progress = 0\n",
    "\n",
    "    drop_existing_movies_table(duckdb_file_path)\n",
    "\n",
    "    while movies < freq:\n",
    "        try:\n",
    "            res = requests.get(url + \"&page=\" + str(page))\n",
    "        except requests.exceptions.RequestException as e:\n",
    "            print(\"An error occurred during the request:\", e)\n",
    "            break\n",
    "        if res.status_code != 200:\n",
    "            print(\"error\")\n",
    "            return []\n",
    "\n",
    "        res = res.json()\n",
    "\n",
    "        if \"errors\" in res.keys():\n",
    "            print(\"api error !!!\")\n",
    "            return movies\n",
    "\n",
    "        movies += len(res[\"results\"])\n",
    "\n",
    "        init_duck_db_movies(duckdb_file_path, res)\n",
    "\n",
    "        if progress != round(movies / freq * 100):\n",
    "            progress = round(movies / freq * 100)\n",
    "            if progress % 5 == 0:\n",
    "                print(progress, end=\"%, \")\n",
    "\n",
    "        page = page + 1\n",
    "    return movies"
   ]
  },
  {
   "cell_type": "code",
   "execution_count": 11,
   "id": "0c3a613a",
   "metadata": {
    "execution": {
     "iopub.execute_input": "2023-08-24T22:49:36.940447Z",
     "iopub.status.busy": "2023-08-24T22:49:36.940292Z",
     "iopub.status.idle": "2023-08-24T22:49:36.943785Z",
     "shell.execute_reply": "2023-08-24T22:49:36.943449Z"
    },
    "papermill": {
     "duration": 0.006736,
     "end_time": "2023-08-24T22:49:36.944901",
     "exception": false,
     "start_time": "2023-08-24T22:49:36.938165",
     "status": "completed"
    },
    "tags": []
   },
   "outputs": [],
   "source": [
    "def get_genres(lang, duckdb_file_path):\n",
    "    \"\"\"\n",
    "    Inserts API call results into DuckDB\n",
    "\n",
    "    Parameters\n",
    "    ----------\n",
    "    lang : str\n",
    "        Language of movies\n",
    "    freq : int\n",
    "        Amount of movies to extract\n",
    "    duckdb_file_path : str\n",
    "        Path to the DuckDB database file\n",
    "    \"\"\"\n",
    "    url = \"https://api.themoviedb.org/3/genre/movie/list?api_key={api_key}&with_original_language={lang}\".format(  # noqa E501\n",
    "        api_key=api_key, lang=lang\n",
    "    )\n",
    "\n",
    "    drop_existing_genres_table(duckdb_file_path)\n",
    "\n",
    "    try:\n",
    "        res = requests.get(url)\n",
    "    except requests.exceptions.RequestException as e:\n",
    "        print(\"An error occurred during the request:\", e)\n",
    "        return []\n",
    "\n",
    "    if res.status_code != 200:\n",
    "        print(\"error\")\n",
    "        return []\n",
    "\n",
    "    res = res.json()\n",
    "\n",
    "    if \"errors\" in res.keys():\n",
    "        print(\"api error !!!\")\n",
    "        return []\n",
    "\n",
    "    genres_data = res[\"genres\"]\n",
    "    init_duck_db_genres(duckdb_file_path, genres_data)\n",
    "\n",
    "    return len(genres_data)"
   ]
  },
  {
   "cell_type": "code",
   "execution_count": 12,
   "id": "4a2dafa0",
   "metadata": {
    "execution": {
     "iopub.execute_input": "2023-08-24T22:49:36.949310Z",
     "iopub.status.busy": "2023-08-24T22:49:36.949104Z",
     "iopub.status.idle": "2023-08-24T22:49:42.264411Z",
     "shell.execute_reply": "2023-08-24T22:49:42.263880Z"
    },
    "papermill": {
     "duration": 5.320084,
     "end_time": "2023-08-24T22:49:42.266708",
     "exception": false,
     "start_time": "2023-08-24T22:49:36.946624",
     "status": "completed"
    },
    "tags": []
   },
   "outputs": [
    {
     "name": "stdout",
     "output_type": "stream",
     "text": [
      "Downloading en: Table 'movies' dropped.\n"
     ]
    },
    {
     "name": "stdout",
     "output_type": "stream",
     "text": [
      "20%, "
     ]
    },
    {
     "name": "stdout",
     "output_type": "stream",
     "text": [
      "40%, "
     ]
    },
    {
     "name": "stdout",
     "output_type": "stream",
     "text": [
      "60%, "
     ]
    },
    {
     "name": "stdout",
     "output_type": "stream",
     "text": [
      "80%, "
     ]
    },
    {
     "name": "stdout",
     "output_type": "stream",
     "text": [
      "100%, Total movies found: 500\n",
      "Table 'genres' dropped.\n"
     ]
    },
    {
     "name": "stdout",
     "output_type": "stream",
     "text": [
      "Total genres found: 19\n"
     ]
    }
   ],
   "source": [
    "for key in language_count:\n",
    "    # print(key,language_count[key])\n",
    "    print(\"Downloading\", key, end=\": \")\n",
    "    movies = get_movies(key, language_count[key], \"movies_data.duckdb\")\n",
    "    print(\"Total movies found:\", movies)\n",
    "    genres = get_genres(key, \"movies_data.duckdb\")\n",
    "    print(\"Total genres found:\", genres)"
   ]
  }
 ],
 "metadata": {
  "jupytext": {
   "cell_metadata_filter": "tags,-all",
   "main_language": "python",
   "notebook_metadata_filter": "-all",
   "text_representation": {
    "extension": ".py",
    "format_name": "light"
   }
  },
  "kernelspec": {
   "display_name": "Python 3 (ipykernel)",
   "language": "python",
   "name": "python3"
  },
  "language_info": {
   "codemirror_mode": {
    "name": "ipython",
    "version": 3
   },
   "file_extension": ".py",
   "mimetype": "text/x-python",
   "name": "python",
   "nbconvert_exporter": "python",
   "pygments_lexer": "ipython3",
   "version": "3.10.0"
  },
  "papermill": {
   "duration": 7.36849,
   "end_time": "2023-08-24T22:49:42.503910",
   "exception": null,
   "input_path": "/var/folders/2t/nqb9hcfs07n91h4v5p34slp00000gn/T/tmp56q153pm.ipynb",
   "output_path": "/Users/macpro/Documents/GitHub/sql/mini-projects/movie-rec-system/movie_rec_system/products/extract-pipeline.ipynb",
   "parameters": {
    "product": {
     "data": "/Users/macpro/Documents/GitHub/sql/mini-projects/movie-rec-system/movies_data.duckdb",
     "nb": "/Users/macpro/Documents/GitHub/sql/mini-projects/movie-rec-system/movie_rec_system/products/extract-pipeline.ipynb"
    }
   },
   "start_time": "2023-08-24T22:49:35.135420"
  }
 },
 "nbformat": 4,
 "nbformat_minor": 5
}