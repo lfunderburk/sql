{
 "cells": [
  {
   "cell_type": "code",
   "execution_count": null,
   "metadata": {},
   "outputs": [],
   "source": [
    "import pandas as pd\n",
    "from sklearn.feature_extraction.text import TfidfVectorizer\n",
    "from sklearn.metrics.pairwise import cosine_similarity\n",
    "from recommender_helper import content_movie_recommender"
   ]
  },
  {
   "cell_type": "markdown",
   "metadata": {},
   "source": [
    "### Change the below to match eda.ipynb"
   ]
  },
  {
   "cell_type": "code",
   "execution_count": null,
   "metadata": {},
   "outputs": [],
   "source": [
    "%reload_ext sql\n",
    "%sql duckdb:///../../movies_data.duckdb"
   ]
  },
  {
   "cell_type": "code",
   "execution_count": null,
   "metadata": {},
   "outputs": [],
   "source": [
    "df = %sql select * from movie_genre_data\n",
    "df = pd.DataFrame(df)\n",
    "df"
   ]
  },
  {
   "cell_type": "code",
   "execution_count": null,
   "metadata": {},
   "outputs": [],
   "source": [
    "# Create tf-idf matrix for text comparison\n",
    "tfidf = TfidfVectorizer()\n",
    "tfidf_matrix = tfidf.fit_transform(df[\"overview\"])"
   ]
  },
  {
   "cell_type": "code",
   "execution_count": null,
   "metadata": {},
   "outputs": [],
   "source": [
    "# Compute cosine similarity between all movie-descriptions\n",
    "similarity = cosine_similarity(tfidf_matrix)\n",
    "similarity_df = pd.DataFrame(\n",
    "    similarity, index=df.title.values, columns=df.title.values\n",
    ")  # noqa E501\n",
    "similarity_df.head(5)"
   ]
  },
  {
   "cell_type": "code",
   "execution_count": null,
   "metadata": {},
   "outputs": [],
   "source": [
    "movie_list = similarity_df.columns.values"
   ]
  },
  {
   "cell_type": "code",
   "execution_count": null,
   "metadata": {},
   "outputs": [],
   "source": [
    "sample_movies = [\"Spider-Man: Across the Spider-Verse\"]\n",
    "\n",
    "for movie in sample_movies:\n",
    "    content_movie_recommender(movie, similarity_df, movie_list, 10)"
   ]
  },
  {
   "cell_type": "markdown",
   "metadata": {},
   "source": [
    "### Using both genre and overview columns\n",
    "\n",
    "Let's now try to include the genres of the movies to our recommendation system. To do so, we're going to create a `combined` column that includes both a movie's \"overview\" and \"genre(s)\". \n",
    "\n",
    "We can adjust the \"weight\" of how genres influence our recommendation system by deciding how many times they appear in the `combined` column."
   ]
  },
  {
   "cell_type": "code",
   "execution_count": null,
   "metadata": {},
   "outputs": [],
   "source": [
    "df[\"combined\"] = (\n",
    "    df[\"overview\"] + \" \" + (df[\"genre_names\"] + \", \") * 2\n",
    ")  # Duplicate genres to give more weight, doesn't really affect the model\n",
    "df.combined[0]"
   ]
  },
  {
   "cell_type": "code",
   "execution_count": null,
   "metadata": {},
   "outputs": [],
   "source": [
    "tfidf_combined = TfidfVectorizer(stop_words=\"english\")\n",
    "tfidf_matrix_combined = tfidf_combined.fit_transform(df[\"combined\"])"
   ]
  },
  {
   "cell_type": "code",
   "execution_count": null,
   "metadata": {},
   "outputs": [],
   "source": [
    "similarity_combined = cosine_similarity(tfidf_matrix_combined)\n",
    "\n",
    "similarity_df_combined = pd.DataFrame(\n",
    "    similarity_combined, index=df.title.values, columns=df.title.values\n",
    ")\n",
    "\n",
    "similarity_df_combined.head(5)"
   ]
  },
  {
   "cell_type": "code",
   "execution_count": null,
   "metadata": {},
   "outputs": [],
   "source": [
    "combined_movie_list = similarity_df_combined.columns.values"
   ]
  },
  {
   "cell_type": "code",
   "execution_count": null,
   "metadata": {},
   "outputs": [],
   "source": [
    "sample_movies = [\"Spider-Man: Across the Spider-Verse\"]\n",
    "\n",
    "for movie in sample_movies:\n",
    "    content_movie_recommender(\n",
    "        movie, similarity_df_combined, combined_movie_list, 10\n",
    "    )  # noqa E501"
   ]
  }
 ],
 "metadata": {
  "kernelspec": {
   "display_name": "movies",
   "language": "python",
   "name": "python3"
  },
  "language_info": {
   "codemirror_mode": {
    "name": "ipython",
    "version": 3
   },
   "file_extension": ".py",
   "mimetype": "text/x-python",
   "name": "python",
   "nbconvert_exporter": "python",
   "pygments_lexer": "ipython3",
   "version": "3.10.0"
  },
  "orig_nbformat": 4
 },
 "nbformat": 4,
 "nbformat_minor": 2
}
