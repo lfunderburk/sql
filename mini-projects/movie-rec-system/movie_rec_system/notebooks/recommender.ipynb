{
 "cells": [
  {
   "cell_type": "markdown",
   "metadata": {},
   "source": [
    "# Recommendation Systems\n",
    "\n",
    "Recommendation systems seek to predict and present users with items or content they would find relevant and engaging. They operate behind the scenes in many of the digital platforms we interact with daily, such as streaming services, online retail sites, and social media platforms. At their core, these systems analyze vast amounts of data, including user behavior, preferences, and other contextual information to curate personalized content or product suggestions. The importance of recommendation systems lies in their ability to enhance user experience and engagement, drive content or product discovery, and boost business metrics like sales and retention. By offering tailor-made suggestions, they ultimately mitigate information overload, facilitate more informed choices, and play a pivotal role in enhancing user satisfaction and loyalty.\n",
    "\n",
    "There are many different types of recommendation systems. In this project, we primarily focus on implementing a `content-based recommender`.\n"
   ]
  },
  {
   "cell_type": "code",
   "execution_count": null,
   "metadata": {},
   "outputs": [],
   "source": [
    "import pandas as pd\n",
    "from sklearn.feature_extraction.text import TfidfVectorizer\n",
    "from sklearn.metrics.pairwise import cosine_similarity\n",
    "from recommender_helper import (\n",
    "    content_movie_recommender,\n",
    "    get_popularity_rmse,\n",
    "    get_vote_avg_rmse,\n",
    "    get_vote_count_rmse,\n",
    ")"
   ]
  },
  {
   "cell_type": "markdown",
   "metadata": {},
   "source": [
    "### Eventually change the below to match eda.ipynb so Ploomber can successfully build"
   ]
  },
  {
   "cell_type": "code",
   "execution_count": null,
   "metadata": {},
   "outputs": [],
   "source": [
    "%reload_ext sql\n",
    "%sql duckdb:///../../movies_data.duckdb"
   ]
  },
  {
   "cell_type": "code",
   "execution_count": null,
   "metadata": {},
   "outputs": [],
   "source": [
    "df = %sql select * from movie_genre_data\n",
    "df = pd.DataFrame(df)\n",
    "df"
   ]
  },
  {
   "cell_type": "markdown",
   "metadata": {},
   "source": [
    "### How Content-Based Recommenders Work\n",
    "\n",
    "Content-based recommenders work by analyzing the attributes of items as well as a user's historical interactions with such items. In this case, our items are movies and their attributes of interest are their respective `genre_names` and `overview` columns. Given that our data excludes any information on users, we will primarily focus on just comparing each movie's attributes to find similar ones.\n",
    "\n",
    "In summary, we will first vectorize each attribute of interest with TF-IDF and compute the similarity between these vectorized values using cosine similarity."
   ]
  },
  {
   "cell_type": "markdown",
   "metadata": {},
   "source": [
    "### TF-IDF\n",
    "\n",
    "Below, we utilize TF-IDF to vectorize the text under the `overview` column. This [article](https://www.learndatasci.com/glossary/tf-idf-term-frequency-inverse-document-frequency/#:~:text=Term%20Frequency%20%2D%20Inverse%20Document%20Frequency%20(TF%2DIDF)%20is,%2C%20relative%20to%20a%20corpus) provides a great introduction and summary as to how the math behinds TF-IDF works."
   ]
  },
  {
   "cell_type": "code",
   "execution_count": null,
   "metadata": {},
   "outputs": [],
   "source": [
    "# Create tf-idf matrix for text comparison\n",
    "tfidf = TfidfVectorizer()\n",
    "tfidf_matrix = tfidf.fit_transform(df[\"overview\"])"
   ]
  },
  {
   "cell_type": "markdown",
   "metadata": {},
   "source": [
    "### Cosine Simlarity\n",
    "\n",
    "Then we compute the cosine similarity between each movie's vectorized components. Movies with a high cosine similarity indicate that they are \"close\" to each other based off of their vectorized components."
   ]
  },
  {
   "cell_type": "code",
   "execution_count": null,
   "metadata": {},
   "outputs": [],
   "source": [
    "# Compute cosine similarity between all movie-descriptions\n",
    "similarity = cosine_similarity(tfidf_matrix)\n",
    "similarity_df = pd.DataFrame(\n",
    "    similarity, index=df.title.values, columns=df.title.values\n",
    ")  # noqa E501\n",
    "similarity_df.head(5)"
   ]
  },
  {
   "cell_type": "code",
   "execution_count": null,
   "metadata": {},
   "outputs": [],
   "source": [
    "movie_list = similarity_df.columns.values"
   ]
  },
  {
   "cell_type": "code",
   "execution_count": null,
   "metadata": {},
   "outputs": [],
   "source": [
    "sample_movie = \"Spider-Man: Across the Spider-Verse\"\n",
    "\n",
    "recommendations = content_movie_recommender(\n",
    "    sample_movie, similarity_df, movie_list, 10\n",
    ")  # noqa E501\n",
    "\n",
    "recommendations"
   ]
  },
  {
   "cell_type": "markdown",
   "metadata": {},
   "source": [
    "### Using both genre and overview columns\n",
    "\n",
    "Let's now try to include the genres of the movies to our recommendation system. To do so, we're going to create a `combined` column that includes both a movie's \"overview\" and \"genre(s)\". \n",
    "\n",
    "We can adjust the \"weight\" of how genres influence our recommendation system by deciding how many times they appear in the `combined` column."
   ]
  },
  {
   "cell_type": "code",
   "execution_count": null,
   "metadata": {},
   "outputs": [],
   "source": [
    "df[\"combined\"] = (\n",
    "    df[\"overview\"] + \" \" + (df[\"genre_names\"] + \", \") * 2\n",
    ")  # Duplicate genres to give more weight, experiment by adjusting\n",
    "df.combined[0]"
   ]
  },
  {
   "cell_type": "code",
   "execution_count": null,
   "metadata": {},
   "outputs": [],
   "source": [
    "tfidf_combined = TfidfVectorizer(stop_words=\"english\")\n",
    "tfidf_matrix_combined = tfidf_combined.fit_transform(df[\"combined\"])"
   ]
  },
  {
   "cell_type": "code",
   "execution_count": null,
   "metadata": {},
   "outputs": [],
   "source": [
    "similarity_combined = cosine_similarity(tfidf_matrix_combined)\n",
    "\n",
    "similarity_df_combined = pd.DataFrame(\n",
    "    similarity_combined, index=df.title.values, columns=df.title.values\n",
    ")\n",
    "\n",
    "similarity_df_combined.head(5)"
   ]
  },
  {
   "cell_type": "code",
   "execution_count": null,
   "metadata": {},
   "outputs": [],
   "source": [
    "combined_movie_list = similarity_df_combined.columns.values"
   ]
  },
  {
   "cell_type": "code",
   "execution_count": null,
   "metadata": {},
   "outputs": [],
   "source": [
    "sample_movie = \"Spider-Man: Across the Spider-Verse\"\n",
    "recommendations = content_movie_recommender(\n",
    "    sample_movie, similarity_df_combined, combined_movie_list, 10\n",
    ")  # noqa E501\n",
    "\n",
    "recommendations"
   ]
  },
  {
   "cell_type": "markdown",
   "metadata": {},
   "source": [
    "### Evaluating Our Recommender\n",
    "\n",
    "Normally, recommenders would be evaluated based off of a train test split, where the metrics involve whether historical users have interacted with the recommended movies. However, since we are limited to having data strictly on just information on movies themselves, we will evaluate our recommender based off of three different metrics.\n",
    "\n",
    "1. RMSE of `popularity`\n",
    "2. RMSE of `vote_average`\n",
    "3. RMSE of `vote_count`\n",
    "\n",
    "These are pretty rudimentary metrics to evaluate our recommender system on. But for now, they will suffice for learning purposes.\n",
    "\n",
    "Try experimenting with changing the weight of genres and tuning [`TfidfVectorizer`](https://scikit-learn.org/stable/modules/generated/sklearn.feature_extraction.text.TfidfVectorizer.html), particulary its `max_df` and `stop_words` parameters."
   ]
  },
  {
   "cell_type": "code",
   "execution_count": null,
   "metadata": {},
   "outputs": [],
   "source": [
    "df[\"combined\"] = (\n",
    "    df[\"overview\"] + \" \" + (df[\"genre_names\"] + \", \") * 2\n",
    ")  # Duplicate genres to give more weight, experiment by adjusting\n",
    "\n",
    "tfidf_combined = TfidfVectorizer(stop_words=\"english\")\n",
    "tfidf_matrix_combined = tfidf_combined.fit_transform(df[\"combined\"])\n",
    "\n",
    "similarity_combined = cosine_similarity(tfidf_matrix_combined)\n",
    "\n",
    "similarity_df_combined = pd.DataFrame(\n",
    "    similarity_combined, index=df.title.values, columns=df.title.values\n",
    ")\n",
    "\n",
    "combined_movie_list = similarity_df_combined.columns.values"
   ]
  },
  {
   "cell_type": "code",
   "execution_count": null,
   "metadata": {},
   "outputs": [],
   "source": [
    "sample_movie = \"Spider-Man: Across the Spider-Verse\"\n",
    "\n",
    "recommendations = content_movie_recommender(\n",
    "    sample_movie, similarity_df_combined, combined_movie_list, 10\n",
    ")  # noqa E501\n",
    "\n",
    "recommendations"
   ]
  },
  {
   "cell_type": "code",
   "execution_count": null,
   "metadata": {},
   "outputs": [],
   "source": [
    "popularity_rmse = get_popularity_rmse(df, sample_movie, recommendations)\n",
    "\n",
    "vote_avg_rmse = get_vote_avg_rmse(df, sample_movie, recommendations)\n",
    "\n",
    "vote_count_rmse = get_vote_count_rmse(df, sample_movie, recommendations)"
   ]
  },
  {
   "cell_type": "code",
   "execution_count": null,
   "metadata": {},
   "outputs": [],
   "source": [
    "print(\n",
    "    f\"Root Mean Square Error (RMSE) for:\\n\"\n",
    "    f\"Popularity: {popularity_rmse:.2f}\\n\"\n",
    "    f\"Vote Average: {vote_avg_rmse:.2f}\\n\"\n",
    "    f\"Vote Count: {vote_count_rmse:.2f}\"\n",
    ")"
   ]
  }
 ],
 "metadata": {
  "kernelspec": {
   "display_name": "movies",
   "language": "python",
   "name": "python3"
  },
  "language_info": {
   "codemirror_mode": {
    "name": "ipython",
    "version": 3
   },
   "file_extension": ".py",
   "mimetype": "text/x-python",
   "name": "python",
   "nbconvert_exporter": "python",
   "pygments_lexer": "ipython3",
   "version": "3.10.12"
  },
  "orig_nbformat": 4
 },
 "nbformat": 4,
 "nbformat_minor": 2
}
