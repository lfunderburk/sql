{
 "cells": [
  {
   "cell_type": "code",
   "execution_count": 1,
   "metadata": {},
   "outputs": [
    {
     "data": {
      "text/html": [
       "<span style=\"None\">Found pyproject.toml from &#x27;C:\\Users\\jpjon\\Documents\\Ploomber\\sql\\mini-projects\\movie-rec-system&#x27;</span>"
      ],
      "text/plain": [
       "Found pyproject.toml from 'C:\\Users\\jpjon\\Documents\\Ploomber\\sql\\mini-projects\\movie-rec-system'"
      ]
     },
     "metadata": {},
     "output_type": "display_data"
    }
   ],
   "source": [
    "%reload_ext sql\n",
    "%sql duckdb:///movies_data.duckdb"
   ]
  },
  {
   "cell_type": "code",
   "execution_count": 2,
   "metadata": {},
   "outputs": [
    {
     "data": {
      "text/html": [
       "<table>\n",
       "    <thead>\n",
       "        <tr>\n",
       "            <th>name</th>\n",
       "            <th>type</th>\n",
       "            <th>nullable</th>\n",
       "            <th>default</th>\n",
       "            <th>autoincrement</th>\n",
       "            <th>comment</th>\n",
       "        </tr>\n",
       "    </thead>\n",
       "    <tbody>\n",
       "        <tr>\n",
       "            <td>genre_ids</td>\n",
       "            <td>VARCHAR</td>\n",
       "            <td>True</td>\n",
       "            <td>None</td>\n",
       "            <td>False</td>\n",
       "            <td>None</td>\n",
       "        </tr>\n",
       "        <tr>\n",
       "            <td>id</td>\n",
       "            <td>INTEGER</td>\n",
       "            <td>True</td>\n",
       "            <td>None</td>\n",
       "            <td>False</td>\n",
       "            <td>None</td>\n",
       "        </tr>\n",
       "        <tr>\n",
       "            <td>original_language</td>\n",
       "            <td>VARCHAR</td>\n",
       "            <td>True</td>\n",
       "            <td>None</td>\n",
       "            <td>False</td>\n",
       "            <td>None</td>\n",
       "        </tr>\n",
       "        <tr>\n",
       "            <td>overview</td>\n",
       "            <td>VARCHAR</td>\n",
       "            <td>True</td>\n",
       "            <td>None</td>\n",
       "            <td>False</td>\n",
       "            <td>None</td>\n",
       "        </tr>\n",
       "        <tr>\n",
       "            <td>popularity</td>\n",
       "            <td>DOUBLE_PRECISION</td>\n",
       "            <td>True</td>\n",
       "            <td>None</td>\n",
       "            <td>False</td>\n",
       "            <td>None</td>\n",
       "        </tr>\n",
       "        <tr>\n",
       "            <td>release_date</td>\n",
       "            <td>TIMESTAMP</td>\n",
       "            <td>True</td>\n",
       "            <td>None</td>\n",
       "            <td>False</td>\n",
       "            <td>None</td>\n",
       "        </tr>\n",
       "        <tr>\n",
       "            <td>title</td>\n",
       "            <td>VARCHAR</td>\n",
       "            <td>True</td>\n",
       "            <td>None</td>\n",
       "            <td>False</td>\n",
       "            <td>None</td>\n",
       "        </tr>\n",
       "        <tr>\n",
       "            <td>vote_average</td>\n",
       "            <td>DOUBLE_PRECISION</td>\n",
       "            <td>True</td>\n",
       "            <td>None</td>\n",
       "            <td>False</td>\n",
       "            <td>None</td>\n",
       "        </tr>\n",
       "        <tr>\n",
       "            <td>vote_count</td>\n",
       "            <td>INTEGER</td>\n",
       "            <td>True</td>\n",
       "            <td>None</td>\n",
       "            <td>False</td>\n",
       "            <td>None</td>\n",
       "        </tr>\n",
       "    </tbody>\n",
       "</table>"
      ],
      "text/plain": [
       "+-------------------+------------------+----------+---------+---------------+---------+\n",
       "|        name       |       type       | nullable | default | autoincrement | comment |\n",
       "+-------------------+------------------+----------+---------+---------------+---------+\n",
       "|     genre_ids     |     VARCHAR      |   True   |   None  |     False     |   None  |\n",
       "|         id        |     INTEGER      |   True   |   None  |     False     |   None  |\n",
       "| original_language |     VARCHAR      |   True   |   None  |     False     |   None  |\n",
       "|      overview     |     VARCHAR      |   True   |   None  |     False     |   None  |\n",
       "|     popularity    | DOUBLE_PRECISION |   True   |   None  |     False     |   None  |\n",
       "|    release_date   |    TIMESTAMP     |   True   |   None  |     False     |   None  |\n",
       "|       title       |     VARCHAR      |   True   |   None  |     False     |   None  |\n",
       "|    vote_average   | DOUBLE_PRECISION |   True   |   None  |     False     |   None  |\n",
       "|     vote_count    |     INTEGER      |   True   |   None  |     False     |   None  |\n",
       "+-------------------+------------------+----------+---------+---------------+---------+"
      ]
     },
     "execution_count": 2,
     "metadata": {},
     "output_type": "execute_result"
    }
   ],
   "source": [
    "%sqlcmd columns -t movies"
   ]
  },
  {
   "cell_type": "code",
   "execution_count": 3,
   "metadata": {},
   "outputs": [
    {
     "data": {
      "text/html": [
       "<span style=\"None\">Running query in &#x27;duckdb:///movies_data.duckdb&#x27;</span>"
      ],
      "text/plain": [
       "Running query in 'duckdb:///movies_data.duckdb'"
      ]
     },
     "metadata": {},
     "output_type": "display_data"
    },
    {
     "name": "stderr",
     "output_type": "stream",
     "text": [
      "RuntimeError: If using snippets, you may pass the --with argument explicitly.\n",
      "For more details please refer: https://jupysql.ploomber.io/en/latest/compose.html#with-argument\n",
      "\n",
      "\n",
      "Original error message from DB driver:\n",
      "(duckdb.CatalogException) Catalog Error: Table with name testing does not exist!\n",
      "Did you mean \"information_schema.tables\"?\n",
      "LINE 1: select * from testing\n",
      "                      ^\n",
      "[SQL: select * from testing]\n",
      "(Background on this error at: https://sqlalche.me/e/14/f405)\n",
      "\n",
      "If you need help solving this issue, send us a message: https://ploomber.io/community\n"
     ]
    }
   ],
   "source": [
    "%sql select * from testing"
   ]
  },
  {
   "cell_type": "code",
   "execution_count": 11,
   "metadata": {},
   "outputs": [
    {
     "data": {
      "text/html": [
       "<span style=\"None\">Running query in &#x27;duckdb:///movies_data.duckdb&#x27;</span>"
      ],
      "text/plain": [
       "Running query in 'duckdb:///movies_data.duckdb'"
      ]
     },
     "metadata": {},
     "output_type": "display_data"
    },
    {
     "data": {
      "text/html": [
       "<table>\n",
       "    <thead>\n",
       "        <tr>\n",
       "            <th>genre_ids</th>\n",
       "            <th>id</th>\n",
       "            <th>original_language</th>\n",
       "            <th>overview</th>\n",
       "            <th>popularity</th>\n",
       "            <th>release_date</th>\n",
       "            <th>title</th>\n",
       "            <th>vote_average</th>\n",
       "            <th>vote_count</th>\n",
       "        </tr>\n",
       "    </thead>\n",
       "    <tbody>\n",
       "        <tr>\n",
       "            <td>[16, 35, 10751, 14, 10749]</td>\n",
       "            <td>976573</td>\n",
       "            <td>en</td>\n",
       "            <td>In a city where fire, water, land and air residents live together, a fiery young woman and a go-with-the-flow guy will discover something elemental: how much they have in common.</td>\n",
       "            <td>4863.437</td>\n",
       "            <td>2023-06-14 00:00:00</td>\n",
       "            <td>Elemental</td>\n",
       "            <td>7.8</td>\n",
       "            <td>1239</td>\n",
       "        </tr>\n",
       "        <tr>\n",
       "            <td>[53, 28]</td>\n",
       "            <td>724209</td>\n",
       "            <td>en</td>\n",
       "            <td>An intelligence operative for a shadowy global peacekeeping agency races to stop a hacker from stealing its most valuable — and dangerous — weapon.</td>\n",
       "            <td>3752.86</td>\n",
       "            <td>2023-08-09 00:00:00</td>\n",
       "            <td>Heart of Stone</td>\n",
       "            <td>6.9</td>\n",
       "            <td>629</td>\n",
       "        </tr>\n",
       "        <tr>\n",
       "            <td>[16, 28, 12, 878]</td>\n",
       "            <td>569094</td>\n",
       "            <td>en</td>\n",
       "            <td>After reuniting with Gwen Stacy, Brooklyn’s full-time, friendly neighborhood Spider-Man is catapulted across the Multiverse, where he encounters the Spider Society, a team of Spider-People charged with protecting the Multiverse’s very existence. But when the heroes clash on how to handle a new threat, Miles finds himself pitted against the other Spiders and must set out on his own to save those he loves most.</td>\n",
       "            <td>2374.865</td>\n",
       "            <td>2023-05-31 00:00:00</td>\n",
       "            <td>Spider-Man: Across the Spider-Verse</td>\n",
       "            <td>8.5</td>\n",
       "            <td>3625</td>\n",
       "        </tr>\n",
       "        <tr>\n",
       "            <td>[28, 12, 878]</td>\n",
       "            <td>667538</td>\n",
       "            <td>en</td>\n",
       "            <td>When a new threat capable of destroying the entire planet emerges, Optimus Prime and the Autobots must team up with a powerful faction known as the Maximals. With the fate of humanity hanging in the balance, humans Noah and Elena will do whatever it takes to help the Transformers as they engage in the ultimate battle to save Earth.</td>\n",
       "            <td>2134.463</td>\n",
       "            <td>2023-06-06 00:00:00</td>\n",
       "            <td>Transformers: Rise of the Beasts</td>\n",
       "            <td>7.5</td>\n",
       "            <td>2865</td>\n",
       "        </tr>\n",
       "        <tr>\n",
       "            <td>[35, 12, 14]</td>\n",
       "            <td>346698</td>\n",
       "            <td>en</td>\n",
       "            <td>Barbie and Ken are having the time of their lives in the colorful and seemingly perfect world of Barbie Land. However, when they get a chance to go to the real world, they soon discover the joys and perils of living among humans.</td>\n",
       "            <td>1860.335</td>\n",
       "            <td>2023-07-19 00:00:00</td>\n",
       "            <td>Barbie</td>\n",
       "            <td>7.4</td>\n",
       "            <td>3240</td>\n",
       "        </tr>\n",
       "        <tr>\n",
       "            <td>[28, 12, 878]</td>\n",
       "            <td>298618</td>\n",
       "            <td>en</td>\n",
       "            <td>When his attempt to save his family inadvertently alters the future, Barry Allen becomes trapped in a reality in which General Zod has returned and there are no Super Heroes to turn to. In order to save the world that he is in and return to the future that he knows, Barry's only hope is to race for his life. But will making the ultimate sacrifice be enough to reset the universe?</td>\n",
       "            <td>1744.899</td>\n",
       "            <td>2023-06-13 00:00:00</td>\n",
       "            <td>The Flash</td>\n",
       "            <td>7.0</td>\n",
       "            <td>2395</td>\n",
       "        </tr>\n",
       "        <tr>\n",
       "            <td>[28, 878, 27]</td>\n",
       "            <td>615656</td>\n",
       "            <td>en</td>\n",
       "            <td>An exploratory dive into the deepest depths of the ocean of a daring research team spirals into chaos when a malevolent mining operation threatens their mission and forces them into a high-stakes battle for survival.</td>\n",
       "            <td>1701.916</td>\n",
       "            <td>2023-08-02 00:00:00</td>\n",
       "            <td>Meg 2: The Trench</td>\n",
       "            <td>6.9</td>\n",
       "            <td>520</td>\n",
       "        </tr>\n",
       "        <tr>\n",
       "            <td>[28, 27, 53]</td>\n",
       "            <td>1006462</td>\n",
       "            <td>en</td>\n",
       "            <td>A horde of giant hungry alligators is unleashed on a group of in-transit prisoners and their guards after a massive hurricane floods Louisiana.</td>\n",
       "            <td>1623.891</td>\n",
       "            <td>2023-07-14 00:00:00</td>\n",
       "            <td>The Flood</td>\n",
       "            <td>6.9</td>\n",
       "            <td>137</td>\n",
       "        </tr>\n",
       "        <tr>\n",
       "            <td>[35, 10749]</td>\n",
       "            <td>884605</td>\n",
       "            <td>en</td>\n",
       "            <td>On the brink of losing her childhood home, Maddie discovers an intriguing job listing: wealthy helicopter parents looking for someone to “date” their introverted 19-year-old son, Percy, before he leaves for college. To her surprise, Maddie soon discovers the awkward Percy is no sure thing.</td>\n",
       "            <td>1591.22</td>\n",
       "            <td>2023-06-15 00:00:00</td>\n",
       "            <td>No Hard Feelings</td>\n",
       "            <td>7.1</td>\n",
       "            <td>753</td>\n",
       "        </tr>\n",
       "        <tr>\n",
       "            <td>[27, 9648, 53]</td>\n",
       "            <td>614479</td>\n",
       "            <td>en</td>\n",
       "            <td>To put their demons to rest once and for all, Josh Lambert and a college-aged Dalton Lambert must go deeper into The Further than ever before, facing their family's dark past and a host of new and more horrifying terrors that lurk behind the red door.</td>\n",
       "            <td>1420.728</td>\n",
       "            <td>2023-07-05 00:00:00</td>\n",
       "            <td>Insidious: The Red Door</td>\n",
       "            <td>6.9</td>\n",
       "            <td>912</td>\n",
       "        </tr>\n",
       "    </tbody>\n",
       "</table>\n",
       "<span style=\"font-style:italic;text-align:center;\">Truncated to <a href=\"https://jupysql.ploomber.io/en/latest/api/configuration.html#displaylimit\">displaylimit</a> of 10.</span>"
      ],
      "text/plain": [
       "+----------------------------+---------+-------------------+------------------------------------------------------------------------------------------------------------------------------------------------------------------------------------------------------------------------------------------------------------------------------------------------------------------------------------------------------------------------------------------------------------------------------+------------+---------------------+-------------------------------------+--------------+------------+\n",
       "|         genre_ids          |    id   | original_language |                                                                                                                                                                                                           overview                                                                                                                                                                                                           | popularity |     release_date    |                title                | vote_average | vote_count |\n",
       "+----------------------------+---------+-------------------+------------------------------------------------------------------------------------------------------------------------------------------------------------------------------------------------------------------------------------------------------------------------------------------------------------------------------------------------------------------------------------------------------------------------------+------------+---------------------+-------------------------------------+--------------+------------+\n",
       "| [16, 35, 10751, 14, 10749] |  976573 |         en        |                                                                                                                      In a city where fire, water, land and air residents live together, a fiery young woman and a go-with-the-flow guy will discover something elemental: how much they have in common.                                                                                                                      |  4863.437  | 2023-06-14 00:00:00 |              Elemental              |     7.8      |    1239    |\n",
       "|          [53, 28]          |  724209 |         en        |                                                                                                                                     An intelligence operative for a shadowy global peacekeeping agency races to stop a hacker from stealing its most valuable — and dangerous — weapon.                                                                                                                                      |  3752.86   | 2023-08-09 00:00:00 |            Heart of Stone           |     6.9      |    629     |\n",
       "|     [16, 28, 12, 878]      |  569094 |         en        | After reuniting with Gwen Stacy, Brooklyn’s full-time, friendly neighborhood Spider-Man is catapulted across the Multiverse, where he encounters the Spider Society, a team of Spider-People charged with protecting the Multiverse’s very existence. But when the heroes clash on how to handle a new threat, Miles finds himself pitted against the other Spiders and must set out on his own to save those he loves most. |  2374.865  | 2023-05-31 00:00:00 | Spider-Man: Across the Spider-Verse |     8.5      |    3625    |\n",
       "|       [28, 12, 878]        |  667538 |         en        |                                        When a new threat capable of destroying the entire planet emerges, Optimus Prime and the Autobots must team up with a powerful faction known as the Maximals. With the fate of humanity hanging in the balance, humans Noah and Elena will do whatever it takes to help the Transformers as they engage in the ultimate battle to save Earth.                                         |  2134.463  | 2023-06-06 00:00:00 |   Transformers: Rise of the Beasts  |     7.5      |    2865    |\n",
       "|        [35, 12, 14]        |  346698 |         en        |                                                                                            Barbie and Ken are having the time of their lives in the colorful and seemingly perfect world of Barbie Land. However, when they get a chance to go to the real world, they soon discover the joys and perils of living among humans.                                                                                             |  1860.335  | 2023-07-19 00:00:00 |                Barbie               |     7.4      |    3240    |\n",
       "|       [28, 12, 878]        |  298618 |         en        |                When his attempt to save his family inadvertently alters the future, Barry Allen becomes trapped in a reality in which General Zod has returned and there are no Super Heroes to turn to. In order to save the world that he is in and return to the future that he knows, Barry's only hope is to race for his life. But will making the ultimate sacrifice be enough to reset the universe?                 |  1744.899  | 2023-06-13 00:00:00 |              The Flash              |     7.0      |    2395    |\n",
       "|       [28, 878, 27]        |  615656 |         en        |                                                                                                   An exploratory dive into the deepest depths of the ocean of a daring research team spirals into chaos when a malevolent mining operation threatens their mission and forces them into a high-stakes battle for survival.                                                                                                   |  1701.916  | 2023-08-02 00:00:00 |          Meg 2: The Trench          |     6.9      |    520     |\n",
       "|        [28, 27, 53]        | 1006462 |         en        |                                                                                                                                       A horde of giant hungry alligators is unleashed on a group of in-transit prisoners and their guards after a massive hurricane floods Louisiana.                                                                                                                                        |  1623.891  | 2023-07-14 00:00:00 |              The Flood              |     6.9      |    137     |\n",
       "|        [35, 10749]         |  884605 |         en        |                                                              On the brink of losing her childhood home, Maddie discovers an intriguing job listing: wealthy helicopter parents looking for someone to “date” their introverted 19-year-old son, Percy, before he leaves for college. To her surprise, Maddie soon discovers the awkward Percy is no sure thing.                                                              |  1591.22   | 2023-06-15 00:00:00 |           No Hard Feelings          |     7.1      |    753     |\n",
       "|       [27, 9648, 53]       |  614479 |         en        |                                                                                 To put their demons to rest once and for all, Josh Lambert and a college-aged Dalton Lambert must go deeper into The Further than ever before, facing their family's dark past and a host of new and more horrifying terrors that lurk behind the red door.                                                                                  |  1420.728  | 2023-07-05 00:00:00 |       Insidious: The Red Door       |     6.9      |    912     |\n",
       "+----------------------------+---------+-------------------+------------------------------------------------------------------------------------------------------------------------------------------------------------------------------------------------------------------------------------------------------------------------------------------------------------------------------------------------------------------------------------------------------------------------------+------------+---------------------+-------------------------------------+--------------+------------+\n",
       "Truncated to displaylimit of 10."
      ]
     },
     "execution_count": 11,
     "metadata": {},
     "output_type": "execute_result"
    }
   ],
   "source": [
    "%%sql \n",
    "SELECT *\n",
    "FROM movies"
   ]
  },
  {
   "cell_type": "code",
   "execution_count": 14,
   "metadata": {},
   "outputs": [
    {
     "data": {
      "text/html": [
       "<span style=\"None\">Running query in &#x27;duckdb:///movies_data.duckdb&#x27;</span>"
      ],
      "text/plain": [
       "Running query in 'duckdb:///movies_data.duckdb'"
      ]
     },
     "metadata": {},
     "output_type": "display_data"
    },
    {
     "name": "stderr",
     "output_type": "stream",
     "text": [
      "RuntimeError: (duckdb.CatalogException) Catalog Error: Function with name \"array_to_json\" is not in the catalog, but it exists in the json extension.\n",
      "\n",
      "To install and load the extension, run:\n",
      "INSTALL json;\n",
      "LOAD json;\n",
      "[SQL: CREATE TEMPORARY TABLE temp_normalized_movies AS\n",
      "SELECT\n",
      "    id AS movie_id,\n",
      "    original_language,\n",
      "    overview,\n",
      "    popularity,\n",
      "    release_date,\n",
      "    title,\n",
      "    vote_average,\n",
      "    vote_count,\n",
      "    genre_id\n",
      "FROM\n",
      "    movies,\n",
      "    array_to_json(movies.genre_ids) as genre_id;]\n",
      "(Background on this error at: https://sqlalche.me/e/14/f405)\n",
      "If you need help solving this issue, send us a message: https://ploomber.io/community\n"
     ]
    }
   ],
   "source": [
    "%%sql \n",
    "CREATE TEMPORARY TABLE temp_normalized_movies AS\n",
    "SELECT\n",
    "    id AS movie_id,\n",
    "    original_language,\n",
    "    overview,\n",
    "    popularity,\n",
    "    release_date,\n",
    "    title,\n",
    "    vote_average,\n",
    "    vote_count,\n",
    "    genre_id\n",
    "FROM\n",
    "    movies,\n",
    "    array_to_json(movies.genre_ids) as genre_id;\n"
   ]
  },
  {
   "cell_type": "code",
   "execution_count": 5,
   "metadata": {},
   "outputs": [
    {
     "data": {
      "text/html": [
       "<span style=\"None\">Running query in &#x27;duckdb:///movies_data.duckdb&#x27;</span>"
      ],
      "text/plain": [
       "Running query in 'duckdb:///movies_data.duckdb'"
      ]
     },
     "metadata": {},
     "output_type": "display_data"
    },
    {
     "data": {
      "text/html": [
       "<table>\n",
       "    <thead>\n",
       "        <tr>\n",
       "            <th>id</th>\n",
       "            <th>name</th>\n",
       "        </tr>\n",
       "    </thead>\n",
       "    <tbody>\n",
       "        <tr>\n",
       "            <td>28</td>\n",
       "            <td>Action</td>\n",
       "        </tr>\n",
       "        <tr>\n",
       "            <td>12</td>\n",
       "            <td>Adventure</td>\n",
       "        </tr>\n",
       "        <tr>\n",
       "            <td>16</td>\n",
       "            <td>Animation</td>\n",
       "        </tr>\n",
       "        <tr>\n",
       "            <td>35</td>\n",
       "            <td>Comedy</td>\n",
       "        </tr>\n",
       "        <tr>\n",
       "            <td>80</td>\n",
       "            <td>Crime</td>\n",
       "        </tr>\n",
       "        <tr>\n",
       "            <td>99</td>\n",
       "            <td>Documentary</td>\n",
       "        </tr>\n",
       "        <tr>\n",
       "            <td>18</td>\n",
       "            <td>Drama</td>\n",
       "        </tr>\n",
       "        <tr>\n",
       "            <td>10751</td>\n",
       "            <td>Family</td>\n",
       "        </tr>\n",
       "        <tr>\n",
       "            <td>14</td>\n",
       "            <td>Fantasy</td>\n",
       "        </tr>\n",
       "        <tr>\n",
       "            <td>36</td>\n",
       "            <td>History</td>\n",
       "        </tr>\n",
       "    </tbody>\n",
       "</table>\n",
       "<span style=\"font-style:italic;text-align:center;\">Truncated to <a href=\"https://jupysql.ploomber.io/en/latest/api/configuration.html#displaylimit\">displaylimit</a> of 10.</span>"
      ],
      "text/plain": [
       "+-------+-------------+\n",
       "|   id  |     name    |\n",
       "+-------+-------------+\n",
       "|   28  |    Action   |\n",
       "|   12  |  Adventure  |\n",
       "|   16  |  Animation  |\n",
       "|   35  |    Comedy   |\n",
       "|   80  |    Crime    |\n",
       "|   99  | Documentary |\n",
       "|   18  |    Drama    |\n",
       "| 10751 |    Family   |\n",
       "|   14  |   Fantasy   |\n",
       "|   36  |   History   |\n",
       "+-------+-------------+\n",
       "Truncated to displaylimit of 10."
      ]
     },
     "execution_count": 5,
     "metadata": {},
     "output_type": "execute_result"
    }
   ],
   "source": [
    "%%sql \n",
    "SELECT *\n",
    "FROM genres"
   ]
  },
  {
   "cell_type": "code",
   "execution_count": 6,
   "metadata": {},
   "outputs": [
    {
     "data": {
      "text/html": [
       "<span style=\"None\">Running query in &#x27;duckdb:///movies_data.duckdb&#x27;</span>"
      ],
      "text/plain": [
       "Running query in 'duckdb:///movies_data.duckdb'"
      ]
     },
     "metadata": {},
     "output_type": "display_data"
    },
    {
     "name": "stderr",
     "output_type": "stream",
     "text": [
      "RuntimeError: If using snippets, you may pass the --with argument explicitly.\n",
      "For more details please refer: https://jupysql.ploomber.io/en/latest/compose.html#with-argument\n",
      "\n",
      "\n",
      "Original error message from DB driver:\n",
      "(duckdb.ParserException) Parser Error: syntax error at end of input\n",
      "[SQL: SELECT\n",
      "    m.id AS movie_id,\n",
      "    m.title AS movie_title,\n",
      "    m.release_date,\n",
      "    g.name AS genre_name\n",
      "FROM\n",
      "    movies AS m\n",
      "JOIN\n",
      "    UNNEST(m.genre_ids) AS genre_id\n",
      "JOIN\n",
      "    genres AS g ON g.id = genre_id]\n",
      "(Background on this error at: https://sqlalche.me/e/14/f405)\n",
      "\n",
      "If you need help solving this issue, send us a message: https://ploomber.io/community\n"
     ]
    }
   ],
   "source": [
    "%%sql \n",
    "SELECT\n",
    "    m.id AS movie_id,\n",
    "    m.title AS movie_title,\n",
    "    m.release_date,\n",
    "    g.name AS genre_name\n",
    "FROM\n",
    "    movies AS m\n",
    "JOIN\n",
    "    UNNEST(m.genre_ids) AS genre_id\n",
    "JOIN\n",
    "    genres AS g ON g.id = genre_id"
   ]
  },
  {
   "cell_type": "code",
   "execution_count": 12,
   "metadata": {},
   "outputs": [
    {
     "data": {
      "text/plain": [
       "Text(0.5, 0, 'Popularity')"
      ]
     },
     "execution_count": 12,
     "metadata": {},
     "output_type": "execute_result"
    },
    {
     "data": {
      "image/png": "[encoded data removed]",
      "text/plain": [
       "<Figure size 640x480 with 1 Axes>"
      ]
     },
     "metadata": {},
     "output_type": "display_data"
    }
   ],
   "source": [
    "ax = %sqlplot histogram --table movies --column popularity --bins 20\n",
    "ax.grid()\n",
    "ax.set_title(\"Movie Popularity\")\n",
    "ax.set_xlabel(\"Popularity\")"
   ]
  },
  {
   "cell_type": "code",
   "execution_count": 8,
   "metadata": {},
   "outputs": [
    {
     "data": {
      "text/plain": [
       "Text(0.5, 0, 'Vote Score')"
      ]
     },
     "execution_count": 8,
     "metadata": {},
     "output_type": "execute_result"
    },
    {
     "data": {
      "image/png": "[encoded data removed]",
      "text/plain": [
       "<Figure size 640x480 with 1 Axes>"
      ]
     },
     "metadata": {},
     "output_type": "display_data"
    }
   ],
   "source": [
    "ax = %sqlplot histogram --table movies --column vote_average --bins 20\n",
    "ax.grid()\n",
    "ax.set_title(\"Vote Average\")\n",
    "ax.set_xlabel(\"Vote Score\")"
   ]
  },
  {
   "cell_type": "code",
   "execution_count": 9,
   "metadata": {},
   "outputs": [
    {
     "data": {
      "text/plain": [
       "Text(0.5, 0, 'Votes')"
      ]
     },
     "execution_count": 9,
     "metadata": {},
     "output_type": "execute_result"
    },
    {
     "data": {
      "image/png": "[encoded data removed]",
      "text/plain": [
       "<Figure size 640x480 with 1 Axes>"
      ]
     },
     "metadata": {},
     "output_type": "display_data"
    }
   ],
   "source": [
    "ax = %sqlplot histogram --table movies --column vote_count --bins 20\n",
    "ax.grid()\n",
    "ax.set_title(\"Vote Count\")\n",
    "ax.set_xlabel(\"Votes\")"
   ]
  },
  {
   "cell_type": "code",
   "execution_count": null,
   "metadata": {},
   "outputs": [],
   "source": []
  }
 ],
 "metadata": {
  "kernelspec": {
   "display_name": "imdb-project",
   "language": "python",
   "name": "python3"
  },
  "language_info": {
   "codemirror_mode": {
    "name": "ipython",
    "version": 3
   },
   "file_extension": ".py",
   "mimetype": "text/x-python",
   "name": "python",
   "nbconvert_exporter": "python",
   "pygments_lexer": "ipython3",
   "version": "3.10.8"
  },
  "orig_nbformat": 4
 },
 "nbformat": 4,
 "nbformat_minor": 2
}
