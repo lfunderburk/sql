{
 "cells": [
  {
   "attachments": {},
   "cell_type": "markdown",
   "metadata": {},
   "source": [
    "# Car Fuel Emissions Dataset Dashboard\n",
    "\n",
    "> This dashboard helps you explore the $CO_2$ emissions of different car models and their fuel consumption.\n",
    "\n",
    "<b>[Data](https://open.canada.ca/data/en/dataset/98f1a129-f628-4ce4-b24d-6f16bf24dd64) Updated as of June 15, 2023</b>"
   ]
  },
  {
   "cell_type": "code",
   "execution_count": 1,
   "metadata": {
    "tags": []
   },
   "outputs": [],
   "source": [
    "import ipywidgets as widgets\n",
    "from ipywidgets import interact\n",
    "import matplotlib.pyplot as plt\n",
    "import seaborn as sns\n",
    "from IPython import get_ipython\n",
    "from sql.ggplot import ggplot, aes, geom_boxplot, geom_histogram\n",
    "import numpy as np\n",
    "from menu import init_widgets, style,  setup_menu\n",
    "from ipywidgets import interact, widgets, Layout, VBox, HBox\n",
    "from IPython.display import display, clear_output\n"
   ]
  },
  {
   "cell_type": "code",
   "execution_count": 2,
   "metadata": {
    "tags": []
   },
   "outputs": [],
   "source": [
    "%load_ext sql\n",
    "\n",
    "%sql duckdb:///../data/database/car_data.duckdb\n",
    "\n",
    "%config SqlMagic.displaycon = False"
   ]
  },
  {
   "cell_type": "code",
   "execution_count": 3,
   "metadata": {},
   "outputs": [],
   "source": [
    "years = %sql select DISTINCT(model_year) from all_vehicles\n",
    "years = [model_year[0] for model_year in years]\n",
    "\n",
    "makes = %sql select DISTINCT(make_) from all_vehicles\n",
    "makes = [m[0] for m in makes]\n",
    "\n",
    "classes = %sql select DISTINCT(vehicleclass_) from all_vehicles\n",
    "classes = [c[0] for c in classes]\n",
    "\n",
    "co2 = %sql select DISTINCT(co2_rating) from all_vehicles\n",
    "co2 = [c[0] for c in co2]\n",
    "\n",
    "vehicle_type = %sql select DISTINCT(vehicle_type) from all_vehicles\n",
    "vehicle_type = [v[0] for v in vehicle_type]"
   ]
  },
  {
   "cell_type": "code",
   "execution_count": 5,
   "metadata": {},
   "outputs": [
    {
     "data": {
      "application/vnd.jupyter.widget-view+json": {
       "model_id": "8d606a0d75bd4e91a6d2f94f34e46ec8",
       "version_major": 2,
       "version_minor": 0
      },
      "text/plain": [
       "Tab(children=(VBox(children=(HBox(children=(Dropdown(description='Vehicle type', options=('fuel-only', 'hybrid…"
      ]
     },
     "metadata": {},
     "output_type": "display_data"
    },
    {
     "name": "stdout",
     "output_type": "stream",
     "text": [
      "Performing query\n"
     ]
    },
    {
     "data": {
      "text/html": [
       "<div>\n",
       "<style scoped>\n",
       "    .dataframe tbody tr th:only-of-type {\n",
       "        vertical-align: middle;\n",
       "    }\n",
       "\n",
       "    .dataframe tbody tr th {\n",
       "        vertical-align: top;\n",
       "    }\n",
       "\n",
       "    .dataframe thead th {\n",
       "        text-align: right;\n",
       "    }\n",
       "</style>\n",
       "<table border=\"1\" class=\"dataframe\">\n",
       "  <thead>\n",
       "    <tr style=\"text-align: right;\">\n",
       "      <th></th>\n",
       "      <th>model_year</th>\n",
       "      <th>make_</th>\n",
       "      <th>vehicleclass_</th>\n",
       "      <th>co2_rating</th>\n",
       "      <th>mapped_fuel_type</th>\n",
       "      <th>vehicle_type</th>\n",
       "    </tr>\n",
       "  </thead>\n",
       "  <tbody>\n",
       "    <tr>\n",
       "      <th>0</th>\n",
       "      <td>2023</td>\n",
       "      <td>acura</td>\n",
       "      <td>full-size</td>\n",
       "      <td>6</td>\n",
       "      <td>premium gasoline</td>\n",
       "      <td>fuel-only</td>\n",
       "    </tr>\n",
       "    <tr>\n",
       "      <th>1</th>\n",
       "      <td>2023</td>\n",
       "      <td>acura</td>\n",
       "      <td>full-size</td>\n",
       "      <td>6</td>\n",
       "      <td>premium gasoline</td>\n",
       "      <td>fuel-only</td>\n",
       "    </tr>\n",
       "    <tr>\n",
       "      <th>2</th>\n",
       "      <td>2023</td>\n",
       "      <td>acura</td>\n",
       "      <td>full-size</td>\n",
       "      <td>6</td>\n",
       "      <td>premium gasoline</td>\n",
       "      <td>fuel-only</td>\n",
       "    </tr>\n",
       "    <tr>\n",
       "      <th>3</th>\n",
       "      <td>2023</td>\n",
       "      <td>acura</td>\n",
       "      <td>suv - small</td>\n",
       "      <td>5</td>\n",
       "      <td>premium gasoline</td>\n",
       "      <td>fuel-only</td>\n",
       "    </tr>\n",
       "    <tr>\n",
       "      <th>4</th>\n",
       "      <td>2023</td>\n",
       "      <td>acura</td>\n",
       "      <td>suv - small</td>\n",
       "      <td>5</td>\n",
       "      <td>premium gasoline</td>\n",
       "      <td>fuel-only</td>\n",
       "    </tr>\n",
       "    <tr>\n",
       "      <th>5</th>\n",
       "      <td>2023</td>\n",
       "      <td>acura</td>\n",
       "      <td>compact</td>\n",
       "      <td>5</td>\n",
       "      <td>premium gasoline</td>\n",
       "      <td>fuel-only</td>\n",
       "    </tr>\n",
       "    <tr>\n",
       "      <th>6</th>\n",
       "      <td>2023</td>\n",
       "      <td>acura</td>\n",
       "      <td>compact</td>\n",
       "      <td>5</td>\n",
       "      <td>premium gasoline</td>\n",
       "      <td>fuel-only</td>\n",
       "    </tr>\n",
       "    <tr>\n",
       "      <th>7</th>\n",
       "      <td>2023</td>\n",
       "      <td>acura</td>\n",
       "      <td>compact</td>\n",
       "      <td>5</td>\n",
       "      <td>premium gasoline</td>\n",
       "      <td>fuel-only</td>\n",
       "    </tr>\n",
       "  </tbody>\n",
       "</table>\n",
       "</div>"
      ],
      "text/plain": [
       "  model_year  make_ vehicleclass_ co2_rating  mapped_fuel_type vehicle_type\n",
       "0       2023  acura     full-size          6  premium gasoline    fuel-only\n",
       "1       2023  acura     full-size          6  premium gasoline    fuel-only\n",
       "2       2023  acura     full-size          6  premium gasoline    fuel-only\n",
       "3       2023  acura   suv - small          5  premium gasoline    fuel-only\n",
       "4       2023  acura   suv - small          5  premium gasoline    fuel-only\n",
       "5       2023  acura       compact          5  premium gasoline    fuel-only\n",
       "6       2023  acura       compact          5  premium gasoline    fuel-only\n",
       "7       2023  acura       compact          5  premium gasoline    fuel-only"
      ]
     },
     "metadata": {},
     "output_type": "display_data"
    }
   ],
   "source": [
    "(\n",
    "    widget_vehicle_type,\n",
    "    widget_year,\n",
    "    widget_make,\n",
    "    widget_vehicle_class,\n",
    "    widget_co2,\n",
    ") = init_widgets(years, makes, classes, vehicle_type, style) \n",
    "\n",
    "all_the_widgets = [widget_vehicle_type,\n",
    "                    widget_year,\n",
    "                    widget_make,\n",
    "                    widget_vehicle_class,\n",
    "                    widget_co2\n",
    "                    ]\n",
    "\n",
    "\n",
    "def select_table(vehicle_type, year, make_, vehicle_class, co2):\n",
    "    query = f\"\"\"\n",
    "        SELECT model_year, make_, vehicleclass_, co2_rating, mapped_fuel_type, vehicle_type\n",
    "        FROM all_vehicles \n",
    "        WHERE model_year = {year}\n",
    "        AND vehicleclass_ IN {vehicle_class}\n",
    "        AND vehicle_type = '{vehicle_type}'\n",
    "        AND make_ = '{make_}'\n",
    "        AND co2_rating >= {co2}\n",
    "        \"\"\"\n",
    "    \n",
    "    print(\"Performing query\")\n",
    "    # Use JupySQL magic %sql to execute the query\n",
    "    result = %sql {{query}}\n",
    "\n",
    "    # Convert the result to a Pandas DataFrame\n",
    "    df = result.DataFrame()\n",
    "\n",
    "    display(df)\n",
    "    \n",
    "def extract_table(b):\n",
    "    vehicle_type = all_the_widgets[0].value\n",
    "    year = all_the_widgets[1].value\n",
    "    make = all_the_widgets[2].value\n",
    "    vehicle_class = all_the_widgets[3].value\n",
    "    co2 = all_the_widgets[4].value\n",
    "    clear_output()\n",
    "    display(tab)  ## Have to redraw the widgets\n",
    "    select_table(vehicle_type, year, make, vehicle_class, co2)\n",
    "    \n",
    "tab = setup_menu(all_the_widgets, extract_table)\n",
    "\n",
    "display(tab)"
   ]
  },
  {
   "attachments": {},
   "cell_type": "markdown",
   "metadata": {},
   "source": [
    "## Visualizing Interactive Tables\n",
    "\n",
    "> Multiple values can be selected with shift and/or ctrl (or command) pressed and mouse clicks or arrow keys."
   ]
  },
  {
   "attachments": {},
   "cell_type": "markdown",
   "metadata": {},
   "source": [
    "### All Cars"
   ]
  },
  {
   "cell_type": "code",
   "execution_count": null,
   "metadata": {},
   "outputs": [],
   "source": [
    "%%sql --interact widget_year --interact widget_make --interact widget_vehicle_class --interact widget_co2 --interact widget_row\n",
    "SELECT * \n",
    "FROM all_vehicles \n",
    "WHERE model_year IN {{widget_year}}\n",
    "AND make_ IN {{widget_make}}\n",
    "AND vehicleclass_ IN {{widget_vehicle_class}}\n",
    "AND co2_rating >= {{widget_co2}}\n",
    "LIMIT {{widget_row}}"
   ]
  },
  {
   "attachments": {},
   "cell_type": "markdown",
   "metadata": {},
   "source": [
    "## Plots"
   ]
  },
  {
   "attachments": {},
   "cell_type": "markdown",
   "metadata": {},
   "source": [
    "This dashboard contains 5 plots, created using the `ggplot` API, `seaborn`, and `ipywidgets`:\n",
    "\n",
    "1. Bar Plot of Car Manufacturing Trends\n",
    "2. Boxplot of Fuel Consumption and $CO2$ Emission for All Vehicle Types \n",
    "3. Scatter Plot of Electric Vehicle Ranges and Charging Time by Car Size and Model Year \n",
    "4. Histogram of $CO_2$ Emissions by Vehicle and Fuel Type\n",
    "5. $CO_2$ Emissions of Hybrid and Fuel-Only US Car Brands by Transmission Type"
   ]
  },
  {
   "attachments": {},
   "cell_type": "markdown",
   "metadata": {},
   "source": [
    "## Bar Plot of Car Manufacturing Trends"
   ]
  },
  {
   "cell_type": "code",
   "execution_count": null,
   "metadata": {},
   "outputs": [],
   "source": [
    "%%sql --save q_1_hybrid_electric --no-execute\n",
    "SELECT DISTINCT model_year, vehicle_type, COUNT(id) AS num_vehicles\n",
    "FROM all_vehicles\n",
    "WHERE vehicle_type = 'hybrid' OR vehicle_type = 'electric'\n",
    "GROUP BY model_year, vehicle_type\n",
    "ORDER BY num_vehicles DESC;"
   ]
  },
  {
   "cell_type": "code",
   "execution_count": null,
   "metadata": {},
   "outputs": [],
   "source": [
    "%%sql --save q_1_fuel --no-execute\n",
    "SELECT DISTINCT model_year, vehicle_type, COUNT(id) AS num_vehicles\n",
    "FROM fuel\n",
    "GROUP BY model_year, vehicle_type\n",
    "ORDER BY model_year;"
   ]
  },
  {
   "cell_type": "code",
   "execution_count": null,
   "metadata": {},
   "outputs": [],
   "source": [
    "hybrid_electric_count = %sql SELECT * FROM q_1_hybrid_electric\n",
    "fuel_count = %sql SELECT * FROM q_1_fuel\n",
    "\n",
    "hybrid_electric_count = hybrid_electric_count.DataFrame()\n",
    "fuel_count = fuel_count.DataFrame()"
   ]
  },
  {
   "cell_type": "code",
   "execution_count": null,
   "metadata": {},
   "outputs": [],
   "source": [
    "radio_button = widgets.RadioButtons(\n",
    "    options=[\"fuel_count\", \"hybrid_electric_count\"],\n",
    "    description=\"Select Data:\",\n",
    "    disabled=False,\n",
    "    style={\"description_width\": \"initial\"},\n",
    ")\n",
    "\n",
    "\n",
    "def draw_bar_year_count(data):\n",
    "    plt.figure(figsize=(10, 5), dpi=300)\n",
    "    if data == \"fuel_count\":\n",
    "        sns.barplot(\n",
    "            data=fuel_count,\n",
    "            x=\"model_year\",\n",
    "            y=\"num_vehicles\",\n",
    "            color=\"orange\",\n",
    "            errorbar=None,\n",
    "            width=0.4,\n",
    "        )\n",
    "        sns.pointplot(\n",
    "            data=fuel_count,\n",
    "            x=\"model_year\",\n",
    "            y=\"num_vehicles\",\n",
    "            color=\"red\",\n",
    "            linestyles=\"--\",\n",
    "            ax=plt.gca(),\n",
    "            errorbar=None,\n",
    "        )\n",
    "        plt.xlabel(\"Car Model Year\")\n",
    "        plt.ylabel(\"Count\")\n",
    "        plt.xticks(rotation=45)\n",
    "        plt.title(\"Count of Unique Fuel-Only Cars by Model Year\")\n",
    "        plt.show()\n",
    "    else:\n",
    "        sns.barplot(\n",
    "            data=hybrid_electric_count,\n",
    "            x=\"model_year\",\n",
    "            y=\"num_vehicles\",\n",
    "            hue=\"vehicle_type\",\n",
    "            palette={\"hybrid\": \"blue\", \"electric\": \"green\"},\n",
    "            width=0.4,\n",
    "        )\n",
    "        sns.pointplot(\n",
    "            data=hybrid_electric_count,\n",
    "            x=\"model_year\",\n",
    "            y=\"num_vehicles\",\n",
    "            color=\"red\",\n",
    "            linestyles=\"--\",\n",
    "            ax=plt.gca(),\n",
    "            errorbar=None,\n",
    "        )\n",
    "        plt.xlabel(\"Car Model Year\")\n",
    "        plt.ylabel(\"Count\")\n",
    "        plt.xticks(rotation=45)\n",
    "        plt.title(\"Count of Unique Hybrid and Electric Cars by Model Year\")\n",
    "        plt.legend(bbox_to_anchor=(1, 1), loc=\"upper right\")\n",
    "        plt.show()\n",
    "\n",
    "\n",
    "interact(draw_bar_year_count, data=radio_button)"
   ]
  },
  {
   "attachments": {},
   "cell_type": "markdown",
   "metadata": {},
   "source": [
    "### Interesting Insights\n",
    "\n",
    "From the bar plot of fuel-only cars, we can see that the <b>number of unique car brand models</b> introduced to the Canadian automobile market had been increasing from the turn of the 21st century to the year 2005. This increasing trend then plateued and remained fairly constant until 2022, with 2015 experiencing the largest spike. On December 21, 2022, Steven Guilbeault, Canada's minister of environment and climate change, unveiled a regulation that would require increasing percentages of vehicle sales in Canada to be zero-emissions vehicles up to 100% by the year 2035[$^1$](https://www.canada.ca/en/environment-climate-change/news/2022/12/let-it-roll-government-of-canada-moves-to-increase-the-supply-of-electric-vehicles-for-canadians.html). These efforts seem to have had an immediate impact on the number of fuel-only cars introduced to the Canadian market, with 2023 experiencing a sharp decline and reaching 2003 levels. \n",
    "\n",
    "The above insights are reinforced by the bar plot of the number of unique hybrid and electric car brands and their respective models introduced to the Canadian automobile market. In 2012, only two electric car models, Nissan's Leaf and Mitsubishi's i-MiEV, and one hybrid car manufacturer, Chevrolet's Volt, were present in the market. Since then, this figure has grown to 134 electric car models and 32 hybrid car models in 2023 in Canada."
   ]
  },
  {
   "attachments": {},
   "cell_type": "markdown",
   "metadata": {},
   "source": [
    "## Boxplot of Fuel Consumption and $CO2$ Emission for All Vehicle Types"
   ]
  },
  {
   "cell_type": "code",
   "execution_count": null,
   "metadata": {},
   "outputs": [],
   "source": [
    "%%sql --save boxplot_fuel_consum --no-execute\n",
    "SELECT fuelconsumption_city_l_100km, fuelconsumption_hwy_l_100km, fuelconsumption_comb_l_100km, co2emissions_g_km\n",
    "FROM all_vehicles"
   ]
  },
  {
   "cell_type": "code",
   "execution_count": null,
   "metadata": {},
   "outputs": [],
   "source": [
    "columns = widgets.SelectMultiple(\n",
    "    options=[\n",
    "        \"fuelconsumption_city_l_100km\",\n",
    "        \"fuelconsumption_hwy_l_100km\",\n",
    "        \"fuelconsumption_comb_l_100km\",\n",
    "        \"co2emissions_g_km\",\n",
    "    ],\n",
    "    value=[\"fuelconsumption_comb_l_100km\"],\n",
    "    description=\"Column(s):\",\n",
    "    disabled=False,\n",
    ")"
   ]
  },
  {
   "cell_type": "code",
   "execution_count": null,
   "metadata": {},
   "outputs": [],
   "source": [
    "plt.rcParams[\"figure.figsize\"] = (12, 3)  # increase size of canvas\n",
    "\n",
    "\n",
    "def plot(columns):\n",
    "    (\n",
    "        ggplot(\n",
    "            table=\"boxplot_fuel_consum\",\n",
    "            with_=\"boxplot_fuel_consum\",\n",
    "            mapping=aes(x=columns),\n",
    "        )\n",
    "        + geom_boxplot()\n",
    "    )\n",
    "\n",
    "\n",
    "interact(plot, columns=columns)"
   ]
  },
  {
   "attachments": {},
   "cell_type": "markdown",
   "metadata": {},
   "source": [
    "### Interesting Insights\n",
    "\n",
    "The boxplots of fuel consumption, measured in litres per 100 kilometers, above show the distribution of fuel consumption in the city, highway, or as their combination for all types of cars. The median fuel consumption in the city for all cars is around 12 litres per 100 kilometers, while the median fuel consumption on the highway for all cars is around 10 litres per 100 kilometers. The combined fuel consumption for all cars is the vehicle's city's and highway's average fuel consumption, which is around 11 litres per 100 kilometers.\n",
    "\n",
    "Fuel consumption and $CO2$ emissions have a strong, positive relationship. The higher the fuel consumption, the higher the $CO2$ emissions. The boxplot of $CO2$ emissions, measured in grams per kilometer, above shows the distribution of $CO2$ emissions for all types of cars. The median $CO2$ emission for all cars is around 250 grams per kilometer. Moreover, this column has outliers on either side of the boxplot, implying that electric cars have zero $CO2$ emissions and fuel-only luxury sports cars have very high $CO2$ emissions."
   ]
  },
  {
   "attachments": {},
   "cell_type": "markdown",
   "metadata": {},
   "source": [
    "## Scatter Plot of Electric Vehicle Ranges and Charging Time by Car Size and Model Year "
   ]
  },
  {
   "cell_type": "code",
   "execution_count": null,
   "metadata": {},
   "outputs": [],
   "source": [
    "%%sql --save q_2_electric_range --no-execute\n",
    "SELECT range1_km, recharge_time_h, vehicleclass_, model_year\n",
    "FROM electric"
   ]
  },
  {
   "cell_type": "code",
   "execution_count": null,
   "metadata": {},
   "outputs": [],
   "source": [
    "electric_range = %sql SELECT * FROM q_2_electric_range\n",
    "\n",
    "electric_range = electric_range.DataFrame()\n",
    "\n",
    "# group vehicle class into sedan or SUV\n",
    "\n",
    "electric_range[\"vehicle_size\"] = np.where(\n",
    "    electric_range[\"vehicleclass_\"].isin(\n",
    "        [\"subcompact\", \"compact\", \"mid-size\", \"full-size\", \"two-seater\"]\n",
    "    ),\n",
    "    \"Sedan or smaller\",\n",
    "    \"SUV or larger\",\n",
    ")\n",
    "\n",
    "# group model year into 2012-2021 and 2022-2023\n",
    "\n",
    "electric_range[\"model_year_grouped\"] = np.where(\n",
    "    electric_range[\"model_year\"] <= 2021, \"2012-2021\", \"2022-2023\"\n",
    ")"
   ]
  },
  {
   "cell_type": "code",
   "execution_count": null,
   "metadata": {},
   "outputs": [],
   "source": [
    "hue_button = widgets.Dropdown(\n",
    "    options=[\"vehicle_size\", \"model_year_grouped\", None],\n",
    "    description=\"(Un)select Hue:\",\n",
    "    disabled=False,\n",
    "    style={\"description_width\": \"initial\"},\n",
    ")\n",
    "\n",
    "\n",
    "def draw_scatter_electric_range(hue):\n",
    "    plt.figure(figsize=(10, 5), dpi=300)\n",
    "    sns.scatterplot(\n",
    "        data=electric_range, x=\"recharge_time_h\", y=\"range1_km\", hue=hue\n",
    "    )  # noqa E501\n",
    "    plt.title(\n",
    "        f\"Scatter Plot of Electric Vehicle Range and Recharge Time by {hue}\"\n",
    "    )  # noqa E501\n",
    "    plt.xlabel(\"Recharge Time (hrs)\")\n",
    "    plt.ylabel(\"Range (km)\")\n",
    "    plt.show()\n",
    "\n",
    "\n",
    "interact(draw_scatter_electric_range, hue=hue_button)"
   ]
  },
  {
   "attachments": {},
   "cell_type": "markdown",
   "metadata": {},
   "source": [
    "### Interesting Insights\n",
    "\n",
    "The above scatterplot helps us compare the ranges and charging times of electric cars by their size or model year. Although one could deduce that higher recharge times (depending on the car's battery size, quality, etc.) would lead to travelling greater ranges, the graph offers more details that are worth exploring. For example, electric cars manufactured recently (2022 and onwards) have a much higher range, on average, than those manufactured between 2012 and 2021. This is likely due to the advancements in battery technology and the increased demand for electric cars. Moreover, some electric cars recently manufactured provide a better range with 10 hours of recharge time than those manufactured previously with 12 hours of recharge time. Furthermore, some new electric cars with recharge times of 10 hours provide as good a range as both new and older electric cars with recharge times greater than 10 hours (13 hours being the outlier). Maybe 10 hours is the sweet spot for recharge time?\n",
    "\n",
    "If we shift our focus to vehicle size, there are more electric sedans (and smaller) than there are SUV's (and larger) for lower recharge times between 4 to 7 hours and this is expected due to the difference in car sizes. Sedans, on average, also seem to provide greater ranges than SUV's for recharge times greater than 7 hours. However, for recharge times less than 7 hours, SUV's provide greater ranges than sedans. This could be due to the fact that SUV's have larger batteries and, therefore, can travel greater ranges with less recharge time. Moreover, some sedans with 10 hours of recharge time provide better ranges than all SUV's do with greater than 10 hours of recharge time!\n",
    "\n",
    "Therefore, consumers have a wide range of options to choose from when it comes to electric cars! Choosing wisely by assessing the tradeoff between recharge time and range is key and this graph helps us do just that."
   ]
  },
  {
   "attachments": {},
   "cell_type": "markdown",
   "metadata": {},
   "source": [
    "## Histogram of $CO_2$ Emissions by Vehicle and Fuel Type"
   ]
  },
  {
   "cell_type": "code",
   "execution_count": null,
   "metadata": {},
   "outputs": [],
   "source": [
    "%%sql --save hist_co2 --no-execute\n",
    "SELECT vehicle_type, mapped_fuel_type, co2emissions_g_km\t\n",
    "FROM all_vehicles\n",
    "WHERE co2emissions_g_km is not null "
   ]
  },
  {
   "cell_type": "code",
   "execution_count": null,
   "metadata": {},
   "outputs": [],
   "source": [
    "b = widgets.IntSlider(\n",
    "    value=10,\n",
    "    min=1,\n",
    "    max=20,\n",
    "    step=1,\n",
    "    description=\"Bins:\",\n",
    "    orientation=\"horizontal\",\n",
    ")\n",
    "cmap = widgets.Dropdown(\n",
    "    options=[\"viridis\", \"plasma\", \"inferno\", \"magma\", \"cividis\"],\n",
    "    value=\"plasma\",\n",
    "    description=\"Colormap:\",\n",
    "    disabled=False,\n",
    ")\n",
    "fill = widgets.RadioButtons(\n",
    "    options=[\"vehicle_type\", \"mapped_fuel_type\"],\n",
    "    description=\"Fill by:\",\n",
    "    disabled=False,\n",
    ")"
   ]
  },
  {
   "cell_type": "code",
   "execution_count": null,
   "metadata": {},
   "outputs": [],
   "source": [
    "def plot(b, cmap, fill):\n",
    "    (\n",
    "        ggplot(\n",
    "            table=\"hist_co2\",\n",
    "            with_=\"hist_co2\",\n",
    "            mapping=aes(x=\"co2emissions_g_km\"),\n",
    "        )  # noqa E501\n",
    "        + geom_histogram(bins=b, fill=fill, cmap=cmap)\n",
    "    )\n",
    "\n",
    "\n",
    "interact(plot, b=b, cmap=cmap, fill=fill)"
   ]
  },
  {
   "attachments": {},
   "cell_type": "markdown",
   "metadata": {},
   "source": [
    "### Interesting Insights\n",
    "\n",
    "The histogram above represents the distribution of $CO_2$ emissions, measured in grams per kilometer. If we select the `fill` attribute to `vehicle_type`, we obtain a clear view that fuel-only cars emit the most $CO_2$. In fact, they can pollute up to 6x more than hybrid cars! Hybrid cars have both an electric motor and a gasoline engine, which allows them to emit less $CO_2$ than fuel-only cars. The range of $CO_2$ emitted from hybrid vehicles ranges between 10 to 80 grams per kilometer, while the distribution of $CO_2$ emissions for fuel-only cars ranges from 100 to 500 grams per kilometer, with the bulk of vehicles emitting between 200 to 300 grams per kilometer. Electric cars have zero carbon dixoide emissions and are, hence, fittingly also known as zero-emission vehicles.\n",
    "\n",
    "Given these findings, the efforts of the Canadian government to increase the supply of electric vehicles in Canada by 2035[$^2$](https://www.canada.ca/en/environment-climate-change/news/2022/12/let-it-roll-government-of-canada-moves-to-increase-the-supply-of-electric-vehicles-for-canadians.html) will likely have a positive impact on the environment. \n",
    "\n",
    "Selecting the `fill` attribute to `mapped_fuel_type` and adjusting the histogram to 12 bins allows us to see that the majority of vehicles in Canada run on gasoline, premium being more harmful to the environment than regular as it is the only fuel type that emits greater than 450 grams per kilometer in some cars. However, since most cars run on regular gasoline, the area occupied for it in the histogram is greater. Diesel and Ethanol (E85) are slightly cleaner than gasoline as their emissions range from 150 to 400 grams per kilometer with the bulk of vehicles emitting between 200 to 300 grams per kilometer (similar to both gasoline types). "
   ]
  },
  {
   "attachments": {},
   "cell_type": "markdown",
   "metadata": {},
   "source": [
    "## $CO_2$ Emissions of Hybrid and Fuel-Only US Car Brands by Transmission Type"
   ]
  },
  {
   "cell_type": "code",
   "execution_count": null,
   "metadata": {},
   "outputs": [],
   "source": [
    "%%sql --save co2_usa --no-execute\n",
    "SELECT vehicle_type, make_, co2emissions_g_km, transmission_type\n",
    "FROM all_vehicles\n",
    "WHERE co2emissions_g_km is not null AND\n",
    "vehicle_type IN ('fuel-only', 'hybrid') AND\n",
    "make_ IN ('cadillac', 'chevrolet', 'chrysler', 'ford', 'jeep', 'lincoln')"
   ]
  },
  {
   "cell_type": "code",
   "execution_count": null,
   "metadata": {},
   "outputs": [],
   "source": [
    "co2_usa = %sql SELECT * FROM co2_usa\n",
    "co2_usa = co2_usa.DataFrame()"
   ]
  },
  {
   "cell_type": "code",
   "execution_count": null,
   "metadata": {},
   "outputs": [],
   "source": [
    "hue_button = widgets.Dropdown(\n",
    "    options=[\"vehicle_type\", \"transmission_type\", None],\n",
    "    description=\"(Un)select Hue:\",\n",
    "    disabled=False,\n",
    "    style={\"description_width\": \"initial\"},\n",
    ")\n",
    "\n",
    "\n",
    "def draw_boxplot_usa(hue):\n",
    "    plt.figure(figsize=(15, 6), dpi=300)\n",
    "    sns.boxplot(data=co2_usa, x=\"make_\", y=\"co2emissions_g_km\", hue=hue)\n",
    "    plt.xticks(rotation=90)\n",
    "    plt.xlabel(\"Car Make\")\n",
    "    plt.ylabel(\"CO2 Emissions (g/km)\")\n",
    "    plt.title(\"CO2 Emissions (g/km) by Gas and Hybrid Run US Car Brands\")\n",
    "    plt.show()\n",
    "\n",
    "\n",
    "interact(draw_boxplot_usa, hue=hue_button)"
   ]
  },
  {
   "attachments": {},
   "cell_type": "markdown",
   "metadata": {},
   "source": [
    "### Interesting Insights\n",
    "\n",
    "The boxplots above show the distribution of $CO_2$ emissions for hybrid and fuel-only US manufactured cars. Viewing the boxplot at its highest level i.e without a `hue`, suggests that Chrysler has the lowest median $CO_2$ emission, at around 250 grams per kilometer, out of all car brands. Chevrolet, on the other hand, has the highest median $CO_2$ emission, at around 300 grams per kilometer, out of all car brands. Chrysler also has also the lowest interquartile range, which could imply that the $CO_2$ emissions of its cars are more consistent than those of other car brands. \n",
    "\n",
    "However, upon selecting `hue` as `vehicle_type`, we see that Chevrolet's hybrid cars have the lowest median $CO_2$ emission out of all hybrid car brands. Yet, its fuel-only cars pollute the most on average. Jeep's hybrid cars pollute the most, on average, out of all US hybrid car brands, while its fuel-only cars' median $CO_2$ emissions are at par with that of Chrysler's, the cleanest fuel-only US brand.\n",
    "\n",
    "Lastly, the boxplot of $CO_2$ emissions for hybrid and fuel-only US manufactured cars by transmission type portrays that continuously variable transmission cars pollute the least out of the other available transmissions. These cars would likely correspond to the hybrid cars of the US brands, which are the cleanest out of all hybrid cars. Another interesting observation is that all brands, apart from Chrysler, have lower median $CO_2$ emissions for manual transmission cars than for automatic transmission cars. In fact, the Environmental Protection Agency (EPA) found that vehicles with a manual transmission were more efficient than their automatic counterparts through about 2010, but modern automatic transmissions are now more efficient [$^3$](https://www.epa.gov/sites/default/files/2021-01/documents/420r21003.pdf). Only Ford has an automated manual transmission available for its cars, which has a significantly wide distribution for $CO_2$ emissions, similar to Cadillac's continuously variable transmissions cars, but a median $CO_2$ emission that is lower than that of its automatic transmission cars."
   ]
  },
  {
   "attachments": {},
   "cell_type": "markdown",
   "metadata": {},
   "source": [
    "## References\n",
    "\n",
    "${^1}{^,}{^2}$ Canada, Service. “Government of Canada.” Service Canada, n.d. https://www.canada.ca/. \n",
    "\n",
    "$^3$ The 2020 EPA Automotive Trends Report: Greenhouse gas emissions, fuel ..., n.d. https://www.epa.gov/sites/default/files/2021-01/documents/420r21003.pdf. "
   ]
  }
 ],
 "metadata": {
  "kernelspec": {
   "display_name": "Python 3 (ipykernel)",
   "language": "python",
   "name": "python3"
  },
  "language_info": {
   "codemirror_mode": {
    "name": "ipython",
    "version": 3
   },
   "file_extension": ".py",
   "mimetype": "text/x-python",
   "name": "python",
   "nbconvert_exporter": "python",
   "pygments_lexer": "ipython3",
   "version": "3.10.0"
  }
 },
 "nbformat": 4,
 "nbformat_minor": 4
}
