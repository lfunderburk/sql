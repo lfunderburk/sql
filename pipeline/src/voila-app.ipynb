{
 "cells": [
  {
   "attachments": {},
   "cell_type": "markdown",
   "metadata": {},
   "source": [
    "# Car Fuel Emissions Dataset Dashboard\n",
    "\n",
    "> This dashboard helps you explore the $CO_2$ emissions of different car models and their fuel consumption.\n",
    "\n",
    "<b>[Data](https://open.canada.ca/data/en/dataset/98f1a129-f628-4ce4-b24d-6f16bf24dd64) Updated as of June 15, 2023</b>"
   ]
  },
  {
   "cell_type": "code",
   "execution_count": 1,
   "metadata": {
    "tags": []
   },
   "outputs": [],
   "source": [
    "import ipywidgets as widgets\n",
    "from ipywidgets import interact\n",
    "\n",
    "import matplotlib.pyplot as plt\n",
    "import seaborn as sns\n",
    "\n",
    "from jinja2 import Template\n",
    "\n",
    "from IPython import get_ipython\n",
    "from IPython.display import display\n",
    "\n",
    "from sql.ggplot import ggplot, aes, geom_boxplot, geom_histogram, facet_wrap\n",
    "\n",
    "import numpy as np"
   ]
  },
  {
   "cell_type": "code",
   "execution_count": 2,
   "metadata": {
    "tags": []
   },
   "outputs": [],
   "source": [
    "%load_ext sql\n",
    "\n",
    "%sql duckdb:///../data/database/car_data.duckdb\n",
    "\n",
    "%config SqlMagic.displaycon = False"
   ]
  },
  {
   "cell_type": "code",
   "execution_count": 3,
   "metadata": {},
   "outputs": [],
   "source": [
    "years = %sql select DISTINCT(model_year) from all_vehicles\n",
    "years = [model_year[0] for model_year in years]\n",
    "\n",
    "makes = %sql select DISTINCT(make_) from all_vehicles\n",
    "makes = [m[0] for m in makes]\n",
    "\n",
    "classes = %sql select DISTINCT(vehicleclass_) from all_vehicles\n",
    "classes = [c[0] for c in classes]\n",
    "\n",
    "co2 = %sql select DISTINCT(co2_rating) from all_vehicles\n",
    "co2 = [c[0] for c in co2]"
   ]
  },
  {
   "cell_type": "code",
   "execution_count": 4,
   "metadata": {},
   "outputs": [],
   "source": [
    "def init_widgets():\n",
    "    \"\"\" Initialize widgets \"\"\"\n",
    "    widget_year = widgets.SelectMultiple(\n",
    "        options=years,\n",
    "        description='Model Year',\n",
    "        value=years,\n",
    "    )\n",
    "\n",
    "    widget_make = widgets.SelectMultiple(\n",
    "        options=makes,\n",
    "        description='Car Brand',\n",
    "        value=makes,\n",
    "    )\n",
    "\n",
    "    widget_vehicle_class = widgets.SelectMultiple(\n",
    "        options=classes,\n",
    "        description='Vehicle Class (Size)',\n",
    "        value=classes,\n",
    "        style={\"description_width\": \"initial\"}\n",
    "    )\n",
    "\n",
    "    widget_co2 = widgets.IntSlider(\n",
    "        value=5,\n",
    "        min=0,\n",
    "        max=10,\n",
    "        step=1,\n",
    "        description='CO2 Rating >=',\n",
    "        disabled=False,\n",
    "        style={\"description_width\": \"initial\"}\n",
    "    )\n",
    "\n",
    "    widget_row = widgets.IntSlider(\n",
    "        value=5,\n",
    "        min=0,\n",
    "        max=10,\n",
    "        step=1,\n",
    "        description='Rows to Show',\n",
    "        disabled=False,\n",
    "        style={\"description_width\": \"initial\"}\n",
    "    )\n",
    "    return widget_year, widget_make, widget_vehicle_class, widget_co2, widget_row"
   ]
  },
  {
   "cell_type": "code",
   "execution_count": 5,
   "metadata": {
    "tags": []
   },
   "outputs": [],
   "source": [
    "from IPython import get_ipython\n",
    "ip = get_ipython()\n",
    "sql_magic = ip.find_cell_magic(\"sql\")"
   ]
  },
  {
   "attachments": {},
   "cell_type": "markdown",
   "metadata": {},
   "source": [
    "## Visualizing Interactive Tables\n",
    "\n",
    "> Multiple values can be selected with shift and/or ctrl (or command) pressed and mouse clicks or arrow keys."
   ]
  },
  {
   "attachments": {},
   "cell_type": "markdown",
   "metadata": {},
   "source": [
    "### Fuel Cars Only"
   ]
  },
  {
   "cell_type": "code",
   "execution_count": 6,
   "metadata": {},
   "outputs": [],
   "source": [
    "widget_year, widget_make, widget_vehicle_class, widget_co2, widget_row = init_widgets()"
   ]
  },
  {
   "cell_type": "code",
   "execution_count": 7,
   "metadata": {},
   "outputs": [
    {
     "data": {
      "text/html": [
       "<span style=\"None\">Interactive mode, please interact with below widget(s) to control the variable</span>"
      ],
      "text/plain": [
       "Interactive mode, please interact with below widget(s) to control the variable"
      ]
     },
     "metadata": {},
     "output_type": "display_data"
    },
    {
     "data": {
      "application/vnd.jupyter.widget-view+json": {
       "model_id": "cd2833f8453d4824924f5ff84fae235b",
       "version_major": 2,
       "version_minor": 0
      },
      "text/plain": [
       "interactive(children=(SelectMultiple(description='Model Year', index=(0, 1, 2, 3, 4, 5, 6, 7, 8, 9, 10, 11, 12…"
      ]
     },
     "metadata": {},
     "output_type": "display_data"
    }
   ],
   "source": [
    "%%sql --interact widget_year --interact widget_make --interact widget_vehicle_class --interact widget_co2 --interact widget_row\n",
    "SELECT * \n",
    "FROM fuel \n",
    "WHERE model_year IN {{widget_year}}\n",
    "AND make_ IN {{widget_make}}\n",
    "AND vehicleclass_ IN {{widget_vehicle_class}}\n",
    "AND co2_rating >= {{widget_co2}}\n",
    "LIMIT {{widget_row}}"
   ]
  },
  {
   "attachments": {},
   "cell_type": "markdown",
   "metadata": {},
   "source": [
    "### Hybrid Cars Only"
   ]
  },
  {
   "cell_type": "code",
   "execution_count": 8,
   "metadata": {},
   "outputs": [],
   "source": [
    "widget_year, widget_make, widget_vehicle_class, widget_co2, widget_row = init_widgets()"
   ]
  },
  {
   "cell_type": "code",
   "execution_count": 9,
   "metadata": {},
   "outputs": [
    {
     "data": {
      "text/html": [
       "<span style=\"None\">Interactive mode, please interact with below widget(s) to control the variable</span>"
      ],
      "text/plain": [
       "Interactive mode, please interact with below widget(s) to control the variable"
      ]
     },
     "metadata": {},
     "output_type": "display_data"
    },
    {
     "data": {
      "application/vnd.jupyter.widget-view+json": {
       "model_id": "50a59ec64c024ea2929aa8546f988859",
       "version_major": 2,
       "version_minor": 0
      },
      "text/plain": [
       "interactive(children=(SelectMultiple(description='Model Year', index=(0, 1, 2, 3, 4, 5, 6, 7, 8, 9, 10, 11, 12…"
      ]
     },
     "metadata": {},
     "output_type": "display_data"
    }
   ],
   "source": [
    "%%sql --interact widget_year --interact widget_make --interact widget_vehicle_class --interact widget_co2 --interact widget_row\n",
    "SELECT * \n",
    "FROM hybrid \n",
    "WHERE model_year IN {{widget_year}}\n",
    "AND make_ IN {{widget_make}}\n",
    "AND vehicleclass_ IN {{widget_vehicle_class}}\n",
    "AND co2_rating >= {{widget_co2}}\n",
    "LIMIT {{widget_row}}"
   ]
  },
  {
   "attachments": {},
   "cell_type": "markdown",
   "metadata": {},
   "source": [
    "### Electric Cars Only"
   ]
  },
  {
   "cell_type": "code",
   "execution_count": 10,
   "metadata": {},
   "outputs": [],
   "source": [
    "widget_year, widget_make, widget_vehicle_class, widget_co2, widget_row = init_widgets()"
   ]
  },
  {
   "cell_type": "code",
   "execution_count": 11,
   "metadata": {},
   "outputs": [
    {
     "data": {
      "text/html": [
       "<span style=\"None\">Interactive mode, please interact with below widget(s) to control the variable</span>"
      ],
      "text/plain": [
       "Interactive mode, please interact with below widget(s) to control the variable"
      ]
     },
     "metadata": {},
     "output_type": "display_data"
    },
    {
     "data": {
      "application/vnd.jupyter.widget-view+json": {
       "model_id": "253c2ddc7efa4dd3bc3192c250982edc",
       "version_major": 2,
       "version_minor": 0
      },
      "text/plain": [
       "interactive(children=(SelectMultiple(description='Model Year', index=(0, 1, 2, 3, 4, 5, 6, 7, 8, 9, 10, 11, 12…"
      ]
     },
     "metadata": {},
     "output_type": "display_data"
    }
   ],
   "source": [
    "%%sql --interact widget_year --interact widget_make --interact widget_vehicle_class --interact widget_row\n",
    "SELECT * \n",
    "FROM electric \n",
    "WHERE model_year IN {{widget_year}}\n",
    "AND make_ IN {{widget_make}}\n",
    "AND vehicleclass_ IN {{widget_vehicle_class}}\n",
    "LIMIT {{widget_row}}"
   ]
  },
  {
   "attachments": {},
   "cell_type": "markdown",
   "metadata": {},
   "source": [
    "### All Cars"
   ]
  },
  {
   "cell_type": "code",
   "execution_count": 12,
   "metadata": {},
   "outputs": [],
   "source": [
    "widget_year, widget_make, widget_vehicle_class, widget_co2, widget_row = init_widgets()"
   ]
  },
  {
   "cell_type": "code",
   "execution_count": 13,
   "metadata": {},
   "outputs": [
    {
     "data": {
      "text/html": [
       "<span style=\"None\">Interactive mode, please interact with below widget(s) to control the variable</span>"
      ],
      "text/plain": [
       "Interactive mode, please interact with below widget(s) to control the variable"
      ]
     },
     "metadata": {},
     "output_type": "display_data"
    },
    {
     "data": {
      "application/vnd.jupyter.widget-view+json": {
       "model_id": "30e15d4faa6a4cd494b5d8e237a6deec",
       "version_major": 2,
       "version_minor": 0
      },
      "text/plain": [
       "interactive(children=(SelectMultiple(description='Model Year', index=(0, 1, 2, 3, 4, 5, 6, 7, 8, 9, 10, 11, 12…"
      ]
     },
     "metadata": {},
     "output_type": "display_data"
    }
   ],
   "source": [
    "%%sql --interact widget_year --interact widget_make --interact widget_vehicle_class --interact widget_co2 --interact widget_row\n",
    "SELECT * \n",
    "FROM all_vehicles \n",
    "WHERE model_year IN {{widget_year}}\n",
    "AND make_ IN {{widget_make}}\n",
    "AND vehicleclass_ IN {{widget_vehicle_class}}\n",
    "AND co2_rating >= {{widget_co2}}\n",
    "LIMIT {{widget_row}}"
   ]
  },
  {
   "attachments": {},
   "cell_type": "markdown",
   "metadata": {},
   "source": [
    "## Plots"
   ]
  },
  {
   "attachments": {},
   "cell_type": "markdown",
   "metadata": {},
   "source": [
    "1. Bar plot with three groups (fuel, hybrid, electric). X axis is `model_year` and y axis is `num_vehicles`. This way we can examine car manufacturing trends - ggplot API\n",
    "2. Scatter plot of electric vehicle ranges and charging time (by vehicle class?)- seaborn \n",
    "3. Bar plot with three groups (fuel, hybrid, electric). X axis is `vehicleclass_` and y axis is `num_vehicles`. \n",
    "4. Bubble plot of fuel vehicles, x axis is `co2emissions_g(g/km)`, y axis is `fuelconsumption_comb(mpg)`, and bubble size is `enginesize_(l)`\n",
    "5. Boxplot for statistical comparison of `fuelconsumption_city` across all three groups (fuel, hybrid, electric) -> tough to do in a single CTE because of the different column names. Could do it separately (1 boxplot for each group) or look at another variable.\n",
    "6. Heatmap (makes sense for only Gas Cars) of `fuelconsumption_comb_l_100km`, `enginesize_l`, `cylinders_`, `co2emissions_g_km`, `co2_rating`, `smog_rating`, and `number_of_gears`. CTE is not possible, will have to use `df.corr()`. Don't count this for CTE use so technically still at 5.\n",
    "7. Histogram of `co2emissions_g_km` with widgets for `cmap`, `fill`, and `bins`. Fill cols include `vehicle_type` and `mapped_fuel_type`. (hybrid and fuel-only) -> outputting 2 plots (bug?)\n",
    "8. Boxplot with seaborn for `co2emissions_g_km` by `make_` and `vehicleclass_` (hybrid and fuel-only)  "
   ]
  },
  {
   "attachments": {},
   "cell_type": "markdown",
   "metadata": {},
   "source": [
    "## Bar Plot of Car Manufacturing Trends"
   ]
  },
  {
   "cell_type": "code",
   "execution_count": 14,
   "metadata": {},
   "outputs": [
    {
     "data": {
      "text/html": [
       "<table>\n",
       "    <thead>\n",
       "        <tr>\n",
       "            <th>model_year</th>\n",
       "            <th>vehicle_type</th>\n",
       "            <th>num_vehicles</th>\n",
       "        </tr>\n",
       "    </thead>\n",
       "    <tbody>\n",
       "        <tr>\n",
       "            <td>2023</td>\n",
       "            <td>electric</td>\n",
       "            <td>134</td>\n",
       "        </tr>\n",
       "        <tr>\n",
       "            <td>2022</td>\n",
       "            <td>electric</td>\n",
       "            <td>82</td>\n",
       "        </tr>\n",
       "        <tr>\n",
       "            <td>2021</td>\n",
       "            <td>electric</td>\n",
       "            <td>49</td>\n",
       "        </tr>\n",
       "        <tr>\n",
       "            <td>2021</td>\n",
       "            <td>hybrid</td>\n",
       "            <td>40</td>\n",
       "        </tr>\n",
       "        <tr>\n",
       "            <td>2022</td>\n",
       "            <td>hybrid</td>\n",
       "            <td>40</td>\n",
       "        </tr>\n",
       "        <tr>\n",
       "            <td>2020</td>\n",
       "            <td>electric</td>\n",
       "            <td>40</td>\n",
       "        </tr>\n",
       "        <tr>\n",
       "            <td>2019</td>\n",
       "            <td>electric</td>\n",
       "            <td>35</td>\n",
       "        </tr>\n",
       "        <tr>\n",
       "            <td>2023</td>\n",
       "            <td>hybrid</td>\n",
       "            <td>32</td>\n",
       "        </tr>\n",
       "        <tr>\n",
       "            <td>2020</td>\n",
       "            <td>hybrid</td>\n",
       "            <td>31</td>\n",
       "        </tr>\n",
       "        <tr>\n",
       "            <td>2016</td>\n",
       "            <td>electric</td>\n",
       "            <td>27</td>\n",
       "        </tr>\n",
       "    </tbody>\n",
       "</table>\n",
       "<span style='font-style:italic;font-size:11px'><code>ResultSet</code> : to convert to pandas, call <a href='https://jupysql.ploomber.io/en/latest/integrations/pandas.html'><code>.DataFrame()</code></a> or to polars, call <a href='https://jupysql.ploomber.io/en/latest/integrations/polars.html'><code>.PolarsDataFrame()</code></a></span><br>\n",
       "<span style=\"font-style:italic;text-align:center;\">Truncated to displaylimit of 10</span><br><span style=\"font-style:italic;text-align:center;\">If you want to see more, please visit <a href=\"https://jupysql.ploomber.io/en/latest/api/configuration.html#displaylimit\">displaylimit</a> configuration</span>"
      ],
      "text/plain": [
       "+------------+--------------+--------------+\n",
       "| model_year | vehicle_type | num_vehicles |\n",
       "+------------+--------------+--------------+\n",
       "|    2023    |   electric   |     134      |\n",
       "|    2022    |   electric   |      82      |\n",
       "|    2021    |   electric   |      49      |\n",
       "|    2021    |    hybrid    |      40      |\n",
       "|    2022    |    hybrid    |      40      |\n",
       "|    2020    |   electric   |      40      |\n",
       "|    2019    |   electric   |      35      |\n",
       "|    2023    |    hybrid    |      32      |\n",
       "|    2020    |    hybrid    |      31      |\n",
       "|    2016    |   electric   |      27      |\n",
       "+------------+--------------+--------------+"
      ]
     },
     "execution_count": 14,
     "metadata": {},
     "output_type": "execute_result"
    }
   ],
   "source": [
    "%%sql --save q_1_hybrid_electric --no-execute\n",
    "SELECT DISTINCT model_year, vehicle_type, COUNT(id) AS num_vehicles\n",
    "FROM all_vehicles\n",
    "WHERE vehicle_type = 'hybrid' OR vehicle_type = 'electric'\n",
    "GROUP BY model_year, vehicle_type\n",
    "ORDER BY num_vehicles DESC;"
   ]
  },
  {
   "cell_type": "code",
   "execution_count": 15,
   "metadata": {},
   "outputs": [
    {
     "data": {
      "text/html": [
       "<table>\n",
       "    <thead>\n",
       "        <tr>\n",
       "            <th>model_year</th>\n",
       "            <th>vehicle_type</th>\n",
       "            <th>num_vehicles</th>\n",
       "        </tr>\n",
       "    </thead>\n",
       "    <tbody>\n",
       "        <tr>\n",
       "            <td>1995</td>\n",
       "            <td>fuel-only</td>\n",
       "            <td>839</td>\n",
       "        </tr>\n",
       "        <tr>\n",
       "            <td>1996</td>\n",
       "            <td>fuel-only</td>\n",
       "            <td>698</td>\n",
       "        </tr>\n",
       "        <tr>\n",
       "            <td>1997</td>\n",
       "            <td>fuel-only</td>\n",
       "            <td>658</td>\n",
       "        </tr>\n",
       "        <tr>\n",
       "            <td>1998</td>\n",
       "            <td>fuel-only</td>\n",
       "            <td>634</td>\n",
       "        </tr>\n",
       "        <tr>\n",
       "            <td>1999</td>\n",
       "            <td>fuel-only</td>\n",
       "            <td>688</td>\n",
       "        </tr>\n",
       "        <tr>\n",
       "            <td>2000</td>\n",
       "            <td>fuel-only</td>\n",
       "            <td>638</td>\n",
       "        </tr>\n",
       "        <tr>\n",
       "            <td>2001</td>\n",
       "            <td>fuel-only</td>\n",
       "            <td>679</td>\n",
       "        </tr>\n",
       "        <tr>\n",
       "            <td>2002</td>\n",
       "            <td>fuel-only</td>\n",
       "            <td>740</td>\n",
       "        </tr>\n",
       "        <tr>\n",
       "            <td>2003</td>\n",
       "            <td>fuel-only</td>\n",
       "            <td>820</td>\n",
       "        </tr>\n",
       "        <tr>\n",
       "            <td>2004</td>\n",
       "            <td>fuel-only</td>\n",
       "            <td>898</td>\n",
       "        </tr>\n",
       "    </tbody>\n",
       "</table>\n",
       "<span style='font-style:italic;font-size:11px'><code>ResultSet</code> : to convert to pandas, call <a href='https://jupysql.ploomber.io/en/latest/integrations/pandas.html'><code>.DataFrame()</code></a> or to polars, call <a href='https://jupysql.ploomber.io/en/latest/integrations/polars.html'><code>.PolarsDataFrame()</code></a></span><br>\n",
       "<span style=\"font-style:italic;text-align:center;\">Truncated to displaylimit of 10</span><br><span style=\"font-style:italic;text-align:center;\">If you want to see more, please visit <a href=\"https://jupysql.ploomber.io/en/latest/api/configuration.html#displaylimit\">displaylimit</a> configuration</span>"
      ],
      "text/plain": [
       "+------------+--------------+--------------+\n",
       "| model_year | vehicle_type | num_vehicles |\n",
       "+------------+--------------+--------------+\n",
       "|    1995    |  fuel-only   |     839      |\n",
       "|    1996    |  fuel-only   |     698      |\n",
       "|    1997    |  fuel-only   |     658      |\n",
       "|    1998    |  fuel-only   |     634      |\n",
       "|    1999    |  fuel-only   |     688      |\n",
       "|    2000    |  fuel-only   |     638      |\n",
       "|    2001    |  fuel-only   |     679      |\n",
       "|    2002    |  fuel-only   |     740      |\n",
       "|    2003    |  fuel-only   |     820      |\n",
       "|    2004    |  fuel-only   |     898      |\n",
       "+------------+--------------+--------------+"
      ]
     },
     "execution_count": 15,
     "metadata": {},
     "output_type": "execute_result"
    }
   ],
   "source": [
    "%%sql --save q_1_fuel --no-execute\n",
    "SELECT DISTINCT model_year, vehicle_type, COUNT(id) AS num_vehicles\n",
    "FROM fuel\n",
    "GROUP BY model_year, vehicle_type\n",
    "ORDER BY model_year;"
   ]
  },
  {
   "cell_type": "code",
   "execution_count": 16,
   "metadata": {},
   "outputs": [
    {
     "data": {
      "text/html": [
       "<span style=\"None\">Generating CTE with stored snippets : &#x27;q_1_hybrid_electric&#x27;</span>"
      ],
      "text/plain": [
       "Generating CTE with stored snippets : 'q_1_hybrid_electric'"
      ]
     },
     "metadata": {},
     "output_type": "display_data"
    },
    {
     "data": {
      "text/html": [
       "<span style=\"None\">Generating CTE with stored snippets : &#x27;q_1_fuel&#x27;</span>"
      ],
      "text/plain": [
       "Generating CTE with stored snippets : 'q_1_fuel'"
      ]
     },
     "metadata": {},
     "output_type": "display_data"
    }
   ],
   "source": [
    "hybrid_electric_count = %sql SELECT * FROM q_1_hybrid_electric\n",
    "fuel_count = %sql SELECT * FROM q_1_fuel\n",
    "\n",
    "hybrid_electric_count = hybrid_electric_count.DataFrame()\n",
    "fuel_count = fuel_count.DataFrame()"
   ]
  },
  {
   "cell_type": "code",
   "execution_count": 17,
   "metadata": {},
   "outputs": [
    {
     "data": {
      "application/vnd.jupyter.widget-view+json": {
       "model_id": "4f14898789b94299a4a699957bcfcbbe",
       "version_major": 2,
       "version_minor": 0
      },
      "text/plain": [
       "interactive(children=(RadioButtons(description='Select Data:', options=('fuel_count', 'hybrid_electric_count')…"
      ]
     },
     "metadata": {},
     "output_type": "display_data"
    },
    {
     "data": {
      "text/plain": [
       "<function __main__.draw_bar_year_count(data)>"
      ]
     },
     "execution_count": 17,
     "metadata": {},
     "output_type": "execute_result"
    }
   ],
   "source": [
    "radio_button = widgets.RadioButtons(\n",
    "    options=[\"fuel_count\", \"hybrid_electric_count\"],\n",
    "    description=\"Select Data:\",\n",
    "    disabled=False,\n",
    "    style={\"description_width\": \"initial\"},\n",
    ")\n",
    "\n",
    "def draw_bar_year_count(data):\n",
    "    plt.figure(figsize=(10, 5), dpi=300)\n",
    "    if data == \"fuel_count\":\n",
    "        sns.barplot(\n",
    "            data=fuel_count,\n",
    "            x=\"model_year\",\n",
    "            y=\"num_vehicles\",\n",
    "            color=\"orange\",\n",
    "            errorbar=None,\n",
    "            width=0.4\n",
    "        )\n",
    "        sns.pointplot(\n",
    "            data=fuel_count,\n",
    "            x=\"model_year\",\n",
    "            y=\"num_vehicles\",\n",
    "            color=\"red\",  \n",
    "            linestyles=\"--\",  \n",
    "            ax=plt.gca(), \n",
    "            errorbar=None\n",
    "        )\n",
    "        plt.xlabel(\"Car Model Year\")\n",
    "        plt.ylabel(\"Count\")\n",
    "        plt.xticks(rotation = 45)\n",
    "        plt.title(\"Count of Unique Fuel-Only Cars by Model Year\")\n",
    "        plt.show()\n",
    "    else:\n",
    "        sns.barplot(\n",
    "            data=hybrid_electric_count,\n",
    "            x=\"model_year\",\n",
    "            y=\"num_vehicles\",\n",
    "            hue=\"vehicle_type\",\n",
    "            palette={\"hybrid\": \"blue\", \"electric\": \"green\"},\n",
    "            width=0.4\n",
    "        )\n",
    "        sns.pointplot(\n",
    "            data=hybrid_electric_count,\n",
    "            x=\"model_year\",\n",
    "            y=\"num_vehicles\",\n",
    "            color=\"red\", \n",
    "            linestyles=\"--\",  \n",
    "            ax=plt.gca(),  \n",
    "            errorbar=None\n",
    "        )\n",
    "        plt.xlabel(\"Car Model Year\")\n",
    "        plt.ylabel(\"Count\")\n",
    "        plt.xticks(rotation = 45)\n",
    "        plt.title(\n",
    "            \"Count of Unique Hybrid and Electric Cars by Model Year\"\n",
    "        ) \n",
    "        plt.legend(bbox_to_anchor=(1, 1), loc=\"upper right\")\n",
    "        plt.show()\n",
    "interact(draw_bar_year_count, data=radio_button)\n"
   ]
  },
  {
   "attachments": {},
   "cell_type": "markdown",
   "metadata": {},
   "source": [
    "### Interesting Insights\n",
    "\n",
    "From the bar plot of fuel-only cars, we can see that the <b>number of unique car brand models</b> introduced to the Canadian automobile market had been increasing from the turn of the 21st century to the year 2005. This increasing trend then plateued and remained fairly constant until 2022, with 2015 experiencing the largest spike. On December 21, 2022, Steven Guilbeault, Canada's minister of environment and climate change, unveiled a regulation that would require increasing percentages of vehicle sales in Canada to be zero-emissions vehicles up to 100% by the year 2035[$^1$](https://www.canada.ca/en/environment-climate-change/news/2022/12/let-it-roll-government-of-canada-moves-to-increase-the-supply-of-electric-vehicles-for-canadians.html). These efforts seem to have had an immediate impact on the number of fuel-only cars introduced to the Canadian market, with 2023 experiencing a sharp decline and reaching 2003 levels. \n",
    "\n",
    "The above insights are reinforced by the bar plot of the number of unique hybrid and electric car brands and their respective models introduced to the Canadian automobile market. In 2012, only two electric car models, Nissan's Leaf and Mitsubishi's i-MiEV, and one hybrid car manufacturer, Chevrolet's Volt, were present in the market. Since then, this figure has grown to 134 electric car models and 32 hybrid car models in 2023 in Canada."
   ]
  },
  {
   "attachments": {},
   "cell_type": "markdown",
   "metadata": {},
   "source": [
    "## Scatter Plot of Electric Vehicle Ranges and Charging Time by Car Size "
   ]
  },
  {
   "cell_type": "code",
   "execution_count": 22,
   "metadata": {},
   "outputs": [
    {
     "data": {
      "text/html": [
       "<table>\n",
       "    <thead>\n",
       "        <tr>\n",
       "            <th>range1_km</th>\n",
       "            <th>recharge_time_h</th>\n",
       "            <th>vehicleclass_</th>\n",
       "            <th>model_year</th>\n",
       "        </tr>\n",
       "    </thead>\n",
       "    <tbody>\n",
       "        <tr>\n",
       "            <td>100</td>\n",
       "            <td>7.0</td>\n",
       "            <td>subcompact</td>\n",
       "            <td>2012</td>\n",
       "        </tr>\n",
       "        <tr>\n",
       "            <td>117</td>\n",
       "            <td>7.0</td>\n",
       "            <td>mid-size</td>\n",
       "            <td>2012</td>\n",
       "        </tr>\n",
       "        <tr>\n",
       "            <td>122</td>\n",
       "            <td>4.0</td>\n",
       "            <td>compact</td>\n",
       "            <td>2013</td>\n",
       "        </tr>\n",
       "        <tr>\n",
       "            <td>100</td>\n",
       "            <td>7.0</td>\n",
       "            <td>subcompact</td>\n",
       "            <td>2013</td>\n",
       "        </tr>\n",
       "        <tr>\n",
       "            <td>117</td>\n",
       "            <td>7.0</td>\n",
       "            <td>mid-size</td>\n",
       "            <td>2013</td>\n",
       "        </tr>\n",
       "        <tr>\n",
       "            <td>109</td>\n",
       "            <td>8.0</td>\n",
       "            <td>two-seater</td>\n",
       "            <td>2013</td>\n",
       "        </tr>\n",
       "        <tr>\n",
       "            <td>109</td>\n",
       "            <td>8.0</td>\n",
       "            <td>two-seater</td>\n",
       "            <td>2013</td>\n",
       "        </tr>\n",
       "        <tr>\n",
       "            <td>224</td>\n",
       "            <td>6.0</td>\n",
       "            <td>full-size</td>\n",
       "            <td>2013</td>\n",
       "        </tr>\n",
       "        <tr>\n",
       "            <td>335</td>\n",
       "            <td>10.0</td>\n",
       "            <td>full-size</td>\n",
       "            <td>2013</td>\n",
       "        </tr>\n",
       "        <tr>\n",
       "            <td>426</td>\n",
       "            <td>12.0</td>\n",
       "            <td>full-size</td>\n",
       "            <td>2013</td>\n",
       "        </tr>\n",
       "    </tbody>\n",
       "</table>\n",
       "<span style='font-style:italic;font-size:11px'><code>ResultSet</code> : to convert to pandas, call <a href='https://jupysql.ploomber.io/en/latest/integrations/pandas.html'><code>.DataFrame()</code></a> or to polars, call <a href='https://jupysql.ploomber.io/en/latest/integrations/polars.html'><code>.PolarsDataFrame()</code></a></span><br>\n",
       "<span style=\"font-style:italic;text-align:center;\">Truncated to displaylimit of 10</span><br><span style=\"font-style:italic;text-align:center;\">If you want to see more, please visit <a href=\"https://jupysql.ploomber.io/en/latest/api/configuration.html#displaylimit\">displaylimit</a> configuration</span>"
      ],
      "text/plain": [
       "+-----------+-----------------+---------------+------------+\n",
       "| range1_km | recharge_time_h | vehicleclass_ | model_year |\n",
       "+-----------+-----------------+---------------+------------+\n",
       "|    100    |       7.0       |   subcompact  |    2012    |\n",
       "|    117    |       7.0       |    mid-size   |    2012    |\n",
       "|    122    |       4.0       |    compact    |    2013    |\n",
       "|    100    |       7.0       |   subcompact  |    2013    |\n",
       "|    117    |       7.0       |    mid-size   |    2013    |\n",
       "|    109    |       8.0       |   two-seater  |    2013    |\n",
       "|    109    |       8.0       |   two-seater  |    2013    |\n",
       "|    224    |       6.0       |   full-size   |    2013    |\n",
       "|    335    |       10.0      |   full-size   |    2013    |\n",
       "|    426    |       12.0      |   full-size   |    2013    |\n",
       "+-----------+-----------------+---------------+------------+"
      ]
     },
     "execution_count": 22,
     "metadata": {},
     "output_type": "execute_result"
    }
   ],
   "source": [
    "%%sql --save q_2_electric_range\n",
    "SELECT range1_km, recharge_time_h, vehicleclass_, model_year\n",
    "FROM electric"
   ]
  },
  {
   "cell_type": "code",
   "execution_count": 32,
   "metadata": {},
   "outputs": [
    {
     "data": {
      "text/html": [
       "<span style=\"None\">Generating CTE with stored snippets : &#x27;q_2_electric_range&#x27;</span>"
      ],
      "text/plain": [
       "Generating CTE with stored snippets : 'q_2_electric_range'"
      ]
     },
     "metadata": {},
     "output_type": "display_data"
    }
   ],
   "source": [
    "electric_range = %sql SELECT * FROM q_2_electric_range\n",
    "\n",
    "electric_range = electric_range.DataFrame()\n",
    "\n",
    "# group vehicle class into sedan or SUV\n",
    "\n",
    "electric_range[\"vehicle_size\"] = np.where(\n",
    "    electric_range[\"vehicleclass_\"].isin(\n",
    "        [\"subcompact\", \"compact\", \"mid-size\", \"full-size\", \"two-seater\"]\n",
    "    ),\n",
    "    \"Sedan or smaller\",\n",
    "    \"SUV or larger\"\n",
    ")\n",
    "\n",
    "# group model year into 2012-2021 and 2022-2023\n",
    "\n",
    "electric_range[\"model_year_grouped\"] = np.where(\n",
    "    electric_range[\"model_year\"] <= 2021,\n",
    "    \"2012-2021\",\n",
    "    \"2022-2023\"\n",
    ")"
   ]
  },
  {
   "cell_type": "code",
   "execution_count": 41,
   "metadata": {},
   "outputs": [
    {
     "data": {
      "application/vnd.jupyter.widget-view+json": {
       "model_id": "1a7800a21abe4c40be30817efc7337eb",
       "version_major": 2,
       "version_minor": 0
      },
      "text/plain": [
       "interactive(children=(Dropdown(description='(Un)select Hue:', options=('vehicle_size', 'model_year_grouped', N…"
      ]
     },
     "metadata": {},
     "output_type": "display_data"
    },
    {
     "data": {
      "text/plain": [
       "<function __main__.draw_scatter_electric_range(hue_selection)>"
      ]
     },
     "execution_count": 41,
     "metadata": {},
     "output_type": "execute_result"
    }
   ],
   "source": [
    "hue_button = widgets.Dropdown(\n",
    "    options=[\"vehicle_size\", \"model_year_grouped\", None],\n",
    "    description=\"(Un)select Hue:\",\n",
    "    disabled=False,\n",
    "    style={\"description_width\": \"initial\"},\n",
    ")\n",
    "\n",
    "def draw_scatter_electric_range(hue_selection):\n",
    "    plt.figure(figsize=(10, 5), dpi=300)\n",
    "    sns.scatterplot(data=electric_range, x=\"recharge_time_h\", y=\"range1_km\", hue=hue_selection)\n",
    "    plt.title(\n",
    "        f\"Scatter Plot of Electric Vehicle Range (km) and Recharge Time (hrs) by {hue_selection}\"\n",
    "    )  \n",
    "    plt.xlabel(\"Recharge Time (hrs)\")\n",
    "    plt.ylabel(\"Range (km)\")\n",
    "    plt.show()\n",
    "interact(draw_scatter_electric_range, hue_selection=hue_button)"
   ]
  },
  {
   "attachments": {},
   "cell_type": "markdown",
   "metadata": {},
   "source": [
    "### Interesting Insights\n",
    "\n",
    "The above scatterplot helps us compare the ranges and charging times of electric cars by their size or model year. Although one could deduce that higher recharge times (depending on the car's battery size, quality, etc.) would lead to travelling greater ranges, the graph offers more details that are worth exploring. For example, electric cars manufactured recently (2022 and onwards) have a much higher range, on average, than those manufactured between 2012 and 2021. This is likely due to the advancements in battery technology and the increased demand for electric cars. Moreover, some electric cars recently manufactured provide a better range with 10 hours of recharge time than those manufactured previously with 12 hours of recharge time. Furthermore, some new electric cars with recharge times of 10 hours provide as good a range as both new and older electric cars with recharge times greater than 10 hours (13 hours being the outlier). Maybe 10 hours is the sweet spot for recharge time?\n",
    "\n",
    "If we shift our focus to vehicle size, there are more electric sedans (and smaller) than there are SUV's (and larger) for lower recharge times between 4 to 7 hours and this is expected due to the difference in car sizes. Sedans, on average, also seem to provide greater ranges than SUV's for recharge times greater than 7 hours. However, for recharge times less than 7 hours, SUV's provide greater ranges than sedans. This could be due to the fact that SUV's have larger batteries and, therefore, can travel greater ranges with less recharge time. Moreover, some sedans with 10 hours of recharge time provide better ranges than all SUV's do with greater than 10 hours of recharge time!\n",
    "\n",
    "Therefore, consumers have a wide range of options to choose from when it comes to electric cars! Choosing wisely by assessing the tradeoff between recharge time and range is key and this graph helps us do just that."
   ]
  },
  {
   "attachments": {},
   "cell_type": "markdown",
   "metadata": {},
   "source": [
    "## Number of Unqiue Vehicles by Class (size) and Type (fuel, hybrid, electric)"
   ]
  },
  {
   "cell_type": "code",
   "execution_count": null,
   "metadata": {},
   "outputs": [],
   "source": []
  },
  {
   "attachments": {},
   "cell_type": "markdown",
   "metadata": {},
   "source": [
    "## Scatter Plot of Fuel Consumption and $CO_2$ Emissions by Engine Size"
   ]
  },
  {
   "cell_type": "code",
   "execution_count": null,
   "metadata": {},
   "outputs": [],
   "source": []
  },
  {
   "attachments": {},
   "cell_type": "markdown",
   "metadata": {},
   "source": [
    "## Boxplot of Fuel Consumption by Vehicle Type"
   ]
  },
  {
   "cell_type": "code",
   "execution_count": null,
   "metadata": {},
   "outputs": [],
   "source": []
  },
  {
   "attachments": {},
   "cell_type": "markdown",
   "metadata": {},
   "source": [
    "## Histogram of $CO_2$ Emissions "
   ]
  },
  {
   "cell_type": "code",
   "execution_count": null,
   "metadata": {},
   "outputs": [],
   "source": []
  },
  {
   "attachments": {},
   "cell_type": "markdown",
   "metadata": {},
   "source": [
    "## Boxplot of $CO_2$ Emissions by US Brand (hybrid and fuel-only)  "
   ]
  }
 ],
 "metadata": {
  "kernelspec": {
   "display_name": "Python 3 (ipykernel)",
   "language": "python",
   "name": "python3"
  },
  "language_info": {
   "codemirror_mode": {
    "name": "ipython",
    "version": 3
   },
   "file_extension": ".py",
   "mimetype": "text/x-python",
   "name": "python",
   "nbconvert_exporter": "python",
   "pygments_lexer": "ipython3",
   "version": "3.10.0"
  }
 },
 "nbformat": 4,
 "nbformat_minor": 4
}
