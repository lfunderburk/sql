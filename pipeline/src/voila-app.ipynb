{
 "cells": [
  {
   "attachments": {},
   "cell_type": "markdown",
   "metadata": {},
   "source": [
    "# Car Fuel Emissions Dataset Dashboard\n",
    "\n",
    "> This dashboard helps you explore the $CO_2$ emissions of different car models and their fuel consumption.\n",
    "\n",
    "<b>[Data](https://open.canada.ca/data/en/dataset/98f1a129-f628-4ce4-b24d-6f16bf24dd64) Updated as of June 15, 2023</b>"
   ]
  },
  {
   "cell_type": "code",
   "execution_count": 1,
   "metadata": {
    "tags": []
   },
   "outputs": [],
   "source": [
    "import ipywidgets as widgets\n",
    "from ipywidgets import interact\n",
    "\n",
    "import matplotlib.pyplot as plt\n",
    "import seaborn as sns\n",
    "\n",
    "from IPython import get_ipython\n",
    "\n",
    "from sql.ggplot import ggplot, aes, geom_boxplot, geom_histogram\n",
    "\n",
    "import numpy as np"
   ]
  },
  {
   "cell_type": "code",
   "execution_count": 2,
   "metadata": {
    "tags": []
   },
   "outputs": [],
   "source": [
    "%load_ext sql\n",
    "\n",
    "%sql duckdb:///../data/database/car_data.duckdb\n",
    "\n",
    "%config SqlMagic.displaycon = False"
   ]
  },
  {
   "cell_type": "code",
   "execution_count": 3,
   "metadata": {},
   "outputs": [],
   "source": [
    "years = %sql select DISTINCT(model_year) from all_vehicles\n",
    "years = [model_year[0] for model_year in years]\n",
    "\n",
    "makes = %sql select DISTINCT(make_) from all_vehicles\n",
    "makes = [m[0] for m in makes]\n",
    "\n",
    "classes = %sql select DISTINCT(vehicleclass_) from all_vehicles\n",
    "classes = [c[0] for c in classes]\n",
    "\n",
    "co2 = %sql select DISTINCT(co2_rating) from all_vehicles\n",
    "co2 = [c[0] for c in co2]"
   ]
  },
  {
   "cell_type": "code",
   "execution_count": 4,
   "metadata": {},
   "outputs": [],
   "source": [
    "def init_widgets():\n",
    "    \"\"\"Initialize widgets\"\"\"\n",
    "    widget_year = widgets.SelectMultiple(\n",
    "        options=years,\n",
    "        description=\"Model Year\",\n",
    "        value=years,\n",
    "    )\n",
    "\n",
    "    widget_make = widgets.SelectMultiple(\n",
    "        options=makes,\n",
    "        description=\"Car Brand\",\n",
    "        value=makes,\n",
    "    )\n",
    "\n",
    "    widget_vehicle_class = widgets.SelectMultiple(\n",
    "        options=classes,\n",
    "        description=\"Vehicle Class (Size)\",\n",
    "        value=classes,\n",
    "        style={\"description_width\": \"initial\"},\n",
    "    )\n",
    "\n",
    "    widget_co2 = widgets.IntSlider(\n",
    "        value=5,\n",
    "        min=0,\n",
    "        max=10,\n",
    "        step=1,\n",
    "        description=\"CO2 Rating >=\",\n",
    "        disabled=False,\n",
    "        style={\"description_width\": \"initial\"},\n",
    "    )\n",
    "\n",
    "    widget_row = widgets.IntSlider(\n",
    "        value=5,\n",
    "        min=0,\n",
    "        max=10,\n",
    "        step=1,\n",
    "        description=\"Rows to Show\",\n",
    "        disabled=False,\n",
    "        style={\"description_width\": \"initial\"},\n",
    "    )\n",
    "    return (\n",
    "        widget_year,\n",
    "        widget_make,\n",
    "        widget_vehicle_class,\n",
    "        widget_co2,\n",
    "        widget_row,\n",
    "    )  # noqa E501"
   ]
  },
  {
   "cell_type": "code",
   "execution_count": 5,
   "metadata": {
    "tags": []
   },
   "outputs": [],
   "source": [
    "ip = get_ipython()\n",
    "sql_magic = ip.find_cell_magic(\"sql\")"
   ]
  },
  {
   "attachments": {},
   "cell_type": "markdown",
   "metadata": {},
   "source": [
    "## Visualizing Interactive Tables\n",
    "\n",
    "> Multiple values can be selected with shift and/or ctrl (or command) pressed and mouse clicks or arrow keys."
   ]
  },
  {
   "attachments": {},
   "cell_type": "markdown",
   "metadata": {},
   "source": [
    "### Fuel Cars Only"
   ]
  },
  {
   "cell_type": "code",
   "execution_count": 6,
   "metadata": {},
   "outputs": [],
   "source": [
    "(\n",
    "    widget_year,\n",
    "    widget_make,\n",
    "    widget_vehicle_class,\n",
    "    widget_co2,\n",
    "    widget_row,\n",
    ") = init_widgets()  # noqa E501"
   ]
  },
  {
   "cell_type": "code",
   "execution_count": 7,
   "metadata": {},
   "outputs": [
    {
     "data": {
      "text/html": [
       "<span style=\"None\">Interactive mode, please interact with below widget(s) to control the variable</span>"
      ],
      "text/plain": [
       "Interactive mode, please interact with below widget(s) to control the variable"
      ]
     },
     "metadata": {},
     "output_type": "display_data"
    },
    {
     "data": {
      "application/vnd.jupyter.widget-view+json": {
       "model_id": "33521379c8564e3a9c661bf6d6085a5b",
       "version_major": 2,
       "version_minor": 0
      },
      "text/plain": [
       "interactive(children=(SelectMultiple(description='Model Year', index=(0, 1, 2, 3, 4, 5, 6, 7, 8, 9, 10, 11, 12…"
      ]
     },
     "metadata": {},
     "output_type": "display_data"
    }
   ],
   "source": [
    "%%sql --interact widget_year --interact widget_make --interact widget_vehicle_class --interact widget_co2 --interact widget_row\n",
    "SELECT * \n",
    "FROM fuel \n",
    "WHERE model_year IN {{widget_year}}\n",
    "AND make_ IN {{widget_make}}\n",
    "AND vehicleclass_ IN {{widget_vehicle_class}}\n",
    "AND co2_rating >= {{widget_co2}}\n",
    "LIMIT {{widget_row}}"
   ]
  },
  {
   "attachments": {},
   "cell_type": "markdown",
   "metadata": {},
   "source": [
    "### Hybrid Cars Only"
   ]
  },
  {
   "cell_type": "code",
   "execution_count": 8,
   "metadata": {},
   "outputs": [],
   "source": [
    "(\n",
    "    widget_year,\n",
    "    widget_make,\n",
    "    widget_vehicle_class,\n",
    "    widget_co2,\n",
    "    widget_row,\n",
    ") = init_widgets()  # noqa E501"
   ]
  },
  {
   "cell_type": "code",
   "execution_count": 9,
   "metadata": {},
   "outputs": [
    {
     "data": {
      "text/html": [
       "<span style=\"None\">Interactive mode, please interact with below widget(s) to control the variable</span>"
      ],
      "text/plain": [
       "Interactive mode, please interact with below widget(s) to control the variable"
      ]
     },
     "metadata": {},
     "output_type": "display_data"
    },
    {
     "data": {
      "application/vnd.jupyter.widget-view+json": {
       "model_id": "e40ad1af010e4265a497db75421bb9c4",
       "version_major": 2,
       "version_minor": 0
      },
      "text/plain": [
       "interactive(children=(SelectMultiple(description='Model Year', index=(0, 1, 2, 3, 4, 5, 6, 7, 8, 9, 10, 11, 12…"
      ]
     },
     "metadata": {},
     "output_type": "display_data"
    }
   ],
   "source": [
    "%%sql --interact widget_year --interact widget_make --interact widget_vehicle_class --interact widget_co2 --interact widget_row\n",
    "SELECT * \n",
    "FROM hybrid \n",
    "WHERE model_year IN {{widget_year}}\n",
    "AND make_ IN {{widget_make}}\n",
    "AND vehicleclass_ IN {{widget_vehicle_class}}\n",
    "AND co2_rating >= {{widget_co2}}\n",
    "LIMIT {{widget_row}}"
   ]
  },
  {
   "attachments": {},
   "cell_type": "markdown",
   "metadata": {},
   "source": [
    "### Electric Cars Only"
   ]
  },
  {
   "cell_type": "code",
   "execution_count": 10,
   "metadata": {},
   "outputs": [],
   "source": [
    "(\n",
    "    widget_year,\n",
    "    widget_make,\n",
    "    widget_vehicle_class,\n",
    "    widget_co2,\n",
    "    widget_row,\n",
    ") = init_widgets()  # noqa E501"
   ]
  },
  {
   "cell_type": "code",
   "execution_count": 11,
   "metadata": {},
   "outputs": [
    {
     "data": {
      "text/html": [
       "<span style=\"None\">Interactive mode, please interact with below widget(s) to control the variable</span>"
      ],
      "text/plain": [
       "Interactive mode, please interact with below widget(s) to control the variable"
      ]
     },
     "metadata": {},
     "output_type": "display_data"
    },
    {
     "data": {
      "application/vnd.jupyter.widget-view+json": {
       "model_id": "c6f1fc913073417e81353d4d89c0d94d",
       "version_major": 2,
       "version_minor": 0
      },
      "text/plain": [
       "interactive(children=(SelectMultiple(description='Model Year', index=(0, 1, 2, 3, 4, 5, 6, 7, 8, 9, 10, 11, 12…"
      ]
     },
     "metadata": {},
     "output_type": "display_data"
    }
   ],
   "source": [
    "%%sql --interact widget_year --interact widget_make --interact widget_vehicle_class --interact widget_row\n",
    "SELECT * \n",
    "FROM electric \n",
    "WHERE model_year IN {{widget_year}}\n",
    "AND make_ IN {{widget_make}}\n",
    "AND vehicleclass_ IN {{widget_vehicle_class}}\n",
    "LIMIT {{widget_row}}"
   ]
  },
  {
   "attachments": {},
   "cell_type": "markdown",
   "metadata": {},
   "source": [
    "### All Cars"
   ]
  },
  {
   "cell_type": "code",
   "execution_count": 12,
   "metadata": {},
   "outputs": [],
   "source": [
    "(\n",
    "    widget_year,\n",
    "    widget_make,\n",
    "    widget_vehicle_class,\n",
    "    widget_co2,\n",
    "    widget_row,\n",
    ") = init_widgets()  # noqa E501"
   ]
  },
  {
   "cell_type": "code",
   "execution_count": 13,
   "metadata": {},
   "outputs": [
    {
     "data": {
      "text/html": [
       "<span style=\"None\">Interactive mode, please interact with below widget(s) to control the variable</span>"
      ],
      "text/plain": [
       "Interactive mode, please interact with below widget(s) to control the variable"
      ]
     },
     "metadata": {},
     "output_type": "display_data"
    },
    {
     "data": {
      "application/vnd.jupyter.widget-view+json": {
       "model_id": "7143ecfb9df942c593811151fc6047b5",
       "version_major": 2,
       "version_minor": 0
      },
      "text/plain": [
       "interactive(children=(SelectMultiple(description='Model Year', index=(0, 1, 2, 3, 4, 5, 6, 7, 8, 9, 10, 11, 12…"
      ]
     },
     "metadata": {},
     "output_type": "display_data"
    }
   ],
   "source": [
    "%%sql --interact widget_year --interact widget_make --interact widget_vehicle_class --interact widget_co2 --interact widget_row\n",
    "SELECT * \n",
    "FROM all_vehicles \n",
    "WHERE model_year IN {{widget_year}}\n",
    "AND make_ IN {{widget_make}}\n",
    "AND vehicleclass_ IN {{widget_vehicle_class}}\n",
    "AND co2_rating >= {{widget_co2}}\n",
    "LIMIT {{widget_row}}"
   ]
  },
  {
   "attachments": {},
   "cell_type": "markdown",
   "metadata": {},
   "source": [
    "## Plots"
   ]
  },
  {
   "attachments": {},
   "cell_type": "markdown",
   "metadata": {},
   "source": [
    "This dashboard contains 5 plots, created using the `ggplot` API, `seaborn`, and `ipywidgets`:\n",
    "\n",
    "1. Bar Plot of Car Manufacturing Trends\n",
    "2. Boxplot of Fuel Consumption and $CO2$ Emission for All Vehicle Types \n",
    "3. Scatter Plot of Electric Vehicle Ranges and Charging Time by Car Size and Model Year \n",
    "4. Histogram of $CO_2$ Emissions by Vehicle and Fuel Type\n",
    "5. $CO_2$ Emissions of Hybrid and Fuel-Only US Car Brands by Transmission Type"
   ]
  },
  {
   "attachments": {},
   "cell_type": "markdown",
   "metadata": {},
   "source": [
    "## Bar Plot of Car Manufacturing Trends"
   ]
  },
  {
   "cell_type": "code",
   "execution_count": 14,
   "metadata": {},
   "outputs": [
    {
     "data": {
      "text/html": [
       "<span style=\"None\">Skipping execution...</span>"
      ],
      "text/plain": [
       "Skipping execution..."
      ]
     },
     "metadata": {},
     "output_type": "display_data"
    }
   ],
   "source": [
    "%%sql --save q_1_hybrid_electric --no-execute\n",
    "SELECT DISTINCT model_year, vehicle_type, COUNT(id) AS num_vehicles\n",
    "FROM all_vehicles\n",
    "WHERE vehicle_type = 'hybrid' OR vehicle_type = 'electric'\n",
    "GROUP BY model_year, vehicle_type\n",
    "ORDER BY num_vehicles DESC;"
   ]
  },
  {
   "cell_type": "code",
   "execution_count": 15,
   "metadata": {},
   "outputs": [
    {
     "data": {
      "text/html": [
       "<span style=\"None\">Skipping execution...</span>"
      ],
      "text/plain": [
       "Skipping execution..."
      ]
     },
     "metadata": {},
     "output_type": "display_data"
    }
   ],
   "source": [
    "%%sql --save q_1_fuel --no-execute\n",
    "SELECT DISTINCT model_year, vehicle_type, COUNT(id) AS num_vehicles\n",
    "FROM fuel\n",
    "GROUP BY model_year, vehicle_type\n",
    "ORDER BY model_year;"
   ]
  },
  {
   "cell_type": "code",
   "execution_count": 16,
   "metadata": {},
   "outputs": [
    {
     "data": {
      "text/html": [
       "<span style=\"None\">Generating CTE with stored snippets : &#x27;q_1_hybrid_electric&#x27;</span>"
      ],
      "text/plain": [
       "Generating CTE with stored snippets : 'q_1_hybrid_electric'"
      ]
     },
     "metadata": {},
     "output_type": "display_data"
    },
    {
     "data": {
      "text/html": [
       "<span style=\"None\">Generating CTE with stored snippets : &#x27;q_1_fuel&#x27;</span>"
      ],
      "text/plain": [
       "Generating CTE with stored snippets : 'q_1_fuel'"
      ]
     },
     "metadata": {},
     "output_type": "display_data"
    }
   ],
   "source": [
    "hybrid_electric_count = %sql SELECT * FROM q_1_hybrid_electric\n",
    "fuel_count = %sql SELECT * FROM q_1_fuel\n",
    "\n",
    "hybrid_electric_count = hybrid_electric_count.DataFrame()\n",
    "fuel_count = fuel_count.DataFrame()"
   ]
  },
  {
   "cell_type": "code",
   "execution_count": 17,
   "metadata": {},
   "outputs": [
    {
     "data": {
      "application/vnd.jupyter.widget-view+json": {
       "model_id": "d7595802fb274bd98695326c45b40d83",
       "version_major": 2,
       "version_minor": 0
      },
      "text/plain": [
       "interactive(children=(RadioButtons(description='Select Data:', options=('fuel_count', 'hybrid_electric_count')…"
      ]
     },
     "metadata": {},
     "output_type": "display_data"
    },
    {
     "data": {
      "text/plain": [
       "<function __main__.draw_bar_year_count(data)>"
      ]
     },
     "execution_count": 17,
     "metadata": {},
     "output_type": "execute_result"
    }
   ],
   "source": [
    "radio_button = widgets.RadioButtons(\n",
    "    options=[\"fuel_count\", \"hybrid_electric_count\"],\n",
    "    description=\"Select Data:\",\n",
    "    disabled=False,\n",
    "    style={\"description_width\": \"initial\"},\n",
    ")\n",
    "\n",
    "\n",
    "def draw_bar_year_count(data):\n",
    "    plt.figure(figsize=(10, 5), dpi=300)\n",
    "    if data == \"fuel_count\":\n",
    "        sns.barplot(\n",
    "            data=fuel_count,\n",
    "            x=\"model_year\",\n",
    "            y=\"num_vehicles\",\n",
    "            color=\"orange\",\n",
    "            errorbar=None,\n",
    "            width=0.4,\n",
    "        )\n",
    "        sns.pointplot(\n",
    "            data=fuel_count,\n",
    "            x=\"model_year\",\n",
    "            y=\"num_vehicles\",\n",
    "            color=\"red\",\n",
    "            linestyles=\"--\",\n",
    "            ax=plt.gca(),\n",
    "            errorbar=None,\n",
    "        )\n",
    "        plt.xlabel(\"Car Model Year\")\n",
    "        plt.ylabel(\"Count\")\n",
    "        plt.xticks(rotation=45)\n",
    "        plt.title(\"Count of Unique Fuel-Only Cars by Model Year\")\n",
    "        plt.show()\n",
    "    else:\n",
    "        sns.barplot(\n",
    "            data=hybrid_electric_count,\n",
    "            x=\"model_year\",\n",
    "            y=\"num_vehicles\",\n",
    "            hue=\"vehicle_type\",\n",
    "            palette={\"hybrid\": \"blue\", \"electric\": \"green\"},\n",
    "            width=0.4,\n",
    "        )\n",
    "        sns.pointplot(\n",
    "            data=hybrid_electric_count,\n",
    "            x=\"model_year\",\n",
    "            y=\"num_vehicles\",\n",
    "            color=\"red\",\n",
    "            linestyles=\"--\",\n",
    "            ax=plt.gca(),\n",
    "            errorbar=None,\n",
    "        )\n",
    "        plt.xlabel(\"Car Model Year\")\n",
    "        plt.ylabel(\"Count\")\n",
    "        plt.xticks(rotation=45)\n",
    "        plt.title(\"Count of Unique Hybrid and Electric Cars by Model Year\")\n",
    "        plt.legend(bbox_to_anchor=(1, 1), loc=\"upper right\")\n",
    "        plt.show()\n",
    "\n",
    "\n",
    "interact(draw_bar_year_count, data=radio_button)"
   ]
  },
  {
   "attachments": {},
   "cell_type": "markdown",
   "metadata": {},
   "source": [
    "### Interesting Insights\n",
    "\n",
    "From the bar plot of fuel-only cars, we can see that the <b>number of unique car brand models</b> introduced to the Canadian automobile market had been increasing from the turn of the 21st century to the year 2005. This increasing trend then plateued and remained fairly constant until 2022, with 2015 experiencing the largest spike. On December 21, 2022, Steven Guilbeault, Canada's minister of environment and climate change, unveiled a regulation that would require increasing percentages of vehicle sales in Canada to be zero-emissions vehicles up to 100% by the year 2035[$^1$](https://www.canada.ca/en/environment-climate-change/news/2022/12/let-it-roll-government-of-canada-moves-to-increase-the-supply-of-electric-vehicles-for-canadians.html). These efforts seem to have had an immediate impact on the number of fuel-only cars introduced to the Canadian market, with 2023 experiencing a sharp decline and reaching 2003 levels. \n",
    "\n",
    "The above insights are reinforced by the bar plot of the number of unique hybrid and electric car brands and their respective models introduced to the Canadian automobile market. In 2012, only two electric car models, Nissan's Leaf and Mitsubishi's i-MiEV, and one hybrid car manufacturer, Chevrolet's Volt, were present in the market. Since then, this figure has grown to 134 electric car models and 32 hybrid car models in 2023 in Canada."
   ]
  },
  {
   "attachments": {},
   "cell_type": "markdown",
   "metadata": {},
   "source": [
    "## Boxplot of Fuel Consumption and $CO2$ Emission for All Vehicle Types"
   ]
  },
  {
   "cell_type": "code",
   "execution_count": 18,
   "metadata": {},
   "outputs": [
    {
     "data": {
      "text/html": [
       "<span style=\"None\">Skipping execution...</span>"
      ],
      "text/plain": [
       "Skipping execution..."
      ]
     },
     "metadata": {},
     "output_type": "display_data"
    }
   ],
   "source": [
    "%%sql --save boxplot_fuel_consum --no-execute\n",
    "SELECT fuelconsumption_city_l_100km, fuelconsumption_hwy_l_100km, fuelconsumption_comb_l_100km, co2emissions_g_km\n",
    "FROM all_vehicles"
   ]
  },
  {
   "cell_type": "code",
   "execution_count": 19,
   "metadata": {},
   "outputs": [],
   "source": [
    "columns = widgets.SelectMultiple(\n",
    "    options=[\n",
    "        \"fuelconsumption_city_l_100km\",\n",
    "        \"fuelconsumption_hwy_l_100km\",\n",
    "        \"fuelconsumption_comb_l_100km\",\n",
    "        \"co2emissions_g_km\",\n",
    "    ],\n",
    "    value=[\"fuelconsumption_comb_l_100km\"],\n",
    "    description=\"Column(s):\",\n",
    "    disabled=False,\n",
    ")"
   ]
  },
  {
   "cell_type": "code",
   "execution_count": 20,
   "metadata": {},
   "outputs": [
    {
     "data": {
      "application/vnd.jupyter.widget-view+json": {
       "model_id": "1ccd7852b3214b4a8fffef4dc5cdb5ba",
       "version_major": 2,
       "version_minor": 0
      },
      "text/plain": [
       "interactive(children=(SelectMultiple(description='Column(s):', index=(2,), options=('fuelconsumption_city_l_10…"
      ]
     },
     "metadata": {},
     "output_type": "display_data"
    },
    {
     "data": {
      "text/plain": [
       "<function __main__.plot(columns)>"
      ]
     },
     "execution_count": 20,
     "metadata": {},
     "output_type": "execute_result"
    }
   ],
   "source": [
    "plt.rcParams[\"figure.figsize\"] = (12, 3)  # increase size of canvas\n",
    "\n",
    "\n",
    "def plot(columns):\n",
    "    (\n",
    "        ggplot(\n",
    "            table=\"boxplot_fuel_consum\",\n",
    "            with_=\"boxplot_fuel_consum\",\n",
    "            mapping=aes(x=columns),\n",
    "        )\n",
    "        + geom_boxplot()\n",
    "    )\n",
    "\n",
    "\n",
    "interact(plot, columns=columns)"
   ]
  },
  {
   "attachments": {},
   "cell_type": "markdown",
   "metadata": {},
   "source": [
    "### Interesting Insights\n",
    "\n",
    "The boxplots of fuel consumption, measured in litres per 100 kilometers, above show the distribution of fuel consumption in the city, highway, or as their combination for all types of cars. The median fuel consumption in the city for all cars is around 12 litres per 100 kilometers, while the median fuel consumption on the highway for all cars is around 10 litres per 100 kilometers. The combined fuel consumption for all cars is the vehicle's city's and highway's average fuel consumption, which is around 11 litres per 100 kilometers.\n",
    "\n",
    "Fuel consumption and $CO2$ emissions have a strong, positive relationship. The higher the fuel consumption, the higher the $CO2$ emissions. The boxplot of $CO2$ emissions, measured in grams per kilometer, above shows the distribution of $CO2$ emissions for all types of cars. The median $CO2$ emission for all cars is around 250 grams per kilometer. Moreover, this column has outliers on either side of the boxplot, implying that electric cars have zero $CO2$ emissions and fuel-only luxury sports cars have very high $CO2$ emissions."
   ]
  },
  {
   "attachments": {},
   "cell_type": "markdown",
   "metadata": {},
   "source": [
    "## Scatter Plot of Electric Vehicle Ranges and Charging Time by Car Size and Model Year "
   ]
  },
  {
   "cell_type": "code",
   "execution_count": 21,
   "metadata": {},
   "outputs": [
    {
     "data": {
      "text/html": [
       "<span style=\"None\">Skipping execution...</span>"
      ],
      "text/plain": [
       "Skipping execution..."
      ]
     },
     "metadata": {},
     "output_type": "display_data"
    }
   ],
   "source": [
    "%%sql --save q_2_electric_range --no-execute\n",
    "SELECT range1_km, recharge_time_h, vehicleclass_, model_year\n",
    "FROM electric"
   ]
  },
  {
   "cell_type": "code",
   "execution_count": 22,
   "metadata": {},
   "outputs": [
    {
     "data": {
      "text/html": [
       "<span style=\"None\">Generating CTE with stored snippets : &#x27;q_2_electric_range&#x27;</span>"
      ],
      "text/plain": [
       "Generating CTE with stored snippets : 'q_2_electric_range'"
      ]
     },
     "metadata": {},
     "output_type": "display_data"
    }
   ],
   "source": [
    "electric_range = %sql SELECT * FROM q_2_electric_range\n",
    "\n",
    "electric_range = electric_range.DataFrame()\n",
    "\n",
    "# group vehicle class into sedan or SUV\n",
    "\n",
    "electric_range[\"vehicle_size\"] = np.where(\n",
    "    electric_range[\"vehicleclass_\"].isin(\n",
    "        [\"subcompact\", \"compact\", \"mid-size\", \"full-size\", \"two-seater\"]\n",
    "    ),\n",
    "    \"Sedan or smaller\",\n",
    "    \"SUV or larger\",\n",
    ")\n",
    "\n",
    "# group model year into 2012-2021 and 2022-2023\n",
    "\n",
    "electric_range[\"model_year_grouped\"] = np.where(\n",
    "    electric_range[\"model_year\"] <= 2021, \"2012-2021\", \"2022-2023\"\n",
    ")"
   ]
  },
  {
   "cell_type": "code",
   "execution_count": 23,
   "metadata": {},
   "outputs": [
    {
     "data": {
      "application/vnd.jupyter.widget-view+json": {
       "model_id": "ac5b9334d9434d248488c40ac14f10c2",
       "version_major": 2,
       "version_minor": 0
      },
      "text/plain": [
       "interactive(children=(Dropdown(description='(Un)select Hue:', options=('vehicle_size', 'model_year_grouped', N…"
      ]
     },
     "metadata": {},
     "output_type": "display_data"
    },
    {
     "data": {
      "text/plain": [
       "<function __main__.draw_scatter_electric_range(hue)>"
      ]
     },
     "execution_count": 23,
     "metadata": {},
     "output_type": "execute_result"
    }
   ],
   "source": [
    "hue_button = widgets.Dropdown(\n",
    "    options=[\"vehicle_size\", \"model_year_grouped\", None],\n",
    "    description=\"(Un)select Hue:\",\n",
    "    disabled=False,\n",
    "    style={\"description_width\": \"initial\"},\n",
    ")\n",
    "\n",
    "\n",
    "def draw_scatter_electric_range(hue):\n",
    "    plt.figure(figsize=(10, 5), dpi=300)\n",
    "    sns.scatterplot(\n",
    "        data=electric_range, x=\"recharge_time_h\", y=\"range1_km\", hue=hue\n",
    "    )  # noqa E501\n",
    "    plt.title(\n",
    "        f\"Scatter Plot of Electric Vehicle Range and Recharge Time by {hue}\"\n",
    "    )  # noqa E501\n",
    "    plt.xlabel(\"Recharge Time (hrs)\")\n",
    "    plt.ylabel(\"Range (km)\")\n",
    "    plt.show()\n",
    "\n",
    "\n",
    "interact(draw_scatter_electric_range, hue=hue_button)"
   ]
  },
  {
   "attachments": {},
   "cell_type": "markdown",
   "metadata": {},
   "source": [
    "### Interesting Insights\n",
    "\n",
    "The above scatterplot helps us compare the ranges and charging times of electric cars by their size or model year. Although one could deduce that higher recharge times (depending on the car's battery size, quality, etc.) would lead to travelling greater ranges, the graph offers more details that are worth exploring. For example, electric cars manufactured recently (2022 and onwards) have a much higher range, on average, than those manufactured between 2012 and 2021. This is likely due to the advancements in battery technology and the increased demand for electric cars. Moreover, some electric cars recently manufactured provide a better range with 10 hours of recharge time than those manufactured previously with 12 hours of recharge time. Furthermore, some new electric cars with recharge times of 10 hours provide as good a range as both new and older electric cars with recharge times greater than 10 hours (13 hours being the outlier). Maybe 10 hours is the sweet spot for recharge time?\n",
    "\n",
    "If we shift our focus to vehicle size, there are more electric sedans (and smaller) than there are SUV's (and larger) for lower recharge times between 4 to 7 hours and this is expected due to the difference in car sizes. Sedans, on average, also seem to provide greater ranges than SUV's for recharge times greater than 7 hours. However, for recharge times less than 7 hours, SUV's provide greater ranges than sedans. This could be due to the fact that SUV's have larger batteries and, therefore, can travel greater ranges with less recharge time. Moreover, some sedans with 10 hours of recharge time provide better ranges than all SUV's do with greater than 10 hours of recharge time!\n",
    "\n",
    "Therefore, consumers have a wide range of options to choose from when it comes to electric cars! Choosing wisely by assessing the tradeoff between recharge time and range is key and this graph helps us do just that."
   ]
  },
  {
   "attachments": {},
   "cell_type": "markdown",
   "metadata": {},
   "source": [
    "## Histogram of $CO_2$ Emissions by Vehicle and Fuel Type"
   ]
  },
  {
   "cell_type": "code",
   "execution_count": 24,
   "metadata": {},
   "outputs": [
    {
     "data": {
      "text/html": [
       "<span style=\"None\">Skipping execution...</span>"
      ],
      "text/plain": [
       "Skipping execution..."
      ]
     },
     "metadata": {},
     "output_type": "display_data"
    }
   ],
   "source": [
    "%%sql --save hist_co2 --no-execute\n",
    "SELECT vehicle_type, mapped_fuel_type, co2emissions_g_km\t\n",
    "FROM all_vehicles\n",
    "WHERE co2emissions_g_km is not null "
   ]
  },
  {
   "cell_type": "code",
   "execution_count": 25,
   "metadata": {},
   "outputs": [],
   "source": [
    "b = widgets.IntSlider(\n",
    "    value=10,\n",
    "    min=1,\n",
    "    max=20,\n",
    "    step=1,\n",
    "    description=\"Bins:\",\n",
    "    orientation=\"horizontal\",\n",
    ")\n",
    "cmap = widgets.Dropdown(\n",
    "    options=[\"viridis\", \"plasma\", \"inferno\", \"magma\", \"cividis\"],\n",
    "    value=\"plasma\",\n",
    "    description=\"Colormap:\",\n",
    "    disabled=False,\n",
    ")\n",
    "fill = widgets.RadioButtons(\n",
    "    options=[\"vehicle_type\", \"mapped_fuel_type\"],\n",
    "    description=\"Fill by:\",\n",
    "    disabled=False,\n",
    ")"
   ]
  },
  {
   "cell_type": "code",
   "execution_count": 26,
   "metadata": {},
   "outputs": [
    {
     "data": {
      "application/vnd.jupyter.widget-view+json": {
       "model_id": "6e3292c5ab724f9a98fb40d58b2be6b5",
       "version_major": 2,
       "version_minor": 0
      },
      "text/plain": [
       "interactive(children=(IntSlider(value=10, description='Bins:', max=20, min=1), Dropdown(description='Colormap:…"
      ]
     },
     "metadata": {},
     "output_type": "display_data"
    },
    {
     "data": {
      "text/plain": [
       "<function __main__.plot(b, cmap, fill)>"
      ]
     },
     "execution_count": 26,
     "metadata": {},
     "output_type": "execute_result"
    }
   ],
   "source": [
    "def plot(b, cmap, fill):\n",
    "    (\n",
    "        ggplot(\n",
    "            table=\"hist_co2\",\n",
    "            with_=\"hist_co2\",\n",
    "            mapping=aes(x=\"co2emissions_g_km\"),\n",
    "        )  # noqa E501\n",
    "        + geom_histogram(bins=b, fill=fill, cmap=cmap)\n",
    "    )\n",
    "\n",
    "\n",
    "interact(plot, b=b, cmap=cmap, fill=fill)"
   ]
  },
  {
   "attachments": {},
   "cell_type": "markdown",
   "metadata": {},
   "source": [
    "### Interesting Insights\n",
    "\n",
    "The histogram above represents the distribution of $CO_2$ emissions, measured in grams per kilometer. If we select the `fill` attribute to `vehicle_type`, we obtain a clear view that fuel-only cars emit the most $CO_2$. In fact, they can pollute up to 6x more than hybrid cars! Hybrid cars have both an electric motor and a gasoline engine, which allows them to emit less $CO_2$ than fuel-only cars. The range of $CO_2$ emitted from hybrid vehicles ranges between 10 to 80 grams per kilometer, while the distribution of $CO_2$ emissions for fuel-only cars ranges from 100 to 500 grams per kilometer, with the bulk of vehicles emitting between 200 to 300 grams per kilometer. Electric cars have zero carbon dixoide emissions and are, hence, fittingly also known as zero-emission vehicles.\n",
    "\n",
    "Given these findings, the efforts of the Canadian government to increase the supply of electric vehicles in Canada by 2035[$^2$](https://www.canada.ca/en/environment-climate-change/news/2022/12/let-it-roll-government-of-canada-moves-to-increase-the-supply-of-electric-vehicles-for-canadians.html) will likely have a positive impact on the environment. \n",
    "\n",
    "Selecting the `fill` attribute to `mapped_fuel_type` and adjusting the histogram to 12 bins allows us to see that the majority of vehicles in Canada run on gasoline, premium being more harmful to the environment than regular as it is the only fuel type that emits greater than 450 grams per kilometer in some cars. However, since most cars run on regular gasoline, the area occupied for it in the histogram is greater. Diesel and Ethanol (E85) are slightly cleaner than gasoline as their emissions range from 150 to 400 grams per kilometer with the bulk of vehicles emitting between 200 to 300 grams per kilometer (similar to both gasoline types). "
   ]
  },
  {
   "attachments": {},
   "cell_type": "markdown",
   "metadata": {},
   "source": [
    "## $CO_2$ Emissions of Hybrid and Fuel-Only US Car Brands by Transmission Type"
   ]
  },
  {
   "cell_type": "code",
   "execution_count": 27,
   "metadata": {},
   "outputs": [
    {
     "data": {
      "text/html": [
       "<span style=\"None\">Skipping execution...</span>"
      ],
      "text/plain": [
       "Skipping execution..."
      ]
     },
     "metadata": {},
     "output_type": "display_data"
    }
   ],
   "source": [
    "%%sql --save co2_usa --no-execute\n",
    "SELECT vehicle_type, make_, co2emissions_g_km, transmission_type\n",
    "FROM all_vehicles\n",
    "WHERE co2emissions_g_km is not null AND\n",
    "vehicle_type IN ('fuel-only', 'hybrid') AND\n",
    "make_ IN ('cadillac', 'chevrolet', 'chrysler', 'ford', 'jeep', 'lincoln')"
   ]
  },
  {
   "cell_type": "code",
   "execution_count": 28,
   "metadata": {},
   "outputs": [
    {
     "data": {
      "text/html": [
       "<span style=\"None\">Generating CTE with stored snippets : &#x27;co2_usa&#x27;</span>"
      ],
      "text/plain": [
       "Generating CTE with stored snippets : 'co2_usa'"
      ]
     },
     "metadata": {},
     "output_type": "display_data"
    },
    {
     "name": "stderr",
     "output_type": "stream",
     "text": [
      "/Users/Tegveer/miniforge3/envs/sqlcourse/lib/python3.10/site-packages/sql/run.py:736: JupySQLDataFramePerformanceWarning: It looks like you're using DuckDB with SQLAlchemy. For faster conversions, use  a DuckDB native connection. Docs: https://jupysql.ploomber.io/en/latest/integrations/duckdb.html. to suppress this warning, see: https://jupysql.ploomber.io/en/latest/tutorials/duckdb-native-sqlalchemy.html#supress-warnings\n",
      "  warnings.warn(\n"
     ]
    }
   ],
   "source": [
    "co2_usa = %sql SELECT * FROM co2_usa\n",
    "co2_usa = co2_usa.DataFrame()"
   ]
  },
  {
   "cell_type": "code",
   "execution_count": 29,
   "metadata": {},
   "outputs": [
    {
     "data": {
      "application/vnd.jupyter.widget-view+json": {
       "model_id": "064288b586024bbba8d84469366677fc",
       "version_major": 2,
       "version_minor": 0
      },
      "text/plain": [
       "interactive(children=(Dropdown(description='(Un)select Hue:', options=('vehicle_type', 'transmission_type', No…"
      ]
     },
     "metadata": {},
     "output_type": "display_data"
    },
    {
     "data": {
      "text/plain": [
       "<function __main__.draw_boxplot_usa(hue)>"
      ]
     },
     "execution_count": 29,
     "metadata": {},
     "output_type": "execute_result"
    }
   ],
   "source": [
    "hue_button = widgets.Dropdown(\n",
    "    options=[\"vehicle_type\", \"transmission_type\", None],\n",
    "    description=\"(Un)select Hue:\",\n",
    "    disabled=False,\n",
    "    style={\"description_width\": \"initial\"},\n",
    ")\n",
    "\n",
    "\n",
    "def draw_boxplot_usa(hue):\n",
    "    plt.figure(figsize=(15, 6), dpi=300)\n",
    "    sns.boxplot(data=co2_usa, x=\"make_\", y=\"co2emissions_g_km\", hue=hue)\n",
    "    plt.xticks(rotation=90)\n",
    "    plt.xlabel(\"Car Make\")\n",
    "    plt.ylabel(\"CO2 Emissions (g/km)\")\n",
    "    plt.title(\"CO2 Emissions (g/km) by Gas and Hybrid Run US Car Brands\")\n",
    "    plt.show()\n",
    "\n",
    "\n",
    "interact(draw_boxplot_usa, hue=hue_button)"
   ]
  },
  {
   "attachments": {},
   "cell_type": "markdown",
   "metadata": {},
   "source": [
    "### Interesting Insights\n",
    "\n",
    "The boxplots above show the distribution of $CO_2$ emissions for hybrid and fuel-only US manufactured cars. Viewing the boxplot at its highest level i.e without a `hue`, suggests that Chrysler has the lowest median $CO_2$ emission, at around 250 grams per kilometer, out of all car brands. Chevrolet, on the other hand, has the highest median $CO_2$ emission, at around 300 grams per kilometer, out of all car brands. Chrysler also has also the lowest interquartile range, which could imply that the $CO_2$ emissions of its cars are more consistent than those of other car brands. \n",
    "\n",
    "However, upon selecting `hue` as `vehicle_type`, we see that Chevrolet's hybrid cars have the lowest median $CO_2$ emission out of all hybrid car brands. Yet, its fuel-only cars pollute the most on average. Jeep's hybrid cars pollute the most, on average, out of all US hybrid car brands, while its fuel-only cars' median $CO_2$ emissions are at par with that of Chrysler's, the cleanest fuel-only US brand.\n",
    "\n",
    "Lastly, the boxplot of $CO_2$ emissions for hybrid and fuel-only US manufactured cars by transmission type portrays that continuously variable transmission cars pollute the least out of the other available transmissions. These cars would likely correspond to the hybrid cars of the US brands, which are the cleanest out of all hybrid cars. Another interesting observation is that all brands, apart from Chrysler, have lower median $CO_2$ emissions for manual transmission cars than for automatic transmission cars. In fact, the Environmental Protection Agency (EPA) found that vehicles with a manual transmission were more efficient than their automatic counterparts through about 2010, but modern automatic transmissions are now more efficient [$^3$](https://www.epa.gov/sites/default/files/2021-01/documents/420r21003.pdf). Only Ford has an automated manual transmission available for its cars, which has a significantly wide distribution for $CO_2$ emissions, similar to Cadillac's continuously variable transmissions cars, but a median $CO_2$ emission that is lower than that of its automatic transmission cars."
   ]
  },
  {
   "attachments": {},
   "cell_type": "markdown",
   "metadata": {},
   "source": [
    "## References\n",
    "\n",
    "Canada, Service. “Government of Canada.” Service Canada, n.d. https://www.canada.ca/. \n",
    "\n",
    "The 2020 EPA Automotive Trends Report: Greenhouse gas emissions, fuel ..., n.d. https://www.epa.gov/sites/default/files/2021-01/documents/420r21003.pdf. "
   ]
  }
 ],
 "metadata": {
  "kernelspec": {
   "display_name": "Python 3 (ipykernel)",
   "language": "python",
   "name": "python3"
  },
  "language_info": {
   "codemirror_mode": {
    "name": "ipython",
    "version": 3
   },
   "file_extension": ".py",
   "mimetype": "text/x-python",
   "name": "python",
   "nbconvert_exporter": "python",
   "pygments_lexer": "ipython3",
   "version": "3.10.0"
  }
 },
 "nbformat": 4,
 "nbformat_minor": 4
}
