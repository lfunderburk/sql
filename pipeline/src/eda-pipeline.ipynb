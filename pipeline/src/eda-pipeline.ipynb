{
 "cells": [
  {
   "cell_type": "code",
   "execution_count": null,
   "id": "2c71ff2b",
   "metadata": {
    "tags": [
     "parameters"
    ]
   },
   "outputs": [],
   "source": [
    "# declare a list tasks whose products you want to use as inputs\n",
    "upstream = None\n"
   ]
  },
  {
   "cell_type": "code",
   "execution_count": null,
   "metadata": {},
   "outputs": [],
   "source": [
    "%pip install jupysql --upgrade duckdb==0.8.1 duckdb-engine==0.9.1 -q"
   ]
  },
  {
   "cell_type": "markdown",
   "metadata": {},
   "source": [
    "# Load database"
   ]
  },
  {
   "cell_type": "code",
   "execution_count": null,
   "metadata": {},
   "outputs": [],
   "source": [
    "# Loading in SQL extension\n",
    "%reload_ext sql\n",
    "\n",
    "# Initiating a DuckDB database named 'car_data.duckdb' to run SQL queries\n",
    "%sql duckdb:///data/database/car_data.duckdb"
   ]
  },
  {
   "cell_type": "markdown",
   "metadata": {},
   "source": [
    "## Store queries"
   ]
  },
  {
   "cell_type": "markdown",
   "metadata": {},
   "source": [
    "### Tables for Plot 1"
   ]
  },
  {
   "cell_type": "code",
   "execution_count": null,
   "metadata": {},
   "outputs": [],
   "source": [
    "%%sql\n",
    "CREATE TABLE q_1_hybrid_electric AS\n",
    "    SELECT DISTINCT model_year, vehicle_type, COUNT(id) AS num_vehicles\n",
    "    FROM all_vehicles\n",
    "    WHERE vehicle_type = 'hybrid' OR vehicle_type = 'electric'\n",
    "    GROUP BY model_year, vehicle_type\n",
    "    ORDER BY num_vehicles DESC;\n"
   ]
  },
  {
   "cell_type": "code",
   "execution_count": null,
   "metadata": {},
   "outputs": [],
   "source": [
    "%%sql\n",
    "CREATE TABLE q_1_fuel AS\n",
    "    SELECT DISTINCT model_year, vehicle_type, COUNT(id) AS num_vehicles\n",
    "    FROM fuel\n",
    "    GROUP BY model_year, vehicle_type\n",
    "    ORDER BY model_year;"
   ]
  },
  {
   "cell_type": "markdown",
   "metadata": {},
   "source": [
    "### Verify data"
   ]
  },
  {
   "cell_type": "code",
   "execution_count": null,
   "metadata": {},
   "outputs": [],
   "source": [
    "%%sql \n",
    "SELECT * FROM q_1_hybrid_electric;"
   ]
  },
  {
   "cell_type": "markdown",
   "metadata": {},
   "source": [
    "### Tables for Plot 2"
   ]
  },
  {
   "cell_type": "code",
   "execution_count": null,
   "metadata": {},
   "outputs": [],
   "source": [
    "%%sql \n",
    "CREATE TABLE query_2_scatter AS\n",
    "    SELECT range1_km, recharge_time_h, vehicleclass_, model_year\n",
    "    FROM electric;\n"
   ]
  },
  {
   "cell_type": "markdown",
   "metadata": {},
   "source": [
    "### Verify data"
   ]
  },
  {
   "cell_type": "code",
   "execution_count": null,
   "metadata": {},
   "outputs": [],
   "source": [
    "%%sql \n",
    "SELECT * FROM query_2_scatter;"
   ]
  },
  {
   "cell_type": "markdown",
   "metadata": {},
   "source": [
    "### Tables for Plot 3"
   ]
  },
  {
   "cell_type": "code",
   "execution_count": null,
   "metadata": {},
   "outputs": [],
   "source": [
    "%%sql\n",
    "CREATE TABLE hybrid_electric_count AS\n",
    "    SELECT DISTINCT vehicleclass_, vehicle_type, COUNT(id) AS num_vehicles\n",
    "    FROM all_vehicles\n",
    "    WHERE vehicle_type = 'hybrid' OR vehicle_type = 'electric'\n",
    "    GROUP BY vehicleclass_, vehicle_type\n",
    "    ORDER BY num_vehicles DESC;"
   ]
  },
  {
   "cell_type": "code",
   "execution_count": null,
   "metadata": {},
   "outputs": [],
   "source": [
    "%%sql\n",
    "CREATE TABLE fuel_count AS\n",
    "    SELECT DISTINCT vehicleclass_, vehicle_type, COUNT(id) AS num_vehicles\n",
    "    FROM fuel\n",
    "    GROUP BY vehicleclass_, vehicle_type\n",
    "    ORDER BY num_vehicles DESC;"
   ]
  },
  {
   "cell_type": "markdown",
   "metadata": {},
   "source": [
    "### Verify data"
   ]
  },
  {
   "cell_type": "code",
   "execution_count": null,
   "metadata": {},
   "outputs": [],
   "source": [
    "%%sql \n",
    "SELECT * FROM hybrid_electric_count;"
   ]
  },
  {
   "cell_type": "code",
   "execution_count": null,
   "metadata": {},
   "outputs": [],
   "source": [
    "%%sql \n",
    "SELECT * FROM fuel_count;"
   ]
  },
  {
   "cell_type": "markdown",
   "metadata": {},
   "source": [
    "### Tables for Plot 4"
   ]
  },
  {
   "cell_type": "code",
   "execution_count": null,
   "metadata": {},
   "outputs": [],
   "source": [
    "%%sql\n",
    "CREATE TABLE query_4_scatter AS \n",
    "    SELECT fuelconsumption_comb_mpg, co2emissions_g_km, enginesize_l\n",
    "    FROM fuel;"
   ]
  },
  {
   "cell_type": "markdown",
   "metadata": {},
   "source": [
    "### Verify data"
   ]
  },
  {
   "cell_type": "code",
   "execution_count": null,
   "metadata": {},
   "outputs": [],
   "source": [
    "%%sql \n",
    "SELECT * FROM query_4_scatter;"
   ]
  },
  {
   "cell_type": "markdown",
   "metadata": {},
   "source": [
    "### Tables for Plot 5"
   ]
  },
  {
   "cell_type": "code",
   "execution_count": null,
   "metadata": {},
   "outputs": [],
   "source": [
    "%%sql\n",
    "CREATE TABLE query_5_box AS\n",
    "    SELECT vehicle_type, fuelconsumption_city_l_100km\t\n",
    "    FROM all_vehicles\n",
    "    WHERE fuelconsumption_city_l_100km is not null "
   ]
  },
  {
   "cell_type": "markdown",
   "metadata": {},
   "source": [
    "### Verify data"
   ]
  },
  {
   "cell_type": "code",
   "execution_count": null,
   "metadata": {},
   "outputs": [],
   "source": [
    "%%sql \n",
    "SELECT * FROM query_5_box;"
   ]
  },
  {
   "cell_type": "markdown",
   "metadata": {},
   "source": [
    "### Tables for Plot 6"
   ]
  },
  {
   "cell_type": "code",
   "execution_count": null,
   "metadata": {},
   "outputs": [],
   "source": [
    "%%sql\n",
    "CREATE TABLE query_7_hist AS\n",
    "    SELECT vehicle_type, mapped_fuel_type, co2emissions_g_km\t\n",
    "    FROM all_vehicles\n",
    "    WHERE co2emissions_g_km is not null "
   ]
  },
  {
   "cell_type": "markdown",
   "metadata": {},
   "source": [
    "### Verify data"
   ]
  },
  {
   "cell_type": "code",
   "execution_count": null,
   "metadata": {},
   "outputs": [],
   "source": [
    "%%sql \n",
    "SELECT * FROM query_7_hist;"
   ]
  },
  {
   "cell_type": "markdown",
   "metadata": {},
   "source": [
    "### Tables for Plot 7"
   ]
  },
  {
   "cell_type": "code",
   "execution_count": null,
   "metadata": {},
   "outputs": [],
   "source": [
    "%%sql\n",
    "CREATE TABLE query_8_box AS\n",
    "    SELECT vehicle_type, make_, co2emissions_g_km, transmission_type\n",
    "    FROM all_vehicles\n",
    "    WHERE co2emissions_g_km is not null AND\n",
    "    vehicle_type IN ('fuel-only', 'hybrid') AND\n",
    "    make_ IN ('cadillac', 'chevrolet', 'chrysler', 'ford', 'jeep', 'lincoln')"
   ]
  }
 ],
 "metadata": {
  "kernelspec": {
   "display_name": "sqlm",
   "language": "python",
   "name": "python3"
  },
  "language_info": {
   "codemirror_mode": {
    "name": "ipython",
    "version": 3
   },
   "file_extension": ".py",
   "mimetype": "text/x-python",
   "name": "python",
   "nbconvert_exporter": "python",
   "pygments_lexer": "ipython3",
   "version": "3.10.0"
  }
 },
 "nbformat": 4,
 "nbformat_minor": 2
}
