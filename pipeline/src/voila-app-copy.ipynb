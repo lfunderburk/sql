{
 "cells": [
  {
   "attachments": {},
   "cell_type": "markdown",
   "metadata": {},
   "source": [
    "# Car Fuel Emissions Dataset Dashboard\n",
    "\n",
    "> This dashboard helps you explore the $CO_2$ emissions of different car models and their fuel consumption.\n",
    "\n",
    "<b>[Data](https://open.canada.ca/data/en/dataset/98f1a129-f628-4ce4-b24d-6f16bf24dd64) Updated as of June 15, 2023</b>"
   ]
  },
  {
   "cell_type": "code",
   "execution_count": 1,
   "metadata": {
    "tags": []
   },
   "outputs": [],
   "source": [
    "import ipywidgets as widgets\n",
    "from menu import init_widgets, style, setup_menu\n",
    "from IPython.display import display"
   ]
  },
  {
   "cell_type": "code",
   "execution_count": null,
   "metadata": {},
   "outputs": [],
   "source": [
    "def select_table(vehicle_type, year, vehicle_class, co2):\n",
    "    query = f\"SELECT model_year, \\\n",
    "                    make_, \\\n",
    "                    model,\\\n",
    "                    vehicleclass_, \\\n",
    "                    co2_rating, \\\n",
    "                    co2emissions_g_km,\\\n",
    "                    mapped_fuel_type, \\\n",
    "                    vehicle_type,\\\n",
    "                    fuelconsumption_city_l_100km,\\\n",
    "                    fuelconsumption_hwy_l_100km,\\\n",
    "                    consumption_combinedle_100km\\\t\n",
    "            FROM all_vehicles \\\n",
    "            WHERE model_year = {year}\\\n",
    "            AND vehicleclass_ IN {vehicle_class}\\\n",
    "            AND vehicle_type = '{vehicle_type}'\\\n",
    "            AND co2_rating >= {co2}\\\n",
    "            \"\n",
    "            \n",
    "    print(\"Performing query\")\n",
    "    # Use JupySQL magic %sql to execute the query\n",
    "    result = %sql {{query}} #noqa F821\n",
    "\n",
    "    # Convert the result to a Pandas DataFrame\n",
    "    df = result.DataFrame()\n",
    "\n",
    "    display(df)"
   ]
  },
  {
   "cell_type": "code",
   "execution_count": 2,
   "metadata": {},
   "outputs": [],
   "source": [
    "%load_ext sql\n",
    "\n",
    "%sql duckdb:///../data/database/car_data.duckdb\n",
    "\n",
    "%config SqlMagic.displaycon = False"
   ]
  },
  {
   "cell_type": "code",
   "execution_count": 3,
   "metadata": {},
   "outputs": [],
   "source": [
    "years = %sql select DISTINCT(model_year) from all_vehicles\n",
    "years = [model_year[0] for model_year in years]\n",
    "\n",
    "makes = %sql select DISTINCT(make_) from all_vehicles\n",
    "makes = [m[0] for m in makes]\n",
    "\n",
    "classes = %sql select DISTINCT(vehicleclass_) from all_vehicles\n",
    "classes = [c[0] for c in classes]\n",
    "\n",
    "co2 = %sql select DISTINCT(co2_rating) from all_vehicles\n",
    "co2 = [c[0] for c in co2]\n",
    "\n",
    "vehicle_type = %sql select DISTINCT(vehicle_type) from all_vehicles\n",
    "vehicle_type = [v[0] for v in vehicle_type]"
   ]
  },
  {
   "cell_type": "code",
   "execution_count": 4,
   "metadata": {},
   "outputs": [
    {
     "data": {
      "application/vnd.jupyter.widget-view+json": {
       "model_id": "a71896f25d7840ac80e6d86c19f31055",
       "version_major": 2,
       "version_minor": 0
      },
      "text/plain": [
       "Tab(children=(VBox(children=(HBox(children=(Dropdown(description='Vehicle type', options=('fuel-only', 'hybrid…"
      ]
     },
     "metadata": {},
     "output_type": "display_data"
    },
    {
     "data": {
      "application/vnd.jupyter.widget-view+json": {
       "model_id": "e2bafe3f126849d1aa14a3a0ca68a8f2",
       "version_major": 2,
       "version_minor": 0
      },
      "text/plain": [
       "Output()"
      ]
     },
     "metadata": {},
     "output_type": "display_data"
    }
   ],
   "source": [
    "(\n",
    "    widget_vehicle_type,\n",
    "    widget_year,\n",
    "    widget_make,\n",
    "    widget_vehicle_class,\n",
    "    widget_co2,\n",
    ") = init_widgets(years, makes, classes, vehicle_type, style)\n",
    "\n",
    "tab = setup_menu(\n",
    "    widget_vehicle_type, widget_year, widget_vehicle_class, widget_co2\n",
    ")  # noqa E501\n",
    "\n",
    "output = widgets.interactive_output(\n",
    "    select_table,  # noqa f821\n",
    "    {\n",
    "        \"vehicle_type\": widget_vehicle_type,\n",
    "        \"year\": widget_year,\n",
    "        \"vehicle_class\": widget_vehicle_class,\n",
    "        \"co2\": widget_co2,\n",
    "    },\n",
    ")\n",
    "\n",
    "display(tab, output)"
   ]
  },
  {
   "attachments": {},
   "cell_type": "markdown",
   "metadata": {},
   "source": [
    "## Visualizing Interactive Tables\n",
    "\n",
    "> Multiple values can be selected with shift and/or ctrl (or command) pressed and mouse clicks or arrow keys."
   ]
  }
 ],
 "metadata": {
  "kernelspec": {
   "display_name": "Python 3 (ipykernel)",
   "language": "python",
   "name": "python3"
  },
  "language_info": {
   "codemirror_mode": {
    "name": "ipython",
    "version": 3
   },
   "file_extension": ".py",
   "mimetype": "text/x-python",
   "name": "python",
   "nbconvert_exporter": "python",
   "pygments_lexer": "ipython3",
   "version": "3.10.0"
  }
 },
 "nbformat": 4,
 "nbformat_minor": 4
}
