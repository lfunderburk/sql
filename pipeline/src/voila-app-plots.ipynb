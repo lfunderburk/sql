{
 "cells": [
  {
   "attachments": {},
   "cell_type": "markdown",
   "metadata": {
    "extensions": {
     "jupyter_dashboards": {
      "version": 1,
      "views": {
       "grid_default": {
        "col": 3,
        "height": 1,
        "hidden": false,
        "row": 0,
        "width": 6
       },
       "report_default": {}
      }
     }
    }
   },
   "source": [
    "# Car Fuel Emissions Dataset Dashboard\n",
    "\n",
    "> This dashboard helps you explore the $CO_2$ emissions of different car models and their fuel consumption.\n",
    "\n",
    "<b>[Data](https://open.canada.ca/data/en/dataset/98f1a129-f628-4ce4-b24d-6f16bf24dd64) Updated as of June 15, 2023</b>"
   ]
  },
  {
   "cell_type": "code",
   "execution_count": 1,
   "metadata": {
    "editable": true,
    "extensions": {
     "jupyter_dashboards": {
      "version": 1,
      "views": {
       "grid_default": {
        "col": 7,
        "height": 1,
        "hidden": true,
        "row": 1,
        "width": 5
       },
       "report_default": {}
      }
     }
    },
    "slideshow": {
     "slide_type": ""
    },
    "tags": []
   },
   "outputs": [],
   "source": [
    "import ipywidgets as widgets\n",
    "from ipywidgets import interactive_output, interact\n",
    "from menu import init_widgets, style, setup_menu, select_table\n",
    "from menu import init_widgets, style, setup_menu, select_table, clean_electric_range\n",
    "from dashboard import (\n",
    "    Seaborn_Barplot,\n",
    "    Boxplot_ggplot,\n",
    "    Seaborn_Scatter,\n",
    "    Histogram_ggplot,\n",
    "    Seaborn_Boxplot,\n",
    ")\n",
    "from IPython.display import display, clear_output\n",
    "import pandas as pd\n",
    "import numpy as np\n",
    "from itables import init_notebook_mode, show\n",
    "import ipyvuetify as v"
   ]
  },
  {
   "cell_type": "code",
   "execution_count": null,
   "metadata": {
    "extensions": {
     "jupyter_dashboards": {
      "version": 1,
      "views": {
       "grid_default": {
        "col": 0,
        "height": 15,
        "hidden": true,
        "row": 9,
        "width": 4
       },
       "report_default": {}
      }
     }
    }
   },
   "outputs": [],
   "source": [
    "%%capture\n",
    "\n",
    "%load_ext sql\n",
    "\n",
    "%sql duckdb:///../data/database/car_data.duckdb\n",
    "\n",
    "%config SqlMagic.displaycon = False"
   ]
  },
  {
   "cell_type": "code",
   "execution_count": null,
   "metadata": {
    "extensions": {
     "jupyter_dashboards": {
      "version": 1,
      "views": {
       "grid_default": {
        "col": 0,
        "height": 15,
        "hidden": true,
        "row": 9,
        "width": 4
       },
       "report_default": {}
      }
     }
    }
   },
   "outputs": [],
   "source": [
    "years = %sql select DISTINCT(model_year) from all_vehicles\n",
    "years = [model_year[0] for model_year in years]\n",
    "\n",
    "makes = %sql select DISTINCT(make_) from all_vehicles\n",
    "makes = [m[0] for m in makes]\n",
    "\n",
    "classes = %sql select DISTINCT(vehicleclass_) from all_vehicles\n",
    "classes = [c[0] for c in classes]\n",
    "\n",
    "co2 = %sql select DISTINCT(co2_rating) from all_vehicles where co2_rating is not null\n",
    "co2 = [c[0] for c in co2]\n",
    "# convert to int\n",
    "co2 = [eval(c) for c in co2]\n",
    "\n",
    "vehicle_type = %sql select DISTINCT(vehicle_type) from all_vehicles\n",
    "vehicle_type = [v[0] for v in vehicle_type]"
   ]
  },
  {
   "attachments": {},
   "cell_type": "markdown",
   "metadata": {
    "extensions": {
     "jupyter_dashboards": {
      "version": 1,
      "views": {
       "grid_default": {
        "col": 7,
        "height": 1,
        "hidden": false,
        "row": 3,
        "width": 5
       },
       "report_default": {}
      }
     }
    }
   },
   "source": [
    "## Interactive Table\n",
    "\n",
    "> Multiple values for Vehicle Class can be selected with shift and/or ctrl (or command) pressed and mouse clicks or arrow keys."
   ]
  },
  {
   "cell_type": "code",
   "execution_count": null,
   "metadata": {
    "extensions": {
     "jupyter_dashboards": {
      "version": 1,
      "views": {
       "grid_default": {
        "col": 7,
        "height": 5,
        "hidden": false,
        "row": 4,
        "width": 5
       },
       "report_default": {}
      }
     }
    }
   },
   "outputs": [],
   "source": [
    "# flake8: noqa\n",
    "def select_table_electric(vehicle_type, year, vehicle_class, make, co2):\n",
    "    \"\"\"\n",
    "    Select table based on vehicle type\n",
    "\n",
    "    Parameters\n",
    "    ----------\n",
    "        vehicle_type : str\n",
    "            Vehicle type (fuel-only, hybrid, or electric)\n",
    "        year : int\n",
    "            Model year\n",
    "        vehicle_class : list\n",
    "            Vehicle class (compact, midsize, etc.)\n",
    "        make : str\n",
    "            Car manufacturer\n",
    "        co2 : int\n",
    "            CO2 rating (higher rating suggests lower CO2 emissions)\n",
    "    \"\"\"\n",
    "    print(\"Performing query\")\n",
    "    query = select_table(vehicle_type, year, vehicle_class, make, co2)\n",
    "\n",
    "    # Use JupySQL magic %sql to execute the query\n",
    "    result = %sql {{query}}\n",
    "\n",
    "    # Convert the result to a Pandas DataFrame\n",
    "    df = result.DataFrame()\n",
    "\n",
    "    clear_output(wait=True)\n",
    "\n",
    "    show(df, classes=\"display nowrap compact\")\n",
    "\n",
    "\n",
    "(\n",
    "    widget_vehicle_type,\n",
    "    widget_year,\n",
    "    widget_make,\n",
    "    widget_vehicle_class,\n",
    "    widget_co2,\n",
    ") = init_widgets(years, makes, classes, vehicle_type, style)\n",
    "\n",
    "tab = setup_menu(\n",
    "    widget_vehicle_type, widget_year, widget_vehicle_class, widget_make, widget_co2\n",
    ")  # noqa E501\n",
    "\n",
    "output = interactive_output(\n",
    "    select_table_electric,  # noqa f821\n",
    "    {\n",
    "        \"vehicle_type\": widget_vehicle_type,\n",
    "        \"year\": widget_year,\n",
    "        \"vehicle_class\": widget_vehicle_class,\n",
    "        \"make\": widget_make,\n",
    "        \"co2\": widget_co2,\n",
    "    },\n",
    ")\n",
    "\n",
    "display(tab, output)"
   ]
  },
  {
   "attachments": {},
   "cell_type": "markdown",
   "metadata": {
    "extensions": {
     "jupyter_dashboards": {
      "version": 1,
      "views": {
       "grid_default": {
        "col": 3,
        "height": 2,
        "hidden": false,
        "row": 1,
        "width": 6
       },
       "report_default": {}
      }
     }
    }
   },
   "source": [
    "This dashboard contains 5 plots, created using the `ggplot` API, `seaborn`, and `ipywidgets`:\n",
    "\n",
    "1. Bar Plot of Car Manufacturing Trends\n",
    "2. Boxplot of Fuel Consumption and $CO2$ Emission for All Vehicle Types \n",
    "3. Scatter Plot of Electric Vehicle Ranges and Charging Time by Car Size and Model Year \n",
    "4. Histogram of $CO_2$ Emissions by Vehicle and Fuel Type\n",
    "5. $CO_2$ Emissions of Hybrid and Fuel-Only US Car Brands by Transmission Type"
   ]
  },
  {
   "attachments": {},
   "cell_type": "markdown",
   "metadata": {
    "extensions": {
     "jupyter_dashboards": {
      "version": 1,
      "views": {
       "grid_default": {
        "col": 0,
        "height": 1,
        "hidden": false,
        "row": 3,
        "width": 7
       },
       "report_default": {}
      }
     }
    }
   },
   "source": [
    "## Bar Plot of Car Manufacturing Trends"
   ]
  },
  {
   "cell_type": "code",
   "execution_count": null,
   "metadata": {
    "extensions": {
     "jupyter_dashboards": {
      "version": 1,
      "views": {
       "grid_default": {
        "col": 0,
        "height": 5,
        "hidden": true,
        "row": 5,
        "width": 7
       },
       "report_default": {}
      }
     }
    }
   },
   "outputs": [],
   "source": [
    "%%capture\n",
    "\n",
    "%%sql --save q_1_hybrid_electric --no-execute\n",
    "SELECT DISTINCT model_year, vehicle_type, COUNT(id) AS num_vehicles\n",
    "FROM all_vehicles\n",
    "WHERE vehicle_type = 'hybrid' OR vehicle_type = 'electric'\n",
    "GROUP BY model_year, vehicle_type\n",
    "ORDER BY num_vehicles DESC;"
   ]
  },
  {
   "cell_type": "code",
   "execution_count": null,
   "metadata": {
    "extensions": {
     "jupyter_dashboards": {
      "version": 1,
      "views": {
       "grid_default": {
        "col": 0,
        "height": 15,
        "hidden": true,
        "row": 9,
        "width": 4
       },
       "report_default": {}
      }
     }
    }
   },
   "outputs": [],
   "source": [
    "%%capture\n",
    "\n",
    "%%sql --save q_1_fuel --no-execute\n",
    "SELECT DISTINCT model_year, vehicle_type, COUNT(id) AS num_vehicles\n",
    "FROM fuel\n",
    "GROUP BY model_year, vehicle_type\n",
    "ORDER BY model_year;"
   ]
  },
  {
   "cell_type": "code",
   "execution_count": null,
   "metadata": {
    "extensions": {
     "jupyter_dashboards": {
      "version": 1,
      "views": {
       "grid_default": {
        "col": 0,
        "height": 15,
        "hidden": true,
        "row": 9,
        "width": 4
       },
       "report_default": {}
      }
     }
    }
   },
   "outputs": [],
   "source": [
    "%%capture\n",
    "\n",
    "hybrid_electric_count = %sql SELECT * FROM q_1_hybrid_electric\n",
    "fuel_count = %sql SELECT * FROM q_1_fuel\n",
    "\n",
    "hybrid_electric_count = pd.DataFrame(hybrid_electric_count)\n",
    "hybrid_electric_count = hybrid_electric_count.sort_values(by=[\"model_year\"])\n",
    "fuel_count = pd.DataFrame(fuel_count)\n",
    "fuel_count = fuel_count.sort_values(by=[\"model_year\"])"
   ]
  },
  {
   "cell_type": "code",
   "execution_count": null,
   "metadata": {
    "extensions": {
     "jupyter_dashboards": {
      "version": 1,
      "views": {
       "grid_default": {
        "col": 0,
        "height": 5,
        "hidden": false,
        "row": 4,
        "width": 7
       },
       "report_default": {}
      }
     }
    }
   },
   "outputs": [],
   "source": [
    "barplot = Seaborn_Barplot(fuel_count, hybrid_electric_count)\n",
    "interact(barplot.draw_bar_year_count, data=barplot.radio_button);"
   ]
  },
  {
   "attachments": {},
   "cell_type": "markdown",
   "metadata": {
    "extensions": {
     "jupyter_dashboards": {
      "version": 1,
      "views": {
       "grid_default": {
        "col": 0,
        "height": 1,
        "hidden": false,
        "row": 9,
        "width": 6
       },
       "report_default": {}
      }
     }
    }
   },
   "source": [
    "## Boxplot of Fuel Consumption and $CO2$ Emission for All Vehicle Types"
   ]
  },
  {
   "cell_type": "code",
   "execution_count": null,
   "metadata": {
    "extensions": {
     "jupyter_dashboards": {
      "version": 1,
      "views": {
       "grid_default": {
        "col": 0,
        "height": 15,
        "hidden": true,
        "row": 9,
        "width": 4
       },
       "report_default": {}
      }
     }
    }
   },
   "outputs": [],
   "source": [
    "%%capture\n",
    "\n",
    "%%sql --save boxplot_fuel_consum --no-execute\n",
    "SELECT fuelconsumption_city_l_100km::FLOAT as fuelconsumption_city_l_100km, fuelconsumption_hwy_l_100km::FLOAT as fuelconsumption_hwy_l_100km, fuelconsumption_comb_l_100km::FLOAT as fuelconsumption_comb_l_100km, co2emissions_g_km::FLOAT as co2emissions_g_km\n",
    "FROM all_vehicles"
   ]
  },
  {
   "cell_type": "code",
   "execution_count": null,
   "metadata": {
    "extensions": {
     "jupyter_dashboards": {
      "version": 1,
      "views": {
       "grid_default": {
        "col": 0,
        "height": 4,
        "hidden": false,
        "row": 10,
        "width": 6
       },
       "report_default": {}
      }
     }
    }
   },
   "outputs": [],
   "source": [
    "boxplot = Boxplot_ggplot()\n",
    "interact(boxplot.fuel_co2_boxplot, columns=boxplot.selection_button);"
   ]
  },
  {
   "attachments": {},
   "cell_type": "markdown",
   "metadata": {
    "extensions": {
     "jupyter_dashboards": {
      "version": 1,
      "views": {
       "grid_default": {
        "col": 6,
        "height": 1,
        "hidden": false,
        "row": 9,
        "width": 6
       },
       "report_default": {}
      }
     }
    }
   },
   "source": [
    "## Scatter Plot of Electric Vehicle Ranges and Charging Time by Car Size and Model Year "
   ]
  },
  {
   "cell_type": "code",
   "execution_count": null,
   "metadata": {
    "extensions": {
     "jupyter_dashboards": {
      "version": 1,
      "views": {
       "grid_default": {
        "col": 0,
        "height": 15,
        "hidden": true,
        "row": 9,
        "width": 4
       },
       "report_default": {}
      }
     }
    }
   },
   "outputs": [],
   "source": [
    "%%capture\n",
    "\n",
    "%%sql --save electric_range_charge --no-execute\n",
    "SELECT range1_km, recharge_time_h, vehicleclass_, model_year\n",
    "FROM electric"
   ]
  },
  {
   "cell_type": "code",
   "execution_count": null,
   "metadata": {
    "extensions": {
     "jupyter_dashboards": {
      "version": 1,
      "views": {
       "grid_default": {
        "col": 0,
        "height": 15,
        "hidden": true,
        "row": 9,
        "width": 4
       },
       "report_default": {}
      }
     }
    }
   },
   "outputs": [],
   "source": [
    "%%capture\n",
    "\n",
    "electric_range = %sql SELECT * FROM electric_range_charge\n",
    "\n",
    "electric_range = pd.DataFrame(electric_range)\n",
    "\n",
    "clean_electric_range = clean_electric_range(electric_range)"
   ]
  },
  {
   "cell_type": "code",
   "execution_count": null,
   "metadata": {
    "extensions": {
     "jupyter_dashboards": {
      "version": 1,
      "views": {
       "grid_default": {
        "col": 6,
        "height": 4,
        "hidden": false,
        "row": 10,
        "width": 6
       },
       "report_default": {}
      }
     }
    }
   },
   "outputs": [],
   "source": [
    "scatter = Seaborn_Scatter(clean_electric_range)\n",
    "interact(scatter.draw_scatter_electric_range, hue=scatter.dropdown);"
   ]
  },
  {
   "attachments": {},
   "cell_type": "markdown",
   "metadata": {
    "extensions": {
     "jupyter_dashboards": {
      "version": 1,
      "views": {
       "grid_default": {
        "col": 0,
        "height": 1,
        "hidden": false,
        "row": 14,
        "width": 6
       },
       "report_default": {}
      }
     }
    }
   },
   "source": [
    "## Histogram of $CO_2$ Emissions by Vehicle and Fuel Type"
   ]
  },
  {
   "cell_type": "code",
   "execution_count": null,
   "metadata": {
    "extensions": {
     "jupyter_dashboards": {
      "version": 1,
      "views": {
       "grid_default": {
        "col": 0,
        "height": 15,
        "hidden": true,
        "row": 9,
        "width": 4
       },
       "report_default": {}
      }
     }
    }
   },
   "outputs": [],
   "source": [
    "%%capture\n",
    "\n",
    "%%sql --save hist_co2 --no-execute\n",
    "SELECT vehicle_type, mapped_fuel_type, co2emissions_g_km::INTEGER as co2emissions_g_km\n",
    "FROM all_vehicles\n",
    "WHERE co2emissions_g_km is not null "
   ]
  },
  {
   "cell_type": "code",
   "execution_count": null,
   "metadata": {
    "extensions": {
     "jupyter_dashboards": {
      "version": 1,
      "views": {
       "grid_default": {
        "col": 0,
        "height": 4,
        "hidden": false,
        "row": 15,
        "width": 6
       },
       "report_default": {}
      }
     }
    }
   },
   "outputs": [],
   "source": [
    "histogram = Histogram_ggplot()\n",
    "interact(\n",
    "    histogram.co2_histogram,\n",
    "    b=histogram.intslider,\n",
    "    cmap=histogram.dropdown,\n",
    "    fill=histogram.radio_button,\n",
    ");"
   ]
  },
  {
   "attachments": {},
   "cell_type": "markdown",
   "metadata": {
    "extensions": {
     "jupyter_dashboards": {
      "version": 1,
      "views": {
       "grid_default": {
        "col": 6,
        "height": 1,
        "hidden": false,
        "row": 14,
        "width": 6
       },
       "report_default": {}
      }
     }
    }
   },
   "source": [
    "## $CO_2$ Emissions of Hybrid and Fuel-Only US Car Brands by Transmission Type"
   ]
  },
  {
   "cell_type": "code",
   "execution_count": null,
   "metadata": {
    "extensions": {
     "jupyter_dashboards": {
      "version": 1,
      "views": {
       "grid_default": {
        "col": 0,
        "height": 15,
        "hidden": true,
        "row": 9,
        "width": 4
       },
       "report_default": {}
      }
     }
    }
   },
   "outputs": [],
   "source": [
    "%%capture\n",
    "\n",
    "%%sql --save co2_usa --no-execute\n",
    "SELECT vehicle_type, make_, co2emissions_g_km, transmission_type\n",
    "FROM all_vehicles\n",
    "WHERE co2emissions_g_km is not null AND\n",
    "vehicle_type IN ('fuel-only', 'hybrid') AND\n",
    "make_ IN ('cadillac', 'chevrolet', 'chrysler', 'ford', 'jeep', 'lincoln')"
   ]
  },
  {
   "cell_type": "code",
   "execution_count": null,
   "metadata": {
    "extensions": {
     "jupyter_dashboards": {
      "version": 1,
      "views": {
       "grid_default": {
        "col": 0,
        "height": 15,
        "hidden": true,
        "row": 9,
        "width": 4
       },
       "report_default": {}
      }
     }
    }
   },
   "outputs": [],
   "source": [
    "%%capture\n",
    "\n",
    "co2_usa = %sql SELECT * FROM co2_usa\n",
    "co2_usa = pd.DataFrame(co2_usa)\n",
    "\n",
    "# convert co2 to float\n",
    "\n",
    "co2_usa[\"co2emissions_g_km\"] = pd.to_numeric(co2_usa[\"co2emissions_g_km\"])"
   ]
  },
  {
   "cell_type": "code",
   "execution_count": null,
   "metadata": {
    "extensions": {
     "jupyter_dashboards": {
      "version": 1,
      "views": {
       "grid_default": {
        "col": 6,
        "height": 4,
        "hidden": false,
        "row": 15,
        "width": 6
       },
       "report_default": {}
      }
     }
    }
   },
   "outputs": [],
   "source": [
    "boxplot = Seaborn_Boxplot(co2_usa)\n",
    "interact(boxplot.draw_boxplot_usa, hue=boxplot.dropdown);"
   ]
  },
  {
   "attachments": {},
   "cell_type": "markdown",
   "metadata": {
    "extensions": {
     "jupyter_dashboards": {
      "version": 1,
      "views": {
       "grid_default": {
        "col": 0,
        "height": 1,
        "hidden": false,
        "row": 19,
        "width": 12
       },
       "report_default": {}
      }
     }
    }
   },
   "source": [
    "## References\n",
    "\n",
    "${^1}{^,}{^2}$ Canada, Service. “Government of Canada.” Service Canada, n.d. https://www.canada.ca/. \n",
    "\n",
    "$^3$ The 2020 EPA Automotive Trends Report: Greenhouse gas emissions, fuel ..., n.d. https://www.epa.gov/sites/default/files/2021-01/documents/420r21003.pdf. "
   ]
  }
 ],
 "metadata": {
  "extensions": {
   "jupyter_dashboards": {
    "version": 1,
    "views": {
     "grid_default": {
      "col": 0,
      "height": 15,
      "hidden": false,
      "row": 9,
      "width": 4
     },
     "report_default": {}
    }
   }
  },
  "kernelspec": {
   "display_name": "Python 3 (ipykernel)",
   "language": "python",
   "name": "python3"
  },
  "language_info": {
   "codemirror_mode": {
    "name": "ipython",
    "version": 3
   },
   "file_extension": ".py",
   "mimetype": "text/x-python",
   "name": "python",
   "nbconvert_exporter": "python",
   "pygments_lexer": "ipython3",
   "version": "3.10.8"
  },
  "trusted": false
 },
 "nbformat": 4,
 "nbformat_minor": 4
}
