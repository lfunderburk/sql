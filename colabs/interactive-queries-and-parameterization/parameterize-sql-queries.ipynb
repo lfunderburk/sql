{
 "cells": [
  {
   "attachments": {},
   "cell_type": "markdown",
   "id": "5446369c",
   "metadata": {},
   "source": [
    "# Parameterizing Queries \n",
    "\n",
    "In the last module, you learned how to use SQL within Jupyter notebooks with JupySQL, and you learned how you can combine it with usage of widgets to create interactive graphical user interfaces (GUIs) for your SQL queries. This module will take you a step further. Here, we will discuss how to parameterize your SQL queries and effectively utilize ipywidgets to create more interactive data workflows. Let's dive in!\n",
    "\n",
    "## Set up and data access\n",
    "\n",
    "\n",
    "```{important}\n",
    "<b>Note:</b> The --save and %sqlcmd features used require the latest JupySQL version. Ensure you run the code below.\n",
    "```\n",
    "\n",
    "This code installs JupySQL, and DuckDB in your environment. We will be using these moving forward."
   ]
  },
  {
   "cell_type": "code",
   "execution_count": null,
   "id": "64b190bc",
   "metadata": {},
   "outputs": [],
   "source": [
    "%pip install jupysql --upgrade jupysql-plugin --upgrade duckdb-engine --quiet"
   ]
  },
  {
   "attachments": {},
   "cell_type": "markdown",
   "id": "74e1a214",
   "metadata": {},
   "source": [
    "We continue to work with the Bank and Marketing data set. \n",
    "\n",
    "```{important}\n",
    "Source: UCI Machine Learning Repository\n",
    "\n",
    "URL: https://archive-beta.ics.uci.edu/dataset/222/bank+marketing\n",
    "\n",
    "Data Citation\n",
    "\n",
    "Moro,S., Rita,P., and Cortez,P.. (2012). Bank Marketing. UCI Machine Learning Repository. https://doi.org/10.24432/C5K306.\n",
    "```\n",
    "\n",
    "We can use the following function to extract the downloaded data from the UCI repository."
   ]
  },
  {
   "cell_type": "code",
   "execution_count": null,
   "id": "abcbac2d",
   "metadata": {},
   "outputs": [],
   "source": [
    "from urllib.request import urlretrieve\n",
    "from zipfile import ZipFile\n",
    "import pandas as pd\n",
    "import os\n",
    "\n",
    "\n",
    "def extract_to_csv(url, data_name):\n",
    "    # Retrieve the zip file from the url link\n",
    "    file = os.path.basename(url)\n",
    "    urlretrieve(url, file)\n",
    "\n",
    "    # Extract the zip file's contents\n",
    "    with ZipFile(file, \"r\") as zf:\n",
    "        zf.extractall()\n",
    "\n",
    "    # The file containing our data\n",
    "    csv_file_name = f\"{data_name}.csv\"\n",
    "\n",
    "    # Data clean up\n",
    "    df = pd.read_csv(csv_file_name, sep=\";\")\n",
    "\n",
    "    # Save the cleaned up CSV file\n",
    "    df.to_csv(df.to_csv(f\"{data_name}_cleaned.csv\", index=False))\n",
    "\n",
    "\n",
    "# Running the above function\n",
    "extract_to_csv(\"https://tinyurl.com/uci-marketing-data\", \"bank\")"
   ]
  },
  {
   "attachments": {},
   "cell_type": "markdown",
   "id": "16a2739f",
   "metadata": {},
   "source": [
    "Initialize a DuckDB Instance"
   ]
  },
  {
   "cell_type": "code",
   "execution_count": null,
   "id": "edaebe6c",
   "metadata": {},
   "outputs": [],
   "source": [
    "# Loading in SQL extension\n",
    "%reload_ext sql\n",
    "# Initiating a DuckDB database named 'bank.duck.db' to run our SQL queries on\n",
    "%sql duckdb:///bank.duck.db"
   ]
  },
  {
   "attachments": {},
   "cell_type": "markdown",
   "id": "2af2c979",
   "metadata": {},
   "source": [
    "Load the data"
   ]
  },
  {
   "cell_type": "code",
   "execution_count": null,
   "id": "7f810125",
   "metadata": {},
   "outputs": [],
   "source": [
    "%%sql\n",
    "CREATE OR REPLACE TABLE bank AS\n",
    "FROM read_csv_auto('bank_cleaned.csv', header=True, sep=',')"
   ]
  },
  {
   "attachments": {},
   "cell_type": "markdown",
   "id": "1d565714",
   "metadata": {},
   "source": [
    "We confirm the table was loaded"
   ]
  },
  {
   "cell_type": "code",
   "execution_count": null,
   "id": "971ce204",
   "metadata": {},
   "outputs": [],
   "source": [
    "%sqlcmd tables"
   ]
  },
  {
   "attachments": {},
   "cell_type": "markdown",
   "id": "d194945c",
   "metadata": {},
   "source": [
    "We can use [JupySQL's Table Explorer](https://jupysql.ploomber.io/en/latest/user-guide/table_explorer.html) to take a quick look at the table."
   ]
  },
  {
   "cell_type": "code",
   "execution_count": null,
   "id": "f5309f21",
   "metadata": {},
   "outputs": [],
   "source": [
    "%sqlcmd explore --table bank"
   ]
  },
  {
   "cell_type": "code",
   "execution_count": null,
   "id": "b416ef49",
   "metadata": {},
   "outputs": [],
   "source": [
    "%sqlcmd columns -t bank"
   ]
  },
  {
   "attachments": {},
   "cell_type": "markdown",
   "id": "911221fa",
   "metadata": {},
   "source": [
    "## Variable Expansion\n",
    "\n",
    "JupySQL supports variable expansion in the form of ``{{variable}}``. This allows you to write a query with placeholders that can be replaced by variables dynamically. The benefits of using parameterized SQL queries are that they can be reused with different values, prepared ahead of time, and used with dynamic data.\n",
    "\n",
    "Let's start with a simple query template with placeholders, and substitute the placeholders with a couple of variables using variable expansion.\n",
    "\n",
    "We are going to select two columns (`age` and `job`) from the table `bank` with the variable `dynamic_column` and show only 5 rows. We can control this via another variable `dynamic_limit`."
   ]
  },
  {
   "cell_type": "code",
   "execution_count": null,
   "id": "309001a4",
   "metadata": {},
   "outputs": [],
   "source": [
    "dynamic_limit = 5\n",
    "dynamic_column = \"age, job\"\n",
    "%sql SELECT {{dynamic_column}} FROM bank LIMIT {{dynamic_limit}}"
   ]
  },
  {
   "attachments": {},
   "cell_type": "markdown",
   "id": "e14f6fab",
   "metadata": {},
   "source": [
    "### Sample case\n",
    "\n",
    "The HR department would like to determine top five oldest and youngest employees in two different jobs: services, management.\n",
    "\n",
    "We can combine Python with SQL code using the `%sql` magic. With Python we can iterate over the jobs in the list `jobs`. With parameterization, we can\n",
    "then insert the job into the SQL query via the `{{variable}}` notation."
   ]
  },
  {
   "cell_type": "code",
   "execution_count": null,
   "id": "2aeb4191",
   "metadata": {},
   "outputs": [],
   "source": [
    "jobs = [\"services\", \"management\"]\n",
    "\n",
    "for job in jobs:\n",
    "    print(f\"Top 5 oldest in {job}\")\n",
    "    order = \"DESC\"\n",
    "    top_oldest = (\n",
    "        %sql SELECT * FROM bank WHERE job='{{job}}' ORDER BY age {{order}} LIMIT 5\n",
    "    )\n",
    "    print(top_oldest)\n",
    "\n",
    "    print(f\"Top 5 youngest in {job}\")\n",
    "    order = \"ASC\"\n",
    "    top_youngest = (\n",
    "        %sql SELECT * FROM bank WHERE job='{{job}}' ORDER BY age {{order}} LIMIT 5\n",
    "    )\n",
    "    print(top_youngest)"
   ]
  },
  {
   "attachments": {},
   "cell_type": "markdown",
   "id": "6d7ae443",
   "metadata": {},
   "source": [
    "### Mini Exercise:\n",
    "\n",
    "The marketing team is interested in understanding the distribution of age for their marketing campaigns. Select the top 5 oldest and youngest people who have been part of the marketing campaign (`campaign` column).\n",
    "\n",
    "Your task: use a loop with variable expansion to accomplish this. \n",
    "\n",
    "<!-- #region -->\n",
    "<details>\n",
    "\n",
    "<summary>Answers</summary>"
   ]
  },
  {
   "cell_type": "code",
   "execution_count": null,
   "id": "1e8bf345",
   "metadata": {},
   "outputs": [],
   "source": [
    "campaign = %sql SELECT DISTINCT campaign FROM bank\n",
    "campaign = campaign.DataFrame()\n",
    "\n",
    "campaigns = campaign[\"campaign\"].tolist()\n",
    "\n",
    "for campaign in campaigns:\n",
    "    print(f\"Top 5 oldest in campaign {campaign}\")\n",
    "    order = \"DESC\"\n",
    "    oldest_camppaing = %sql SELECT * FROM bank WHERE campaign={{campaign}} ORDER BY age {{order}} LIMIT 5\n",
    "    print(oldest_camppaing)\n",
    "\n",
    "    print(f\"Top 5 youngest in campaign {campaign}\")\n",
    "    order = \"ASC\"\n",
    "    youngest_campaign = %sql SELECT * FROM bank WHERE campaign={{campaign}} ORDER BY age {{order}} LIMIT 5\n",
    "    print(youngest_campaign)"
   ]
  },
  {
   "attachments": {},
   "cell_type": "markdown",
   "id": "c4f444df",
   "metadata": {},
   "source": [
    "</details>\n",
    "<!-- #endregion -->\n",
    "\n",
    "## Variable Expansion Using Loops\n",
    "\n",
    "We can also use loops inside SQL to parameterize our queries. For example, let's calculate the average age for each job role in the `bank` table.\n",
    "\n",
    "The query below will iterate over four kinds of jobs: blue collar, technician, services and management. For each job, it will compute the average age for people with that job and create a new column for the average of each job.\n",
    "\n",
    "The resulting query can be reused as it is being saved as `avg_age` with the `--save` option."
   ]
  },
  {
   "cell_type": "code",
   "execution_count": null,
   "id": "34260795",
   "metadata": {},
   "outputs": [],
   "source": [
    "%%sql --save avg_age\n",
    "{% set jobs = [ \"blue_collar\", \"technician\", \"services\", \"management\"] %}\n",
    "select\n",
    "    {% for job in jobs %}\n",
    "    avg(case when job = '{{job.replace('_', '-')}}' then age end) as avg_age_{{job}},\n",
    "    {% endfor %}\n",
    "from bank"
   ]
  },
  {
   "attachments": {},
   "cell_type": "markdown",
   "id": "4a79e045",
   "metadata": {},
   "source": [
    "We can see the final compiled query using:"
   ]
  },
  {
   "cell_type": "code",
   "execution_count": null,
   "id": "0dd33708",
   "metadata": {},
   "outputs": [],
   "source": [
    "final = %sqlrender avg_age\n",
    "print(final)"
   ]
  },
  {
   "attachments": {},
   "cell_type": "markdown",
   "id": "b9c38715",
   "metadata": {},
   "source": [
    "### Sample case\n",
    "\n",
    "The HR department would like to determine the average balance for employees by job (for jobs technician, services and management) and education level. We can achieve this by using the `job` and `education` columns from the `bank` table."
   ]
  },
  {
   "cell_type": "code",
   "execution_count": null,
   "id": "69796af5",
   "metadata": {},
   "outputs": [],
   "source": [
    "%%sql --save avg_balance\n",
    "{% set jobs = [ \"technician\", \"services\", \"management\"] %}\n",
    "{% set education_levels = [ \"primary\", \"secondary\", \"tertiary\", \"unknown\"] %}\n",
    "select\n",
    "    {% for job in jobs %}\n",
    "    {% for education in education_levels %}\n",
    "    avg(case when job = '{{job}}' and education = '{{education}}' then balance end) as avg_balance_{{job}}_{{education}},\n",
    "    {% endfor %}\n",
    "    {% endfor %}\n",
    "from bank"
   ]
  },
  {
   "attachments": {},
   "cell_type": "markdown",
   "id": "a2c8f252",
   "metadata": {},
   "source": [
    "### Mini Exercise:\n",
    "\n",
    "Calculate the count of people for each job role for jobs  \"blue_collar\", \"technician\", \"services\", \"management\".\n",
    "\n",
    "Your task: use Variable Expansion Using Loops and the `%%sql` magic\n",
    "\n",
    "<!-- #region -->\n",
    "<details>\n",
    "\n",
    "<summary>Answers</summary>"
   ]
  },
  {
   "cell_type": "code",
   "execution_count": null,
   "id": "1e1d2323",
   "metadata": {},
   "outputs": [],
   "source": [
    "%%sql --save count_jobs\n",
    "{% set jobs = [ \"blue_collar\", \"technician\", \"services\", \"management\"] %}\n",
    "select\n",
    "    {% for job in jobs %}\n",
    "    count(case when job = '{{job.replace('_', '-')}}' then 1 end) as count_{{job}},\n",
    "    {% endfor %}\n",
    "from bank"
   ]
  },
  {
   "attachments": {},
   "cell_type": "markdown",
   "id": "30fc5819",
   "metadata": {},
   "source": [
    "</details>\n",
    "<!-- #endregion -->\n",
    "\n",
    "## Macros + Variable Expansion\n",
    "\n",
    "\n",
    "`Macros` is a construct analogous to functions that promote re-usability. We define a `macro` using the {% macro %} tag and use this macro in the query using variable expansion.\n",
    "\n",
    "For example, let's define a macro to convert a value from days to years, and use this macro in our query. This macro will be called `days_to_years` and it takes as input the `column_name` and `precision`. With the default `precision` set to 2.\n",
    "\n",
    "We can obtain the number of years by dividing the number of days by 365. \n",
    "\n",
    "We can then use the `days_to_years` macro in the query, where we are passing `age` as the input column."
   ]
  },
  {
   "cell_type": "code",
   "execution_count": null,
   "id": "9525ccfc",
   "metadata": {},
   "outputs": [],
   "source": [
    "%%sql --save convert\n",
    "{% macro days_to_years(column_name, precision=2) %}\n",
    "    ({{ column_name }} / 365)::numeric(16, {{ precision }})\n",
    "{% endmacro %}\n",
    "\n",
    "select\n",
    "  job, marital,\n",
    "  {{ days_to_years('age') }} as age_in_years\n",
    "from bank"
   ]
  },
  {
   "attachments": {},
   "cell_type": "markdown",
   "id": "810da622",
   "metadata": {},
   "source": [
    "In this query, we're converting age from days to years using our macro. The results are saved in a variable `convert`.\n",
    "\n",
    "The final rendered query can be viewed using:"
   ]
  },
  {
   "cell_type": "code",
   "execution_count": null,
   "id": "6e4d6448",
   "metadata": {},
   "outputs": [],
   "source": [
    "final = %sqlrender convert\n",
    "print(final)"
   ]
  },
  {
   "attachments": {},
   "cell_type": "markdown",
   "id": "59de4d54",
   "metadata": {},
   "source": [
    "### Sample usage\n",
    "\n",
    "Let's use macros to handle `NULL` values. The macro below checks if the chosen column has `NULL` values.\n",
    "\n",
    "The code block defines a macro that will be used later in the SQL query. The macro is named `months_to_years_handle_null`, and its purpose is to convert the values in a specified column from months to years. Additionally, this macro is designed to handle null values in a column, hence its name. \n",
    "\n",
    "If the value in the column is null, the macro will return `NULL`; otherwise, it will convert the value from months to years."
   ]
  },
  {
   "cell_type": "code",
   "execution_count": null,
   "id": "2fe1d7ee",
   "metadata": {},
   "outputs": [],
   "source": [
    "%%sql --save convert_duration_handle_null\n",
    "{% macro months_to_years_handle_null(column_name, precision=2) %}\n",
    "    (case when {{ column_name }} is not null then {{ column_name }} / 12 else null end)::numeric(16, {{ precision }})\n",
    "{% endmacro %}\n",
    "\n",
    "select\n",
    "  job, marital,\n",
    "  {{ months_to_years_handle_null('duration') }} as duration_in_years\n",
    "from bank"
   ]
  },
  {
   "cell_type": "code",
   "execution_count": null,
   "id": "da17ec6e",
   "metadata": {},
   "outputs": [],
   "source": [
    "final = %sqlrender convert_duration_handle_null\n",
    "print(final)"
   ]
  },
  {
   "attachments": {},
   "cell_type": "markdown",
   "id": "001cf8bc",
   "metadata": {},
   "source": [
    "### Mini exercise\n",
    "\n",
    "Use the `months_to_years_handle_null` macro to iterate over the `jobs`: \"blue_collar\", \"technician\", \"services\", \"management\". For each job in the loop, calculate the average duration for the specified job. Save this query as `avg_duration`. Display the query.\n",
    "\n",
    "<!-- #region -->\n",
    "<details>\n",
    "\n",
    "<summary>Answers</summary>\n",
    "\n",
    "This modification is using the `months_to_years_handle_null` macro that you had defined earlier. This macro will convert duration from months to years for each job category, while also handling null values. The macro will apply to the average duration of each job category (where the job is equal to the current job in the loop). The output for each job category is then given an alias that indicates the job category and that it represents average duration in years.\n",
    "\n",
    "Just like before, the code below will dynamically generate the SQL query, and the --save directive will save the query result into the avg_duration variable."
   ]
  },
  {
   "cell_type": "code",
   "execution_count": null,
   "id": "77972a8e",
   "metadata": {},
   "outputs": [],
   "source": [
    "%%sql --save avg_duration\n",
    "{% macro months_to_years_handle_null(column_name, precision=2) %}\n",
    "    (case when {{ column_name }} is not null then {{ column_name }} / 12 else null end)::numeric(16, {{ precision }})\n",
    "{% endmacro %}\n",
    "{% set jobs = [ \"blue_collar\", \"technician\", \"services\", \"management\"] %}\n",
    "select\n",
    "    {% for job in jobs %}\n",
    "    {{ months_to_years_handle_null('avg(case when job = \\'' + job.replace('_', '-') + '\\' then duration end)') }} as avg_duration_{{job}},\n",
    "    {% endfor %}\n",
    "from bank"
   ]
  },
  {
   "attachments": {},
   "cell_type": "markdown",
   "id": "3d7becc6",
   "metadata": {},
   "source": [
    "Display the query:"
   ]
  },
  {
   "cell_type": "code",
   "execution_count": null,
   "id": "d9b0f18d",
   "metadata": {},
   "outputs": [],
   "source": [
    "final = %sqlrender avg_duration\n",
    "print(final)"
   ]
  },
  {
   "attachments": {},
   "cell_type": "markdown",
   "id": "9b654e25",
   "metadata": {},
   "source": [
    "</details>\n",
    "<!-- #endregion -->\n",
    "\n",
    "\n",
    "## Creating multiple tables dynamically\n",
    "\n",
    "We'll finish off this section by showing you how you can generate multiple tables dynamically. \n",
    "\n",
    "Your task now is to create separate tables for each job. This can easily be accomplished using a loop and variable expansion:"
   ]
  },
  {
   "cell_type": "code",
   "execution_count": null,
   "id": "1ffdb9fb",
   "metadata": {},
   "outputs": [],
   "source": [
    "jobs = [\"services\", \"management\"]\n",
    "for job in jobs:\n",
    "    %sql CREATE TABLE {{job}} AS (SELECT * from bank WHERE job = '{{job}}')"
   ]
  },
  {
   "attachments": {},
   "cell_type": "markdown",
   "id": "caaa55e8",
   "metadata": {},
   "source": [
    "Let's check the tables in our schema:"
   ]
  },
  {
   "cell_type": "code",
   "execution_count": null,
   "id": "094a585e",
   "metadata": {},
   "outputs": [],
   "source": [
    "%sqlcmd tables"
   ]
  },
  {
   "attachments": {},
   "cell_type": "markdown",
   "id": "5beb25aa",
   "metadata": {},
   "source": [
    "## Conclusion\n",
    "In this module, we have explored how to parameterize SQL queries and effectively integrate with Python for a more interactive data analysis workflow within Jupyter notebooks. This method is facilitated using JupySQL and DuckDB. We've also demonstrated how to dynamically create and use variables within SQL queries, further enhancing the flexibility and interactivity of the notebooks.\n",
    "\n",
    "We delved into the basics of variable expansion, using loops within SQL to iterate over arrays, and how to define and use macros to promote reusability and reduce redundancy. We further illustrated the potential of these techniques through several practical examples, including determining the top five oldest and youngest employees in various jobs, calculating average ages and balances by job and education level, handling `NULL` values with `macros`, and dynamically creating multiple tables.\n",
    "\n",
    "Through these exercises, it has been made evident that integrating SQL into Jupyter notebooks provides an intuitive and powerful approach to data exploration and analysis. The techniques demonstrated in this module can be widely applied across various datasets, making it a useful skillset for data scientists and analysts. By merging the strengths of Python's flexibility and SQL's data management capabilities, we can create more powerful and interactive data workflows.\n",
    "\n",
    "In the next section, you'll learn how to combine paramaterization with `ipywidgets`."
   ]
  }
 ],
 "metadata": {
  "kernelspec": {
   "display_name": "Python 3 (ipykernel)",
   "language": "python",
   "name": "python3"
  },
  "language_info": {
   "codemirror_mode": {
    "name": "ipython",
    "version": 3
   },
   "file_extension": ".py",
   "mimetype": "text/x-python",
   "name": "python",
   "nbconvert_exporter": "python",
   "pygments_lexer": "ipython3",
   "version": "3.10.0"
  }
 },
 "nbformat": 4,
 "nbformat_minor": 5
}
