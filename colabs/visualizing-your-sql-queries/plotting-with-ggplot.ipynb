{
 "cells": [
  {
   "cell_type": "markdown",
   "id": "5cc1d0bc",
   "metadata": {},
   "source": [
    "# Plotting with `ggplot`\n",
    "\n",
    "Before we dive into how you can use JupySQL's `ggplot` API, we will quickly go over JupySQL's [`%sqlplot` magic command](https://jupysql.ploomber.io/en/latest/api/magic-plot.html) to make you comfortable with the general overlapping notation."
   ]
  },
  {
   "cell_type": "markdown",
   "id": "9e95a461",
   "metadata": {},
   "source": [
    "## Install and Load Libraries\n",
    "\n",
    "```{important}\n",
    "<b>Note:</b> The `--save` and `%sqlcmd` features used require the latest JupySQL version. Ensure you run the code below to update JupySQL.\n",
    "```\n",
    "\n",
    "This code installs JupySQL, DuckDB, Matplotlib (required dependency), and ipywidgets in your environment. We will be using these moving forward."
   ]
  },
  {
   "cell_type": "code",
   "execution_count": null,
   "id": "eb63411c",
   "metadata": {},
   "outputs": [],
   "source": [
    "%pip install jupysql --upgrade duckdb-engine matplotlib ipywidgets --quiet"
   ]
  },
  {
   "cell_type": "markdown",
   "id": "71fde176",
   "metadata": {},
   "source": [
    "Finally, we load in the libraries we will be using in this tutorial."
   ]
  },
  {
   "cell_type": "code",
   "execution_count": null,
   "id": "16166feb",
   "metadata": {},
   "outputs": [],
   "source": [
    "import matplotlib.pyplot as plt\n",
    "from sql.ggplot import ggplot, aes, geom_boxplot, geom_histogram, facet_wrap\n",
    "import ipywidgets as widgets\n",
    "from ipywidgets import interact"
   ]
  },
  {
   "cell_type": "markdown",
   "id": "4e48566a",
   "metadata": {},
   "source": [
    "## Load the data\n",
    "\n",
    "```{important}\n",
    "<b>Note:</b> If you are following these lessons locally and <b>not</b> on Google Colab, then there is no need to load the data again.\n",
    "```\n",
    "\n",
    "This section was covered in detail in the previous tutorial: [Joining Data in SQL](https://ploomber-sql.readthedocs.io/en/latest/intro-to-sql/joining-data-in-sql.html#load-the-data). We will be using the same data in this tutorial as well."
   ]
  },
  {
   "cell_type": "code",
   "execution_count": null,
   "id": "00d6f7da",
   "metadata": {},
   "outputs": [],
   "source": [
    "# If you are running this from Google Colab\n",
    "!wget https://raw.githubusercontent.com/ploomber/sql/main/banking.py # noqa E402\""
   ]
  },
  {
   "cell_type": "code",
   "execution_count": null,
   "id": "a9b783b1",
   "metadata": {
    "tags": [
     "hide-output"
    ]
   },
   "outputs": [],
   "source": [
    "import sys\n",
    "\n",
    "sys.path.insert(0, \"../../\")\n",
    "\n",
    "import banking  # noqa: E402\n",
    "\n",
    "\n",
    "_ = banking.MarketData(\"https://tinyurl.com/jb-bank-m\", \"expanded_data\")\n",
    "_.extract_asc_to_csv()"
   ]
  },
  {
   "cell_type": "markdown",
   "id": "7fe3ea83",
   "metadata": {},
   "source": [
    "If you ran the above cell, you should have a folder `expanded_data` in your current directory that contains the `.csv` files we will be using. In this tutorial, we will be focusing on three of these files: `loan.csv`, `account.csv`, `district.csv`.\n",
    "\n",
    "## Load Engine\n",
    "\n",
    "We now load in our SQL extension that allows us to execute SQL queries in Jupyter Notebooks.\n",
    "\n",
    "```{important}\n",
    "<b>Note</b> Ensure you restart any previous notebook that has the same database name as the one initialized below.\n",
    "```"
   ]
  },
  {
   "cell_type": "code",
   "execution_count": null,
   "id": "e654ac13",
   "metadata": {},
   "outputs": [],
   "source": [
    "# Loading in SQL extension\n",
    "%load_ext sql\n",
    "# Initiating a DuckDB database named 'bank_data.duck.db' to run SQL queries\n",
    "%sql duckdb:///bank_data.duck.db"
   ]
  },
  {
   "cell_type": "markdown",
   "id": "f671c3eb",
   "metadata": {},
   "source": [
    "<!-- endregion -->\n",
    "\n",
    "## Creating Tables\n",
    "\n",
    "Let's start off with loading three of the eight `.csv` files from the `expanded_data` folder in the current directory to our newly created DuckDB database. Like in the previous tutorial, we will [create a schema](https://ploomber-sql.readthedocs.io/en/latest/intro-to-sql/joining-data-in-sql.html#creating-a-schema) `s1` in which we will store the tables. Here we use the `CREATE TABLE` syntax in DuckDB to ingest four of the eight `.csv` files. The `read_csv_auto` is a function that helps SQL understand our local `.csv` file for creation into our database."
   ]
  },
  {
   "cell_type": "code",
   "execution_count": null,
   "id": "8c26d5d4",
   "metadata": {},
   "outputs": [],
   "source": [
    "%%sql\n",
    "CREATE SCHEMA s1;\n",
    "CREATE TABLE s1.account AS\n",
    "FROM read_csv_auto('expanded_data/account.csv', header=True, sep=',');\n",
    "CREATE TABLE s1.district AS\n",
    "FROM read_csv_auto('expanded_data/district.csv', header=True, sep=',');\n",
    "CREATE TABLE s1.loan AS\n",
    "FROM read_csv_auto('expanded_data/loan.csv', header=True, sep=',');"
   ]
  },
  {
   "cell_type": "markdown",
   "id": "301674ca",
   "metadata": {},
   "source": [
    "The code above will create three tables in the database schema: `s1.account`, `s1.district`, `s1.loan`.\n",
    "\n",
    "## Exploring the data\n",
    "\n",
    "Let's take a look at its entries."
   ]
  },
  {
   "cell_type": "code",
   "execution_count": null,
   "id": "bc308703",
   "metadata": {},
   "outputs": [],
   "source": [
    "%sqlcmd explore --table s1.account"
   ]
  },
  {
   "cell_type": "code",
   "execution_count": null,
   "id": "ba8431ae",
   "metadata": {},
   "outputs": [],
   "source": [
    "%sqlcmd explore --table s1.district"
   ]
  },
  {
   "cell_type": "code",
   "execution_count": null,
   "id": "e3291bb4",
   "metadata": {},
   "outputs": [],
   "source": [
    "%sqlcmd explore --table s1.loan"
   ]
  },
  {
   "cell_type": "markdown",
   "id": "4f7355f6",
   "metadata": {},
   "source": [
    "## `%sqlplot`\n",
    "\n",
    "The `%sqlplot` magic command is the easiest JupySQL plotting command to learn. Currently, it supports four different types of visualizations, including `boxplot`, `histogram`, `bar`plot, and `pie`chart. All `%sqlplot` visualizations return customizable [`matplotlib.Axes` objects](https://ploomber-sql.readthedocs.io/en/latest/visualizing-your-sql-queries/plotting-with-seaborn.html#axes-level) and have three magic commands in common:\n",
    "\n",
    "- `--table/-t` Table to use\n",
    "\n",
    "- `--column/-c` Column(s) to plot. <b>Note</b> only `boxplot` and `histogram` can accept multiple columns\n",
    "\n",
    "- `--with/-w` Use a previously saved query (CTE) as input data\n",
    "\n",
    "There are other magic commands unique to the aforementioned visualizations as well. Let us learn from a few examples below.\n",
    "\n",
    "### Examples\n",
    "\n",
    "1. Suppose the finance manager wants to visualize boxplots of `average_salary` and loan `payments` of those customers who have loans. We can do so in a single plot! We will first join all three tables to obtain the relevant data, save the output as a CTE, and use that CTE for `%sqlplot boxplot`:"
   ]
  },
  {
   "cell_type": "code",
   "execution_count": null,
   "id": "2db8929d",
   "metadata": {},
   "outputs": [],
   "source": [
    "%%sql --save sqlplot_boxplot_example\n",
    "SELECT payments, average_salary\n",
    "FROM s1.account AS a\n",
    "LEFT JOIN s1.loan AS l\n",
    "ON a.account_id = l.account_id\n",
    "LEFT JOIN s1.district AS d\n",
    "ON d.district_id = a.district_id"
   ]
  },
  {
   "cell_type": "code",
   "execution_count": null,
   "id": "e10e07f0",
   "metadata": {},
   "outputs": [],
   "source": [
    "plt.rcParams[\"figure.dpi\"] = 300  # high resolution\n",
    "plt.rcParams[\"figure.figsize\"] = (12, 4)\n",
    "\n",
    "%sqlplot boxplot --table sqlplot_boxplot_example --column payments average_salary\n",
    "plt.show()"
   ]
  },
  {
   "cell_type": "markdown",
   "id": "6c68064b",
   "metadata": {},
   "source": [
    "Several attributes of the plot can be customized because it is a `matplotlib.Axes` object. Below is a customized, cleaner version of the above plot:"
   ]
  },
  {
   "cell_type": "code",
   "execution_count": null,
   "id": "5340be04",
   "metadata": {},
   "outputs": [],
   "source": [
    "ax = %sqlplot boxplot --table sqlplot_boxplot_example --column payments average_salary --orient h\n",
    "ax.set_title(\"Boxplot of Loan Payments and Average Salary ($)\")\n",
    "ax.set_xlabel(\"Amount ($)\")\n",
    "plt.show()"
   ]
  },
  {
   "cell_type": "markdown",
   "id": "f7a70189",
   "metadata": {},
   "source": [
    "2. Suppose the manager wants to get a closer look of both distributions, loan `payments` and `average_salary` of those customers who have loans. You can quickly produce a histogram by using the saved CTE:"
   ]
  },
  {
   "cell_type": "code",
   "execution_count": null,
   "id": "b1c92393",
   "metadata": {},
   "outputs": [],
   "source": [
    "ax = %sqlplot histogram --table sqlplot_boxplot_example --column payments average_salary --bins 25\n",
    "ax.set_title(\"Histogram of Loan Payments and Average Salary ($)\")\n",
    "ax.set_xlabel(\"Amount ($)\")\n",
    "plt.show()"
   ]
  },
  {
   "cell_type": "markdown",
   "id": "4261c8c2",
   "metadata": {},
   "source": [
    "### Question 1 (Easy)"
   ]
  },
  {
   "cell_type": "markdown",
   "id": "edf0a5c6",
   "metadata": {},
   "source": [
    "The finance manager is impressed with how quickly you produced these plots! He wants another easy deliverable: facet the multiple column boxplot and histogram in a single graph. Make sure to customize the plot with clear axes labels and titles!\n",
    "\n",
    "<b>Hint:</b> Recall the seaborn [tutorial](https://ploomber-sql.readthedocs.io/en/latest/visualizing-your-sql-queries/plotting-with-seaborn.html#id2) of how to add/position multiple matplotlib axes subplots.\n",
    "\n",
    "<!-- #region -->\n",
    "<details>\n",
    "<summary>Answers</summary>\n",
    "\n",
    "We can use the same CTE from the example above as well as `%sqlplot` functions for the individual visualizations. The only change is that we employ `plt.subplots()` for each `%sqlplot` call and use base matplotlib functions for customizing labels:"
   ]
  },
  {
   "cell_type": "code",
   "execution_count": null,
   "id": "57d0f855",
   "metadata": {},
   "outputs": [],
   "source": [
    "plt.figure(figsize=(12, 3), dpi=300)  # Initialize blank canvas\n",
    "\n",
    "plt.subplot(1, 2, 1)  # first quadrant\n",
    "%sqlplot boxplot --table sqlplot_boxplot_example --column payments average_salary --orient h\n",
    "plt.title(\"Boxplot of Loan Payments and Average Salary ($)\")  # Set title\n",
    "plt.xlabel(\"Loan Amount ($)\")  # Set x-axis label\n",
    "\n",
    "plt.subplot(1, 2, 2)  # second quadrant\n",
    "%sqlplot histogram --table sqlplot_boxplot_example --column payments average_salary --bins 25\n",
    "plt.title(\"Histogram of Loan Payments and Average Salary ($)\")  # Set title\n",
    "plt.xlabel(\"Loan Amount ($)\")  # Set x-axis label\n",
    "plt.show()"
   ]
  },
  {
   "cell_type": "markdown",
   "id": "71970cf9",
   "metadata": {},
   "source": [
    "</details>\n",
    "<!-- #endregion -->\n",
    "\n",
    "<!-- #region -->\n",
    "\n",
    "```{important}\n",
    "Initializing the whole figure with `fig` and assigning individual axes with `ax1` and `ax2`, [like in this example](https://ploomber-sql.readthedocs.io/en/latest/visualizing-your-sql-queries/plotting-with-seaborn.html#question-3-easy), would not work.\n",
    "```\n",
    "\n",
    "## `ggplot` API\n",
    "\n",
    "You might be wondering \"how can ggplot, the R package, function in Jupyter Notebooks?\". Do not worry! In this tutorial, we will be learning about JupySQL's `ggplot` API to visualize our SQL queries. This plotting technique will be useful for avid R programmers, who are familiar with `ggplot2`, and for first-time learners.\n",
    "\n",
    "The `ggplot` API is built on top of `matplotlib` and is structured around the principles of the [Grammar of Graphics](https://bookdown.org/alhdzsz/data_viz_ir/ggbasics.html), allowing you to build any graph using the same `ggplot2` components: a data set, a coordinate system, and geoms (geometric objects). However, to make the API suitable for JupySQL, we <b>input a SQL table name, instead of a dataset</b>. Therefore, the same [workflow](https://ploomber-sql.readthedocs.io/en/latest/visualizing-your-sql-queries/plotting-with-seaborn.html#barplots) of creating our CTE, which was employed in the `seaborn` tutorial, will be in action here as well (no need to convert the CTE into a pandas `DataFrame()`).\n",
    "\n",
    "<b>Note</b> at this point, JupySQL's `ggplot` API supports:\n",
    "\n",
    "Aes:\n",
    "\n",
    "- `x` - a SQL column mapping\n",
    "\n",
    "- `color` and `fill` to apply edgecolor and fill colors to plot shapes\n",
    "\n",
    "Geoms:\n",
    "\n",
    "- `geom_boxplot` similar to `%sqlplot boxplot`\n",
    "\n",
    "- `geom_histogram` similar to `%sqlplot histogram`\n",
    "\n",
    "Facet:\n",
    "\n",
    "- `facet_wrap` to display multiple plots in a single layout\n",
    "\n",
    "```{important}\n",
    "Lastly, unlike `%sqlplot` that returns a `matplotlib.Axes` object, the `ggplot` API returns a `ggplot` object, which cannot be customized like we did when using `%sqlplot`. Therefore, customizing axes labels and titles is not possible in `ggplot` API yet.\n",
    "```\n",
    "\n",
    "### `ggplot` Template\n",
    "\n",
    "To build a graph, we first should initialize a `ggplot` instance with a reference to our SQL table using the `table` parameter, and a mapping object. Here’s is the complete template to build any graph:\n",
    "\n",
    "```python\n",
    "(\n",
    "    ggplot(table='sql_table_name', mapping=aes(x='table_column_name'))\n",
    "    +\n",
    "    geom_func() # geom_histogram or geom_boxplot (required)\n",
    "    +\n",
    "    facet_func() # facet_wrap (optional)\n",
    ")\n",
    "```\n",
    "\n",
    "```{important}\n",
    "When working with CTE's, we must include it along with `table` using the `with_` parameter. In this tutorial, we will be using CTE's throughout our examples.\n",
    "```\n",
    "\n",
    "### `ggplot` CTE\n",
    "\n",
    "We will create a CTE to use throughout the `ggplot` examples. All the information from the three tables, `account`, `district`, and `loan`, will be present in this CTE, named `ggplot_CTE`, for convenience. The `--no-execute` function tells JupySQL to <i>skip the execution of the stored query</i>."
   ]
  },
  {
   "cell_type": "code",
   "execution_count": null,
   "id": "649ae962",
   "metadata": {},
   "outputs": [],
   "source": [
    "%%sql --save ggplot_CTE --no-execute\n",
    "SELECT *\n",
    "FROM s1.account AS a\n",
    "LEFT JOIN s1.loan AS l\n",
    "ON a.account_id = l.account_id\n",
    "LEFT JOIN s1.district AS d\n",
    "ON d.district_id = a.district_id"
   ]
  },
  {
   "cell_type": "markdown",
   "id": "4ca5a1cd",
   "metadata": {},
   "source": [
    "Now, let's look at different types of visualizations using the `ggplot` API and test ourselves on them!\n",
    "\n",
    "### `geom_boxplot`\n",
    "\n",
    "To visualize the loan `amount` and `average_salary` of those customers who have loans, we can create a boxplot in `ggplot` using the saved CTE."
   ]
  },
  {
   "cell_type": "code",
   "execution_count": null,
   "id": "bd68629c",
   "metadata": {},
   "outputs": [],
   "source": [
    "(\n",
    "    ggplot(\n",
    "        table=\"ggplot_CTE\",\n",
    "        with_=\"ggplot_CTE\",\n",
    "        mapping=aes(x=[\"amount\", \"average_salary\"]),\n",
    "    )\n",
    "    + geom_boxplot()\n",
    ")"
   ]
  },
  {
   "cell_type": "markdown",
   "id": "5309ab6e",
   "metadata": {},
   "source": [
    "From the graph above, it is strange to see that customers are opting for loans that are significantly greater than their average salary. However, it could be the case that the earning population's salaries are skewed to the right and the customers actually obtaining loans are relatively wealthier.\n",
    "\n",
    "### Question 2 (Easy)\n",
    "\n",
    "Create the same boxplot from the `%sqplplot` example using the `ggplot` API. The columns used were `payments` and `average_salary`.\n",
    "\n",
    "<!-- #region -->\n",
    "<details>\n",
    "<summary>Answers</summary>"
   ]
  },
  {
   "cell_type": "code",
   "execution_count": null,
   "id": "d67c61c4",
   "metadata": {},
   "outputs": [],
   "source": [
    "(\n",
    "    ggplot(\n",
    "        table=\"ggplot_CTE\",\n",
    "        with_=\"ggplot_CTE\",\n",
    "        mapping=aes(x=[\"payments\", \"average_salary\"]),\n",
    "    )\n",
    "    + geom_boxplot()\n",
    ")"
   ]
  },
  {
   "cell_type": "markdown",
   "id": "acd85815",
   "metadata": {},
   "source": [
    "</details>\n",
    "<!-- #endregion -->\n",
    "\n",
    "<!-- #region -->\n",
    "\n",
    "### `geom_histogram`\n",
    "\n",
    "Unlike `geom_boxplot`, `geom_histogram` is more flexible because we can not only modify the `fill` and `color` attributes, but also facet the histograms for a categorical variable. `fill` corresponds to the color of the bars and `color` corresponds to the bars` border color.\n",
    "\n",
    "We can recreate the histogram produced in the `%sqplplot` example, with the columns `payments` and `average_salary`, and specify our own colors for each histogram:"
   ]
  },
  {
   "cell_type": "code",
   "execution_count": null,
   "id": "9d416b91",
   "metadata": {},
   "outputs": [],
   "source": [
    "(\n",
    "    ggplot(\n",
    "        table=\"ggplot_CTE\",\n",
    "        with_=\"ggplot_CTE\",\n",
    "        mapping=aes(\n",
    "            x=[\"payments\", \"average_salary\"],\n",
    "            fill=[\"#d500f9\", \"#fb8c00\"],\n",
    "            color=\"black\",\n",
    "        ),\n",
    "    )\n",
    "    + geom_histogram(bins=10)\n",
    ")"
   ]
  },
  {
   "cell_type": "markdown",
   "id": "395e7b86",
   "metadata": {},
   "source": [
    "Moreover, we can also map the `fill` attribute to a variable, such as `status`, and the bars will stack automatically. For example, if we want to visualize the histogram of `payments` with `status` as the `fill` attribute, then each colored rectangle on the stacked bars will represent a unique combination of `payments` and `status`:"
   ]
  },
  {
   "cell_type": "code",
   "execution_count": null,
   "id": "863259a3",
   "metadata": {},
   "outputs": [],
   "source": [
    "(\n",
    "    ggplot(\n",
    "        table=\"ggplot_CTE\",\n",
    "        with_=\"ggplot_CTE\",\n",
    "        mapping=aes(x=\"payments\", color=\"black\"),\n",
    "    )\n",
    "    + geom_histogram(bins=10, fill=\"status\")\n",
    ")"
   ]
  },
  {
   "cell_type": "markdown",
   "id": "41ddb5d6",
   "metadata": {},
   "source": [
    "```{important}\n",
    "When mapping `fill` with a variable, make sure to specify it in `geom_histogram()` rather than in `aes()`. `color` can optionally be specified, but only in `aes()`.\n",
    "```\n",
    "\n",
    "### Question 3 (Medium)\n",
    "\n",
    "Create a categorical histogram for the columns `status` and `region`. Filter `region` to only include \"Prague\" and \"central Bohemia\". Use `fill` colors of your choice, but make sure the borders of each bar are prominent.\n",
    "\n",
    "<!-- #region -->\n",
    "<details>\n",
    "<summary>Answers</summary>\n",
    "\n",
    "We will filter the regions from the `ggplot_CTE` to create a new CTE for this question:"
   ]
  },
  {
   "cell_type": "code",
   "execution_count": null,
   "id": "c09b2216",
   "metadata": {},
   "outputs": [],
   "source": [
    "%%sql --save ggplot_hist_q3 --no-execute\n",
    "SELECT *\n",
    "FROM ggplot_CTE\n",
    "WHERE region IN ('Prague', 'central Bohemia')"
   ]
  },
  {
   "cell_type": "code",
   "execution_count": null,
   "id": "954e8ff3",
   "metadata": {},
   "outputs": [],
   "source": [
    "(\n",
    "    ggplot(\n",
    "        table=\"ggplot_hist_q3\",\n",
    "        with_=\"ggplot_hist_q3\",\n",
    "        mapping=aes(\n",
    "            x=[\"status\", \"region\"],\n",
    "            fill=[\"#008080\", \"#d500f9\"],\n",
    "            color=\"black\",\n",
    "        ),\n",
    "    )\n",
    "    + geom_histogram(bins=10)\n",
    ")"
   ]
  },
  {
   "cell_type": "markdown",
   "id": "6d821c56",
   "metadata": {},
   "source": [
    "</details>\n",
    "<!-- #endregion -->\n",
    "\n",
    "<!-- #region -->\n",
    "\n",
    "### `facet_wrap`\n",
    "\n",
    "Histograms produced with `ggplot` API can also be arranged in a sequence of panels into a 2D grid, which is beneficial when dealing with a single variable that has multiple levels, or when you want to arrange the plots in a more space efficient manner.\n",
    "\n",
    "For example, the histogram for `payments` filled by all eight regions is tough to make sense of in a single plot. Therefore, `facet_wrap` can make visualizing the individual histograms easy:"
   ]
  },
  {
   "cell_type": "code",
   "execution_count": null,
   "id": "be51d276",
   "metadata": {},
   "outputs": [],
   "source": [
    "plt.rcParams[\"figure.figsize\"] = (15, 6)  # increase size of canvas\n",
    "\n",
    "(\n",
    "    ggplot(\n",
    "        table=\"ggplot_CTE\",\n",
    "        with_=\"ggplot_CTE\",\n",
    "        mapping=aes(\n",
    "            x=\"payments\",\n",
    "        ),\n",
    "    )\n",
    "    + geom_histogram(bins=10)\n",
    "    + facet_wrap(\"region\", legend=False)\n",
    ")"
   ]
  },
  {
   "cell_type": "markdown",
   "id": "0a55e5b6",
   "metadata": {},
   "source": [
    "### Question 4 (Medium)\n",
    "\n",
    "Produce the same faceted histograms as above, but account for `fill` mapping to `status`. Make sure the legend is presented in the plots.\n",
    "\n",
    "<b>Hint:</b> To present the legends clearly and to not distort the histograms because of the legends, specify `plt.rcParams[\"figure.figsize\"] = (15,7)` before the `ggplot` function.\n",
    "\n",
    "<!-- #region -->\n",
    "<details>\n",
    "<summary>Answers</summary>"
   ]
  },
  {
   "cell_type": "code",
   "execution_count": null,
   "id": "58ee7f86",
   "metadata": {},
   "outputs": [],
   "source": [
    "plt.rcParams[\"figure.figsize\"] = (15, 7)  # increase size of canvas\n",
    "\n",
    "(\n",
    "    ggplot(\n",
    "        table=\"ggplot_CTE\",\n",
    "        with_=\"ggplot_CTE\",\n",
    "        mapping=aes(x=\"payments\"),\n",
    "    )\n",
    "    + geom_histogram(bins=10, fill=\"status\")\n",
    "    + facet_wrap(\"region\")\n",
    ")"
   ]
  },
  {
   "cell_type": "markdown",
   "id": "249281ab",
   "metadata": {},
   "source": [
    "</details>\n",
    "<!-- #endregion -->\n",
    "\n",
    "<!-- #region -->\n",
    "\n",
    "## Interactive `ggplot`\n",
    "\n",
    "Similar to the Interactive Queries and Parameterization [module](https://ploomber-sql.readthedocs.io/en/latest/interactive-queries-and-parameterization/introduction-to-ipywidgets.html#putting-it-together), we can use the use the [interact](https://ipywidgets.readthedocs.io/en/stable/examples/Using%20Interact.html#using-interact) API from [Jupyter Widgets](https://ipywidgets.readthedocs.io/en/stable/index.html#jupyter-widgets). Widgets can be used with either `geom_boxplot` or `geom_histogram`, with the latter providing scope for greater flexibility due to the `fill` and `color` mappings.\n",
    "\n",
    "Interact autogenerates UI controls for function arguments, and then calls the function with those arguments when you manipulate the controls interactively.\n",
    "\n",
    "To use interact, you need to define:\n",
    "\n",
    "1. Widgets to be controlled\n",
    "\n",
    "2. The plot function that includes `ggplot` with dynamic argument(s) specified with the respective widget variable\n",
    "\n",
    "3. Invoke `interact()` API\n",
    "\n",
    "Let’s see examples below!\n",
    "\n",
    "### Histogram - Basic Usage (with Dropdown and Slider widgets)\n",
    "\n",
    "In this example, we will create multiple widgets: one for the `fill` argument specified in `aes()`, another for the `bins` argument in `geom_histogram`, and lastly for the `x` argument for specifying multiple columns:"
   ]
  },
  {
   "cell_type": "code",
   "execution_count": null,
   "id": "5d696a88",
   "metadata": {},
   "outputs": [],
   "source": [
    "dropdown = widgets.Dropdown(\n",
    "    options=[\"red\", \"blue\", \"green\", \"magenta\"],\n",
    "    value=\"blue\",\n",
    "    description=\"Color:\",\n",
    "    disabled=False,\n",
    ")\n",
    "b = widgets.IntSlider(\n",
    "    value=10,\n",
    "    min=1,\n",
    "    max=20,\n",
    "    step=1,\n",
    "    description=\"Bins:\",\n",
    "    orientation=\"horizontal\",\n",
    ")\n",
    "columns = widgets.RadioButtons(\n",
    "    options=[\"payments\", \"average_salary\", \"amount\"],\n",
    "    description=\"Column:\",\n",
    "    disabled=False,\n",
    ")"
   ]
  },
  {
   "cell_type": "code",
   "execution_count": null,
   "id": "5de66c8a",
   "metadata": {},
   "outputs": [],
   "source": [
    "def plot_fct(columns, color, b):\n",
    "    (\n",
    "        ggplot(\n",
    "            table=\"ggplot_CTE\",\n",
    "            with_=\"ggplot_CTE\",\n",
    "            mapping=aes(x=columns, fill=color),\n",
    "        )\n",
    "        + geom_histogram(bins=b)\n",
    "    )\n",
    "\n",
    "\n",
    "interact(plot_fct, color=dropdown, b=b, columns=columns)"
   ]
  },
  {
   "cell_type": "markdown",
   "id": "cf28fbcc",
   "metadata": {},
   "source": [
    "### Boxplot - Multiple Columns (with Select Widget)\n",
    "\n",
    "To visualize all three financial variables, `payments`, `average_salary`, `amount`, in a single box plot, we can use the `SelectMultiple` widget:"
   ]
  },
  {
   "cell_type": "code",
   "execution_count": null,
   "id": "90eb0228",
   "metadata": {},
   "outputs": [],
   "source": [
    "columns = widgets.SelectMultiple(\n",
    "    options=[\"payments\", \"average_salary\", \"amount\"],\n",
    "    value=[\"average_salary\"],\n",
    "    description=\"Column(s):\",\n",
    "    disabled=False,\n",
    ")"
   ]
  },
  {
   "cell_type": "code",
   "execution_count": null,
   "id": "117a901a",
   "metadata": {},
   "outputs": [],
   "source": [
    "plt.rcParams[\"figure.figsize\"] = (12, 3)  # increase size of canvas\n",
    "\n",
    "\n",
    "def plot(columns):\n",
    "    (\n",
    "        ggplot(table=\"ggplot_CTE\", with_=\"ggplot_CTE\", mapping=aes(x=columns))\n",
    "        + geom_boxplot()\n",
    "    )\n",
    "\n",
    "\n",
    "interact(plot, columns=columns)"
   ]
  },
  {
   "cell_type": "markdown",
   "id": "183f94d7",
   "metadata": {},
   "source": [
    "### Categorical Histogram (with Select widget)"
   ]
  },
  {
   "cell_type": "markdown",
   "id": "4be78020",
   "metadata": {},
   "source": [
    "With `geom_histogram`, we can specify the following widgets:\n",
    "\n",
    "- Multiple columns using the `SelectMultiple` widget like in the examples above. It is recommended to not use any of `fill`, `color`, or `cmap` when creating a widget for multiple columns because different colors will not be mapped to multiple columns.\n",
    "- Number of Bins using the `IntSlider` widget, which was shown in the Basic Usage example\n",
    "- Manually changing the color of the bars (when not mapping `fill` with a categorical variable) by using a selection widget (as shown in the Basic Usage example)\n",
    "- Changing the color of the bars with a colormap (`cmap`) when mapping `fill` with a categorical variable by using a selection widget"
   ]
  },
  {
   "cell_type": "markdown",
   "id": "5dc17fd5",
   "metadata": {},
   "source": [
    "Below is an example that utilizes widgets for `cmap`, `fill`, and `bins` to visualize `payments` by `status` or `frequency`:"
   ]
  },
  {
   "cell_type": "code",
   "execution_count": null,
   "id": "a1f0e09a",
   "metadata": {},
   "outputs": [],
   "source": [
    "b = widgets.IntSlider(\n",
    "    value=10,\n",
    "    min=1,\n",
    "    max=20,\n",
    "    step=1,\n",
    "    description=\"Bins:\",\n",
    "    orientation=\"horizontal\",\n",
    ")\n",
    "cmap = widgets.Dropdown(\n",
    "    options=[\"viridis\", \"plasma\", \"inferno\", \"magma\", \"cividis\"],\n",
    "    value=\"plasma\",\n",
    "    description=\"Colormap:\",\n",
    "    disabled=False,\n",
    ")\n",
    "fill = widgets.RadioButtons(\n",
    "    options=[\"status\", \"frequency\"],\n",
    "    # value=\"status\",\n",
    "    description=\"Fill by:\",\n",
    "    disabled=False,\n",
    ")"
   ]
  },
  {
   "cell_type": "code",
   "execution_count": null,
   "id": "a4437099",
   "metadata": {},
   "outputs": [],
   "source": [
    "def plot(b, cmap, fill):\n",
    "    (\n",
    "        ggplot(\n",
    "            table=\"ggplot_CTE\", with_=\"ggplot_CTE\", mapping=aes(x=\"payments\")\n",
    "        )  # noqa E501\n",
    "        + geom_histogram(bins=b, fill=fill, cmap=cmap)\n",
    "    )\n",
    "\n",
    "\n",
    "interact(plot, b=b, cmap=cmap, fill=fill)"
   ]
  },
  {
   "cell_type": "markdown",
   "id": "9510e0ee",
   "metadata": {},
   "source": [
    "### Question 5 (Hard)\n",
    "\n",
    "We can also employ widgets in the `facet_wrap` function and this question will make you practice that as well as some of the above widgets in the Categorical Histogram example! Create four widgets: one each for `bins`, `cmap`, `fill`, and `legend`. Visualize the histogram of loan `amount` by either `status` or `frequency` (this will require a widget) and facet it by `region`. Use the same widgets as the examples for `bins` and `cmap` and create a `ToggleButton` widget for `legend`. Make sure that all widgets used are unique and the plot size is big enough to incorporate the legends!\n",
    "\n",
    "<!-- #region -->\n",
    "<details>\n",
    "<summary>Answers</summary>"
   ]
  },
  {
   "cell_type": "code",
   "execution_count": null,
   "id": "8ffe6b60",
   "metadata": {},
   "outputs": [],
   "source": [
    "b = widgets.IntSlider(\n",
    "    value=10,\n",
    "    min=1,\n",
    "    max=20,\n",
    "    step=1,\n",
    "    description=\"Bins:\",\n",
    "    orientation=\"horizontal\",\n",
    ")\n",
    "cmap = widgets.Dropdown(\n",
    "    options=[\"viridis\", \"plasma\", \"inferno\", \"magma\", \"cividis\"],\n",
    "    value=\"plasma\",\n",
    "    description=\"Colormap:\",\n",
    "    disabled=False,\n",
    ")\n",
    "fill = widgets.RadioButtons(\n",
    "    options=[\"status\", \"frequency\"],\n",
    "    # value=\"status\",\n",
    "    description=\"Fill by:\",\n",
    "    disabled=False,\n",
    ")\n",
    "show_legend = widgets.ToggleButton(\n",
    "    value=False,\n",
    "    description=\"Show legend\",\n",
    "    disabled=False,\n",
    "    button_style=\"\",\n",
    "    tooltip=\"Is show legend\",\n",
    ")"
   ]
  },
  {
   "cell_type": "code",
   "execution_count": null,
   "id": "e2a47384",
   "metadata": {},
   "outputs": [],
   "source": [
    "plt.rcParams[\"figure.figsize\"] = (15, 7)  # increase size of canvas\n",
    "\n",
    "\n",
    "def plot(b, cmap, fill, show_legend):\n",
    "    (\n",
    "        ggplot(table=\"ggplot_CTE\", with_=\"ggplot_CTE\", mapping=aes(x=\"amount\"))\n",
    "        + geom_histogram(bins=b, fill=fill, cmap=cmap)\n",
    "        + facet_wrap(\"region\", legend=show_legend)\n",
    "    )\n",
    "\n",
    "\n",
    "interact(plot, b=b, cmap=cmap, fill=fill, show_legend=show_legend)"
   ]
  },
  {
   "cell_type": "markdown",
   "id": "3e9a5a18",
   "metadata": {},
   "source": [
    "</details>\n",
    "<!-- #endregion -->\n",
    "\n",
    "<!-- #region -->"
   ]
  },
  {
   "cell_type": "markdown",
   "id": "4e75d79f",
   "metadata": {},
   "source": [
    "## Wrapping Up\n",
    "\n",
    "In this section, we learned about plotting boxplots and histograms with `%sqlplot` and `ggplot` API. We also employed widgets to interactively query with `ggplot` API. To summarize:\n",
    "\n",
    "- `%sqlplot` is a great tool for not only creating plots quickly, but also customizing them at a low level because it returns a `matplotlib.Axes` object\n",
    "\n",
    "- `geom_boxplot` and `geom_histogram` are useful when integrating with `ipywidgets` and when dealing with categorical variables with a lot of unique values.\n",
    "\n",
    "This ends the Visualizing Your Queries module, we hope the skills imbibed in this module will assist you to visually uncover interesting insights from your data! The next module focuses on how to package your SQL project.\n",
    "\n",
    "## References\n",
    "\n",
    "“Simple Widget Introduction#.” Simple Widget Introduction - Jupyter Widgets 8.0.5 documentation, n.d. https://ipywidgets.readthedocs.io/en/stable/examples/Widget Basics.html.\n",
    "\n",
    "“Widget List#.” Widget List - Jupyter Widgets 8.0.5 documentation, n.d. https://ipywidgets.readthedocs.io/en/stable/examples/Widget List.html."
   ]
  }
 ],
 "metadata": {
  "kernelspec": {
   "display_name": "Python 3 (ipykernel)",
   "language": "python",
   "name": "python3"
  }
 },
 "nbformat": 4,
 "nbformat_minor": 5
}
