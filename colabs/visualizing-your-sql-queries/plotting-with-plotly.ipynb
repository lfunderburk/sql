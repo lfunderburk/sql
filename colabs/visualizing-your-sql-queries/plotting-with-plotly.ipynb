{
 "cells": [
  {
   "cell_type": "markdown",
   "id": "d6406af5",
   "metadata": {},
   "source": [
    "# Plotting with `plotly`\n",
    "\n",
    "Plotly is a visualization library specifically designed for dynamic interactive plots. The library offers several additional effects to visualizations, such as zooming, panning, and hovering effects. This library is especially known for being easily deployed with web applications.\n",
    "\n",
    "For more on plotly, visit: https://plotly.com/python/\n",
    "\n",
    "Let's see how we can apply plotly to our familiar bank marketing data sets.\n",
    "\n",
    "## Install - execute this once.\n",
    "\n",
    "```{important}\n",
    "<b>Note:</b> The `--save` and `%sqlcmd` features used require the latest JupySQL version. Ensure you run the code below to update JupySQL.\n",
    "```\n",
    "\n",
    "This code installs JupySQL, DuckDB, and Pandas in your environment. We will be using these moving forward."
   ]
  },
  {
   "cell_type": "code",
   "execution_count": null,
   "id": "a26b51bd",
   "metadata": {},
   "outputs": [],
   "source": [
    "%pip install jupysql --upgrade duckdb-engine pandas plotly --quiet"
   ]
  },
  {
   "cell_type": "markdown",
   "id": "f4e431a0",
   "metadata": {},
   "source": [
    "## Load the data\n",
    "\n",
    "```{important}\n",
    "<b>Note:</b> If you are following these lessons locally and <b>not</b> on Google Colab, then there is no need to load the data again.\n",
    "```\n",
    "\n",
    "This section was covered in detail in the previous tutorial: [Joining Data in SQL](https://ploomber-sql.readthedocs.io/en/latest/intro-to-sql/joining-data-in-sql.html#load-the-data). We will be using the same data in this tutorial as well."
   ]
  },
  {
   "cell_type": "code",
   "execution_count": null,
   "id": "b6392968",
   "metadata": {},
   "outputs": [],
   "source": [
    "# If you are running this from Google Colab\n",
    "!wget https://raw.githubusercontent.com/ploomber/sql/main/banking.py # noqa E402\""
   ]
  },
  {
   "cell_type": "code",
   "execution_count": null,
   "id": "e317d86f",
   "metadata": {},
   "outputs": [],
   "source": [
    "import sys\n",
    "import plotly.express as px\n",
    "\n",
    "sys.path.insert(0, \"../../\")\n",
    "import banking  # noqa: E402\n",
    "\n",
    "_ = banking.MarketData(\"https://tinyurl.com/jb-bank-m\", \"expanded_data\")\n",
    "_.extract_asc_to_csv()"
   ]
  },
  {
   "cell_type": "markdown",
   "id": "1eeec30c",
   "metadata": {},
   "source": [
    "If you ran the above cell, you should have a folder `expanded_data` in your current directory that contains the `.csv` files we will be using. In this tutorial, we will be focusing on three of these files: `loan.csv`, `account.csv`, `district.csv`.\n",
    "\n",
    "## Load Engine\n",
    "\n",
    "We now load in our SQL extension that allows us to execute SQL queries in Jupyter Notebooks.\n",
    "\n",
    "```{important}\n",
    "<b>Note</b> Ensure you restart any previous notebook that has the same database name as the one initialized below.\n",
    "```"
   ]
  },
  {
   "cell_type": "code",
   "execution_count": null,
   "id": "e1d922e2",
   "metadata": {},
   "outputs": [],
   "source": [
    "# Loading in SQL extension\n",
    "%reload_ext sql\n",
    "# Initiating a DuckDB database named 'bank_data.duck.db' to run SQL queries\n",
    "%sql duckdb:///bank_data.duck.db"
   ]
  },
  {
   "cell_type": "markdown",
   "id": "da975e62",
   "metadata": {},
   "source": [
    "## Creating Tables\n",
    "\n",
    "Let's start off with loading three of the eight `.csv` files from the `expanded_data` folder in the current directory to our newly created DuckDB database. Like in the previous tutorial, we will [create a schema](https://ploomber-sql.readthedocs.io/en/latest/intro-to-sql/joining-data-in-sql.html#creating-a-schema) `s1` in which we will store the tables. Here we use the `CREATE TABLE` syntax in DuckDB to ingest four of the eight `.csv` files. The `read_csv_auto` is a function that helps SQL understand our local `.csv` file for creation into our database."
   ]
  },
  {
   "cell_type": "code",
   "execution_count": null,
   "id": "cefc8628",
   "metadata": {},
   "outputs": [],
   "source": [
    "%%sql\n",
    "CREATE SCHEMA s1;\n",
    "CREATE TABLE s1.account AS\n",
    "FROM read_csv_auto('expanded_data/account.csv', header=True, sep=',');\n",
    "CREATE TABLE s1.district AS\n",
    "FROM read_csv_auto('expanded_data/district.csv', header=True, sep=',');\n",
    "CREATE TABLE s1.loan AS\n",
    "FROM read_csv_auto('expanded_data/loan.csv', header=True, sep=',');"
   ]
  },
  {
   "cell_type": "markdown",
   "id": "43c8cfd3",
   "metadata": {},
   "source": [
    "The code above will create three tables in the database schema: `s1.account`, `s1.district`, `s1.loan`.\n",
    "\n",
    "## Exploring the data\n",
    "\n",
    "Let's take a look at each table."
   ]
  },
  {
   "cell_type": "code",
   "execution_count": null,
   "id": "d8a0c2e3",
   "metadata": {},
   "outputs": [],
   "source": [
    "%sqlcmd explore --table s1.account"
   ]
  },
  {
   "cell_type": "code",
   "execution_count": null,
   "id": "429eba63",
   "metadata": {},
   "outputs": [],
   "source": [
    "%sqlcmd explore --table s1.district"
   ]
  },
  {
   "cell_type": "code",
   "execution_count": null,
   "id": "54424f1d",
   "metadata": {},
   "outputs": [],
   "source": [
    "%sqlcmd explore --table s1.loan"
   ]
  },
  {
   "cell_type": "markdown",
   "id": "057318a9",
   "metadata": {},
   "source": [
    "## Bar Plots\n",
    "\n",
    "Let's create a bar plot in `plotly` using the `s1.district` table. This plot will visualize the count of each `region` in the data set.\n",
    "\n",
    "First, let's query the count of each region in SQL."
   ]
  },
  {
   "cell_type": "code",
   "execution_count": null,
   "id": "5a6f3bd5",
   "metadata": {},
   "outputs": [],
   "source": [
    "%%sql --save region_count\n",
    "SELECT region, COUNT(*) as count\n",
    "FROM s1.district\n",
    "GROUP BY region\n",
    "ORDER BY count DESC"
   ]
  },
  {
   "cell_type": "markdown",
   "id": "3a0b0676",
   "metadata": {},
   "source": [
    "Then, let's save the CTE as a Pandas DataFrame."
   ]
  },
  {
   "cell_type": "code",
   "execution_count": null,
   "id": "c8870a7f",
   "metadata": {},
   "outputs": [],
   "source": [
    "query = %sql SELECT * FROM region_count\n",
    "region_count_df = query.DataFrame()\n",
    "region_count_df"
   ]
  },
  {
   "cell_type": "markdown",
   "id": "7f14669f",
   "metadata": {},
   "source": [
    "We can now plot the count of each `region` with this Pandas DataFrame."
   ]
  },
  {
   "cell_type": "code",
   "execution_count": null,
   "id": "13d0bbbf",
   "metadata": {},
   "outputs": [],
   "source": [
    "fig = px.bar(\n",
    "    region_count_df,\n",
    "    x=\"region\",\n",
    "    y=\"count\",\n",
    "    title=\"Region Count\",\n",
    "    color_discrete_sequence=[\"#7d26cd\"],\n",
    ")\n",
    "fig.show()"
   ]
  },
  {
   "cell_type": "markdown",
   "id": "b16f5b69",
   "metadata": {},
   "source": [
    "Notice how the `plotly` outputs a plot that looks noticeably different than `matplotlib` or `seaborn` outputs. Try interacting around with the plot by hovering, zooming, and panning! Double click the plot to autoscale the plot.\n",
    "\n",
    "There are three core arguments that are applied above: the Pandas DataFrame, the x variable, and the y variable. We also set the title and color of the bars to purple by providing the `title` and `color_discrete_sequence` arguments with values.\n",
    "\n",
    "### Question 1 (Hard):\n",
    "\n",
    "Your boss wants you to create a bar plot showing the average loan amount for each region. Your boss also specified that they want to you to also incorporate the average salary of each region as well.\n",
    "\n",
    "<b>Hint</b>: The `color` variable that you learned in the `seaborn` section is also usable in `plotly`. You will also most likely have to use a CTE to solve this question.\n",
    "\n",
    "<!-- #region -->\n",
    "<details>\n",
    "\n",
    "<summary>Answers</summary>\n",
    "\n",
    "We first need to join the `s1.district`, `s1.loan`, and `s1.account` tables in order to have the necessary information to solve this problem."
   ]
  },
  {
   "cell_type": "code",
   "execution_count": null,
   "id": "0cab6567",
   "metadata": {},
   "outputs": [],
   "source": [
    "%%sql --save average_loan_per_district\n",
    "SELECT d.district_id,\n",
    "       d.region,\n",
    "       d.average_salary,\n",
    "       ROUND(AVG(l.amount),2) AS avg_loan_amount\n",
    "FROM s1.district d\n",
    "JOIN s1.account a \n",
    "     ON d.district_id = a.district_id\n",
    "JOIN s1.loan l \n",
    "     ON a.account_id = l.account_id\n",
    "GROUP BY d.district_id,\n",
    "         d.region, \n",
    "         d.average_salary\n",
    "ORDER BY avg_loan_amount DESC"
   ]
  },
  {
   "cell_type": "markdown",
   "id": "bd0c3762",
   "metadata": {},
   "source": [
    "This resulting CTE give us the average salary of each district. This is because `district_id` was the primary key for the `s1.district` table. However, we are now able to `GROUP BY` each `region` and average the averages for the desired output."
   ]
  },
  {
   "cell_type": "code",
   "execution_count": null,
   "id": "5590ed04",
   "metadata": {},
   "outputs": [],
   "source": [
    "%%sql --save average_loan_per_region\n",
    "SELECT region, ROUND(AVG(average_salary),2) AS average_salary, \n",
    "       ROUND(AVG(avg_loan_amount),2) AS average_loan_amount\n",
    "FROM average_loan_per_district\n",
    "GROUP BY region"
   ]
  },
  {
   "cell_type": "markdown",
   "id": "9d19eb1d",
   "metadata": {},
   "source": [
    "Now, convert the `average_loan_per_region` table to a Pandas DataFrame."
   ]
  },
  {
   "cell_type": "code",
   "execution_count": null,
   "id": "41e8428f",
   "metadata": {},
   "outputs": [],
   "source": [
    "average_loan_per_region = %sql SELECT * FROM average_loan_per_region\n",
    "avg_loans_df = average_loan_per_region.DataFrame()\n",
    "avg_loans_df"
   ]
  },
  {
   "cell_type": "markdown",
   "id": "2bc73394",
   "metadata": {},
   "source": [
    "And finally output the bar plot with `plotly`."
   ]
  },
  {
   "cell_type": "code",
   "execution_count": null,
   "id": "ccd7404e",
   "metadata": {},
   "outputs": [],
   "source": [
    "fig = px.bar(\n",
    "    avg_loans_df,\n",
    "    x=\"region\",\n",
    "    y=\"average_loan_amount\",\n",
    "    color=\"average_salary\",\n",
    "    labels={\n",
    "        \"total_loan_amount\": \"Total Loan Amount\",\n",
    "        \"district_name\": \"District Name\",\n",
    "        \"average_salary\": \"Average Salary\",\n",
    "    },\n",
    "    title=\"Total Loan Amount by District with Average Salary color scale\",\n",
    ")\n",
    "\n",
    "fig.show()"
   ]
  },
  {
   "cell_type": "markdown",
   "id": "4720e0bc",
   "metadata": {},
   "source": [
    "</details>\n",
    "<!-- #endregion -->\n",
    "\n",
    "## Scatter Plots\n",
    "\n",
    "Let's now demonstrate a scatter plot in `plotly` by also using the `s1.district` table. This plot will visualize the relationship between the `average_salary` of a district with the unemployment rate in 1996. The plot also provides another dimension of visualization by incorporating the `ratio_of_urban_inhabitants` variable in size and color.\n",
    "\n",
    "First, let's load our data into a Pandas DataFrame."
   ]
  },
  {
   "cell_type": "code",
   "execution_count": null,
   "id": "4a5a84db",
   "metadata": {},
   "outputs": [],
   "source": [
    "district = %sql SELECT * FROM s1.district\n",
    "district_df = district.DataFrame()"
   ]
  },
  {
   "cell_type": "markdown",
   "id": "2b9e33ef",
   "metadata": {},
   "source": [
    "We can now plot the Pandas DataFrame using `plotly`."
   ]
  },
  {
   "cell_type": "code",
   "execution_count": null,
   "id": "3bca3980",
   "metadata": {},
   "outputs": [],
   "source": [
    "fig = px.scatter(\n",
    "    district_df,\n",
    "    x=\"no_of_inhabitants\",\n",
    "    y=\"no_of_cities\",\n",
    "    color=\"ratio_of_urban_inhabitants\",\n",
    "    size=\"ratio_of_urban_inhabitants\",\n",
    "    labels={\n",
    "        \"no_of_cities\": \"Number of Cities\",\n",
    "        \"no_of_inhabitants\": \"Number of Inhabitants\",\n",
    "    },\n",
    "    title=\"Number of Cities by Number of Inhabitants\",\n",
    "    color_continuous_scale=\"Viridis\",\n",
    ")\n",
    "fig.show()"
   ]
  },
  {
   "cell_type": "markdown",
   "id": "abd2dfe4",
   "metadata": {},
   "source": [
    "Here we renamed the axis titles with the `labels` argument and changed the color scale with the `color_continuous_scale` argument to make the plot more visually appealing. \n",
    "\n",
    "### Question 2 (Medium):\n",
    "\n",
    "Your boss didn't quite like the bar plot you've made. They've asked you to now instead create an interactive scatter plot showing the relationship between the `average_loan_amount` and `average_salary` by district.\n",
    "\n",
    "<b>Hint</b>: Is there a way to reuse our work from question 1?\n",
    "\n",
    "<!-- #region -->\n",
    "<details>\n",
    "\n",
    "<summary>Answers</summary>\n",
    "\n",
    "We can reuse the `average_loan_per_district` table we created with CTEs from the last question."
   ]
  },
  {
   "cell_type": "code",
   "execution_count": null,
   "id": "ca3efa62",
   "metadata": {},
   "outputs": [],
   "source": [
    "df = %sql SELECT * FROM average_loan_per_district\n",
    "avg_loans_df = df.DataFrame()\n",
    "avg_loans_df"
   ]
  },
  {
   "cell_type": "code",
   "execution_count": null,
   "id": "05118506",
   "metadata": {},
   "outputs": [],
   "source": [
    "fig = px.scatter(\n",
    "    avg_loans_df,\n",
    "    x=\"average_salary\",\n",
    "    y=\"avg_loan_amount\",\n",
    "    title=\"Average Loan Amount vs Average Salary per District\",\n",
    ")\n",
    "fig.show()"
   ]
  },
  {
   "cell_type": "markdown",
   "id": "99e10ad9",
   "metadata": {},
   "source": [
    "</details>\n",
    "<!-- #endregion -->\n",
    "\n",
    "## Histograms\n",
    "\n",
    "Histograms are similar to bar plots. The only difference is that the x-axis should be a numerical feature rather than a categorical one. We demonstrate a `plotly` histogram below."
   ]
  },
  {
   "cell_type": "code",
   "execution_count": null,
   "id": "6afd6347",
   "metadata": {},
   "outputs": [],
   "source": [
    "loans = %sql SELECT amount FROM s1.loan\n",
    "loans_df = loans.DataFrame()\n",
    "loans_df"
   ]
  },
  {
   "cell_type": "code",
   "execution_count": null,
   "id": "34f3f94f",
   "metadata": {},
   "outputs": [],
   "source": [
    "fig = px.histogram(loans_df, x=\"amount\", nbins=20, title=\"Loan Amounts\")\n",
    "fig.show()"
   ]
  },
  {
   "cell_type": "markdown",
   "id": "eba6274d",
   "metadata": {},
   "source": [
    "Above we use a histogram to visualize the distribution of loan amounts. Try adjusting the `nbins` argument to see how it influences the plot.\n",
    "\n",
    "### Question 3 (Easy):\n",
    "\n",
    "A colleague asks you for a visualization of the distribution of loan amounts for loans with an 'A' or 'D' status.\n",
    "\n",
    "<!-- #region -->\n",
    "<details>\n",
    "\n",
    "<summary>Answers</summary>\n",
    "\n",
    "Try clicking the boxes next to \"A\" and \"D\" under the \"status\" legend symbol to see a useful `plotly` feature."
   ]
  },
  {
   "cell_type": "code",
   "execution_count": null,
   "id": "a7ccedff",
   "metadata": {},
   "outputs": [],
   "source": [
    "%%sql --save loan_status\n",
    "SELECT *\n",
    "FROM s1.loan\n",
    "WHERE status = 'A' or status = 'D'"
   ]
  },
  {
   "cell_type": "code",
   "execution_count": null,
   "id": "e62ec7de",
   "metadata": {},
   "outputs": [],
   "source": [
    "loan_status_table = %sql SELECT * FROM loan_status\n",
    "loan_status_df = loan_status_table.DataFrame()\n",
    "loan_status_df"
   ]
  },
  {
   "cell_type": "code",
   "execution_count": null,
   "id": "a51919bd",
   "metadata": {},
   "outputs": [],
   "source": [
    "fig = px.histogram(\n",
    "    loan_status_df,\n",
    "    x=\"amount\",\n",
    "    color=\"status\",\n",
    "    nbins=25,\n",
    "    title=\"'A' and 'D' Loan Amounts\",\n",
    ")\n",
    "fig.show()"
   ]
  },
  {
   "cell_type": "markdown",
   "id": "62b4fb68",
   "metadata": {},
   "source": [
    "</details>\n",
    "<!-- #endregion -->\n",
    "\n",
    "\n",
    "## Box and Whiskers\n",
    "\n",
    "When you interact with `Plotly` box plots by hovering over them, they provide a wealth of information. For example, take a look of this box plot displaying the distribution of a loan's `amount` with each distinct loan `status`."
   ]
  },
  {
   "cell_type": "code",
   "execution_count": null,
   "id": "fdd55ad1",
   "metadata": {},
   "outputs": [],
   "source": [
    "loans = %sql SELECT * FROM s1.loan\n",
    "loans_df = loans.DataFrame()\n",
    "\n",
    "category_order = [\"A\", \"B\", \"C\", \"D\"]\n",
    "\n",
    "fig = px.box(\n",
    "    loans_df,\n",
    "    x=\"status\",\n",
    "    y=\"amount\",\n",
    "    color=\"status\",\n",
    "    category_orders={\"status\": category_order},\n",
    "    title=\"Distribution of Loan Status By Amount\",\n",
    ")\n",
    "\n",
    "fig.show()"
   ]
  },
  {
   "cell_type": "markdown",
   "id": "3f607240",
   "metadata": {},
   "source": [
    "The `category_orders` argument is just to have the boxes be in alphabetical order.\n",
    "\n",
    "Hovering over each box plot displays additional information on the respective loan status. You can also check and uncheck the boxes under the \"status\" legend to adjust the plot.\n",
    "\n",
    "### Question 4 (Easy):\n",
    "\n",
    "A colleague asks you for a box plot displaying the relationship of loan duration by loan status.\n",
    "\n",
    "<!-- #region -->\n",
    "<details>\n",
    "\n",
    "<summary>Answers</summary>"
   ]
  },
  {
   "cell_type": "code",
   "execution_count": null,
   "id": "b0e8c2e3",
   "metadata": {},
   "outputs": [],
   "source": [
    "%%sql --save loan_duration\n",
    "SELECT\n",
    "    l.status,\n",
    "    l.duration AS loan_duration\n",
    "FROM\n",
    "    s1.loan l"
   ]
  },
  {
   "cell_type": "code",
   "execution_count": null,
   "id": "0f04f676",
   "metadata": {},
   "outputs": [],
   "source": [
    "loan_duration = %sql SELECT * FROM loan_duration\n",
    "loan_duration_df = loan_duration.DataFrame()"
   ]
  },
  {
   "cell_type": "code",
   "execution_count": null,
   "id": "54c0f76d",
   "metadata": {},
   "outputs": [],
   "source": [
    "category_order = [\"A\", \"B\", \"C\", \"D\"]\n",
    "\n",
    "\n",
    "fig = px.box(\n",
    "    loan_duration_df,\n",
    "    x=\"status\",\n",
    "    y=\"loan_duration\",\n",
    "    color=\"status\",\n",
    "    category_orders={\"status\": category_order},\n",
    "    labels={\"status\": \"Loan Status\", \"loan_duration\": \"Loan Duration\"},\n",
    "    title=\"Distribution of Loan Durations by Loan Status\",\n",
    ")\n",
    "\n",
    "fig.show()"
   ]
  },
  {
   "cell_type": "markdown",
   "id": "4148055c",
   "metadata": {},
   "source": [
    "</details>\n",
    "<!-- #endregion -->\n",
    "\n",
    "## Wrapping Up\n",
    "\n",
    "In this section, you learned how to create interactive displays with `plotly`. The syntax for `seaborn` and `plotly` is quite similar, allowing for a seamless transition between the two libraries.\n",
    "\n",
    "In the next section, you'll learn how to visualize your SQL queries with `ggplot`!\n",
    "\n",
    "## References\n",
    "\n",
    "Plotly 5.15.0 documentation https://plotly.com/python/"
   ]
  }
 ],
 "metadata": {
  "kernelspec": {
   "display_name": "Python 3 (ipykernel)",
   "language": "python",
   "name": "python3"
  }
 },
 "nbformat": 4,
 "nbformat_minor": 5
}
