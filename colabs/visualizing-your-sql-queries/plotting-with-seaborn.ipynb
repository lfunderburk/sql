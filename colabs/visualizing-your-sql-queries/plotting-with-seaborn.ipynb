{
 "cells": [
  {
   "cell_type": "markdown",
   "id": "41cc9906",
   "metadata": {},
   "source": [
    "# Plotting with `seaborn`\n",
    "\n",
    "Seaborn is a library for making statistical graphics in Python. It builds on top of matplotlib and integrates closely with `pandas` data structures. It provides a high-level interface for drawing attractive and informative statistical graphics.\n",
    "\n",
    "The plotting functions operate on dataframes and arrays containing whole datasets. Internally, they perform the necessary semantic mapping and statistical aggregation to produce informative plots.\n",
    "\n",
    "Its dataset-oriented, declarative API lets you focus on what the different elements of your plots mean, rather than on the details of how to draw them.\n",
    "\n",
    "For more see: https://seaborn.pydata.org/\n",
    "\n",
    "## Install and Load Libraries\n",
    "\n",
    "```{important}\n",
    "<b>Note:</b> The `--save` and `%sqlcmd` features used require the latest JupySQL version. Ensure you run the code below to update JupySQL.\n",
    "```\n",
    "\n",
    "This code installs JupySQL, DuckDB, and Pandas in your environment. We will be using these moving forward."
   ]
  },
  {
   "cell_type": "code",
   "execution_count": null,
   "id": "d779aa9d",
   "metadata": {},
   "outputs": [],
   "source": [
    "%pip install jupysql --upgrade duckdb-engine pandas seaborn --quiet"
   ]
  },
  {
   "cell_type": "markdown",
   "id": "415e1824",
   "metadata": {},
   "source": [
    "Finally, we load in the libraries we will be using in this tutorial."
   ]
  },
  {
   "cell_type": "code",
   "execution_count": null,
   "id": "e5f5034b",
   "metadata": {},
   "outputs": [],
   "source": [
    "import sys\n",
    "import seaborn as sns\n",
    "import matplotlib.pyplot as plt"
   ]
  },
  {
   "cell_type": "markdown",
   "id": "2365e0f2",
   "metadata": {},
   "source": [
    "## Load the data\n",
    "\n",
    "```{important}\n",
    "<b>Note:</b> If you are following these lessons locally and <b>not</b> on Google Colab, then there is no need to load the data again.\n",
    "```\n",
    "\n",
    "This section was covered in detail in the previous tutorial: [Joining Data in SQL](https://ploomber-sql.readthedocs.io/en/latest/intro-to-sql/joining-data-in-sql.html#load-the-data). We will be using the same data in this tutorial as well."
   ]
  },
  {
   "cell_type": "code",
   "execution_count": null,
   "id": "efddea99",
   "metadata": {},
   "outputs": [],
   "source": [
    "# If you are running this from Google Colab\n",
    "!wget https://raw.githubusercontent.com/ploomber/sql/main/banking.py # noqa E402\""
   ]
  },
  {
   "cell_type": "code",
   "execution_count": null,
   "id": "5c6000d1",
   "metadata": {},
   "outputs": [],
   "source": [
    "sys.path.insert(0, \"../../\")\n",
    "import banking  # noqa: E402\n",
    "\n",
    "_ = banking.MarketData(\"https://tinyurl.com/jb-bank-m\", \"expanded_data\")\n",
    "_.extract_asc_to_csv()"
   ]
  },
  {
   "cell_type": "markdown",
   "id": "26c3ac4a",
   "metadata": {},
   "source": [
    "If you run the above cell, you should have a folder `expanded_data` in your current directory that contains the `.csv` files we will be using. In this tutorial, we will be focusing on three of these files: `loan.csv`, `account.csv`, `district.csv`.\n",
    "\n",
    "## Load Engine\n",
    "\n",
    "We now load in our SQL extension that allows us to execute SQL queries in Jupyter Notebooks.\n",
    "\n",
    "```{important}\n",
    "<b>Note</b> Ensure you restart any previous notebook that has the same database name as the one initialized below.\n",
    "```"
   ]
  },
  {
   "cell_type": "code",
   "execution_count": null,
   "id": "4ffd26bd",
   "metadata": {},
   "outputs": [],
   "source": [
    "# Loading in SQL extension\n",
    "%reload_ext sql\n",
    "# Initiating a DuckDB database named 'bank_data.duck.db' to run SQL queries\n",
    "%sql duckdb:///bank_data.duck.db"
   ]
  },
  {
   "cell_type": "markdown",
   "id": "ec74fdcb",
   "metadata": {},
   "source": [
    "<!-- endregion -->\n",
    "\n",
    "## Creating Tables\n",
    "\n",
    "Let's start off with loading three of the eight `.csv` files from the `expanded_data` folder in the current directory to our newly created DuckDB database. Like in the previous tutorial, we will [create a schema](https://ploomber-sql.readthedocs.io/en/latest/intro-to-sql/joining-data-in-sql.html#creating-a-schema) `s1` in which we will store the tables. Here we use the `CREATE TABLE` syntax in DuckDB to ingest four of the eight `.csv` files. The `read_csv_auto` is a function that helps SQL understand our local `.csv` file for creation into our database."
   ]
  },
  {
   "cell_type": "code",
   "execution_count": null,
   "id": "1d4ac0ec",
   "metadata": {},
   "outputs": [],
   "source": [
    "%%sql\n",
    "CREATE SCHEMA s1;\n",
    "CREATE TABLE s1.account AS\n",
    "FROM read_csv_auto('expanded_data/account.csv', header=True, sep=',');\n",
    "CREATE TABLE s1.district AS\n",
    "FROM read_csv_auto('expanded_data/district.csv', header=True, sep=',');\n",
    "CREATE TABLE s1.loan AS\n",
    "FROM read_csv_auto('expanded_data/loan.csv', header=True, sep=',');"
   ]
  },
  {
   "cell_type": "markdown",
   "id": "3202a150",
   "metadata": {},
   "source": [
    "The code above will create three tables in the database schema: `s1.account`, `s1.district`, `s1.loan`.\n",
    "\n",
    "## Exploring the data\n",
    "\n",
    "Let's take a look at its entries."
   ]
  },
  {
   "cell_type": "code",
   "execution_count": null,
   "id": "edbe7d7d",
   "metadata": {},
   "outputs": [],
   "source": [
    "%sqlcmd explore --table s1.account"
   ]
  },
  {
   "cell_type": "code",
   "execution_count": null,
   "id": "527a970b",
   "metadata": {},
   "outputs": [],
   "source": [
    "%sqlcmd explore --table s1.district"
   ]
  },
  {
   "cell_type": "code",
   "execution_count": null,
   "id": "53a9ca8f",
   "metadata": {},
   "outputs": [],
   "source": [
    "%sqlcmd explore --table s1.loan"
   ]
  },
  {
   "cell_type": "markdown",
   "id": "d04768a7",
   "metadata": {},
   "source": [
    "## Matplotlib inheritance\n",
    "\n",
    "Seaborn is built on top of Matplotlib. Therefore, depending on the seaborn plotting command, it will return either a Matplotlib axes or figure object. If the plotting function is axes-level, a single `matplotlib.pyplot.Axes` object is returned. This object accepts an `ax=` argument, which integrates with Matplotlib's <b>object-oriented interface</b> and allows composing plots with other plots. On the other hand, if the plotting function is figure-level, a `FacetGrid` object is returned. This object, unlike the axes-level object, is more standalone, but \"smart\" about subplot organization. To learn about these objects in greater detail, visit seaborn's website [here](https://seaborn.pydata.org/tutorial/function_overview.html#figure-level-vs-axes-level-functions).\n",
    "\n",
    "A few examples denoting this distinction are shown below.\n",
    "\n",
    "### Axes-level\n",
    "\n",
    "Suppose we want to identify whether gentrification increases the average salary of two regions, using the data we downloaded above. We first save our [CTE (Common Table Expression)](https://ploomber-sql.readthedocs.io/en/latest/advanced-querying-techniques/ctes) named `levels_example` that takes in the columns, `average_salary`, `ratio_of_urban_inhabitants`, and `region`, and filters for two regions, 'central Bohemia' and 'east Bohemia', from the `s1.district` table."
   ]
  },
  {
   "cell_type": "code",
   "execution_count": null,
   "id": "ce59e956",
   "metadata": {},
   "outputs": [],
   "source": [
    "%%sql --save levels_example\n",
    "SELECT average_salary, ratio_of_urban_inhabitants, region\n",
    "FROM s1.district\n",
    "WHERE region IN ('central Bohemia', 'east Bohemia');"
   ]
  },
  {
   "cell_type": "markdown",
   "id": "e90481ba",
   "metadata": {},
   "source": [
    "The result of the CTE is saved as a pandas `DataFrame()`:"
   ]
  },
  {
   "cell_type": "code",
   "execution_count": null,
   "id": "c184a762",
   "metadata": {},
   "outputs": [],
   "source": [
    "result = %sql SELECT * FROM levels_example\n",
    "df = result.DataFrame()"
   ]
  },
  {
   "cell_type": "markdown",
   "id": "7379b9e6",
   "metadata": {},
   "source": [
    "You can determine what is returned using Python's `type()` function:"
   ]
  },
  {
   "cell_type": "code",
   "execution_count": null,
   "id": "ae5a8843",
   "metadata": {},
   "outputs": [],
   "source": [
    "plt.rcParams[\"figure.dpi\"] = 300  # high resolution\n",
    "\n",
    "scatter_plt = sns.scatterplot(\n",
    "    data=df, x=\"ratio_of_urban_inhabitants\", y=\"average_salary\", hue=\"region\"\n",
    ")\n",
    "print(type(scatter_plt))\n",
    "plt.show()"
   ]
  },
  {
   "cell_type": "markdown",
   "id": "a857463c",
   "metadata": {},
   "source": [
    "Notice that the `sns.scatterplot()` function returns a Matplotlib `Axes` object, a single plot that is inclusive of the data from both regions. Other seaborn functions, including `regplot`, `boxplot`, `kdeplot`, and many others, also return Matplotlib `Axes` objects. Therefore, we can use various Matplotlib axes [commands](https://seaborn.pydata.org/generated/seaborn.axes_style.html) to modify the Seaborn figure.\n",
    "\n",
    "### Figure-level\n",
    "\n",
    "On the other hand, we can show that `sns.relplot()` returns a `FacetGrid` object, creating separate plots for the regions:"
   ]
  },
  {
   "cell_type": "code",
   "execution_count": null,
   "id": "b9a0d702",
   "metadata": {},
   "outputs": [],
   "source": [
    "facet_plt = sns.relplot(\n",
    "    data=df, x=\"ratio_of_urban_inhabitants\", y=\"average_salary\", col=\"region\"\n",
    ")\n",
    "print(type(facet_plt))\n",
    "plt.show()"
   ]
  },
  {
   "cell_type": "markdown",
   "id": "9ebe018d",
   "metadata": {},
   "source": [
    "Other figure-level seaborn functions include `catplot`, `displot`, `pairplot`, and `jointplot`.\n",
    "\n",
    "```{important}\n",
    "The legends are placed outside the plot if a Figure-level plotting function is used. See scatterplot section below.\n",
    "```\n",
    "\n",
    "Let's now jump into one of the most simple, yet essential, data visualizations: the bar plot.\n",
    "\n",
    "## Barplots\n",
    "\n",
    "The most basic [`seaborn.barplot()`](https://seaborn.pydata.org/generated/seaborn.barplot.html) function takes a categorical and a numeric variable as <b>encodings</b>. A second layer of grouping, preferably with another categorical variable, can be added to the `hue` argument.\n",
    "\n",
    "### Example\n",
    "\n",
    "Suppose the marketing manager wants to see a visualization for the number of <b>unique</b> loan ID's associated with each status of paying off the loan. To tackle this question, we will, first, create a CTE from the `s1.loan` table and obtain the counts for each status in different columns:"
   ]
  },
  {
   "cell_type": "code",
   "execution_count": null,
   "id": "36271a0e",
   "metadata": {},
   "outputs": [],
   "source": [
    "%%sql --save bar_plot_example\n",
    "SELECT DISTINCT status, COUNT(loan_id) AS count_loan_id\n",
    "FROM s1.loan\n",
    "GROUP BY status\n",
    "ORDER BY status;"
   ]
  },
  {
   "cell_type": "markdown",
   "id": "c67eb9ea",
   "metadata": {},
   "source": [
    "Save the CTE as a pandas `DataFrame()`:"
   ]
  },
  {
   "cell_type": "code",
   "execution_count": null,
   "id": "4ae849e5",
   "metadata": {},
   "outputs": [],
   "source": [
    "result = %sql SELECT * FROM bar_plot_example\n",
    "df = result.DataFrame()"
   ]
  },
  {
   "cell_type": "markdown",
   "id": "7eace185",
   "metadata": {},
   "source": [
    "Finally, use `seaborn.barplot()` to produce a bar plot:"
   ]
  },
  {
   "cell_type": "code",
   "execution_count": null,
   "id": "8d70aeeb",
   "metadata": {},
   "outputs": [],
   "source": [
    "plt.figure(figsize=(15, 5), dpi=300)  # Initialize blank canvas\n",
    "sns.barplot(data=df, x=\"status\", y=\"count_loan_id\")\n",
    "plt.xlabel(\"Status of Paying off Loan\")\n",
    "plt.ylabel(\"Count\")\n",
    "plt.title(\"Count of Loan ID's by Loan Status\")\n",
    "plt.show()"
   ]
  },
  {
   "cell_type": "markdown",
   "id": "e5c76135",
   "metadata": {},
   "source": [
    "### Question 1 (Medium)\n",
    "\n",
    "The marketing manager now wants you to provide the same information as the example above, but with an added grouping of the frequency of issuance of statements, which corresponds to the `frequency` variable in the `s1.account` table. Create a grouped bar plot with  clear axes labels, axes tick marks, title, and legend.\n",
    "\n",
    "<b>Hint</b> Since the `frequency` variable is not in `s1.loan`, think of which SQL operation you can employ to combine both tables. Moreover, the `s1.loan` is a subset of the `s1.account` so use the appropriate technique that provides all rows from `s1.account`.\n",
    "\n",
    "<!-- #region -->\n",
    "<details>\n",
    "<summary>Answers</summary>\n",
    "\n",
    "We start off by creating a CTE from both the `s1.loan` and `s1.account` table with the help of a `LEFT JOIN` on `account_id`. The reason for choosing this join is because all `account_id`'s in `s1.loan` are present in `s1.account`, so we obtain all accounts in the database. Next, because we also want counts by `frequency`, we add it to the `GROUP BY` clause and ensure we pass `DISTINCT` in the `SELECT` clause:"
   ]
  },
  {
   "cell_type": "code",
   "execution_count": null,
   "id": "e0839338",
   "metadata": {},
   "outputs": [],
   "source": [
    "%%sql --save bar_plot_question\n",
    "SELECT DISTINCT status, frequency, COUNT(loan_id) AS count_loan_id\n",
    "FROM s1.account\n",
    "LEFT JOIN s1.loan\n",
    "    ON s1.account.account_id = s1.loan.account_id\n",
    "GROUP BY status, frequency\n",
    "ORDER BY status;"
   ]
  },
  {
   "cell_type": "markdown",
   "id": "44961278",
   "metadata": {},
   "source": [
    "Save the CTE as a pandas `DataFrame()`:"
   ]
  },
  {
   "cell_type": "code",
   "execution_count": null,
   "id": "c67db12a",
   "metadata": {},
   "outputs": [],
   "source": [
    "result = %sql SELECT * FROM bar_plot_question\n",
    "df = result.DataFrame()"
   ]
  },
  {
   "cell_type": "markdown",
   "id": "f6c90407",
   "metadata": {},
   "source": [
    "Finally, use `seaborn.barplot()`, this time with the `hue` argument, to produce a <b>grouped bar plot</b>:"
   ]
  },
  {
   "cell_type": "code",
   "execution_count": null,
   "id": "4bf3f725",
   "metadata": {},
   "outputs": [],
   "source": [
    "plt.figure(figsize=(15, 5), dpi=300)  # Initialize blank canvas\n",
    "sns.barplot(data=df, x=\"status\", y=\"count_loan_id\", hue=\"frequency\")\n",
    "plt.xlabel(\"Status of Paying off Loan\")\n",
    "plt.ylabel(\"Count\")\n",
    "plt.title(\"Count of Loan ID's by Loan Status and Freq. of Statement Issuance\")\n",
    "plt.show()"
   ]
  },
  {
   "cell_type": "markdown",
   "id": "09adac6a",
   "metadata": {},
   "source": [
    "</details>\n",
    "<!-- #endregion -->\n",
    "\n",
    "<!-- #region -->\n",
    "\n",
    "## Scatter plots\n",
    "\n",
    "Scatter plots help us analyze relationships between two numeric variables. In the [Matplotlib inheritance](https://ploomber-sql.readthedocs.io/en/latest/visualizing-your-sql-queries/plotting-with-seaborn.html#matplotlib-inheritance) section above, we saw examples of the `scatterplot` function, which create axes-level objects, to analyze the effect of `ratio_of_urban_inhabitants` on `average_salary` by `region`. Below, we will introduce a figure-level function `relplot`, along with some customizations, to create faceted scatter plots that help us easily visualize data from multiple tables and columns.\n",
    "\n",
    "### Example\n",
    "\n",
    "Let us travel back some decades for the purpose of this example! Suppose the local municipality wants to visually assess, using the bank data, their hypothesis that an increasing unemployment rate leads to clients opting for good-standing (status either \"A\" or \"C\"), short-term (<= 1 year) loans of lower amounts in the districts of south Moravia and north Moravia in the year 1996 by duration and status.\n",
    "\n",
    "Instead of not only creating multiple sub-scatterplots manually but also filtering the joined dataset multiple times, we can do this in one line using `relplot`! The encodings (`x` and `y`), semantics (`hue`, etc.), and facet positions (`row` and `col`) are the only arguments we have to worry about when creating the faceted figure. However, before doing so, we need to get the data in order by performing `LEFT JOIN` on all the three tables and filtering by `region`, `duration`, and `status`. We shall save this table in a CTE named"
   ]
  },
  {
   "cell_type": "code",
   "execution_count": null,
   "id": "7c34b0dc",
   "metadata": {},
   "outputs": [],
   "source": [
    "%%sql --save relplot_example\n",
    "SELECT status, duration, amount, region, unemployment_rate_96\n",
    "FROM s1.account AS a\n",
    "LEFT JOIN s1.loan AS l\n",
    "ON a.account_id = l.account_id\n",
    "LEFT JOIN s1.district AS d\n",
    "ON d.district_id = a.district_id\n",
    "WHERE region IN ('north Moravia', 'south Moravia') AND\n",
    "duration <= 24 AND status IN ('A', 'C');"
   ]
  },
  {
   "cell_type": "markdown",
   "id": "34b50df3",
   "metadata": {},
   "source": [
    "Like before, save the CTE as a pandas `DataFrame()`:"
   ]
  },
  {
   "cell_type": "code",
   "execution_count": null,
   "id": "ece0b2e6",
   "metadata": {},
   "outputs": [],
   "source": [
    "result = %sql SELECT * FROM relplot_example\n",
    "df = result.DataFrame()"
   ]
  },
  {
   "cell_type": "markdown",
   "id": "e4671759",
   "metadata": {},
   "source": [
    "In this `sns.relplot`, we we assign the `col` argument to the variable `region` and the `row` argument to the variable `status` that creates a faceted figure with multiple subplots arranged across both rows and columns of the grid:"
   ]
  },
  {
   "cell_type": "code",
   "execution_count": null,
   "id": "29a03712",
   "metadata": {},
   "outputs": [],
   "source": [
    "sns.relplot(\n",
    "    data=df,\n",
    "    x=\"unemployment_rate_96\",\n",
    "    y=\"amount\",\n",
    "    hue=\"duration\",\n",
    "    col=\"region\",\n",
    "    row=\"status\",\n",
    "    height=3,\n",
    "    aspect=1.5,\n",
    ")\n",
    "plt.show()"
   ]
  },
  {
   "cell_type": "markdown",
   "id": "38a1d7f8",
   "metadata": {},
   "source": [
    "This visualization should definitely help the local municipality obtain a first glance of their hypothesis! Upon eyeballing it, we do not see any apparent correlation of unemployment rate with the loan amount, but we can see that higher duration loans lead to higher amounts. Therefore, using faceted plots, we can accelerate our EDA process and focus on important relationships in the data.\n",
    "\n",
    "However, there are still some problems with this plot. The axes labels and legend title are not descriptive enough and the plot lacks a title. We can customize `FacetGrid` figures by using Matplotlib figure-level functions that affect all facets to reduce duplication of labels. See the functions below and consult the [`FacetGrid` documentation](https://seaborn.pydata.org/generated/seaborn.FacetGrid.html) and [Matplotlib documentation](https://matplotlib.org/stable/gallery/subplots_axes_and_figures/) to know more:"
   ]
  },
  {
   "cell_type": "code",
   "execution_count": null,
   "id": "5bf9b135",
   "metadata": {},
   "outputs": [],
   "source": [
    "g = sns.relplot(\n",
    "    data=df,\n",
    "    x=\"unemployment_rate_96\",\n",
    "    y=\"amount\",\n",
    "    hue=\"duration\",\n",
    "    col=\"region\",\n",
    "    row=\"status\",\n",
    "    facet_kws={\"margin_titles\": True},\n",
    "    height=4,\n",
    "    aspect=1,\n",
    ")\n",
    "\n",
    "g.set(xlabel=None, ylabel=None)  # remove duplicate x and y axis labels\n",
    "g.set_titles(  # facet titles\n",
    "    row_template=\"Status: {row_name}\", col_template=\"{col_name}\"\n",
    ")\n",
    "\n",
    "g._legend.set_title(\"Duration (months)\")\n",
    "g.legend.set_bbox_to_anchor((1.25, 0.5))  # Shift legend to the right\n",
    "\n",
    "g.fig.suptitle(  # main title of the figure\n",
    "    \"Unemployment Rate vs Loan Amount by Loan\", x=0.235, fontsize=12\n",
    ")\n",
    "g.fig.text(  # subtitle of the figure\n",
    "    0.235,\n",
    "    0.95,\n",
    "    \"Data subsetted on Region and Status\",\n",
    "    ha=\"right\",\n",
    "    va=\"top\",\n",
    "    fontsize=10,\n",
    ")\n",
    "\n",
    "g.fig.supylabel(\"Loan Amount ($)\")  # y-axis label for all facets\n",
    "g.fig.supxlabel(\"Unemployment Rate (%)\")  # x-axis label for all facets\n",
    "g.fig.subplots_adjust(top=0.9)  # adjust the Figure position\n",
    "\n",
    "plt.show(g)"
   ]
  },
  {
   "cell_type": "markdown",
   "id": "9dbdbcbd",
   "metadata": {},
   "source": [
    "If we wanted to access individual facets of the plot, we could use axes-level methods. For example, `g.axes[0,0].set_xlabel('axes label 1')` will set the x-axis label of the first quadrant facet and `g.axes[0,1].set_xlabel('axes label 2')` will set the x-axis label of the facet row-adjacent to the first quadrant facet and so on.\n",
    "\n",
    "Consult the previously linked docs and the [documentation](https://seaborn.pydata.org/generated/seaborn.relplot.html) of `relplot` to answer the question below!\n",
    "\n",
    "### Question 2 (Hard)\n",
    "\n",
    "Suppose that the local municipality now comes back to ask for a similar plot, but with all loan durations included. Their feedback on the previous graph was that they would only like to see two facets or subplots at max for readability. Your job is to modify the CTE from the above example to produce a `relplot` figure that incorporates the <b>same encodings</b> but <b>additional visual semantics</b>, including `style` for `region`, `size` for `duration`, and subplots by `status`. Make sure to use a blue-red color palette for the subplots and customize axes labels for clarity.\n",
    "\n",
    "<b>Hint</b> Try to find an example that does exactly what the question asks in the [documentation](https://seaborn.pydata.org/generated/seaborn.relplot.html)\n",
    "\n",
    "<!-- #region -->\n",
    "<details>\n",
    "\n",
    "<summary>Answers</summary>\n",
    "\n",
    "We first modify the `relplot_example` CTE by removing the filter for `duration`:"
   ]
  },
  {
   "cell_type": "code",
   "execution_count": null,
   "id": "5005a98f",
   "metadata": {},
   "outputs": [],
   "source": [
    "%%sql --save relplot_question\n",
    "SELECT status, duration, amount, region, unemployment_rate_96\n",
    "FROM s1.account AS a\n",
    "LEFT JOIN s1.loan AS l\n",
    "ON a.account_id = l.account_id\n",
    "LEFT JOIN s1.district AS d\n",
    "ON d.district_id = a.district_id\n",
    "WHERE region IN ('north Moravia', 'south Moravia') AND\n",
    "status IN ('A', 'C');"
   ]
  },
  {
   "cell_type": "markdown",
   "id": "82d27208",
   "metadata": {},
   "source": [
    "Save the CTE as a pandas `DataFrame()`:"
   ]
  },
  {
   "cell_type": "code",
   "execution_count": null,
   "id": "8a294768",
   "metadata": {},
   "outputs": [],
   "source": [
    "result = %sql SELECT * FROM relplot_question\n",
    "df = result.DataFrame()"
   ]
  },
  {
   "cell_type": "markdown",
   "id": "8aa2216d",
   "metadata": {},
   "source": [
    "Finally, `sns.relplot` is called and stored in a variable for customizing the x-axis label. Note that the `sizes` argument specifies magnitude of the point `size`, which is used to control the visibility of the points:"
   ]
  },
  {
   "cell_type": "code",
   "execution_count": null,
   "id": "4a9f5fa0",
   "metadata": {},
   "outputs": [],
   "source": [
    "g = sns.relplot(\n",
    "    data=df,\n",
    "    x=\"unemployment_rate_96\",\n",
    "    y=\"amount\",\n",
    "    size=\"duration\",\n",
    "    style=\"region\",\n",
    "    hue=\"status\",\n",
    "    col=\"status\",\n",
    "    palette=[\"b\", \"r\"],\n",
    "    sizes=(10, 100),\n",
    ")\n",
    "g.set(xlabel=None, ylabel=\"Loan Amount ($)\")  # remove duplicate x axis label\n",
    "g.fig.supxlabel(\"Unemployment Rate (%)\")  # x-axis label for whole figure\n",
    "plt.show(g)"
   ]
  },
  {
   "cell_type": "markdown",
   "id": "daac7f90",
   "metadata": {},
   "source": [
    "</details>\n",
    "<!-- #endregion -->\n",
    "\n",
    "## Density plots\n",
    "\n",
    "A kernel density estimate (KDE) plot is a method for visualizing the distribution of observations in a dataset, analogous to a histogram. KDE represents the data using a continuous probability density curve in one or more dimensions. Relative to a histogram, KDE can produce a plot that is less cluttered and more interpretable, especially when drawing multiple distributions.\n",
    "\n",
    "```{important}\n",
    "The bandwidth, or standard deviation of the smoothing kernel, is an important parameter. Misspecification of the bandwidth can produce a distorted representation of the data.\n",
    "```\n",
    "\n",
    "### Example\n",
    "\n",
    "Seaborn's [`kdeplot` <b>axes-level function</b>](https://seaborn.pydata.org/generated/seaborn.kdeplot.html) can help us easily visualize KDE's of multiple numeric variables. Its figure-level equivalent is the [`displot` function](https://seaborn.pydata.org/generated/seaborn.displot.html#seaborn.displot) with which we can produce KDE plots by specifying `kind=\"kde\"`.\n",
    "\n",
    "Suppose the finance manager wants a visual representation of two distributions, the loan `amount` by loan `status` and loan `amount` by loan `duration`. We can easily produce a `kdeplot` to not only draw multiple distributions in a single plot but also create axes subplots. Before this, we first produce a CTE with the two variables and save it as a pandas `DataFrame()`:"
   ]
  },
  {
   "cell_type": "code",
   "execution_count": null,
   "id": "1b6c6d2f",
   "metadata": {},
   "outputs": [],
   "source": [
    "%%sql --save kde_example\n",
    "SELECT amount, status, payments, duration\n",
    "FROM s1.loan\n",
    "ORDER BY status;"
   ]
  },
  {
   "cell_type": "code",
   "execution_count": null,
   "id": "9118b5d6",
   "metadata": {},
   "outputs": [],
   "source": [
    "result = %sql SELECT * FROM kde_example\n",
    "df = result.DataFrame()"
   ]
  },
  {
   "cell_type": "code",
   "execution_count": null,
   "id": "b72d7056",
   "metadata": {},
   "outputs": [],
   "source": [
    "plt.figure(figsize=(10, 3), dpi=300)  # Initialize blank canvas\n",
    "\n",
    "plt.subplot(1, 2, 1)  # first quadrant\n",
    "sns.kdeplot(data=df, x=\"amount\", hue=\"status\")\n",
    "plt.title(\"KDE of Loan Amount ($) by Loan Status\")  # Set title\n",
    "plt.xlabel(\"Loan Amount ($)\")  # Set x-axis label\n",
    "\n",
    "plt.subplot(1, 2, 2)  # second quadrant\n",
    "sns.kdeplot(data=df, x=\"amount\", hue=\"duration\")\n",
    "plt.title(\"KDE of Loan Amount ($) by Loan Duration (months)\")  # Set title\n",
    "plt.xlabel(\"Loan Amount ($)\")  # Set x-axis label\n",
    "plt.show()"
   ]
  },
  {
   "cell_type": "markdown",
   "id": "b5437ef7",
   "metadata": {},
   "source": [
    "### Question 3 (Easy)\n",
    "\n",
    "Similar to the way we customized our figure-level plots for the previous section, we can do the same for axes-level plots too! Your task is to remove the duplicate axes labels and rename the legend titles to provide a cleaner, publication-level visualization. For loan `duration`, provide the units in years rather than months.\n",
    "\n",
    "<b>Hint</b> Consult Matplotlib's axes class [documentation](https://matplotlib.org/stable/api/axes_api.html) to find the right functions!\n",
    "\n",
    "<!-- #region -->\n",
    "<details>\n",
    "\n",
    "<summary>Answers</summary>\n",
    "\n",
    "We do not need to make a new CTE and can jump straight into programming with seaborn. Since we are using the same plot as the example, copy pasting the code and building on top of it is a nice idea. Instead of using multiple `plt.subplot()` functions, we initialize the whole figure with `fig` and the individual axes, in this case only two (`ax1` and `ax2`), with `plt.subplots(1, 2, ...)`. The first and second plots are customized with their respective axes objects and the functions from `matplotlib.axes` class:"
   ]
  },
  {
   "cell_type": "code",
   "execution_count": null,
   "id": "f511048d",
   "metadata": {},
   "outputs": [],
   "source": [
    "fig, (ax1, ax2) = plt.subplots(1, 2, figsize=(12, 4), sharex=True, sharey=True)\n",
    "\n",
    "sns.kdeplot(data=df, x=\"amount\", hue=\"status\", ax=ax1)\n",
    "ax1.set_title(\"KDE of Loan Amount ($) by Loan Status\")\n",
    "ax1.set_xlabel(\"\")  # Remove x-axis label\n",
    "ax1.legend([\"A\", \"B\", \"C\", \"D\"], title=\"Loan Status\")\n",
    "\n",
    "sns.kdeplot(data=df, x=\"amount\", hue=\"duration\", ax=ax2)\n",
    "ax2.set_title(\"KDE of Loan Amount ($) by Loan Duration (years)\")\n",
    "ax2.set_xlabel(\"\")  # Remove x-axis label\n",
    "ax2.legend([\"1\", \"2\", \"3\", \"4\", \"5\"], title=\"Loan Duration (years)\")\n",
    "\n",
    "fig.supxlabel(\"Loan Amount ($)\")  # x-axis label for whole figure\n",
    "\n",
    "plt.show()"
   ]
  },
  {
   "cell_type": "markdown",
   "id": "236bc45c",
   "metadata": {},
   "source": [
    "</details>\n",
    "<!-- #endregion -->\n",
    "\n",
    "The plot above is cleaner, with less overplotting, and has the correct units across all labels. It is worth taking the extra time to produce good quality visualizations, especially for assignment or paper/conference submissions.\n",
    "\n",
    "## Box and whisker plot\n",
    "\n",
    "A box and whisker plot (box plot for short) displays the five-number summary of a set of data. The five-number summary is the minimum, first quartile, median, third quartile, and maximum. In a box plot, we draw a box from the first quartile (25th percentile) to the third quartile (75th percentile). A vertical line goes through the box at the median, which is also the 50th percentile.\n",
    "\n",
    "In seaborn, `boxplot` is an Axes-level function and has the same object-oriented functionality as the `kdeplot`. There are several visual variations of boxplots in seaborn, such as the `violinplot`, `swarmplot` or `stripplot`, and `boxenplot`. All of these functions are also at the axes-level.\n",
    "\n",
    "### Example\n",
    "\n",
    "Suppose the finance manager wants boxplots of the moving-average of loan `amount`, rounded to 0 decimals, for every three dates preceding and every two dates following the current date of a record. These amounts should be displayed with the the loan's `duration`. If we recall, we saw this example in the Advanced Aggregations [section](https://ploomber-sql.readthedocs.io/en/latest/advanced-querying-techniques/advanced-aggregations.html#question-2-hard).\n",
    "\n",
    "Let us create the CTE and turn it into a pandas `Dataframe()` first:"
   ]
  },
  {
   "cell_type": "code",
   "execution_count": null,
   "id": "d1241b6c",
   "metadata": {},
   "outputs": [],
   "source": [
    "%%sql --save boxplot_example\n",
    "SELECT date, duration, ROUND(avg_amount, 0) AS avg_amount\n",
    "FROM (SELECT date, duration, AVG(amount) OVER (ORDER BY date ROWS BETWEEN 3 PRECEDING AND 2 FOLLOWING) AS avg_amount FROM s1.loan)\n",
    "ORDER BY date;"
   ]
  },
  {
   "cell_type": "code",
   "execution_count": null,
   "id": "98e7ab78",
   "metadata": {},
   "outputs": [],
   "source": [
    "result = %sql SELECT * FROM boxplot_example\n",
    "df = result.DataFrame()"
   ]
  },
  {
   "cell_type": "code",
   "execution_count": null,
   "id": "7a2dcd2b",
   "metadata": {},
   "outputs": [],
   "source": [
    "plt.figure(figsize=(15, 5), dpi=300)  # Initialize blank canvas\n",
    "sns.boxplot(data=df, x=\"duration\", y=\"avg_amount\")\n",
    "plt.ylabel(\"Moving-Average Loan Amount ($)\")\n",
    "plt.xlabel(\"Loan Duration (months)\")\n",
    "plt.show()"
   ]
  },
  {
   "cell_type": "markdown",
   "id": "762e47eb",
   "metadata": {},
   "source": [
    "### Question 4 (Medium)\n",
    "\n",
    "The manager comes back and asks for another grouping layer, loan `status`, on top of the boxplot in the example. The idea should remain the same, but this time calculate the moving-average of loan `amount` for every five dates following the current date of a record. Also, output the loan `duration` in years rather than months and rename the legend title to \"Loan Status\".\n",
    "\n",
    "<b>Hint</b> Recall the clause used to group the data when using windowing queries. Also, use [`matplotlib.pyplot`](https://matplotlib.org/stable/api/pyplot_summary.html) functions to quickly and easily customize the plot.\n",
    "\n",
    "<!-- #region -->\n",
    "<details>\n",
    "\n",
    "<summary>Answers</summary>\n",
    "\n",
    "The additional clause in the CTE is `PARTITION BY`, which adds the additional grouping by `status`. The windowing frame is also changed to incorporate five rows ahead of the current row:"
   ]
  },
  {
   "cell_type": "code",
   "execution_count": null,
   "id": "1771a46e",
   "metadata": {},
   "outputs": [],
   "source": [
    "%%sql --save boxplot_question\n",
    "SELECT date, duration, status, ROUND(avg_amount, 0) AS avg_amount\n",
    "FROM (SELECT date, duration, status, AVG(amount) OVER (PARTITION BY status ORDER BY date ROWS BETWEEN CURRENT ROW AND 5 FOLLOWING) AS avg_amount FROM s1.loan)\n",
    "ORDER BY date;"
   ]
  },
  {
   "cell_type": "code",
   "execution_count": null,
   "id": "43719bb6",
   "metadata": {},
   "outputs": [],
   "source": [
    "result = %sql SELECT * FROM boxplot_question\n",
    "df = result.DataFrame()"
   ]
  },
  {
   "cell_type": "markdown",
   "id": "1cf35088",
   "metadata": {},
   "source": [
    "Unlike the previous section in which we employed the `matplotlib.axes` functions to customize the plot, we use the simpler `matplotlib.pyplot` functions because we have not faceted the boxplot:"
   ]
  },
  {
   "cell_type": "code",
   "execution_count": null,
   "id": "5acd728f",
   "metadata": {},
   "outputs": [],
   "source": [
    "plt.figure(figsize=(15, 5), dpi=300)  # Initialize blank canvas\n",
    "sns.boxplot(data=df, x=\"duration\", y=\"avg_amount\", hue=\"status\")\n",
    "plt.ylabel(\"Moving-Average Loan Amount ($)\")\n",
    "plt.xlabel(\"Loan Duration (years)\")\n",
    "plt.xticks([0, 1, 2, 3, 4], [\"1\", \"2\", \"3\", \"4\", \"5\"])\n",
    "plt.legend(title=\"Loan Status\")\n",
    "plt.show()"
   ]
  },
  {
   "cell_type": "markdown",
   "id": "eaea3e3c",
   "metadata": {},
   "source": [
    "</details>\n",
    "<!-- #endregion -->"
   ]
  },
  {
   "cell_type": "markdown",
   "id": "aedd071c",
   "metadata": {},
   "source": [
    "## Wrapping Up\n",
    "\n",
    "In this section, we learned about plotting four types of visualizations with seaborn. To summarize:\n",
    "\n",
    "- Axes-level functions plot onto a single subplot that may or may not exist at the time the function is called\n",
    "\n",
    "- Figure-level functions internally create a matplotlib figure, potentially including multiple subplots\n",
    "\n",
    "- `seaborn.barplot`, an axes-level function, should be used for visualizing count data\n",
    "\n",
    "- `seaborn.scatterplot`, an axes-level function, helps visualize correlations between two numeric variables, subsetted on categorical variables if needed. `seaborn.relplot` is a figure-level function that that combines `scatterplot`with a FacetGrid and can expedite the EDA process when combining multiple types of columns into a single visualization\n",
    "\n",
    "- `seaborn.kdeplot`, an axes-level function, creates a Kernel Density Estimate plot, analogous to a histogram. KDE represents the data using a continuous probability density curve in one or more dimensions. The function can also account for categorical levels. Its figure-level alternative is `seaborn.distplot`\n",
    "\n",
    "- `seaborn.boxplot` is useful for visualizing the summary distribution of numeric variables, grouped by none, one, or multiple catgeorical variables. Several variations of the boxplot are provided by seaborn\n",
    "\n",
    "In the next section, you will learn how to plot similar visualizations using the `plotly` python library.\n",
    "\n",
    "## References\n",
    "\n",
    "API reference - seaborn 0.12.2 documentation. (n.d.). https://seaborn.pydata.org/api.html\n",
    "\n",
    "API Reference - Matplotlib 3.7.1 documentation. (n.d.). https://matplotlib.org/stable/api/index"
   ]
  }
 ],
 "metadata": {
  "kernelspec": {
   "display_name": "Python 3 (ipykernel)",
   "language": "python",
   "name": "python3"
  }
 },
 "nbformat": 4,
 "nbformat_minor": 5
}
