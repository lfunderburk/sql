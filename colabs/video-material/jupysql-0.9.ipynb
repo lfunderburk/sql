{
 "cells": [
  {
   "cell_type": "markdown",
   "id": "50cb7b8a",
   "metadata": {
    "slideshow": {
     "slide_type": "slide"
    }
   },
   "source": [
    "<h2 align='center'>Download Data</h2>"
   ]
  },
  {
   "cell_type": "code",
   "execution_count": null,
   "id": "148d5db0",
   "metadata": {
    "slideshow": {
     "slide_type": "slide"
    }
   },
   "outputs": [],
   "source": [
    "import csv\n",
    "import urllib.request\n",
    "import zipfile\n",
    "import os\n",
    "from urllib.request import urlretrieve\n",
    "from zipfile import ZipFile\n",
    "import pandas as pd\n",
    "\n",
    "\n",
    "class BankingData:\n",
    "    def __init__(self, url, data_name):\n",
    "        self.url = url\n",
    "        self.data_name = data_name\n",
    "\n",
    "    def extract_to_csv(self):\n",
    "        # check if \"bank_data\" folder exists, if not, create it\n",
    "        if not os.path.exists(\"bank_data\"):\n",
    "            os.mkdir(\"bank_data\")\n",
    "        # Retrieve the zip file from the url link\n",
    "        file = os.path.basename(self.url)\n",
    "        urlretrieve(self.url, file)\n",
    "        # Extract the zip file's contents\n",
    "        with ZipFile(file, \"r\") as zf:\n",
    "            zf.extractall(\"bank_data\")\n",
    "        # The file containing our data\n",
    "        csv_file_name = f\"{self.data_name}.csv\"\n",
    "        # Data clean up\n",
    "        df = pd.read_csv(f\"bank_data/{csv_file_name}\", sep=\";\")\n",
    "        # Save the cleaned up CSV file\n",
    "        df.to_csv(df.to_csv(f\"{self.data_name}_cleaned.csv\", index=False))\n",
    "\n",
    "\n",
    "class MarketData:\n",
    "    def __init__(self, url, output_folder):\n",
    "        self.url = url\n",
    "        self.output_folder = output_folder\n",
    "\n",
    "    def extract_asc_to_csv(self):\n",
    "        \"\"\"\n",
    "        This function extracts the banking data provided from PKDD.\n",
    "        It downloads the ZIP file from the \"url\".\n",
    "        Then, it converts the .asc files to the .csv format.\n",
    "        The function outputs a folder with a name from output_folder.\n",
    "        This created folder will be in the current directory.\n",
    "\n",
    "        Args:\n",
    "            url (str): the URL containing the public data\n",
    "            output_folder (str): the name of the folder where\n",
    "            files will be stored\n",
    "        \"\"\"\n",
    "\n",
    "        # Columns to rename for district table\n",
    "        district_column_names = [\n",
    "            \"district_id\",\n",
    "            \"district_name\",\n",
    "            \"region\",\n",
    "            \"no_of_inhabitants\",\n",
    "            \"no_of_municipalities_lt_499\",\n",
    "            \"no_of_municipalities_500_1999\",\n",
    "            \"no_of_municipalities_2000_9999\",\n",
    "            \"no_of_municipalities_gt_10000\",\n",
    "            \"no_of_cities\",\n",
    "            \"ratio_of_urban_inhabitants\",\n",
    "            \"average_salary\",\n",
    "            \"unemployment_rate_95\",\n",
    "            \"unemployment_rate_96\",\n",
    "            \"no_of_entrepreneurs_per_1000_inhabitants\",\n",
    "            \"no_of_committed_crimes_95\",\n",
    "            \"no_of_committed_crimes_96\",\n",
    "        ]\n",
    "\n",
    "        # Download the ZIP file\n",
    "        zip_file_path, _ = urllib.request.urlretrieve(self.url)\n",
    "        # Extract the ZIP file\n",
    "        with zipfile.ZipFile(zip_file_path, \"r\") as zip_ref:\n",
    "            zip_ref.extractall(self.output_folder)\n",
    "        # Process ASC files and convert them to CSV\n",
    "        for file_name in zip_ref.namelist():\n",
    "            if file_name.endswith(\".asc\"):\n",
    "                asc_path = os.path.join(self.output_folder, file_name)\n",
    "                csv_file_name = file_name[:-4] + \".csv\"\n",
    "                csv_path = os.path.join(self.output_folder, csv_file_name)\n",
    "                with open(asc_path, \"r\") as asc_file, open(\n",
    "                    csv_path, \"w\", newline=\"\"\n",
    "                ) as csv_file:\n",
    "                    asc_reader = csv.reader(asc_file, delimiter=\";\")\n",
    "                    csv_writer = csv.writer(csv_file, delimiter=\",\")\n",
    "                    if file_name == \"district.asc\":\n",
    "                        next(asc_reader)\n",
    "                        new_header = district_column_names\n",
    "                        csv_writer.writerow(new_header)\n",
    "                        csv_writer.writerows(asc_reader)\n",
    "                    else:\n",
    "                        for row in asc_reader:\n",
    "                            csv_writer.writerow(row)\n",
    "                print(f\"Converted {asc_path} to CSV.\")\n",
    "        print(\"All ASC files converted to CSV.\")"
   ]
  },
  {
   "cell_type": "code",
   "execution_count": null,
   "id": "f5f7135e",
   "metadata": {
    "slideshow": {
     "slide_type": "fragment"
    }
   },
   "outputs": [],
   "source": [
    "\n",
    "_ = BankingData(\"https://tinyurl.com/jb-bank\", \"bank\")\n",
    "_.extract_to_csv()\n",
    "\n",
    "_ = MarketData(\"https://tinyurl.com/jb-bank-m\", \"expanded_data\")\n",
    "_.extract_asc_to_csv()"
   ]
  },
  {
   "cell_type": "markdown",
   "id": "95b296ff",
   "metadata": {
    "slideshow": {
     "slide_type": "slide"
    }
   },
   "source": [
    "<h2 align='center'>Install JupySQL</h2>"
   ]
  },
  {
   "cell_type": "code",
   "execution_count": null,
   "id": "e38a34af",
   "metadata": {
    "slideshow": {
     "slide_type": "fragment"
    }
   },
   "outputs": [],
   "source": [
    "!pip install jupysql==0.9.0 toml duckdb-engine --quiet"
   ]
  },
  {
   "cell_type": "markdown",
   "id": "ab91860e",
   "metadata": {
    "slideshow": {
     "slide_type": "slide"
    }
   },
   "source": [
    "<h2 align='center'>Create pyproject.toml file</h2>"
   ]
  },
  {
   "cell_type": "markdown",
   "id": "7b658c92",
   "metadata": {
    "slideshow": {
     "slide_type": "slide"
    }
   },
   "source": [
    "<h2 align='center'>Load Extension</h2>"
   ]
  },
  {
   "cell_type": "code",
   "execution_count": 19,
   "id": "240b925d",
   "metadata": {},
   "outputs": [],
   "source": [
    "import toml\n",
    "file=open(\"pyproject.toml\",\"w\")\n",
    "data_dict={\n",
    "    \"tool.jupysql.SqlMagic\".strip('\"').strip(\"'\"): {\n",
    "        \"displaycon\": False,\n",
    "        \"feedback\": True,\n",
    "        'autopolars': True\n",
    "    }\n",
    "}\n",
    "toml.dump(data_dict,file)\n",
    "file.close()"
   ]
  },
  {
   "cell_type": "code",
   "execution_count": 18,
   "id": "3a9b0ecc",
   "metadata": {
    "slideshow": {
     "slide_type": "fragment"
    }
   },
   "outputs": [
    {
     "data": {
      "text/html": [
       "<span style=\"None\">Found pyproject.toml from &#x27;/Users/macpro/Documents/GitHub/sql/colabs/video-material&#x27;</span>"
      ],
      "text/plain": [
       "Found pyproject.toml from '/Users/macpro/Documents/GitHub/sql/colabs/video-material'"
      ]
     },
     "metadata": {},
     "output_type": "display_data"
    }
   ],
   "source": [
    "# Loading in SQL extension\n",
    "%reload_ext sql"
   ]
  },
  {
   "cell_type": "markdown",
   "id": "d39d8eaa",
   "metadata": {
    "slideshow": {
     "slide_type": "slide"
    }
   },
   "source": [
    "<h2 align='center'>Initialize DuckDB instance</h2>"
   ]
  },
  {
   "cell_type": "code",
   "execution_count": 20,
   "id": "4e392efd",
   "metadata": {
    "slideshow": {
     "slide_type": "fragment"
    }
   },
   "outputs": [
    {
     "data": {
      "text/html": [
       "<span style=\"None\">Switching to connection duckdb:///bank.duck.db</span>"
      ],
      "text/plain": [
       "Switching to connection duckdb:///bank.duck.db"
      ]
     },
     "metadata": {},
     "output_type": "display_data"
    }
   ],
   "source": [
    "# Initiating a DuckDB database named 'bank.duck.db' to run our SQL queries on\n",
    "%sql duckdb:///bank.duck.db"
   ]
  },
  {
   "cell_type": "markdown",
   "id": "19e1d915",
   "metadata": {
    "slideshow": {
     "slide_type": "slide"
    }
   },
   "source": [
    "<h2 align='center'>Create tables</h2>\n"
   ]
  },
  {
   "cell_type": "code",
   "execution_count": 4,
   "id": "57423ce2",
   "metadata": {
    "slideshow": {
     "slide_type": "skip"
    }
   },
   "outputs": [
    {
     "data": {
      "text/html": [
       "<span style=\"None\">Running query in &#x27;duckdb:///bank.duck.db&#x27;</span>"
      ],
      "text/plain": [
       "Running query in 'duckdb:///bank.duck.db'"
      ]
     },
     "metadata": {},
     "output_type": "display_data"
    },
    {
     "data": {
      "text/html": [
       "<table>\n",
       "    <thead>\n",
       "        <tr>\n",
       "            <th>Success</th>\n",
       "        </tr>\n",
       "    </thead>\n",
       "    <tbody>\n",
       "    </tbody>\n",
       "</table>\n",
       "<span style='font-style:italic;font-size:11px'><code>ResultSet</code> : to convert to pandas, call <a href='https://jupysql.ploomber.io/en/latest/integrations/pandas.html'><code>.DataFrame()</code></a> or to polars, call <a href='https://jupysql.ploomber.io/en/latest/integrations/polars.html'><code>.PolarsDataFrame()</code></a></span><br>"
      ],
      "text/plain": [
       "+---------+\n",
       "| Success |\n",
       "+---------+\n",
       "+---------+"
      ]
     },
     "execution_count": 4,
     "metadata": {},
     "output_type": "execute_result"
    }
   ],
   "source": [
    "%%sql\n",
    "DROP TABLE IF EXISTS s1.district;\n",
    "DROP TABLE IF EXISTS bank;\n",
    "DROP SCHEMA IF EXISTS s1;"
   ]
  },
  {
   "cell_type": "code",
   "execution_count": 5,
   "id": "4fe11ce8",
   "metadata": {
    "slideshow": {
     "slide_type": "skip"
    }
   },
   "outputs": [
    {
     "data": {
      "text/html": [
       "<span style=\"None\">Running query in &#x27;duckdb:///bank.duck.db&#x27;</span>"
      ],
      "text/plain": [
       "Running query in 'duckdb:///bank.duck.db'"
      ]
     },
     "metadata": {},
     "output_type": "display_data"
    },
    {
     "data": {
      "text/html": [
       "<table>\n",
       "    <thead>\n",
       "        <tr>\n",
       "            <th>Count</th>\n",
       "        </tr>\n",
       "    </thead>\n",
       "    <tbody>\n",
       "    </tbody>\n",
       "</table>\n",
       "<span style='font-style:italic;font-size:11px'><code>ResultSet</code> : to convert to pandas, call <a href='https://jupysql.ploomber.io/en/latest/integrations/pandas.html'><code>.DataFrame()</code></a> or to polars, call <a href='https://jupysql.ploomber.io/en/latest/integrations/polars.html'><code>.PolarsDataFrame()</code></a></span><br>"
      ],
      "text/plain": [
       "+-------+\n",
       "| Count |\n",
       "+-------+\n",
       "+-------+"
      ]
     },
     "execution_count": 5,
     "metadata": {},
     "output_type": "execute_result"
    }
   ],
   "source": [
    "%%sql\n",
    "CREATE OR REPLACE TABLE bank AS\n",
    "FROM read_csv_auto('bank_cleaned.csv', header=True, sep=',')"
   ]
  },
  {
   "cell_type": "code",
   "execution_count": 6,
   "id": "bbd12d47",
   "metadata": {
    "slideshow": {
     "slide_type": "subslide"
    }
   },
   "outputs": [
    {
     "data": {
      "text/html": [
       "<span style=\"None\">Running query in &#x27;duckdb:///bank.duck.db&#x27;</span>"
      ],
      "text/plain": [
       "Running query in 'duckdb:///bank.duck.db'"
      ]
     },
     "metadata": {},
     "output_type": "display_data"
    },
    {
     "data": {
      "text/html": [
       "<table>\n",
       "    <thead>\n",
       "        <tr>\n",
       "            <th>Count</th>\n",
       "        </tr>\n",
       "    </thead>\n",
       "    <tbody>\n",
       "    </tbody>\n",
       "</table>\n",
       "<span style='font-style:italic;font-size:11px'><code>ResultSet</code> : to convert to pandas, call <a href='https://jupysql.ploomber.io/en/latest/integrations/pandas.html'><code>.DataFrame()</code></a> or to polars, call <a href='https://jupysql.ploomber.io/en/latest/integrations/polars.html'><code>.PolarsDataFrame()</code></a></span><br>"
      ],
      "text/plain": [
       "+-------+\n",
       "| Count |\n",
       "+-------+\n",
       "+-------+"
      ]
     },
     "execution_count": 6,
     "metadata": {},
     "output_type": "execute_result"
    }
   ],
   "source": [
    "%%sql\n",
    "CREATE SCHEMA s1;\n",
    "CREATE TABLE s1.account AS\n",
    "FROM read_csv_auto('expanded_data/account.csv', header=True, sep=',');\n",
    "CREATE TABLE s1.district AS\n",
    "FROM read_csv_auto('expanded_data/district.csv', header=True, sep=',');\n",
    "CREATE TABLE s1.loan AS\n",
    "FROM read_csv_auto('expanded_data/loan.csv', header=True, sep=',');"
   ]
  },
  {
   "cell_type": "markdown",
   "id": "5a8bdb9d",
   "metadata": {
    "slideshow": {
     "slide_type": "slide"
    }
   },
   "source": [
    "<h2 align='center'>Perform queries (SQL format by default)</h2>"
   ]
  },
  {
   "cell_type": "code",
   "execution_count": 30,
   "id": "40be8999",
   "metadata": {},
   "outputs": [
    {
     "data": {
      "text/html": [
       "<span style=\"None\">Found pyproject.toml from &#x27;/Users/macpro/Documents/GitHub/sql/colabs/video-material&#x27;</span>"
      ],
      "text/plain": [
       "Found pyproject.toml from '/Users/macpro/Documents/GitHub/sql/colabs/video-material'"
      ]
     },
     "metadata": {},
     "output_type": "display_data"
    }
   ],
   "source": [
    "%config SqlMagic.autopolars=False \n",
    "%reload_ext sql"
   ]
  },
  {
   "cell_type": "code",
   "execution_count": 31,
   "id": "2ecbc0ca",
   "metadata": {
    "slideshow": {
     "slide_type": "fragment"
    }
   },
   "outputs": [
    {
     "data": {
      "text/html": [
       "<span style=\"None\">Running query in &#x27;duckdb:///bank.duck.db&#x27;</span>"
      ],
      "text/plain": [
       "Running query in 'duckdb:///bank.duck.db'"
      ]
     },
     "metadata": {},
     "output_type": "display_data"
    },
    {
     "data": {
      "text/html": [
       "<span style=\"None\">Skipping execution...</span>"
      ],
      "text/plain": [
       "Skipping execution..."
      ]
     },
     "metadata": {},
     "output_type": "display_data"
    }
   ],
   "source": [
    "%%sql --save loan_amount_district_id --no-execute\n",
    "SELECT l.loan_id, \n",
    "        l.amount, \n",
    "        a.district_id \n",
    "FROM s1.loan AS l \n",
    "INNER JOIN s1.account AS a \n",
    "    ON l.account_id = a.account_id"
   ]
  },
  {
   "cell_type": "code",
   "execution_count": 32,
   "id": "603ba76a",
   "metadata": {
    "slideshow": {
     "slide_type": "skip"
    }
   },
   "outputs": [
    {
     "data": {
      "text/html": [
       "<span style=\"None\">Switching to connection duckdb:///bank.duck.db</span>"
      ],
      "text/plain": [
       "Switching to connection duckdb:///bank.duck.db"
      ]
     },
     "metadata": {},
     "output_type": "display_data"
    }
   ],
   "source": [
    "# Loading in SQL extension\n",
    "\n",
    "%sql duckdb:///bank.duck.db"
   ]
  },
  {
   "cell_type": "code",
   "execution_count": 33,
   "id": "7921bf0f",
   "metadata": {
    "slideshow": {
     "slide_type": "fragment"
    }
   },
   "outputs": [
    {
     "data": {
      "text/html": [
       "<span style=\"None\">Generating CTE with stored snippets: &#x27;loan_amount_district_id&#x27;</span>"
      ],
      "text/plain": [
       "Generating CTE with stored snippets: 'loan_amount_district_id'"
      ]
     },
     "metadata": {},
     "output_type": "display_data"
    },
    {
     "data": {
      "text/html": [
       "<span style=\"None\">Running query in &#x27;duckdb:///bank.duck.db&#x27;</span>"
      ],
      "text/plain": [
       "Running query in 'duckdb:///bank.duck.db'"
      ]
     },
     "metadata": {},
     "output_type": "display_data"
    }
   ],
   "source": [
    "result = %sql SELECT * FROM loan_amount_district_id"
   ]
  },
  {
   "cell_type": "code",
   "execution_count": 34,
   "id": "ad638b8c",
   "metadata": {
    "slideshow": {
     "slide_type": "fragment"
    }
   },
   "outputs": [
    {
     "data": {
      "text/plain": [
       "sql.run.resultset.ResultSet"
      ]
     },
     "execution_count": 34,
     "metadata": {},
     "output_type": "execute_result"
    }
   ],
   "source": [
    "type(result)"
   ]
  },
  {
   "cell_type": "code",
   "execution_count": 35,
   "id": "c98d78e8",
   "metadata": {},
   "outputs": [
    {
     "data": {
      "text/html": [
       "<table>\n",
       "    <thead>\n",
       "        <tr>\n",
       "            <th>loan_id</th>\n",
       "            <th>amount</th>\n",
       "            <th>district_id</th>\n",
       "        </tr>\n",
       "    </thead>\n",
       "    <tbody>\n",
       "        <tr>\n",
       "            <td>6077</td>\n",
       "            <td>79608</td>\n",
       "            <td>44</td>\n",
       "        </tr>\n",
       "        <tr>\n",
       "            <td>7284</td>\n",
       "            <td>52788</td>\n",
       "            <td>15</td>\n",
       "        </tr>\n",
       "        <tr>\n",
       "            <td>7121</td>\n",
       "            <td>21924</td>\n",
       "            <td>55</td>\n",
       "        </tr>\n",
       "        <tr>\n",
       "            <td>5754</td>\n",
       "            <td>23052</td>\n",
       "            <td>54</td>\n",
       "        </tr>\n",
       "        <tr>\n",
       "            <td>6895</td>\n",
       "            <td>41904</td>\n",
       "            <td>68</td>\n",
       "        </tr>\n",
       "        <tr>\n",
       "            <td>6202</td>\n",
       "            <td>65184</td>\n",
       "            <td>54</td>\n",
       "        </tr>\n",
       "        <tr>\n",
       "            <td>6316</td>\n",
       "            <td>76908</td>\n",
       "            <td>12</td>\n",
       "        </tr>\n",
       "        <tr>\n",
       "            <td>5325</td>\n",
       "            <td>105804</td>\n",
       "            <td>12</td>\n",
       "        </tr>\n",
       "        <tr>\n",
       "            <td>6888</td>\n",
       "            <td>39576</td>\n",
       "            <td>1</td>\n",
       "        </tr>\n",
       "        <tr>\n",
       "            <td>6647</td>\n",
       "            <td>208320</td>\n",
       "            <td>1</td>\n",
       "        </tr>\n",
       "    </tbody>\n",
       "</table>\n",
       "<span style='font-style:italic;font-size:11px'><code>ResultSet</code> : to convert to pandas, call <a href='https://jupysql.ploomber.io/en/latest/integrations/pandas.html'><code>.DataFrame()</code></a> or to polars, call <a href='https://jupysql.ploomber.io/en/latest/integrations/polars.html'><code>.PolarsDataFrame()</code></a></span><br>\n",
       "<span style=\"font-style:italic;text-align:center;\">Truncated to displaylimit of 10</span><br><span style=\"font-style:italic;text-align:center;\">If you want to see more, please visit <a href=\"https://jupysql.ploomber.io/en/latest/api/configuration.html#displaylimit\">displaylimit</a> configuration</span>"
      ],
      "text/plain": [
       "+---------+--------+-------------+\n",
       "| loan_id | amount | district_id |\n",
       "+---------+--------+-------------+\n",
       "|   6077  | 79608  |      44     |\n",
       "|   7284  | 52788  |      15     |\n",
       "|   7121  | 21924  |      55     |\n",
       "|   5754  | 23052  |      54     |\n",
       "|   6895  | 41904  |      68     |\n",
       "|   6202  | 65184  |      54     |\n",
       "|   6316  | 76908  |      12     |\n",
       "|   5325  | 105804 |      12     |\n",
       "|   6888  | 39576  |      1      |\n",
       "|   6647  | 208320 |      1      |\n",
       "+---------+--------+-------------+"
      ]
     },
     "execution_count": 35,
     "metadata": {},
     "output_type": "execute_result"
    }
   ],
   "source": [
    "result"
   ]
  },
  {
   "cell_type": "markdown",
   "id": "0c94a134",
   "metadata": {
    "slideshow": {
     "slide_type": "slide"
    }
   },
   "source": [
    "<h2 align='center'>Reload extension</h2>"
   ]
  },
  {
   "cell_type": "code",
   "execution_count": 36,
   "id": "ab644bae",
   "metadata": {},
   "outputs": [
    {
     "data": {
      "text/html": [
       "<span style=\"None\">Found pyproject.toml from &#x27;/Users/macpro/Documents/GitHub/sql/colabs/video-material&#x27;</span>"
      ],
      "text/plain": [
       "Found pyproject.toml from '/Users/macpro/Documents/GitHub/sql/colabs/video-material'"
      ]
     },
     "metadata": {},
     "output_type": "display_data"
    }
   ],
   "source": [
    "%config SqlMagic.autopolars=True \n",
    "%reload_ext sql"
   ]
  },
  {
   "cell_type": "markdown",
   "id": "cbe40efb",
   "metadata": {
    "slideshow": {
     "slide_type": "slide"
    }
   },
   "source": [
    "<h2 align='center'>Perform queries and transform them to polars</h2>"
   ]
  },
  {
   "cell_type": "code",
   "execution_count": 37,
   "id": "e49476ea",
   "metadata": {
    "slideshow": {
     "slide_type": "fragment"
    }
   },
   "outputs": [
    {
     "data": {
      "text/html": [
       "<span style=\"None\">Running query in &#x27;duckdb:///bank.duck.db&#x27;</span>"
      ],
      "text/plain": [
       "Running query in 'duckdb:///bank.duck.db'"
      ]
     },
     "metadata": {},
     "output_type": "display_data"
    },
    {
     "data": {
      "text/html": [
       "<span style=\"None\">Skipping execution...</span>"
      ],
      "text/plain": [
       "Skipping execution..."
      ]
     },
     "metadata": {},
     "output_type": "display_data"
    }
   ],
   "source": [
    "%%sql --save loan_amount_district_id --no-execute\n",
    "SELECT l.loan_id, \n",
    "        l.amount, \n",
    "        a.district_id \n",
    "FROM s1.loan AS l \n",
    "INNER JOIN s1.account AS a \n",
    "    ON l.account_id = a.account_id"
   ]
  },
  {
   "cell_type": "code",
   "execution_count": 38,
   "id": "50dfec03",
   "metadata": {
    "slideshow": {
     "slide_type": "fragment"
    }
   },
   "outputs": [
    {
     "data": {
      "text/html": [
       "<span style=\"None\">Generating CTE with stored snippets: &#x27;loan_amount_district_id&#x27;</span>"
      ],
      "text/plain": [
       "Generating CTE with stored snippets: 'loan_amount_district_id'"
      ]
     },
     "metadata": {},
     "output_type": "display_data"
    },
    {
     "data": {
      "text/html": [
       "<span style=\"None\">Running query in &#x27;duckdb:///bank.duck.db&#x27;</span>"
      ],
      "text/plain": [
       "Running query in 'duckdb:///bank.duck.db'"
      ]
     },
     "metadata": {},
     "output_type": "display_data"
    },
    {
     "data": {
      "text/plain": [
       "polars.dataframe.frame.DataFrame"
      ]
     },
     "execution_count": 38,
     "metadata": {},
     "output_type": "execute_result"
    }
   ],
   "source": [
    "result = %sql SELECT * FROM loan_amount_district_id\n",
    "type(result)"
   ]
  },
  {
   "cell_type": "code",
   "execution_count": 39,
   "id": "21d26d34",
   "metadata": {},
   "outputs": [
    {
     "data": {
      "text/html": [
       "<div><style>\n",
       ".dataframe > thead > tr > th,\n",
       ".dataframe > tbody > tr > td {\n",
       "  text-align: right;\n",
       "}\n",
       "</style>\n",
       "<small>shape: (385, 3)</small><table border=\"1\" class=\"dataframe\"><thead><tr><th>loan_id</th><th>amount</th><th>district_id</th></tr><tr><td>i64</td><td>i64</td><td>i64</td></tr></thead><tbody><tr><td>5830</td><td>405780</td><td>62</td></tr><tr><td>6303</td><td>72408</td><td>31</td></tr><tr><td>5895</td><td>93960</td><td>45</td></tr><tr><td>6732</td><td>174048</td><td>47</td></tr><tr><td>7308</td><td>129408</td><td>67</td></tr><tr><td>6665</td><td>99300</td><td>59</td></tr><tr><td>5938</td><td>402000</td><td>4</td></tr><tr><td>5041</td><td>369000</td><td>47</td></tr><tr><td>5082</td><td>262980</td><td>13</td></tr><tr><td>7194</td><td>68832</td><td>1</td></tr><tr><td>7154</td><td>417600</td><td>55</td></tr><tr><td>5718</td><td>14028</td><td>53</td></tr><tr><td>&hellip;</td><td>&hellip;</td><td>&hellip;</td></tr><tr><td>5815</td><td>151200</td><td>6</td></tr><tr><td>6436</td><td>495180</td><td>69</td></tr><tr><td>7294</td><td>39168</td><td>7</td></tr><tr><td>5765</td><td>153936</td><td>44</td></tr><tr><td>5561</td><td>437460</td><td>68</td></tr><tr><td>5463</td><td>17952</td><td>33</td></tr><tr><td>7164</td><td>249792</td><td>55</td></tr><tr><td>6872</td><td>191580</td><td>51</td></tr><tr><td>7035</td><td>210744</td><td>64</td></tr><tr><td>5027</td><td>160920</td><td>38</td></tr><tr><td>5147</td><td>22260</td><td>70</td></tr><tr><td>5226</td><td>185544</td><td>56</td></tr></tbody></table></div>"
      ],
      "text/plain": [
       "shape: (385, 3)\n",
       "┌─────────┬────────┬─────────────┐\n",
       "│ loan_id ┆ amount ┆ district_id │\n",
       "│ ---     ┆ ---    ┆ ---         │\n",
       "│ i64     ┆ i64    ┆ i64         │\n",
       "╞═════════╪════════╪═════════════╡\n",
       "│ 5830    ┆ 405780 ┆ 62          │\n",
       "│ 6303    ┆ 72408  ┆ 31          │\n",
       "│ 5895    ┆ 93960  ┆ 45          │\n",
       "│ 6732    ┆ 174048 ┆ 47          │\n",
       "│ …       ┆ …      ┆ …           │\n",
       "│ 7035    ┆ 210744 ┆ 64          │\n",
       "│ 5027    ┆ 160920 ┆ 38          │\n",
       "│ 5147    ┆ 22260  ┆ 70          │\n",
       "│ 5226    ┆ 185544 ┆ 56          │\n",
       "└─────────┴────────┴─────────────┘"
      ]
     },
     "execution_count": 39,
     "metadata": {},
     "output_type": "execute_result"
    }
   ],
   "source": [
    "result"
   ]
  },
  {
   "cell_type": "markdown",
   "id": "736b6a6f",
   "metadata": {
    "slideshow": {
     "slide_type": "slide"
    }
   },
   "source": [
    "<h2 align='center'>Reload extension</h2>"
   ]
  },
  {
   "cell_type": "code",
   "execution_count": 41,
   "id": "3c302a44",
   "metadata": {},
   "outputs": [
    {
     "data": {
      "text/html": [
       "<span style=\"None\">Found pyproject.toml from &#x27;/Users/macpro/Documents/GitHub/sql/colabs/video-material&#x27;</span>"
      ],
      "text/plain": [
       "Found pyproject.toml from '/Users/macpro/Documents/GitHub/sql/colabs/video-material'"
      ]
     },
     "metadata": {},
     "output_type": "display_data"
    }
   ],
   "source": [
    "%config SqlMagic.autopolars=False \n",
    "%config SqlMagic.autopandas=True \n",
    "%reload_ext sql"
   ]
  },
  {
   "cell_type": "code",
   "execution_count": 42,
   "id": "b52a81dd",
   "metadata": {},
   "outputs": [
    {
     "data": {
      "text/html": [
       "<span style=\"None\">Running query in &#x27;duckdb:///bank.duck.db&#x27;</span>"
      ],
      "text/plain": [
       "Running query in 'duckdb:///bank.duck.db'"
      ]
     },
     "metadata": {},
     "output_type": "display_data"
    },
    {
     "data": {
      "text/html": [
       "<span style=\"None\">Skipping execution...</span>"
      ],
      "text/plain": [
       "Skipping execution..."
      ]
     },
     "metadata": {},
     "output_type": "display_data"
    }
   ],
   "source": [
    "%%sql --save loan_amount_district_id --no-execute\n",
    "SELECT l.loan_id, \n",
    "        l.amount, \n",
    "        a.district_id \n",
    "FROM s1.loan AS l \n",
    "INNER JOIN s1.account AS a \n",
    "    ON l.account_id = a.account_id"
   ]
  },
  {
   "cell_type": "code",
   "execution_count": 43,
   "id": "26d59fc3",
   "metadata": {},
   "outputs": [
    {
     "data": {
      "text/html": [
       "<span style=\"None\">Generating CTE with stored snippets: &#x27;loan_amount_district_id&#x27;</span>"
      ],
      "text/plain": [
       "Generating CTE with stored snippets: 'loan_amount_district_id'"
      ]
     },
     "metadata": {},
     "output_type": "display_data"
    },
    {
     "data": {
      "text/html": [
       "<span style=\"None\">Running query in &#x27;duckdb:///bank.duck.db&#x27;</span>"
      ],
      "text/plain": [
       "Running query in 'duckdb:///bank.duck.db'"
      ]
     },
     "metadata": {},
     "output_type": "display_data"
    },
    {
     "data": {
      "text/plain": [
       "NoneType"
      ]
     },
     "execution_count": 43,
     "metadata": {},
     "output_type": "execute_result"
    }
   ],
   "source": [
    "result = %sql SELECT * FROM loan_amount_district_id\n",
    "type(result)"
   ]
  },
  {
   "cell_type": "code",
   "execution_count": 44,
   "id": "b409183b",
   "metadata": {},
   "outputs": [],
   "source": [
    "result"
   ]
  },
  {
   "cell_type": "code",
   "execution_count": null,
   "id": "49dc6e58",
   "metadata": {},
   "outputs": [],
   "source": []
  }
 ],
 "metadata": {
  "celltoolbar": "Slideshow",
  "kernelspec": {
   "display_name": "Python 3 (ipykernel)",
   "language": "python",
   "name": "python3"
  },
  "language_info": {
   "codemirror_mode": {
    "name": "ipython",
    "version": 3
   },
   "file_extension": ".py",
   "mimetype": "text/x-python",
   "name": "python",
   "nbconvert_exporter": "python",
   "pygments_lexer": "ipython3",
   "version": "3.10.0"
  }
 },
 "nbformat": 4,
 "nbformat_minor": 5
}
